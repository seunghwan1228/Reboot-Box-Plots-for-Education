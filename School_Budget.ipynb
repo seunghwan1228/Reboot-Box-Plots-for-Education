{
  "nbformat": 4,
  "nbformat_minor": 0,
  "metadata": {
    "colab": {
      "name": "School_Budget.ipynb",
      "version": "0.3.2",
      "provenance": [],
      "collapsed_sections": [],
      "include_colab_link": true
    },
    "kernelspec": {
      "name": "python3",
      "display_name": "Python 3"
    }
  },
  "cells": [
    {
      "cell_type": "markdown",
      "metadata": {
        "id": "view-in-github",
        "colab_type": "text"
      },
      "source": [
        "<a href=\"https://colab.research.google.com/github/seunghwan1228/Reboot-Box-Plots-for-Education/blob/master/School_Budget.ipynb\" target=\"_parent\"><img src=\"https://colab.research.google.com/assets/colab-badge.svg\" alt=\"Open In Colab\"/></a>"
      ]
    },
    {
      "cell_type": "code",
      "metadata": {
        "id": "qk7ukeq5a7q9",
        "colab_type": "code",
        "outputId": "66a2b4e2-eb32-438d-eede-765487af8f5e",
        "colab": {
          "base_uri": "https://localhost:8080/",
          "height": 122
        }
      },
      "source": [
        "# Run this cell to mount your Google Drive.\n",
        "from google.colab import drive\n",
        "drive.mount('/content/drive')"
      ],
      "execution_count": 1,
      "outputs": [
        {
          "output_type": "stream",
          "text": [
            "Go to this URL in a browser: https://accounts.google.com/o/oauth2/auth?client_id=947318989803-6bn6qk8qdgf4n4g3pfee6491hc0brc4i.apps.googleusercontent.com&redirect_uri=urn%3Aietf%3Awg%3Aoauth%3A2.0%3Aoob&scope=email%20https%3A%2F%2Fwww.googleapis.com%2Fauth%2Fdocs.test%20https%3A%2F%2Fwww.googleapis.com%2Fauth%2Fdrive%20https%3A%2F%2Fwww.googleapis.com%2Fauth%2Fdrive.photos.readonly%20https%3A%2F%2Fwww.googleapis.com%2Fauth%2Fpeopleapi.readonly&response_type=code\n",
            "\n",
            "Enter your authorization code:\n",
            "··········\n",
            "Mounted at /content/drive\n"
          ],
          "name": "stdout"
        }
      ]
    },
    {
      "cell_type": "code",
      "metadata": {
        "id": "zRMsSNd8a8WX",
        "colab_type": "code",
        "colab": {}
      },
      "source": [
        "import numpy as np\n",
        "import pandas as pd\n",
        "import matplotlib.pyplot as plt\n",
        "import seaborn as sns\n",
        "from sklearn.preprocessing import LabelEncoder\n",
        "import warnings \n",
        "from sklearn.multiclass import OneVsOneClassifier\n",
        "warnings.filterwarnings('ignore')\n",
        "from sklearn.feature_extraction.text import CountVectorizer, HashingVectorizer, TfidfVectorizer\n",
        "import re\n",
        "from sklearn.linear_model import LogisticRegression\n",
        "from sklearn.model_selection import train_test_split\n",
        "from sklearn.multiclass import OneVsRestClassifier\n",
        "from scipy.sparse import csr_matrix, hstack\n",
        "from sklearn.pipeline import FeatureUnion, Pipeline\n",
        "from sklearn.preprocessing import StandardScaler\n",
        "from sklearn.ensemble import RandomForestClassifier\n",
        "from sklearn.model_selection import RandomizedSearchCV"
      ],
      "execution_count": 0,
      "outputs": []
    },
    {
      "cell_type": "code",
      "metadata": {
        "id": "OP6R8TwJfRqw",
        "colab_type": "code",
        "colab": {}
      },
      "source": [
        "train_df = pd.read_csv('/content/drive/My Drive/input/Reboot_education_data/TrainingData.csv')"
      ],
      "execution_count": 0,
      "outputs": []
    },
    {
      "cell_type": "code",
      "metadata": {
        "id": "TYLnIt8xfV0U",
        "colab_type": "code",
        "outputId": "63be3fa0-962f-4157-addc-d01db82715f2",
        "colab": {
          "base_uri": "https://localhost:8080/",
          "height": 377
        }
      },
      "source": [
        "train_df.head()"
      ],
      "execution_count": 69,
      "outputs": [
        {
          "output_type": "execute_result",
          "data": {
            "text/html": [
              "<div>\n",
              "<style scoped>\n",
              "    .dataframe tbody tr th:only-of-type {\n",
              "        vertical-align: middle;\n",
              "    }\n",
              "\n",
              "    .dataframe tbody tr th {\n",
              "        vertical-align: top;\n",
              "    }\n",
              "\n",
              "    .dataframe thead th {\n",
              "        text-align: right;\n",
              "    }\n",
              "</style>\n",
              "<table border=\"1\" class=\"dataframe\">\n",
              "  <thead>\n",
              "    <tr style=\"text-align: right;\">\n",
              "      <th></th>\n",
              "      <th>Unnamed: 0</th>\n",
              "      <th>Function</th>\n",
              "      <th>Use</th>\n",
              "      <th>Sharing</th>\n",
              "      <th>Reporting</th>\n",
              "      <th>Student_Type</th>\n",
              "      <th>Position_Type</th>\n",
              "      <th>Object_Type</th>\n",
              "      <th>Pre_K</th>\n",
              "      <th>Operating_Status</th>\n",
              "      <th>Object_Description</th>\n",
              "      <th>Text_2</th>\n",
              "      <th>SubFund_Description</th>\n",
              "      <th>Job_Title_Description</th>\n",
              "      <th>Text_3</th>\n",
              "      <th>Text_4</th>\n",
              "      <th>Sub_Object_Description</th>\n",
              "      <th>Location_Description</th>\n",
              "      <th>FTE</th>\n",
              "      <th>Function_Description</th>\n",
              "      <th>Facility_or_Department</th>\n",
              "      <th>Position_Extra</th>\n",
              "      <th>Total</th>\n",
              "      <th>Program_Description</th>\n",
              "      <th>Fund_Description</th>\n",
              "      <th>Text_1</th>\n",
              "    </tr>\n",
              "  </thead>\n",
              "  <tbody>\n",
              "    <tr>\n",
              "      <th>0</th>\n",
              "      <td>134338</td>\n",
              "      <td>Teacher Compensation</td>\n",
              "      <td>Instruction</td>\n",
              "      <td>School Reported</td>\n",
              "      <td>School</td>\n",
              "      <td>NO_LABEL</td>\n",
              "      <td>Teacher</td>\n",
              "      <td>NO_LABEL</td>\n",
              "      <td>NO_LABEL</td>\n",
              "      <td>PreK-12 Operating</td>\n",
              "      <td>NaN</td>\n",
              "      <td>NaN</td>\n",
              "      <td>NaN</td>\n",
              "      <td>Teacher-Elementary</td>\n",
              "      <td>NaN</td>\n",
              "      <td>NaN</td>\n",
              "      <td>NaN</td>\n",
              "      <td>NaN</td>\n",
              "      <td>1.0</td>\n",
              "      <td>NaN</td>\n",
              "      <td>NaN</td>\n",
              "      <td>KINDERGARTEN</td>\n",
              "      <td>50471.810</td>\n",
              "      <td>KINDERGARTEN</td>\n",
              "      <td>General Fund</td>\n",
              "      <td>NaN</td>\n",
              "    </tr>\n",
              "    <tr>\n",
              "      <th>1</th>\n",
              "      <td>206341</td>\n",
              "      <td>NO_LABEL</td>\n",
              "      <td>NO_LABEL</td>\n",
              "      <td>NO_LABEL</td>\n",
              "      <td>NO_LABEL</td>\n",
              "      <td>NO_LABEL</td>\n",
              "      <td>NO_LABEL</td>\n",
              "      <td>NO_LABEL</td>\n",
              "      <td>NO_LABEL</td>\n",
              "      <td>Non-Operating</td>\n",
              "      <td>CONTRACTOR SERVICES</td>\n",
              "      <td>BOND EXPENDITURES</td>\n",
              "      <td>BUILDING FUND</td>\n",
              "      <td>(blank)</td>\n",
              "      <td>Regular</td>\n",
              "      <td>NaN</td>\n",
              "      <td>NaN</td>\n",
              "      <td>NaN</td>\n",
              "      <td>NaN</td>\n",
              "      <td>RGN  GOB</td>\n",
              "      <td>NaN</td>\n",
              "      <td>UNDESIGNATED</td>\n",
              "      <td>3477.860</td>\n",
              "      <td>BUILDING IMPROVEMENT SERVICES</td>\n",
              "      <td>NaN</td>\n",
              "      <td>BUILDING IMPROVEMENT SERVICES</td>\n",
              "    </tr>\n",
              "    <tr>\n",
              "      <th>2</th>\n",
              "      <td>326408</td>\n",
              "      <td>Teacher Compensation</td>\n",
              "      <td>Instruction</td>\n",
              "      <td>School Reported</td>\n",
              "      <td>School</td>\n",
              "      <td>Unspecified</td>\n",
              "      <td>Teacher</td>\n",
              "      <td>Base Salary/Compensation</td>\n",
              "      <td>Non PreK</td>\n",
              "      <td>PreK-12 Operating</td>\n",
              "      <td>Personal Services - Teachers</td>\n",
              "      <td>NaN</td>\n",
              "      <td>NaN</td>\n",
              "      <td>TCHER 2ND GRADE</td>\n",
              "      <td>NaN</td>\n",
              "      <td>Regular Instruction</td>\n",
              "      <td>NaN</td>\n",
              "      <td>NaN</td>\n",
              "      <td>1.0</td>\n",
              "      <td>NaN</td>\n",
              "      <td>NaN</td>\n",
              "      <td>TEACHER</td>\n",
              "      <td>62237.130</td>\n",
              "      <td>Instruction - Regular</td>\n",
              "      <td>General Purpose School</td>\n",
              "      <td>NaN</td>\n",
              "    </tr>\n",
              "    <tr>\n",
              "      <th>3</th>\n",
              "      <td>364634</td>\n",
              "      <td>Substitute Compensation</td>\n",
              "      <td>Instruction</td>\n",
              "      <td>School Reported</td>\n",
              "      <td>School</td>\n",
              "      <td>Unspecified</td>\n",
              "      <td>Substitute</td>\n",
              "      <td>Benefits</td>\n",
              "      <td>NO_LABEL</td>\n",
              "      <td>PreK-12 Operating</td>\n",
              "      <td>EMPLOYEE BENEFITS</td>\n",
              "      <td>TEACHER SUBS</td>\n",
              "      <td>GENERAL FUND</td>\n",
              "      <td>Teacher, Short Term Sub</td>\n",
              "      <td>Regular</td>\n",
              "      <td>NaN</td>\n",
              "      <td>NaN</td>\n",
              "      <td>NaN</td>\n",
              "      <td>NaN</td>\n",
              "      <td>UNALLOC BUDGETS/SCHOOLS</td>\n",
              "      <td>NaN</td>\n",
              "      <td>PROFESSIONAL-INSTRUCTIONAL</td>\n",
              "      <td>22.300</td>\n",
              "      <td>GENERAL MIDDLE/JUNIOR HIGH SCH</td>\n",
              "      <td>NaN</td>\n",
              "      <td>REGULAR INSTRUCTION</td>\n",
              "    </tr>\n",
              "    <tr>\n",
              "      <th>4</th>\n",
              "      <td>47683</td>\n",
              "      <td>Substitute Compensation</td>\n",
              "      <td>Instruction</td>\n",
              "      <td>School Reported</td>\n",
              "      <td>School</td>\n",
              "      <td>Unspecified</td>\n",
              "      <td>Teacher</td>\n",
              "      <td>Substitute Compensation</td>\n",
              "      <td>NO_LABEL</td>\n",
              "      <td>PreK-12 Operating</td>\n",
              "      <td>TEACHER COVERAGE FOR TEACHER</td>\n",
              "      <td>TEACHER SUBS</td>\n",
              "      <td>GENERAL FUND</td>\n",
              "      <td>Teacher, Secondary (High)</td>\n",
              "      <td>Alternative</td>\n",
              "      <td>NaN</td>\n",
              "      <td>NaN</td>\n",
              "      <td>NaN</td>\n",
              "      <td>NaN</td>\n",
              "      <td>NON-PROJECT</td>\n",
              "      <td>NaN</td>\n",
              "      <td>PROFESSIONAL-INSTRUCTIONAL</td>\n",
              "      <td>54.166</td>\n",
              "      <td>GENERAL HIGH SCHOOL EDUCATION</td>\n",
              "      <td>NaN</td>\n",
              "      <td>REGULAR INSTRUCTION</td>\n",
              "    </tr>\n",
              "  </tbody>\n",
              "</table>\n",
              "</div>"
            ],
            "text/plain": [
              "   Unnamed: 0  ...                         Text_1\n",
              "0      134338  ...                            NaN\n",
              "1      206341  ...  BUILDING IMPROVEMENT SERVICES\n",
              "2      326408  ...                            NaN\n",
              "3      364634  ...            REGULAR INSTRUCTION\n",
              "4       47683  ...            REGULAR INSTRUCTION\n",
              "\n",
              "[5 rows x 26 columns]"
            ]
          },
          "metadata": {
            "tags": []
          },
          "execution_count": 69
        }
      ]
    },
    {
      "cell_type": "code",
      "metadata": {
        "id": "jOsVVThgfegW",
        "colab_type": "code",
        "colab": {}
      },
      "source": [
        "label = ['Function', 'Object_Type', 'Operating_Status', 'Position_Type', 'Pre_K', 'Reporting', 'Sharing', 'Student_Type', 'Use']"
      ],
      "execution_count": 0,
      "outputs": []
    },
    {
      "cell_type": "code",
      "metadata": {
        "id": "PHHrdpw-fe4N",
        "colab_type": "code",
        "colab": {}
      },
      "source": [
        "train_X = train_df.drop(label, axis=1)\n",
        "train_y = train_df[label]"
      ],
      "execution_count": 0,
      "outputs": []
    },
    {
      "cell_type": "code",
      "metadata": {
        "id": "VJo-23YNfl19",
        "colab_type": "code",
        "outputId": "212d0c1a-0b59-4ed5-bab0-63ffc6181d97",
        "colab": {
          "base_uri": "https://localhost:8080/",
          "height": 360
        }
      },
      "source": [
        "train_X.head()"
      ],
      "execution_count": 72,
      "outputs": [
        {
          "output_type": "execute_result",
          "data": {
            "text/html": [
              "<div>\n",
              "<style scoped>\n",
              "    .dataframe tbody tr th:only-of-type {\n",
              "        vertical-align: middle;\n",
              "    }\n",
              "\n",
              "    .dataframe tbody tr th {\n",
              "        vertical-align: top;\n",
              "    }\n",
              "\n",
              "    .dataframe thead th {\n",
              "        text-align: right;\n",
              "    }\n",
              "</style>\n",
              "<table border=\"1\" class=\"dataframe\">\n",
              "  <thead>\n",
              "    <tr style=\"text-align: right;\">\n",
              "      <th></th>\n",
              "      <th>Unnamed: 0</th>\n",
              "      <th>Object_Description</th>\n",
              "      <th>Text_2</th>\n",
              "      <th>SubFund_Description</th>\n",
              "      <th>Job_Title_Description</th>\n",
              "      <th>Text_3</th>\n",
              "      <th>Text_4</th>\n",
              "      <th>Sub_Object_Description</th>\n",
              "      <th>Location_Description</th>\n",
              "      <th>FTE</th>\n",
              "      <th>Function_Description</th>\n",
              "      <th>Facility_or_Department</th>\n",
              "      <th>Position_Extra</th>\n",
              "      <th>Total</th>\n",
              "      <th>Program_Description</th>\n",
              "      <th>Fund_Description</th>\n",
              "      <th>Text_1</th>\n",
              "    </tr>\n",
              "  </thead>\n",
              "  <tbody>\n",
              "    <tr>\n",
              "      <th>0</th>\n",
              "      <td>134338</td>\n",
              "      <td>NaN</td>\n",
              "      <td>NaN</td>\n",
              "      <td>NaN</td>\n",
              "      <td>Teacher-Elementary</td>\n",
              "      <td>NaN</td>\n",
              "      <td>NaN</td>\n",
              "      <td>NaN</td>\n",
              "      <td>NaN</td>\n",
              "      <td>1.0</td>\n",
              "      <td>NaN</td>\n",
              "      <td>NaN</td>\n",
              "      <td>KINDERGARTEN</td>\n",
              "      <td>50471.810</td>\n",
              "      <td>KINDERGARTEN</td>\n",
              "      <td>General Fund</td>\n",
              "      <td>NaN</td>\n",
              "    </tr>\n",
              "    <tr>\n",
              "      <th>1</th>\n",
              "      <td>206341</td>\n",
              "      <td>CONTRACTOR SERVICES</td>\n",
              "      <td>BOND EXPENDITURES</td>\n",
              "      <td>BUILDING FUND</td>\n",
              "      <td>(blank)</td>\n",
              "      <td>Regular</td>\n",
              "      <td>NaN</td>\n",
              "      <td>NaN</td>\n",
              "      <td>NaN</td>\n",
              "      <td>NaN</td>\n",
              "      <td>RGN  GOB</td>\n",
              "      <td>NaN</td>\n",
              "      <td>UNDESIGNATED</td>\n",
              "      <td>3477.860</td>\n",
              "      <td>BUILDING IMPROVEMENT SERVICES</td>\n",
              "      <td>NaN</td>\n",
              "      <td>BUILDING IMPROVEMENT SERVICES</td>\n",
              "    </tr>\n",
              "    <tr>\n",
              "      <th>2</th>\n",
              "      <td>326408</td>\n",
              "      <td>Personal Services - Teachers</td>\n",
              "      <td>NaN</td>\n",
              "      <td>NaN</td>\n",
              "      <td>TCHER 2ND GRADE</td>\n",
              "      <td>NaN</td>\n",
              "      <td>Regular Instruction</td>\n",
              "      <td>NaN</td>\n",
              "      <td>NaN</td>\n",
              "      <td>1.0</td>\n",
              "      <td>NaN</td>\n",
              "      <td>NaN</td>\n",
              "      <td>TEACHER</td>\n",
              "      <td>62237.130</td>\n",
              "      <td>Instruction - Regular</td>\n",
              "      <td>General Purpose School</td>\n",
              "      <td>NaN</td>\n",
              "    </tr>\n",
              "    <tr>\n",
              "      <th>3</th>\n",
              "      <td>364634</td>\n",
              "      <td>EMPLOYEE BENEFITS</td>\n",
              "      <td>TEACHER SUBS</td>\n",
              "      <td>GENERAL FUND</td>\n",
              "      <td>Teacher, Short Term Sub</td>\n",
              "      <td>Regular</td>\n",
              "      <td>NaN</td>\n",
              "      <td>NaN</td>\n",
              "      <td>NaN</td>\n",
              "      <td>NaN</td>\n",
              "      <td>UNALLOC BUDGETS/SCHOOLS</td>\n",
              "      <td>NaN</td>\n",
              "      <td>PROFESSIONAL-INSTRUCTIONAL</td>\n",
              "      <td>22.300</td>\n",
              "      <td>GENERAL MIDDLE/JUNIOR HIGH SCH</td>\n",
              "      <td>NaN</td>\n",
              "      <td>REGULAR INSTRUCTION</td>\n",
              "    </tr>\n",
              "    <tr>\n",
              "      <th>4</th>\n",
              "      <td>47683</td>\n",
              "      <td>TEACHER COVERAGE FOR TEACHER</td>\n",
              "      <td>TEACHER SUBS</td>\n",
              "      <td>GENERAL FUND</td>\n",
              "      <td>Teacher, Secondary (High)</td>\n",
              "      <td>Alternative</td>\n",
              "      <td>NaN</td>\n",
              "      <td>NaN</td>\n",
              "      <td>NaN</td>\n",
              "      <td>NaN</td>\n",
              "      <td>NON-PROJECT</td>\n",
              "      <td>NaN</td>\n",
              "      <td>PROFESSIONAL-INSTRUCTIONAL</td>\n",
              "      <td>54.166</td>\n",
              "      <td>GENERAL HIGH SCHOOL EDUCATION</td>\n",
              "      <td>NaN</td>\n",
              "      <td>REGULAR INSTRUCTION</td>\n",
              "    </tr>\n",
              "  </tbody>\n",
              "</table>\n",
              "</div>"
            ],
            "text/plain": [
              "   Unnamed: 0  ...                         Text_1\n",
              "0      134338  ...                            NaN\n",
              "1      206341  ...  BUILDING IMPROVEMENT SERVICES\n",
              "2      326408  ...                            NaN\n",
              "3      364634  ...            REGULAR INSTRUCTION\n",
              "4       47683  ...            REGULAR INSTRUCTION\n",
              "\n",
              "[5 rows x 17 columns]"
            ]
          },
          "metadata": {
            "tags": []
          },
          "execution_count": 72
        }
      ]
    },
    {
      "cell_type": "code",
      "metadata": {
        "id": "kzkImXE-fnPE",
        "colab_type": "code",
        "outputId": "971fbb34-8de1-446e-80e8-9b051316a338",
        "colab": {
          "base_uri": "https://localhost:8080/",
          "height": 204
        }
      },
      "source": [
        "train_y.head()"
      ],
      "execution_count": 73,
      "outputs": [
        {
          "output_type": "execute_result",
          "data": {
            "text/html": [
              "<div>\n",
              "<style scoped>\n",
              "    .dataframe tbody tr th:only-of-type {\n",
              "        vertical-align: middle;\n",
              "    }\n",
              "\n",
              "    .dataframe tbody tr th {\n",
              "        vertical-align: top;\n",
              "    }\n",
              "\n",
              "    .dataframe thead th {\n",
              "        text-align: right;\n",
              "    }\n",
              "</style>\n",
              "<table border=\"1\" class=\"dataframe\">\n",
              "  <thead>\n",
              "    <tr style=\"text-align: right;\">\n",
              "      <th></th>\n",
              "      <th>Function</th>\n",
              "      <th>Object_Type</th>\n",
              "      <th>Operating_Status</th>\n",
              "      <th>Position_Type</th>\n",
              "      <th>Pre_K</th>\n",
              "      <th>Reporting</th>\n",
              "      <th>Sharing</th>\n",
              "      <th>Student_Type</th>\n",
              "      <th>Use</th>\n",
              "    </tr>\n",
              "  </thead>\n",
              "  <tbody>\n",
              "    <tr>\n",
              "      <th>0</th>\n",
              "      <td>Teacher Compensation</td>\n",
              "      <td>NO_LABEL</td>\n",
              "      <td>PreK-12 Operating</td>\n",
              "      <td>Teacher</td>\n",
              "      <td>NO_LABEL</td>\n",
              "      <td>School</td>\n",
              "      <td>School Reported</td>\n",
              "      <td>NO_LABEL</td>\n",
              "      <td>Instruction</td>\n",
              "    </tr>\n",
              "    <tr>\n",
              "      <th>1</th>\n",
              "      <td>NO_LABEL</td>\n",
              "      <td>NO_LABEL</td>\n",
              "      <td>Non-Operating</td>\n",
              "      <td>NO_LABEL</td>\n",
              "      <td>NO_LABEL</td>\n",
              "      <td>NO_LABEL</td>\n",
              "      <td>NO_LABEL</td>\n",
              "      <td>NO_LABEL</td>\n",
              "      <td>NO_LABEL</td>\n",
              "    </tr>\n",
              "    <tr>\n",
              "      <th>2</th>\n",
              "      <td>Teacher Compensation</td>\n",
              "      <td>Base Salary/Compensation</td>\n",
              "      <td>PreK-12 Operating</td>\n",
              "      <td>Teacher</td>\n",
              "      <td>Non PreK</td>\n",
              "      <td>School</td>\n",
              "      <td>School Reported</td>\n",
              "      <td>Unspecified</td>\n",
              "      <td>Instruction</td>\n",
              "    </tr>\n",
              "    <tr>\n",
              "      <th>3</th>\n",
              "      <td>Substitute Compensation</td>\n",
              "      <td>Benefits</td>\n",
              "      <td>PreK-12 Operating</td>\n",
              "      <td>Substitute</td>\n",
              "      <td>NO_LABEL</td>\n",
              "      <td>School</td>\n",
              "      <td>School Reported</td>\n",
              "      <td>Unspecified</td>\n",
              "      <td>Instruction</td>\n",
              "    </tr>\n",
              "    <tr>\n",
              "      <th>4</th>\n",
              "      <td>Substitute Compensation</td>\n",
              "      <td>Substitute Compensation</td>\n",
              "      <td>PreK-12 Operating</td>\n",
              "      <td>Teacher</td>\n",
              "      <td>NO_LABEL</td>\n",
              "      <td>School</td>\n",
              "      <td>School Reported</td>\n",
              "      <td>Unspecified</td>\n",
              "      <td>Instruction</td>\n",
              "    </tr>\n",
              "  </tbody>\n",
              "</table>\n",
              "</div>"
            ],
            "text/plain": [
              "                  Function               Object_Type  ... Student_Type          Use\n",
              "0     Teacher Compensation                  NO_LABEL  ...     NO_LABEL  Instruction\n",
              "1                 NO_LABEL                  NO_LABEL  ...     NO_LABEL     NO_LABEL\n",
              "2     Teacher Compensation  Base Salary/Compensation  ...  Unspecified  Instruction\n",
              "3  Substitute Compensation                  Benefits  ...  Unspecified  Instruction\n",
              "4  Substitute Compensation   Substitute Compensation  ...  Unspecified  Instruction\n",
              "\n",
              "[5 rows x 9 columns]"
            ]
          },
          "metadata": {
            "tags": []
          },
          "execution_count": 73
        }
      ]
    },
    {
      "cell_type": "markdown",
      "metadata": {
        "id": "amM5K5kMfpHp",
        "colab_type": "text"
      },
      "source": [
        "## Analyze Label \n",
        "\n",
        "NA -> NO_LABEL"
      ]
    },
    {
      "cell_type": "code",
      "metadata": {
        "id": "y8KusfARgcRM",
        "colab_type": "code",
        "colab": {}
      },
      "source": [
        "def check_label(x):\n",
        "  value_count = train_y[f'{x}'].value_counts()\n",
        "  nuniques = train_y[f'{x}'].nunique()\n",
        "  print(value_count)\n",
        "  print()\n",
        "  print('nuniques: ', nuniques)"
      ],
      "execution_count": 0,
      "outputs": []
    },
    {
      "cell_type": "code",
      "metadata": {
        "id": "srkC4A2Rgx0t",
        "colab_type": "code",
        "colab": {}
      },
      "source": [
        "label = ['Function', 'Object_Type', 'Operating_Status', 'Position_Type', 'Pre_K', 'Reporting', 'Sharing', 'Student_Type', 'Use']"
      ],
      "execution_count": 0,
      "outputs": []
    },
    {
      "cell_type": "code",
      "metadata": {
        "id": "x5Q1gUWihZqu",
        "colab_type": "code",
        "outputId": "df0c96d9-2c03-46c5-81cc-513b04e995f5",
        "colab": {
          "base_uri": "https://localhost:8080/",
          "height": 1000
        }
      },
      "source": [
        "for i in label:\n",
        "  print('-----------------')\n",
        "  print(i)\n",
        "  print('-----------------')\n",
        "  check_label(f'{i}')\n",
        "  print('-----------------')"
      ],
      "execution_count": 0,
      "outputs": [
        {
          "output_type": "stream",
          "text": [
            "-----------------\n",
            "Function\n",
            "-----------------\n",
            "Teacher Compensation                               86354\n",
            "Substitute Compensation                            62215\n",
            "NO_LABEL                                           59579\n",
            "Aides Compensation                                 19858\n",
            "Instructional Materials & Supplies                 19711\n",
            "Facilities & Maintenance                           19617\n",
            "Professional Development                           19102\n",
            "Student Transportation                             14371\n",
            "Food Services                                      14203\n",
            "School Administration                              13055\n",
            "Enrichment                                         10686\n",
            "Extended Time & Tutoring                            8375\n",
            "Curriculum Development                              7603\n",
            "Physical Health & Services                          5929\n",
            "Social & Emotional                                  5003\n",
            "Library & Media                                     4522\n",
            "Special Population Program Management & Support     4403\n",
            "Data Processing & Information Services              3241\n",
            "Career & Academic Counseling                        2891\n",
            "Security & Safety                                   2812\n",
            "School Supervision                                  2687\n",
            "Finance, Budget, Purchasing & Distribution          2261\n",
            "Parent & Community Relations                        2157\n",
            "Utilities                                           1904\n",
            "Other Non-Compensation                              1803\n",
            "Research & Accountability                           1416\n",
            "Human Resources                                     1319\n",
            "Other Compensation                                   769\n",
            "Governance                                           631\n",
            "Recruitment                                          513\n",
            "Untracked Budget Set-Aside                           357\n",
            "Student Assignment                                   338\n",
            "Communications                                       296\n",
            "Legal                                                117\n",
            "Development & Fundraising                             93\n",
            "Insurance                                             57\n",
            "Facilities Planning                                   29\n",
            "Name: Function, dtype: int64\n",
            "\n",
            "nuniques:  37\n",
            "-----------------\n",
            "-----------------\n",
            "Object_Type\n",
            "-----------------\n",
            "Base Salary/Compensation       97670\n",
            "Benefits                       85467\n",
            "NO_LABEL                       69644\n",
            "Other Compensation/Stipend     61685\n",
            "Supplies/Materials             31935\n",
            "Substitute Compensation        27357\n",
            "Contracted Services             7512\n",
            "Other Non-Compensation          6297\n",
            "Travel & Conferences            5030\n",
            "Equipment & Equipment Lease     4460\n",
            "Rent/Utilities                  3220\n",
            "Name: Object_Type, dtype: int64\n",
            "\n",
            "nuniques:  11\n",
            "-----------------\n",
            "-----------------\n",
            "Operating_Status\n",
            "-----------------\n",
            "PreK-12 Operating         343578\n",
            "Non-Operating              48034\n",
            "Operating, Not PreK-12      8665\n",
            "Name: Operating_Status, dtype: int64\n",
            "\n",
            "nuniques:  3\n",
            "-----------------\n",
            "-----------------\n",
            "Position_Type\n",
            "-----------------\n",
            "Teacher                    102788\n",
            "NO_LABEL                    97607\n",
            "Substitute                  63515\n",
            "Other                       37614\n",
            "TA                          22799\n",
            "Non-Position                20996\n",
            "Custodian                    9713\n",
            "Sec/Clerk/Other Admin        8814\n",
            "Coordinator/Manager          7407\n",
            "Instructional Coach          5148\n",
            "Club Advisor/Coach           3821\n",
            "Guidance Counselor           2857\n",
            "Vice Principal               2289\n",
            "Principal                    2136\n",
            "Librarian                    1975\n",
            "Speech Therapist             1973\n",
            "School Monitor/Security      1925\n",
            "Nurse                        1873\n",
            "Psychologist                 1698\n",
            "Social Worker                1675\n",
            "(Exec) Director               585\n",
            "Occupational Therapist        522\n",
            "Physical Therapist            302\n",
            "Area Officers                 150\n",
            "Nurse Aide                     95\n",
            "Name: Position_Type, dtype: int64\n",
            "\n",
            "nuniques:  25\n",
            "-----------------\n",
            "-----------------\n",
            "Pre_K\n",
            "-----------------\n",
            "NO_LABEL    306425\n",
            "Non PreK     81069\n",
            "PreK         12783\n",
            "Name: Pre_K, dtype: int64\n",
            "\n",
            "nuniques:  3\n",
            "-----------------\n",
            "-----------------\n",
            "Reporting\n",
            "-----------------\n",
            "School        257258\n",
            "Non-School     86320\n",
            "NO_LABEL       56699\n",
            "Name: Reporting, dtype: int64\n",
            "\n",
            "nuniques:  3\n",
            "-----------------\n",
            "-----------------\n",
            "Sharing\n",
            "-----------------\n",
            "School Reported              254433\n",
            "NO_LABEL                      59376\n",
            "Shared Services               42641\n",
            "School on Central Budgets     26849\n",
            "Leadership & Management       16978\n",
            "Name: Sharing, dtype: int64\n",
            "\n",
            "nuniques:  5\n",
            "-----------------\n",
            "-----------------\n",
            "Student_Type\n",
            "-----------------\n",
            "Unspecified          223026\n",
            "NO_LABEL              99871\n",
            "Special Education     42024\n",
            "Poverty               17845\n",
            "ELL                    6752\n",
            "PreK                   5561\n",
            "At Risk                3132\n",
            "Gifted                 1595\n",
            "Alternative             471\n",
            "Name: Student_Type, dtype: int64\n",
            "\n",
            "nuniques:  9\n",
            "-----------------\n",
            "-----------------\n",
            "Use\n",
            "-----------------\n",
            "Instruction                    203608\n",
            "NO_LABEL                        78712\n",
            "O&M                             45868\n",
            "ISPD                            26118\n",
            "Pupil Services & Enrichment     23779\n",
            "Leadership                      15715\n",
            "Business Services                6120\n",
            "Untracked Budget Set-Aside        357\n",
            "Name: Use, dtype: int64\n",
            "\n",
            "nuniques:  8\n",
            "-----------------\n"
          ],
          "name": "stdout"
        }
      ]
    },
    {
      "cell_type": "markdown",
      "metadata": {
        "id": "ph4E9CZKDrqq",
        "colab_type": "text"
      },
      "source": [
        "## encode the label"
      ]
    },
    {
      "cell_type": "code",
      "metadata": {
        "id": "cCap9Vm5D-yT",
        "colab_type": "code",
        "outputId": "54035fd7-2838-4db3-de1f-1b11d46c3be8",
        "colab": {
          "base_uri": "https://localhost:8080/",
          "height": 204
        }
      },
      "source": [
        "train_y.head()"
      ],
      "execution_count": 74,
      "outputs": [
        {
          "output_type": "execute_result",
          "data": {
            "text/html": [
              "<div>\n",
              "<style scoped>\n",
              "    .dataframe tbody tr th:only-of-type {\n",
              "        vertical-align: middle;\n",
              "    }\n",
              "\n",
              "    .dataframe tbody tr th {\n",
              "        vertical-align: top;\n",
              "    }\n",
              "\n",
              "    .dataframe thead th {\n",
              "        text-align: right;\n",
              "    }\n",
              "</style>\n",
              "<table border=\"1\" class=\"dataframe\">\n",
              "  <thead>\n",
              "    <tr style=\"text-align: right;\">\n",
              "      <th></th>\n",
              "      <th>Function</th>\n",
              "      <th>Object_Type</th>\n",
              "      <th>Operating_Status</th>\n",
              "      <th>Position_Type</th>\n",
              "      <th>Pre_K</th>\n",
              "      <th>Reporting</th>\n",
              "      <th>Sharing</th>\n",
              "      <th>Student_Type</th>\n",
              "      <th>Use</th>\n",
              "    </tr>\n",
              "  </thead>\n",
              "  <tbody>\n",
              "    <tr>\n",
              "      <th>0</th>\n",
              "      <td>Teacher Compensation</td>\n",
              "      <td>NO_LABEL</td>\n",
              "      <td>PreK-12 Operating</td>\n",
              "      <td>Teacher</td>\n",
              "      <td>NO_LABEL</td>\n",
              "      <td>School</td>\n",
              "      <td>School Reported</td>\n",
              "      <td>NO_LABEL</td>\n",
              "      <td>Instruction</td>\n",
              "    </tr>\n",
              "    <tr>\n",
              "      <th>1</th>\n",
              "      <td>NO_LABEL</td>\n",
              "      <td>NO_LABEL</td>\n",
              "      <td>Non-Operating</td>\n",
              "      <td>NO_LABEL</td>\n",
              "      <td>NO_LABEL</td>\n",
              "      <td>NO_LABEL</td>\n",
              "      <td>NO_LABEL</td>\n",
              "      <td>NO_LABEL</td>\n",
              "      <td>NO_LABEL</td>\n",
              "    </tr>\n",
              "    <tr>\n",
              "      <th>2</th>\n",
              "      <td>Teacher Compensation</td>\n",
              "      <td>Base Salary/Compensation</td>\n",
              "      <td>PreK-12 Operating</td>\n",
              "      <td>Teacher</td>\n",
              "      <td>Non PreK</td>\n",
              "      <td>School</td>\n",
              "      <td>School Reported</td>\n",
              "      <td>Unspecified</td>\n",
              "      <td>Instruction</td>\n",
              "    </tr>\n",
              "    <tr>\n",
              "      <th>3</th>\n",
              "      <td>Substitute Compensation</td>\n",
              "      <td>Benefits</td>\n",
              "      <td>PreK-12 Operating</td>\n",
              "      <td>Substitute</td>\n",
              "      <td>NO_LABEL</td>\n",
              "      <td>School</td>\n",
              "      <td>School Reported</td>\n",
              "      <td>Unspecified</td>\n",
              "      <td>Instruction</td>\n",
              "    </tr>\n",
              "    <tr>\n",
              "      <th>4</th>\n",
              "      <td>Substitute Compensation</td>\n",
              "      <td>Substitute Compensation</td>\n",
              "      <td>PreK-12 Operating</td>\n",
              "      <td>Teacher</td>\n",
              "      <td>NO_LABEL</td>\n",
              "      <td>School</td>\n",
              "      <td>School Reported</td>\n",
              "      <td>Unspecified</td>\n",
              "      <td>Instruction</td>\n",
              "    </tr>\n",
              "  </tbody>\n",
              "</table>\n",
              "</div>"
            ],
            "text/plain": [
              "                  Function               Object_Type  ... Student_Type          Use\n",
              "0     Teacher Compensation                  NO_LABEL  ...     NO_LABEL  Instruction\n",
              "1                 NO_LABEL                  NO_LABEL  ...     NO_LABEL     NO_LABEL\n",
              "2     Teacher Compensation  Base Salary/Compensation  ...  Unspecified  Instruction\n",
              "3  Substitute Compensation                  Benefits  ...  Unspecified  Instruction\n",
              "4  Substitute Compensation   Substitute Compensation  ...  Unspecified  Instruction\n",
              "\n",
              "[5 rows x 9 columns]"
            ]
          },
          "metadata": {
            "tags": []
          },
          "execution_count": 74
        }
      ]
    },
    {
      "cell_type": "code",
      "metadata": {
        "id": "5wZCmYIoD1SJ",
        "colab_type": "code",
        "colab": {}
      },
      "source": [
        "train_y_dummy = pd.get_dummies(train_y, sparse=True)"
      ],
      "execution_count": 0,
      "outputs": []
    },
    {
      "cell_type": "code",
      "metadata": {
        "id": "gtz0_Iz6EL7g",
        "colab_type": "code",
        "outputId": "44f95ee3-ee88-48e5-d23e-f43ce1579f7f",
        "colab": {
          "base_uri": "https://localhost:8080/",
          "height": 34
        }
      },
      "source": [
        "train_y_dummy.shape"
      ],
      "execution_count": 76,
      "outputs": [
        {
          "output_type": "execute_result",
          "data": {
            "text/plain": [
              "(400277, 104)"
            ]
          },
          "metadata": {
            "tags": []
          },
          "execution_count": 76
        }
      ]
    },
    {
      "cell_type": "markdown",
      "metadata": {
        "id": "24VCCE9UiZl1",
        "colab_type": "text"
      },
      "source": [
        "## Analysis train_X"
      ]
    },
    {
      "cell_type": "code",
      "metadata": {
        "id": "RGz2jA0ZhhPM",
        "colab_type": "code",
        "outputId": "2f8cfbb2-910d-414a-91d6-5f654e573378",
        "colab": {
          "base_uri": "https://localhost:8080/",
          "height": 360
        }
      },
      "source": [
        "train_X.head()"
      ],
      "execution_count": 0,
      "outputs": [
        {
          "output_type": "execute_result",
          "data": {
            "text/html": [
              "<div>\n",
              "<style scoped>\n",
              "    .dataframe tbody tr th:only-of-type {\n",
              "        vertical-align: middle;\n",
              "    }\n",
              "\n",
              "    .dataframe tbody tr th {\n",
              "        vertical-align: top;\n",
              "    }\n",
              "\n",
              "    .dataframe thead th {\n",
              "        text-align: right;\n",
              "    }\n",
              "</style>\n",
              "<table border=\"1\" class=\"dataframe\">\n",
              "  <thead>\n",
              "    <tr style=\"text-align: right;\">\n",
              "      <th></th>\n",
              "      <th>Unnamed: 0</th>\n",
              "      <th>Object_Description</th>\n",
              "      <th>Text_2</th>\n",
              "      <th>SubFund_Description</th>\n",
              "      <th>Job_Title_Description</th>\n",
              "      <th>Text_3</th>\n",
              "      <th>Text_4</th>\n",
              "      <th>Sub_Object_Description</th>\n",
              "      <th>Location_Description</th>\n",
              "      <th>FTE</th>\n",
              "      <th>Function_Description</th>\n",
              "      <th>Facility_or_Department</th>\n",
              "      <th>Position_Extra</th>\n",
              "      <th>Total</th>\n",
              "      <th>Program_Description</th>\n",
              "      <th>Fund_Description</th>\n",
              "      <th>Text_1</th>\n",
              "    </tr>\n",
              "  </thead>\n",
              "  <tbody>\n",
              "    <tr>\n",
              "      <th>0</th>\n",
              "      <td>134338</td>\n",
              "      <td>NaN</td>\n",
              "      <td>NaN</td>\n",
              "      <td>NaN</td>\n",
              "      <td>Teacher-Elementary</td>\n",
              "      <td>NaN</td>\n",
              "      <td>NaN</td>\n",
              "      <td>NaN</td>\n",
              "      <td>NaN</td>\n",
              "      <td>1.0</td>\n",
              "      <td>NaN</td>\n",
              "      <td>NaN</td>\n",
              "      <td>KINDERGARTEN</td>\n",
              "      <td>50471.810</td>\n",
              "      <td>KINDERGARTEN</td>\n",
              "      <td>General Fund</td>\n",
              "      <td>NaN</td>\n",
              "    </tr>\n",
              "    <tr>\n",
              "      <th>1</th>\n",
              "      <td>206341</td>\n",
              "      <td>CONTRACTOR SERVICES</td>\n",
              "      <td>BOND EXPENDITURES</td>\n",
              "      <td>BUILDING FUND</td>\n",
              "      <td>(blank)</td>\n",
              "      <td>Regular</td>\n",
              "      <td>NaN</td>\n",
              "      <td>NaN</td>\n",
              "      <td>NaN</td>\n",
              "      <td>NaN</td>\n",
              "      <td>RGN  GOB</td>\n",
              "      <td>NaN</td>\n",
              "      <td>UNDESIGNATED</td>\n",
              "      <td>3477.860</td>\n",
              "      <td>BUILDING IMPROVEMENT SERVICES</td>\n",
              "      <td>NaN</td>\n",
              "      <td>BUILDING IMPROVEMENT SERVICES</td>\n",
              "    </tr>\n",
              "    <tr>\n",
              "      <th>2</th>\n",
              "      <td>326408</td>\n",
              "      <td>Personal Services - Teachers</td>\n",
              "      <td>NaN</td>\n",
              "      <td>NaN</td>\n",
              "      <td>TCHER 2ND GRADE</td>\n",
              "      <td>NaN</td>\n",
              "      <td>Regular Instruction</td>\n",
              "      <td>NaN</td>\n",
              "      <td>NaN</td>\n",
              "      <td>1.0</td>\n",
              "      <td>NaN</td>\n",
              "      <td>NaN</td>\n",
              "      <td>TEACHER</td>\n",
              "      <td>62237.130</td>\n",
              "      <td>Instruction - Regular</td>\n",
              "      <td>General Purpose School</td>\n",
              "      <td>NaN</td>\n",
              "    </tr>\n",
              "    <tr>\n",
              "      <th>3</th>\n",
              "      <td>364634</td>\n",
              "      <td>EMPLOYEE BENEFITS</td>\n",
              "      <td>TEACHER SUBS</td>\n",
              "      <td>GENERAL FUND</td>\n",
              "      <td>Teacher, Short Term Sub</td>\n",
              "      <td>Regular</td>\n",
              "      <td>NaN</td>\n",
              "      <td>NaN</td>\n",
              "      <td>NaN</td>\n",
              "      <td>NaN</td>\n",
              "      <td>UNALLOC BUDGETS/SCHOOLS</td>\n",
              "      <td>NaN</td>\n",
              "      <td>PROFESSIONAL-INSTRUCTIONAL</td>\n",
              "      <td>22.300</td>\n",
              "      <td>GENERAL MIDDLE/JUNIOR HIGH SCH</td>\n",
              "      <td>NaN</td>\n",
              "      <td>REGULAR INSTRUCTION</td>\n",
              "    </tr>\n",
              "    <tr>\n",
              "      <th>4</th>\n",
              "      <td>47683</td>\n",
              "      <td>TEACHER COVERAGE FOR TEACHER</td>\n",
              "      <td>TEACHER SUBS</td>\n",
              "      <td>GENERAL FUND</td>\n",
              "      <td>Teacher, Secondary (High)</td>\n",
              "      <td>Alternative</td>\n",
              "      <td>NaN</td>\n",
              "      <td>NaN</td>\n",
              "      <td>NaN</td>\n",
              "      <td>NaN</td>\n",
              "      <td>NON-PROJECT</td>\n",
              "      <td>NaN</td>\n",
              "      <td>PROFESSIONAL-INSTRUCTIONAL</td>\n",
              "      <td>54.166</td>\n",
              "      <td>GENERAL HIGH SCHOOL EDUCATION</td>\n",
              "      <td>NaN</td>\n",
              "      <td>REGULAR INSTRUCTION</td>\n",
              "    </tr>\n",
              "  </tbody>\n",
              "</table>\n",
              "</div>"
            ],
            "text/plain": [
              "   Unnamed: 0  ...                         Text_1\n",
              "0      134338  ...                            NaN\n",
              "1      206341  ...  BUILDING IMPROVEMENT SERVICES\n",
              "2      326408  ...                            NaN\n",
              "3      364634  ...            REGULAR INSTRUCTION\n",
              "4       47683  ...            REGULAR INSTRUCTION\n",
              "\n",
              "[5 rows x 17 columns]"
            ]
          },
          "metadata": {
            "tags": []
          },
          "execution_count": 13
        }
      ]
    },
    {
      "cell_type": "code",
      "metadata": {
        "id": "5Uv5KrwEiiNm",
        "colab_type": "code",
        "colab": {}
      },
      "source": [
        "train_X.index = train_X.iloc[:, 0]"
      ],
      "execution_count": 0,
      "outputs": []
    },
    {
      "cell_type": "code",
      "metadata": {
        "id": "SwMBC7KZimgM",
        "colab_type": "code",
        "colab": {}
      },
      "source": [
        "train_X.drop('Unnamed: 0', axis=1, inplace=True)"
      ],
      "execution_count": 0,
      "outputs": []
    },
    {
      "cell_type": "code",
      "metadata": {
        "id": "Lld2tukYi4pU",
        "colab_type": "code",
        "outputId": "35fcad1f-ccad-49b3-8873-ea51013a36d3",
        "colab": {
          "base_uri": "https://localhost:8080/",
          "height": 391
        }
      },
      "source": [
        "train_X.head()"
      ],
      "execution_count": 0,
      "outputs": [
        {
          "output_type": "execute_result",
          "data": {
            "text/html": [
              "<div>\n",
              "<style scoped>\n",
              "    .dataframe tbody tr th:only-of-type {\n",
              "        vertical-align: middle;\n",
              "    }\n",
              "\n",
              "    .dataframe tbody tr th {\n",
              "        vertical-align: top;\n",
              "    }\n",
              "\n",
              "    .dataframe thead th {\n",
              "        text-align: right;\n",
              "    }\n",
              "</style>\n",
              "<table border=\"1\" class=\"dataframe\">\n",
              "  <thead>\n",
              "    <tr style=\"text-align: right;\">\n",
              "      <th></th>\n",
              "      <th>Object_Description</th>\n",
              "      <th>Text_2</th>\n",
              "      <th>SubFund_Description</th>\n",
              "      <th>Job_Title_Description</th>\n",
              "      <th>Text_3</th>\n",
              "      <th>Text_4</th>\n",
              "      <th>Sub_Object_Description</th>\n",
              "      <th>Location_Description</th>\n",
              "      <th>FTE</th>\n",
              "      <th>Function_Description</th>\n",
              "      <th>Facility_or_Department</th>\n",
              "      <th>Position_Extra</th>\n",
              "      <th>Total</th>\n",
              "      <th>Program_Description</th>\n",
              "      <th>Fund_Description</th>\n",
              "      <th>Text_1</th>\n",
              "    </tr>\n",
              "    <tr>\n",
              "      <th>Unnamed: 0</th>\n",
              "      <th></th>\n",
              "      <th></th>\n",
              "      <th></th>\n",
              "      <th></th>\n",
              "      <th></th>\n",
              "      <th></th>\n",
              "      <th></th>\n",
              "      <th></th>\n",
              "      <th></th>\n",
              "      <th></th>\n",
              "      <th></th>\n",
              "      <th></th>\n",
              "      <th></th>\n",
              "      <th></th>\n",
              "      <th></th>\n",
              "      <th></th>\n",
              "    </tr>\n",
              "  </thead>\n",
              "  <tbody>\n",
              "    <tr>\n",
              "      <th>134338</th>\n",
              "      <td>NaN</td>\n",
              "      <td>NaN</td>\n",
              "      <td>NaN</td>\n",
              "      <td>Teacher-Elementary</td>\n",
              "      <td>NaN</td>\n",
              "      <td>NaN</td>\n",
              "      <td>NaN</td>\n",
              "      <td>NaN</td>\n",
              "      <td>1.0</td>\n",
              "      <td>NaN</td>\n",
              "      <td>NaN</td>\n",
              "      <td>KINDERGARTEN</td>\n",
              "      <td>50471.810</td>\n",
              "      <td>KINDERGARTEN</td>\n",
              "      <td>General Fund</td>\n",
              "      <td>NaN</td>\n",
              "    </tr>\n",
              "    <tr>\n",
              "      <th>206341</th>\n",
              "      <td>CONTRACTOR SERVICES</td>\n",
              "      <td>BOND EXPENDITURES</td>\n",
              "      <td>BUILDING FUND</td>\n",
              "      <td>(blank)</td>\n",
              "      <td>Regular</td>\n",
              "      <td>NaN</td>\n",
              "      <td>NaN</td>\n",
              "      <td>NaN</td>\n",
              "      <td>NaN</td>\n",
              "      <td>RGN  GOB</td>\n",
              "      <td>NaN</td>\n",
              "      <td>UNDESIGNATED</td>\n",
              "      <td>3477.860</td>\n",
              "      <td>BUILDING IMPROVEMENT SERVICES</td>\n",
              "      <td>NaN</td>\n",
              "      <td>BUILDING IMPROVEMENT SERVICES</td>\n",
              "    </tr>\n",
              "    <tr>\n",
              "      <th>326408</th>\n",
              "      <td>Personal Services - Teachers</td>\n",
              "      <td>NaN</td>\n",
              "      <td>NaN</td>\n",
              "      <td>TCHER 2ND GRADE</td>\n",
              "      <td>NaN</td>\n",
              "      <td>Regular Instruction</td>\n",
              "      <td>NaN</td>\n",
              "      <td>NaN</td>\n",
              "      <td>1.0</td>\n",
              "      <td>NaN</td>\n",
              "      <td>NaN</td>\n",
              "      <td>TEACHER</td>\n",
              "      <td>62237.130</td>\n",
              "      <td>Instruction - Regular</td>\n",
              "      <td>General Purpose School</td>\n",
              "      <td>NaN</td>\n",
              "    </tr>\n",
              "    <tr>\n",
              "      <th>364634</th>\n",
              "      <td>EMPLOYEE BENEFITS</td>\n",
              "      <td>TEACHER SUBS</td>\n",
              "      <td>GENERAL FUND</td>\n",
              "      <td>Teacher, Short Term Sub</td>\n",
              "      <td>Regular</td>\n",
              "      <td>NaN</td>\n",
              "      <td>NaN</td>\n",
              "      <td>NaN</td>\n",
              "      <td>NaN</td>\n",
              "      <td>UNALLOC BUDGETS/SCHOOLS</td>\n",
              "      <td>NaN</td>\n",
              "      <td>PROFESSIONAL-INSTRUCTIONAL</td>\n",
              "      <td>22.300</td>\n",
              "      <td>GENERAL MIDDLE/JUNIOR HIGH SCH</td>\n",
              "      <td>NaN</td>\n",
              "      <td>REGULAR INSTRUCTION</td>\n",
              "    </tr>\n",
              "    <tr>\n",
              "      <th>47683</th>\n",
              "      <td>TEACHER COVERAGE FOR TEACHER</td>\n",
              "      <td>TEACHER SUBS</td>\n",
              "      <td>GENERAL FUND</td>\n",
              "      <td>Teacher, Secondary (High)</td>\n",
              "      <td>Alternative</td>\n",
              "      <td>NaN</td>\n",
              "      <td>NaN</td>\n",
              "      <td>NaN</td>\n",
              "      <td>NaN</td>\n",
              "      <td>NON-PROJECT</td>\n",
              "      <td>NaN</td>\n",
              "      <td>PROFESSIONAL-INSTRUCTIONAL</td>\n",
              "      <td>54.166</td>\n",
              "      <td>GENERAL HIGH SCHOOL EDUCATION</td>\n",
              "      <td>NaN</td>\n",
              "      <td>REGULAR INSTRUCTION</td>\n",
              "    </tr>\n",
              "  </tbody>\n",
              "</table>\n",
              "</div>"
            ],
            "text/plain": [
              "                      Object_Description  ...                         Text_1\n",
              "Unnamed: 0                                ...                               \n",
              "134338                               NaN  ...                            NaN\n",
              "206341               CONTRACTOR SERVICES  ...  BUILDING IMPROVEMENT SERVICES\n",
              "326408      Personal Services - Teachers  ...                            NaN\n",
              "364634                 EMPLOYEE BENEFITS  ...            REGULAR INSTRUCTION\n",
              "47683       TEACHER COVERAGE FOR TEACHER  ...            REGULAR INSTRUCTION\n",
              "\n",
              "[5 rows x 16 columns]"
            ]
          },
          "metadata": {
            "tags": []
          },
          "execution_count": 16
        }
      ]
    },
    {
      "cell_type": "code",
      "metadata": {
        "id": "e6CAVtYdi1GF",
        "colab_type": "code",
        "outputId": "72f17a32-2a57-482e-ef01-6e24703e30d6",
        "colab": {
          "base_uri": "https://localhost:8080/",
          "height": 374
        }
      },
      "source": [
        "train_X.info()"
      ],
      "execution_count": 0,
      "outputs": [
        {
          "output_type": "stream",
          "text": [
            "<class 'pandas.core.frame.DataFrame'>\n",
            "Int64Index: 400277 entries, 134338 to 415831\n",
            "Data columns (total 16 columns):\n",
            "Object_Description        375493 non-null object\n",
            "Text_2                    88217 non-null object\n",
            "SubFund_Description       306855 non-null object\n",
            "Job_Title_Description     292743 non-null object\n",
            "Text_3                    109152 non-null object\n",
            "Text_4                    53746 non-null object\n",
            "Sub_Object_Description    91603 non-null object\n",
            "Location_Description      162054 non-null object\n",
            "FTE                       126071 non-null float64\n",
            "Function_Description      342195 non-null object\n",
            "Facility_or_Department    53886 non-null object\n",
            "Position_Extra            264764 non-null object\n",
            "Total                     395722 non-null float64\n",
            "Program_Description       304660 non-null object\n",
            "Fund_Description          202877 non-null object\n",
            "Text_1                    292285 non-null object\n",
            "dtypes: float64(2), object(14)\n",
            "memory usage: 51.9+ MB\n"
          ],
          "name": "stdout"
        }
      ]
    },
    {
      "cell_type": "markdown",
      "metadata": {
        "id": "24t0lATZi_cc",
        "colab_type": "text"
      },
      "source": [
        "### two features are float types, chekc float first\n",
        "\n",
        "FTE : \n",
        "If an employee, the percentage of full-time that the employee works.\n",
        "\n",
        "Total :\n",
        "The total cost of the expenditure."
      ]
    },
    {
      "cell_type": "code",
      "metadata": {
        "id": "3_YAD1DfjCiU",
        "colab_type": "code",
        "colab": {}
      },
      "source": [
        "train_float = train_X[['FTE', 'Total']]"
      ],
      "execution_count": 0,
      "outputs": []
    },
    {
      "cell_type": "code",
      "metadata": {
        "id": "e-ZzV7hskB2U",
        "colab_type": "code",
        "outputId": "efa6cd5c-ed6c-4193-b4f7-6cae8ed84a47",
        "colab": {
          "base_uri": "https://localhost:8080/",
          "height": 204
        }
      },
      "source": [
        "train_float.head()"
      ],
      "execution_count": 0,
      "outputs": [
        {
          "output_type": "execute_result",
          "data": {
            "text/html": [
              "<div>\n",
              "<style scoped>\n",
              "    .dataframe tbody tr th:only-of-type {\n",
              "        vertical-align: middle;\n",
              "    }\n",
              "\n",
              "    .dataframe tbody tr th {\n",
              "        vertical-align: top;\n",
              "    }\n",
              "\n",
              "    .dataframe thead th {\n",
              "        text-align: right;\n",
              "    }\n",
              "</style>\n",
              "<table border=\"1\" class=\"dataframe\">\n",
              "  <thead>\n",
              "    <tr style=\"text-align: right;\">\n",
              "      <th></th>\n",
              "      <th>FTE</th>\n",
              "      <th>Total</th>\n",
              "    </tr>\n",
              "  </thead>\n",
              "  <tbody>\n",
              "    <tr>\n",
              "      <th>0</th>\n",
              "      <td>1.0</td>\n",
              "      <td>50471.810</td>\n",
              "    </tr>\n",
              "    <tr>\n",
              "      <th>1</th>\n",
              "      <td>NaN</td>\n",
              "      <td>3477.860</td>\n",
              "    </tr>\n",
              "    <tr>\n",
              "      <th>2</th>\n",
              "      <td>1.0</td>\n",
              "      <td>62237.130</td>\n",
              "    </tr>\n",
              "    <tr>\n",
              "      <th>3</th>\n",
              "      <td>NaN</td>\n",
              "      <td>22.300</td>\n",
              "    </tr>\n",
              "    <tr>\n",
              "      <th>4</th>\n",
              "      <td>NaN</td>\n",
              "      <td>54.166</td>\n",
              "    </tr>\n",
              "  </tbody>\n",
              "</table>\n",
              "</div>"
            ],
            "text/plain": [
              "   FTE      Total\n",
              "0  1.0  50471.810\n",
              "1  NaN   3477.860\n",
              "2  1.0  62237.130\n",
              "3  NaN     22.300\n",
              "4  NaN     54.166"
            ]
          },
          "metadata": {
            "tags": []
          },
          "execution_count": 17
        }
      ]
    },
    {
      "cell_type": "code",
      "metadata": {
        "id": "2El9Y-OCkFZl",
        "colab_type": "code",
        "outputId": "d9ba947c-31a3-4b94-b05e-32b942c73781",
        "colab": {
          "base_uri": "https://localhost:8080/",
          "height": 35
        }
      },
      "source": [
        "train_float.shape"
      ],
      "execution_count": 0,
      "outputs": [
        {
          "output_type": "execute_result",
          "data": {
            "text/plain": [
              "(400277, 2)"
            ]
          },
          "metadata": {
            "tags": []
          },
          "execution_count": 18
        }
      ]
    },
    {
      "cell_type": "code",
      "metadata": {
        "id": "twBrvTbxkC7E",
        "colab_type": "code",
        "outputId": "95944001-5a11-4e63-dce6-5d902b99389b",
        "colab": {
          "base_uri": "https://localhost:8080/",
          "height": 297
        }
      },
      "source": [
        "train_float.describe()"
      ],
      "execution_count": 0,
      "outputs": [
        {
          "output_type": "execute_result",
          "data": {
            "text/html": [
              "<div>\n",
              "<style scoped>\n",
              "    .dataframe tbody tr th:only-of-type {\n",
              "        vertical-align: middle;\n",
              "    }\n",
              "\n",
              "    .dataframe tbody tr th {\n",
              "        vertical-align: top;\n",
              "    }\n",
              "\n",
              "    .dataframe thead th {\n",
              "        text-align: right;\n",
              "    }\n",
              "</style>\n",
              "<table border=\"1\" class=\"dataframe\">\n",
              "  <thead>\n",
              "    <tr style=\"text-align: right;\">\n",
              "      <th></th>\n",
              "      <th>FTE</th>\n",
              "      <th>Total</th>\n",
              "    </tr>\n",
              "  </thead>\n",
              "  <tbody>\n",
              "    <tr>\n",
              "      <th>count</th>\n",
              "      <td>126071.000000</td>\n",
              "      <td>3.957220e+05</td>\n",
              "    </tr>\n",
              "    <tr>\n",
              "      <th>mean</th>\n",
              "      <td>0.426794</td>\n",
              "      <td>1.310586e+04</td>\n",
              "    </tr>\n",
              "    <tr>\n",
              "      <th>std</th>\n",
              "      <td>0.573576</td>\n",
              "      <td>3.682254e+05</td>\n",
              "    </tr>\n",
              "    <tr>\n",
              "      <th>min</th>\n",
              "      <td>-0.087551</td>\n",
              "      <td>-8.746631e+07</td>\n",
              "    </tr>\n",
              "    <tr>\n",
              "      <th>25%</th>\n",
              "      <td>0.000792</td>\n",
              "      <td>7.379770e+01</td>\n",
              "    </tr>\n",
              "    <tr>\n",
              "      <th>50%</th>\n",
              "      <td>0.130927</td>\n",
              "      <td>4.612300e+02</td>\n",
              "    </tr>\n",
              "    <tr>\n",
              "      <th>75%</th>\n",
              "      <td>1.000000</td>\n",
              "      <td>3.652662e+03</td>\n",
              "    </tr>\n",
              "    <tr>\n",
              "      <th>max</th>\n",
              "      <td>46.800000</td>\n",
              "      <td>1.297000e+08</td>\n",
              "    </tr>\n",
              "  </tbody>\n",
              "</table>\n",
              "</div>"
            ],
            "text/plain": [
              "                 FTE         Total\n",
              "count  126071.000000  3.957220e+05\n",
              "mean        0.426794  1.310586e+04\n",
              "std         0.573576  3.682254e+05\n",
              "min        -0.087551 -8.746631e+07\n",
              "25%         0.000792  7.379770e+01\n",
              "50%         0.130927  4.612300e+02\n",
              "75%         1.000000  3.652662e+03\n",
              "max        46.800000  1.297000e+08"
            ]
          },
          "metadata": {
            "tags": []
          },
          "execution_count": 19
        }
      ]
    },
    {
      "cell_type": "code",
      "metadata": {
        "id": "uVW-fkLfor08",
        "colab_type": "code",
        "outputId": "a36dc84d-2d14-4cf5-c81b-7555d9325c45",
        "colab": {
          "base_uri": "https://localhost:8080/",
          "height": 287
        }
      },
      "source": [
        "plt.figure()\n",
        "train_float.FTE.hist(bins=100)\n",
        "plt.xlim(-1, 2)"
      ],
      "execution_count": 0,
      "outputs": [
        {
          "output_type": "execute_result",
          "data": {
            "text/plain": [
              "(-1, 2)"
            ]
          },
          "metadata": {
            "tags": []
          },
          "execution_count": 20
        },
        {
          "output_type": "display_data",
          "data": {
            "image/png": "[encoded data removed]",
            "text/plain": [
              "<Figure size 432x288 with 1 Axes>"
            ]
          },
          "metadata": {
            "tags": []
          }
        }
      ]
    },
    {
      "cell_type": "code",
      "metadata": {
        "id": "NeQvrMZij_b3",
        "colab_type": "code",
        "outputId": "303c5de4-5e50-4616-f244-0bd019444ae9",
        "colab": {
          "base_uri": "https://localhost:8080/",
          "height": 35
        }
      },
      "source": [
        "train_float.FTE.isna().sum()"
      ],
      "execution_count": 0,
      "outputs": [
        {
          "output_type": "execute_result",
          "data": {
            "text/plain": [
              "274206"
            ]
          },
          "metadata": {
            "tags": []
          },
          "execution_count": 21
        }
      ]
    },
    {
      "cell_type": "code",
      "metadata": {
        "id": "FIsAM_eRk52L",
        "colab_type": "code",
        "outputId": "4fceee46-fda6-4f6f-d69c-ec65318a133f",
        "colab": {
          "base_uri": "https://localhost:8080/",
          "height": 35
        }
      },
      "source": [
        "train_float.Total.isna().sum()"
      ],
      "execution_count": 0,
      "outputs": [
        {
          "output_type": "execute_result",
          "data": {
            "text/plain": [
              "4555"
            ]
          },
          "metadata": {
            "tags": []
          },
          "execution_count": 22
        }
      ]
    },
    {
      "cell_type": "markdown",
      "metadata": {
        "id": "zJVARd6Wk-9U",
        "colab_type": "text"
      },
      "source": [
        "### For the numeric data, requires to fill na pre-process"
      ]
    },
    {
      "cell_type": "markdown",
      "metadata": {
        "id": "d4DDYCqVlFV8",
        "colab_type": "text"
      },
      "source": [
        "### non_numeric features"
      ]
    },
    {
      "cell_type": "code",
      "metadata": {
        "id": "EAPvPV75lENU",
        "colab_type": "code",
        "colab": {}
      },
      "source": [
        "train_char = train_X.drop(['FTE', 'Total'], axis=1)"
      ],
      "execution_count": 0,
      "outputs": []
    },
    {
      "cell_type": "code",
      "metadata": {
        "id": "4TR7kGJBlghE",
        "colab_type": "code",
        "outputId": "03c41cc3-41c0-486e-cadd-483e115018fd",
        "colab": {
          "base_uri": "https://localhost:8080/",
          "height": 360
        }
      },
      "source": [
        "train_char.head()"
      ],
      "execution_count": 0,
      "outputs": [
        {
          "output_type": "execute_result",
          "data": {
            "text/html": [
              "<div>\n",
              "<style scoped>\n",
              "    .dataframe tbody tr th:only-of-type {\n",
              "        vertical-align: middle;\n",
              "    }\n",
              "\n",
              "    .dataframe tbody tr th {\n",
              "        vertical-align: top;\n",
              "    }\n",
              "\n",
              "    .dataframe thead th {\n",
              "        text-align: right;\n",
              "    }\n",
              "</style>\n",
              "<table border=\"1\" class=\"dataframe\">\n",
              "  <thead>\n",
              "    <tr style=\"text-align: right;\">\n",
              "      <th></th>\n",
              "      <th>Unnamed: 0</th>\n",
              "      <th>Object_Description</th>\n",
              "      <th>Text_2</th>\n",
              "      <th>SubFund_Description</th>\n",
              "      <th>Job_Title_Description</th>\n",
              "      <th>Text_3</th>\n",
              "      <th>Text_4</th>\n",
              "      <th>Sub_Object_Description</th>\n",
              "      <th>Location_Description</th>\n",
              "      <th>Function_Description</th>\n",
              "      <th>Facility_or_Department</th>\n",
              "      <th>Position_Extra</th>\n",
              "      <th>Program_Description</th>\n",
              "      <th>Fund_Description</th>\n",
              "      <th>Text_1</th>\n",
              "    </tr>\n",
              "  </thead>\n",
              "  <tbody>\n",
              "    <tr>\n",
              "      <th>0</th>\n",
              "      <td>134338</td>\n",
              "      <td>NaN</td>\n",
              "      <td>NaN</td>\n",
              "      <td>NaN</td>\n",
              "      <td>Teacher-Elementary</td>\n",
              "      <td>NaN</td>\n",
              "      <td>NaN</td>\n",
              "      <td>NaN</td>\n",
              "      <td>NaN</td>\n",
              "      <td>NaN</td>\n",
              "      <td>NaN</td>\n",
              "      <td>KINDERGARTEN</td>\n",
              "      <td>KINDERGARTEN</td>\n",
              "      <td>General Fund</td>\n",
              "      <td>NaN</td>\n",
              "    </tr>\n",
              "    <tr>\n",
              "      <th>1</th>\n",
              "      <td>206341</td>\n",
              "      <td>CONTRACTOR SERVICES</td>\n",
              "      <td>BOND EXPENDITURES</td>\n",
              "      <td>BUILDING FUND</td>\n",
              "      <td>(blank)</td>\n",
              "      <td>Regular</td>\n",
              "      <td>NaN</td>\n",
              "      <td>NaN</td>\n",
              "      <td>NaN</td>\n",
              "      <td>RGN  GOB</td>\n",
              "      <td>NaN</td>\n",
              "      <td>UNDESIGNATED</td>\n",
              "      <td>BUILDING IMPROVEMENT SERVICES</td>\n",
              "      <td>NaN</td>\n",
              "      <td>BUILDING IMPROVEMENT SERVICES</td>\n",
              "    </tr>\n",
              "    <tr>\n",
              "      <th>2</th>\n",
              "      <td>326408</td>\n",
              "      <td>Personal Services - Teachers</td>\n",
              "      <td>NaN</td>\n",
              "      <td>NaN</td>\n",
              "      <td>TCHER 2ND GRADE</td>\n",
              "      <td>NaN</td>\n",
              "      <td>Regular Instruction</td>\n",
              "      <td>NaN</td>\n",
              "      <td>NaN</td>\n",
              "      <td>NaN</td>\n",
              "      <td>NaN</td>\n",
              "      <td>TEACHER</td>\n",
              "      <td>Instruction - Regular</td>\n",
              "      <td>General Purpose School</td>\n",
              "      <td>NaN</td>\n",
              "    </tr>\n",
              "    <tr>\n",
              "      <th>3</th>\n",
              "      <td>364634</td>\n",
              "      <td>EMPLOYEE BENEFITS</td>\n",
              "      <td>TEACHER SUBS</td>\n",
              "      <td>GENERAL FUND</td>\n",
              "      <td>Teacher, Short Term Sub</td>\n",
              "      <td>Regular</td>\n",
              "      <td>NaN</td>\n",
              "      <td>NaN</td>\n",
              "      <td>NaN</td>\n",
              "      <td>UNALLOC BUDGETS/SCHOOLS</td>\n",
              "      <td>NaN</td>\n",
              "      <td>PROFESSIONAL-INSTRUCTIONAL</td>\n",
              "      <td>GENERAL MIDDLE/JUNIOR HIGH SCH</td>\n",
              "      <td>NaN</td>\n",
              "      <td>REGULAR INSTRUCTION</td>\n",
              "    </tr>\n",
              "    <tr>\n",
              "      <th>4</th>\n",
              "      <td>47683</td>\n",
              "      <td>TEACHER COVERAGE FOR TEACHER</td>\n",
              "      <td>TEACHER SUBS</td>\n",
              "      <td>GENERAL FUND</td>\n",
              "      <td>Teacher, Secondary (High)</td>\n",
              "      <td>Alternative</td>\n",
              "      <td>NaN</td>\n",
              "      <td>NaN</td>\n",
              "      <td>NaN</td>\n",
              "      <td>NON-PROJECT</td>\n",
              "      <td>NaN</td>\n",
              "      <td>PROFESSIONAL-INSTRUCTIONAL</td>\n",
              "      <td>GENERAL HIGH SCHOOL EDUCATION</td>\n",
              "      <td>NaN</td>\n",
              "      <td>REGULAR INSTRUCTION</td>\n",
              "    </tr>\n",
              "  </tbody>\n",
              "</table>\n",
              "</div>"
            ],
            "text/plain": [
              "   Unnamed: 0  ...                         Text_1\n",
              "0      134338  ...                            NaN\n",
              "1      206341  ...  BUILDING IMPROVEMENT SERVICES\n",
              "2      326408  ...                            NaN\n",
              "3      364634  ...            REGULAR INSTRUCTION\n",
              "4       47683  ...            REGULAR INSTRUCTION\n",
              "\n",
              "[5 rows x 15 columns]"
            ]
          },
          "metadata": {
            "tags": []
          },
          "execution_count": 24
        }
      ]
    },
    {
      "cell_type": "markdown",
      "metadata": {
        "id": "evCb1FM7lovU",
        "colab_type": "text"
      },
      "source": [
        "### check the features"
      ]
    },
    {
      "cell_type": "code",
      "metadata": {
        "id": "EmrkMsn5lELm",
        "colab_type": "code",
        "colab": {}
      },
      "source": [
        "def check_feature(df, x):\n",
        "  value_count = df[f'{x}'].value_counts()\n",
        "  nuniques = df[f'{x}'].nunique()\n",
        "  print(value_count)\n",
        "  print()\n",
        "  print('nuniques: ', nuniques)"
      ],
      "execution_count": 0,
      "outputs": []
    },
    {
      "cell_type": "code",
      "metadata": {
        "id": "r-mfxNXql9Bk",
        "colab_type": "code",
        "outputId": "c7b736ee-3207-403b-978e-25c5053b9fe4",
        "colab": {
          "base_uri": "https://localhost:8080/",
          "height": 125
        }
      },
      "source": [
        "train_char.columns"
      ],
      "execution_count": 0,
      "outputs": [
        {
          "output_type": "execute_result",
          "data": {
            "text/plain": [
              "Index(['Unnamed: 0', 'Object_Description', 'Text_2', 'SubFund_Description',\n",
              "       'Job_Title_Description', 'Text_3', 'Text_4', 'Sub_Object_Description',\n",
              "       'Location_Description', 'Function_Description',\n",
              "       'Facility_or_Department', 'Position_Extra', 'Program_Description',\n",
              "       'Fund_Description', 'Text_1'],\n",
              "      dtype='object')"
            ]
          },
          "metadata": {
            "tags": []
          },
          "execution_count": 26
        }
      ]
    },
    {
      "cell_type": "code",
      "metadata": {
        "id": "Mu5LLDCflDz1",
        "colab_type": "code",
        "colab": {}
      },
      "source": [
        "for i in train_char.columns:\n",
        "  print('-----------------')\n",
        "  print(i)\n",
        "  print('-----------------')\n",
        "  check_feature(train_char, f'{i}')\n",
        "  print('-----------------')"
      ],
      "execution_count": 0,
      "outputs": []
    },
    {
      "cell_type": "markdown",
      "metadata": {
        "id": "iG3wEO-YmXVG",
        "colab_type": "text"
      },
      "source": [
        "### preprocessing \n",
        "\n",
        "option 1 : one-hot encoding for all char features\n",
        "\n",
        "option 2 : concat the char feature, and perform TF-IDF, hashing, countvectorize"
      ]
    },
    {
      "cell_type": "markdown",
      "metadata": {
        "id": "zGem3Tk6mr5N",
        "colab_type": "text"
      },
      "source": [
        "## Option 1"
      ]
    },
    {
      "cell_type": "code",
      "metadata": {
        "id": "DRviqSuOlD38",
        "colab_type": "code",
        "colab": {}
      },
      "source": [
        "# train_char_one_hot = pd.get_dummies(train_char, dtype=np.uint8)"
      ],
      "execution_count": 0,
      "outputs": []
    },
    {
      "cell_type": "code",
      "metadata": {
        "id": "7ElgLbcOm1CM",
        "colab_type": "code",
        "colab": {}
      },
      "source": [
        "# train_char_one_hot.head()"
      ],
      "execution_count": 0,
      "outputs": []
    },
    {
      "cell_type": "code",
      "metadata": {
        "id": "E7e9b1un7z8B",
        "colab_type": "code",
        "colab": {}
      },
      "source": [
        "# train_char_one_hot.info()"
      ],
      "execution_count": 0,
      "outputs": []
    },
    {
      "cell_type": "code",
      "metadata": {
        "id": "Jfnlaywv7pPi",
        "colab_type": "code",
        "colab": {}
      },
      "source": [
        "train_char_one_hot_sparse = pd.get_dummies(train_char, sparse=True, dtype=np.uint8)"
      ],
      "execution_count": 0,
      "outputs": []
    },
    {
      "cell_type": "code",
      "metadata": {
        "id": "zGNMIaQgAJbh",
        "colab_type": "code",
        "outputId": "02f75e59-867b-437a-f842-c4f0f7ec07ae",
        "colab": {
          "base_uri": "https://localhost:8080/",
          "height": 352
        }
      },
      "source": [
        "train_char_one_hot_sparse.head()"
      ],
      "execution_count": 0,
      "outputs": [
        {
          "output_type": "execute_result",
          "data": {
            "text/html": [
              "<div>\n",
              "<style scoped>\n",
              "    .dataframe tbody tr th:only-of-type {\n",
              "        vertical-align: middle;\n",
              "    }\n",
              "\n",
              "    .dataframe tbody tr th {\n",
              "        vertical-align: top;\n",
              "    }\n",
              "\n",
              "    .dataframe thead th {\n",
              "        text-align: right;\n",
              "    }\n",
              "</style>\n",
              "<table border=\"1\" class=\"dataframe\">\n",
              "  <thead>\n",
              "    <tr style=\"text-align: right;\">\n",
              "      <th></th>\n",
              "      <th>Object_Description_\"Building Purchase, Construction Or Improvements\"</th>\n",
              "      <th>Object_Description_*******SUSPENSE*******</th>\n",
              "      <th>Object_Description_ADDITIONAL INCOME ALLOWANCE</th>\n",
              "      <th>Object_Description_ADDITIONAL/EXTRA DUTY PAY/STIP</th>\n",
              "      <th>Object_Description_ADMINISTRATIVE FEES</th>\n",
              "      <th>Object_Description_ADMINISTRATIVE PREMIUM</th>\n",
              "      <th>Object_Description_ADMINISTRATOR</th>\n",
              "      <th>Object_Description_ADULT PART TIME</th>\n",
              "      <th>Object_Description_ADVERTISING</th>\n",
              "      <th>Object_Description_AIDES AND PARAPROFESSIONALS</th>\n",
              "      <th>Object_Description_ALL OTHER SUPPLEMENTS</th>\n",
              "      <th>Object_Description_ARCHITECTURAL&amp;ENGINEERING FEES</th>\n",
              "      <th>Object_Description_ATHLETIC SUPPLEMENTS</th>\n",
              "      <th>Object_Description_ATHLETICS PERSONNEL</th>\n",
              "      <th>Object_Description_ATTORNEY FEES</th>\n",
              "      <th>Object_Description_AUDIO VISUAL MATERIALS</th>\n",
              "      <th>Object_Description_AUDIT FEES</th>\n",
              "      <th>Object_Description_AUDIT SERVICES</th>\n",
              "      <th>Object_Description_AUTO ALLOWANCE</th>\n",
              "      <th>Object_Description_Accident Insurance - Student Activity Participants</th>\n",
              "      <th>Object_Description_Advertising</th>\n",
              "      <th>Object_Description_Awards/Prizes for Competition</th>\n",
              "      <th>Object_Description_BANKING SERVICE FEES</th>\n",
              "      <th>Object_Description_BOARD MEMBERS AND ATTORNEYS</th>\n",
              "      <th>Object_Description_BONUS PAY</th>\n",
              "      <th>Object_Description_BONUSES</th>\n",
              "      <th>Object_Description_BOOKS (OTHER THAN TEXTBOOKS) AND PERIODICALS</th>\n",
              "      <th>Object_Description_BOOKS AND PERIODICALS</th>\n",
              "      <th>Object_Description_BOTTLED GAS</th>\n",
              "      <th>Object_Description_BOTTLED GAS</th>\n",
              "      <th>Object_Description_BUILDING ACQUISITION, CONSTRUCTION AND IMPROVEMENT</th>\n",
              "      <th>Object_Description_BUILDINGS</th>\n",
              "      <th>Object_Description_BUILDINGS *</th>\n",
              "      <th>Object_Description_BUILDINGS AND FIXED EQUIPMENT</th>\n",
              "      <th>Object_Description_BUS DRIVERS</th>\n",
              "      <th>Object_Description_BUSES</th>\n",
              "      <th>Object_Description_Bakery Products</th>\n",
              "      <th>Object_Description_Bank Charges</th>\n",
              "      <th>Object_Description_Benefits and Claims</th>\n",
              "      <th>Object_Description_Bond Principal</th>\n",
              "      <th>...</th>\n",
              "      <th>Text_1_UNIV</th>\n",
              "      <th>Text_1_UNIV  STE</th>\n",
              "      <th>Text_1_UNIV HEALTH -</th>\n",
              "      <th>Text_1_UNIV HOSPITALS HEALTH SYS</th>\n",
              "      <th>Text_1_UNIV NEXT STEP</th>\n",
              "      <th>Text_1_UNIV PRE-K, PARENT NEEDS</th>\n",
              "      <th>Text_1_UNIVERSITY</th>\n",
              "      <th>Text_1_UNIVERSITY - P.D.</th>\n",
              "      <th>Text_1_UPK - ITEMAD FY</th>\n",
              "      <th>Text_1_UPK ITEMAD</th>\n",
              "      <th>Text_1_UPK MARION STERLING</th>\n",
              "      <th>Text_1_USING PHONICS/MCGINTY</th>\n",
              "      <th>Text_1_VARIOUS-ARTS ED-DRUMLINE</th>\n",
              "      <th>Text_1_VARIOUS-JOHN HAY SCHOLAR</th>\n",
              "      <th>Text_1_VARIOUS-UNIFORMS CAMPAIGN</th>\n",
              "      <th>Text_1_VIRTUAL INSTRUCTION PGM</th>\n",
              "      <th>Text_1_VOC &amp; CAREER TRANSITION</th>\n",
              "      <th>Text_1_VOC ED TECH MATCH</th>\n",
              "      <th>Text_1_VOCATIONAL EDUCATION</th>\n",
              "      <th>Text_1_VOCATIONAL EDUCATION</th>\n",
              "      <th>Text_1_VOCATIONAL EQUIPMENT</th>\n",
              "      <th>Text_1_VOLUNTARY PRE-K ASSESSMENT</th>\n",
              "      <th>Text_1_VOLUNTEER/FINGERPRINTING PROG</th>\n",
              "      <th>Text_1_VPK</th>\n",
              "      <th>Text_1_VPK SUMMER</th>\n",
              "      <th>Text_1_Vision &amp; Hearing Services</th>\n",
              "      <th>Text_1_WAITING TIME</th>\n",
              "      <th>Text_1_WAL-MART/SAM'S CLUB FOUND</th>\n",
              "      <th>Text_1_WARM HANDS READING BOOKS</th>\n",
              "      <th>Text_1_WELLNESS BLOCK</th>\n",
              "      <th>Text_1_WELLNESS BLOCK GRANT</th>\n",
              "      <th>Text_1_WELLNESS BLOCK GRANT</th>\n",
              "      <th>Text_1_WORKERS' COMP OFFICE</th>\n",
              "      <th>Text_1_WORKFORCE INVESTMENT ACT</th>\n",
              "      <th>Text_1_WORKSHOP</th>\n",
              "      <th>Text_1_WirelessContvty-Host</th>\n",
              "      <th>Text_1_YEAR ROUND YOUTH TRAINING</th>\n",
              "      <th>Text_1_YOUTH SERVICES</th>\n",
              "      <th>Text_1_Youth Endowment of East ITEMFF</th>\n",
              "      <th>Text_1_ZOO-NE OH ENVIRON</th>\n",
              "    </tr>\n",
              "    <tr>\n",
              "      <th>Unnamed: 0</th>\n",
              "      <th></th>\n",
              "      <th></th>\n",
              "      <th></th>\n",
              "      <th></th>\n",
              "      <th></th>\n",
              "      <th></th>\n",
              "      <th></th>\n",
              "      <th></th>\n",
              "      <th></th>\n",
              "      <th></th>\n",
              "      <th></th>\n",
              "      <th></th>\n",
              "      <th></th>\n",
              "      <th></th>\n",
              "      <th></th>\n",
              "      <th></th>\n",
              "      <th></th>\n",
              "      <th></th>\n",
              "      <th></th>\n",
              "      <th></th>\n",
              "      <th></th>\n",
              "      <th></th>\n",
              "      <th></th>\n",
              "      <th></th>\n",
              "      <th></th>\n",
              "      <th></th>\n",
              "      <th></th>\n",
              "      <th></th>\n",
              "      <th></th>\n",
              "      <th></th>\n",
              "      <th></th>\n",
              "      <th></th>\n",
              "      <th></th>\n",
              "      <th></th>\n",
              "      <th></th>\n",
              "      <th></th>\n",
              "      <th></th>\n",
              "      <th></th>\n",
              "      <th></th>\n",
              "      <th></th>\n",
              "      <th></th>\n",
              "      <th></th>\n",
              "      <th></th>\n",
              "      <th></th>\n",
              "      <th></th>\n",
              "      <th></th>\n",
              "      <th></th>\n",
              "      <th></th>\n",
              "      <th></th>\n",
              "      <th></th>\n",
              "      <th></th>\n",
              "      <th></th>\n",
              "      <th></th>\n",
              "      <th></th>\n",
              "      <th></th>\n",
              "      <th></th>\n",
              "      <th></th>\n",
              "      <th></th>\n",
              "      <th></th>\n",
              "      <th></th>\n",
              "      <th></th>\n",
              "      <th></th>\n",
              "      <th></th>\n",
              "      <th></th>\n",
              "      <th></th>\n",
              "      <th></th>\n",
              "      <th></th>\n",
              "      <th></th>\n",
              "      <th></th>\n",
              "      <th></th>\n",
              "      <th></th>\n",
              "      <th></th>\n",
              "      <th></th>\n",
              "      <th></th>\n",
              "      <th></th>\n",
              "      <th></th>\n",
              "      <th></th>\n",
              "      <th></th>\n",
              "      <th></th>\n",
              "      <th></th>\n",
              "      <th></th>\n",
              "    </tr>\n",
              "  </thead>\n",
              "  <tbody>\n",
              "    <tr>\n",
              "      <th>134338</th>\n",
              "      <td>0</td>\n",
              "      <td>0</td>\n",
              "      <td>0</td>\n",
              "      <td>0</td>\n",
              "      <td>0</td>\n",
              "      <td>0</td>\n",
              "      <td>0</td>\n",
              "      <td>0</td>\n",
              "      <td>0</td>\n",
              "      <td>0</td>\n",
              "      <td>0</td>\n",
              "      <td>0</td>\n",
              "      <td>0</td>\n",
              "      <td>0</td>\n",
              "      <td>0</td>\n",
              "      <td>0</td>\n",
              "      <td>0</td>\n",
              "      <td>0</td>\n",
              "      <td>0</td>\n",
              "      <td>0</td>\n",
              "      <td>0</td>\n",
              "      <td>0</td>\n",
              "      <td>0</td>\n",
              "      <td>0</td>\n",
              "      <td>0</td>\n",
              "      <td>0</td>\n",
              "      <td>0</td>\n",
              "      <td>0</td>\n",
              "      <td>0</td>\n",
              "      <td>0</td>\n",
              "      <td>0</td>\n",
              "      <td>0</td>\n",
              "      <td>0</td>\n",
              "      <td>0</td>\n",
              "      <td>0</td>\n",
              "      <td>0</td>\n",
              "      <td>0</td>\n",
              "      <td>0</td>\n",
              "      <td>0</td>\n",
              "      <td>0</td>\n",
              "      <td>...</td>\n",
              "      <td>0</td>\n",
              "      <td>0</td>\n",
              "      <td>0</td>\n",
              "      <td>0</td>\n",
              "      <td>0</td>\n",
              "      <td>0</td>\n",
              "      <td>0</td>\n",
              "      <td>0</td>\n",
              "      <td>0</td>\n",
              "      <td>0</td>\n",
              "      <td>0</td>\n",
              "      <td>0</td>\n",
              "      <td>0</td>\n",
              "      <td>0</td>\n",
              "      <td>0</td>\n",
              "      <td>0</td>\n",
              "      <td>0</td>\n",
              "      <td>0</td>\n",
              "      <td>0</td>\n",
              "      <td>0</td>\n",
              "      <td>0</td>\n",
              "      <td>0</td>\n",
              "      <td>0</td>\n",
              "      <td>0</td>\n",
              "      <td>0</td>\n",
              "      <td>0</td>\n",
              "      <td>0</td>\n",
              "      <td>0</td>\n",
              "      <td>0</td>\n",
              "      <td>0</td>\n",
              "      <td>0</td>\n",
              "      <td>0</td>\n",
              "      <td>0</td>\n",
              "      <td>0</td>\n",
              "      <td>0</td>\n",
              "      <td>0</td>\n",
              "      <td>0</td>\n",
              "      <td>0</td>\n",
              "      <td>0</td>\n",
              "      <td>0</td>\n",
              "    </tr>\n",
              "    <tr>\n",
              "      <th>206341</th>\n",
              "      <td>0</td>\n",
              "      <td>0</td>\n",
              "      <td>0</td>\n",
              "      <td>0</td>\n",
              "      <td>0</td>\n",
              "      <td>0</td>\n",
              "      <td>0</td>\n",
              "      <td>0</td>\n",
              "      <td>0</td>\n",
              "      <td>0</td>\n",
              "      <td>0</td>\n",
              "      <td>0</td>\n",
              "      <td>0</td>\n",
              "      <td>0</td>\n",
              "      <td>0</td>\n",
              "      <td>0</td>\n",
              "      <td>0</td>\n",
              "      <td>0</td>\n",
              "      <td>0</td>\n",
              "      <td>0</td>\n",
              "      <td>0</td>\n",
              "      <td>0</td>\n",
              "      <td>0</td>\n",
              "      <td>0</td>\n",
              "      <td>0</td>\n",
              "      <td>0</td>\n",
              "      <td>0</td>\n",
              "      <td>0</td>\n",
              "      <td>0</td>\n",
              "      <td>0</td>\n",
              "      <td>0</td>\n",
              "      <td>0</td>\n",
              "      <td>0</td>\n",
              "      <td>0</td>\n",
              "      <td>0</td>\n",
              "      <td>0</td>\n",
              "      <td>0</td>\n",
              "      <td>0</td>\n",
              "      <td>0</td>\n",
              "      <td>0</td>\n",
              "      <td>...</td>\n",
              "      <td>0</td>\n",
              "      <td>0</td>\n",
              "      <td>0</td>\n",
              "      <td>0</td>\n",
              "      <td>0</td>\n",
              "      <td>0</td>\n",
              "      <td>0</td>\n",
              "      <td>0</td>\n",
              "      <td>0</td>\n",
              "      <td>0</td>\n",
              "      <td>0</td>\n",
              "      <td>0</td>\n",
              "      <td>0</td>\n",
              "      <td>0</td>\n",
              "      <td>0</td>\n",
              "      <td>0</td>\n",
              "      <td>0</td>\n",
              "      <td>0</td>\n",
              "      <td>0</td>\n",
              "      <td>0</td>\n",
              "      <td>0</td>\n",
              "      <td>0</td>\n",
              "      <td>0</td>\n",
              "      <td>0</td>\n",
              "      <td>0</td>\n",
              "      <td>0</td>\n",
              "      <td>0</td>\n",
              "      <td>0</td>\n",
              "      <td>0</td>\n",
              "      <td>0</td>\n",
              "      <td>0</td>\n",
              "      <td>0</td>\n",
              "      <td>0</td>\n",
              "      <td>0</td>\n",
              "      <td>0</td>\n",
              "      <td>0</td>\n",
              "      <td>0</td>\n",
              "      <td>0</td>\n",
              "      <td>0</td>\n",
              "      <td>0</td>\n",
              "    </tr>\n",
              "    <tr>\n",
              "      <th>326408</th>\n",
              "      <td>0</td>\n",
              "      <td>0</td>\n",
              "      <td>0</td>\n",
              "      <td>0</td>\n",
              "      <td>0</td>\n",
              "      <td>0</td>\n",
              "      <td>0</td>\n",
              "      <td>0</td>\n",
              "      <td>0</td>\n",
              "      <td>0</td>\n",
              "      <td>0</td>\n",
              "      <td>0</td>\n",
              "      <td>0</td>\n",
              "      <td>0</td>\n",
              "      <td>0</td>\n",
              "      <td>0</td>\n",
              "      <td>0</td>\n",
              "      <td>0</td>\n",
              "      <td>0</td>\n",
              "      <td>0</td>\n",
              "      <td>0</td>\n",
              "      <td>0</td>\n",
              "      <td>0</td>\n",
              "      <td>0</td>\n",
              "      <td>0</td>\n",
              "      <td>0</td>\n",
              "      <td>0</td>\n",
              "      <td>0</td>\n",
              "      <td>0</td>\n",
              "      <td>0</td>\n",
              "      <td>0</td>\n",
              "      <td>0</td>\n",
              "      <td>0</td>\n",
              "      <td>0</td>\n",
              "      <td>0</td>\n",
              "      <td>0</td>\n",
              "      <td>0</td>\n",
              "      <td>0</td>\n",
              "      <td>0</td>\n",
              "      <td>0</td>\n",
              "      <td>...</td>\n",
              "      <td>0</td>\n",
              "      <td>0</td>\n",
              "      <td>0</td>\n",
              "      <td>0</td>\n",
              "      <td>0</td>\n",
              "      <td>0</td>\n",
              "      <td>0</td>\n",
              "      <td>0</td>\n",
              "      <td>0</td>\n",
              "      <td>0</td>\n",
              "      <td>0</td>\n",
              "      <td>0</td>\n",
              "      <td>0</td>\n",
              "      <td>0</td>\n",
              "      <td>0</td>\n",
              "      <td>0</td>\n",
              "      <td>0</td>\n",
              "      <td>0</td>\n",
              "      <td>0</td>\n",
              "      <td>0</td>\n",
              "      <td>0</td>\n",
              "      <td>0</td>\n",
              "      <td>0</td>\n",
              "      <td>0</td>\n",
              "      <td>0</td>\n",
              "      <td>0</td>\n",
              "      <td>0</td>\n",
              "      <td>0</td>\n",
              "      <td>0</td>\n",
              "      <td>0</td>\n",
              "      <td>0</td>\n",
              "      <td>0</td>\n",
              "      <td>0</td>\n",
              "      <td>0</td>\n",
              "      <td>0</td>\n",
              "      <td>0</td>\n",
              "      <td>0</td>\n",
              "      <td>0</td>\n",
              "      <td>0</td>\n",
              "      <td>0</td>\n",
              "    </tr>\n",
              "    <tr>\n",
              "      <th>364634</th>\n",
              "      <td>0</td>\n",
              "      <td>0</td>\n",
              "      <td>0</td>\n",
              "      <td>0</td>\n",
              "      <td>0</td>\n",
              "      <td>0</td>\n",
              "      <td>0</td>\n",
              "      <td>0</td>\n",
              "      <td>0</td>\n",
              "      <td>0</td>\n",
              "      <td>0</td>\n",
              "      <td>0</td>\n",
              "      <td>0</td>\n",
              "      <td>0</td>\n",
              "      <td>0</td>\n",
              "      <td>0</td>\n",
              "      <td>0</td>\n",
              "      <td>0</td>\n",
              "      <td>0</td>\n",
              "      <td>0</td>\n",
              "      <td>0</td>\n",
              "      <td>0</td>\n",
              "      <td>0</td>\n",
              "      <td>0</td>\n",
              "      <td>0</td>\n",
              "      <td>0</td>\n",
              "      <td>0</td>\n",
              "      <td>0</td>\n",
              "      <td>0</td>\n",
              "      <td>0</td>\n",
              "      <td>0</td>\n",
              "      <td>0</td>\n",
              "      <td>0</td>\n",
              "      <td>0</td>\n",
              "      <td>0</td>\n",
              "      <td>0</td>\n",
              "      <td>0</td>\n",
              "      <td>0</td>\n",
              "      <td>0</td>\n",
              "      <td>0</td>\n",
              "      <td>...</td>\n",
              "      <td>0</td>\n",
              "      <td>0</td>\n",
              "      <td>0</td>\n",
              "      <td>0</td>\n",
              "      <td>0</td>\n",
              "      <td>0</td>\n",
              "      <td>0</td>\n",
              "      <td>0</td>\n",
              "      <td>0</td>\n",
              "      <td>0</td>\n",
              "      <td>0</td>\n",
              "      <td>0</td>\n",
              "      <td>0</td>\n",
              "      <td>0</td>\n",
              "      <td>0</td>\n",
              "      <td>0</td>\n",
              "      <td>0</td>\n",
              "      <td>0</td>\n",
              "      <td>0</td>\n",
              "      <td>0</td>\n",
              "      <td>0</td>\n",
              "      <td>0</td>\n",
              "      <td>0</td>\n",
              "      <td>0</td>\n",
              "      <td>0</td>\n",
              "      <td>0</td>\n",
              "      <td>0</td>\n",
              "      <td>0</td>\n",
              "      <td>0</td>\n",
              "      <td>0</td>\n",
              "      <td>0</td>\n",
              "      <td>0</td>\n",
              "      <td>0</td>\n",
              "      <td>0</td>\n",
              "      <td>0</td>\n",
              "      <td>0</td>\n",
              "      <td>0</td>\n",
              "      <td>0</td>\n",
              "      <td>0</td>\n",
              "      <td>0</td>\n",
              "    </tr>\n",
              "    <tr>\n",
              "      <th>47683</th>\n",
              "      <td>0</td>\n",
              "      <td>0</td>\n",
              "      <td>0</td>\n",
              "      <td>0</td>\n",
              "      <td>0</td>\n",
              "      <td>0</td>\n",
              "      <td>0</td>\n",
              "      <td>0</td>\n",
              "      <td>0</td>\n",
              "      <td>0</td>\n",
              "      <td>0</td>\n",
              "      <td>0</td>\n",
              "      <td>0</td>\n",
              "      <td>0</td>\n",
              "      <td>0</td>\n",
              "      <td>0</td>\n",
              "      <td>0</td>\n",
              "      <td>0</td>\n",
              "      <td>0</td>\n",
              "      <td>0</td>\n",
              "      <td>0</td>\n",
              "      <td>0</td>\n",
              "      <td>0</td>\n",
              "      <td>0</td>\n",
              "      <td>0</td>\n",
              "      <td>0</td>\n",
              "      <td>0</td>\n",
              "      <td>0</td>\n",
              "      <td>0</td>\n",
              "      <td>0</td>\n",
              "      <td>0</td>\n",
              "      <td>0</td>\n",
              "      <td>0</td>\n",
              "      <td>0</td>\n",
              "      <td>0</td>\n",
              "      <td>0</td>\n",
              "      <td>0</td>\n",
              "      <td>0</td>\n",
              "      <td>0</td>\n",
              "      <td>0</td>\n",
              "      <td>...</td>\n",
              "      <td>0</td>\n",
              "      <td>0</td>\n",
              "      <td>0</td>\n",
              "      <td>0</td>\n",
              "      <td>0</td>\n",
              "      <td>0</td>\n",
              "      <td>0</td>\n",
              "      <td>0</td>\n",
              "      <td>0</td>\n",
              "      <td>0</td>\n",
              "      <td>0</td>\n",
              "      <td>0</td>\n",
              "      <td>0</td>\n",
              "      <td>0</td>\n",
              "      <td>0</td>\n",
              "      <td>0</td>\n",
              "      <td>0</td>\n",
              "      <td>0</td>\n",
              "      <td>0</td>\n",
              "      <td>0</td>\n",
              "      <td>0</td>\n",
              "      <td>0</td>\n",
              "      <td>0</td>\n",
              "      <td>0</td>\n",
              "      <td>0</td>\n",
              "      <td>0</td>\n",
              "      <td>0</td>\n",
              "      <td>0</td>\n",
              "      <td>0</td>\n",
              "      <td>0</td>\n",
              "      <td>0</td>\n",
              "      <td>0</td>\n",
              "      <td>0</td>\n",
              "      <td>0</td>\n",
              "      <td>0</td>\n",
              "      <td>0</td>\n",
              "      <td>0</td>\n",
              "      <td>0</td>\n",
              "      <td>0</td>\n",
              "      <td>0</td>\n",
              "    </tr>\n",
              "  </tbody>\n",
              "</table>\n",
              "<p>5 rows × 8938 columns</p>\n",
              "</div>"
            ],
            "text/plain": [
              "            Object_Description_\"Building Purchase, Construction Or Improvements\"  ...  Text_1_ZOO-NE OH ENVIRON\n",
              "Unnamed: 0                                                                        ...                          \n",
              "134338                                                      0                     ...                         0\n",
              "206341                                                      0                     ...                         0\n",
              "326408                                                      0                     ...                         0\n",
              "364634                                                      0                     ...                         0\n",
              "47683                                                       0                     ...                         0\n",
              "\n",
              "[5 rows x 8938 columns]"
            ]
          },
          "metadata": {
            "tags": []
          },
          "execution_count": 37
        }
      ]
    },
    {
      "cell_type": "code",
      "metadata": {
        "id": "_b9U1wPo7s9J",
        "colab_type": "code",
        "outputId": "e6615a0f-8ac7-4131-b367-825266417a52",
        "colab": {
          "base_uri": "https://localhost:8080/",
          "height": 102
        }
      },
      "source": [
        "train_char_one_hot_sparse.info()"
      ],
      "execution_count": 0,
      "outputs": [
        {
          "output_type": "stream",
          "text": [
            "<class 'pandas.core.sparse.frame.SparseDataFrame'>\n",
            "Int64Index: 400277 entries, 134338 to 415831\n",
            "Columns: 8938 entries, Object_Description_\"Building Purchase, Construction Or Improvements\" to Text_1_ZOO-NE OH ENVIRON\n",
            "dtypes: Sparse[uint8, 0](8938)\n",
            "memory usage: 27.1 MB\n"
          ],
          "name": "stdout"
        }
      ]
    },
    {
      "cell_type": "markdown",
      "metadata": {
        "id": "tp0kATrkn9YU",
        "colab_type": "text"
      },
      "source": [
        "### concat numeric features with fill na and standard scaling"
      ]
    },
    {
      "cell_type": "code",
      "metadata": {
        "id": "Btrp8INXoGM7",
        "colab_type": "code",
        "colab": {}
      },
      "source": [
        ""
      ],
      "execution_count": 0,
      "outputs": []
    },
    {
      "cell_type": "code",
      "metadata": {
        "id": "Jv-SDcIioC6l",
        "colab_type": "code",
        "outputId": "33e51735-d7c5-4680-c53d-ebab943cdfe8",
        "colab": {
          "base_uri": "https://localhost:8080/",
          "height": 235
        }
      },
      "source": [
        "train_float.head()"
      ],
      "execution_count": 0,
      "outputs": [
        {
          "output_type": "execute_result",
          "data": {
            "text/html": [
              "<div>\n",
              "<style scoped>\n",
              "    .dataframe tbody tr th:only-of-type {\n",
              "        vertical-align: middle;\n",
              "    }\n",
              "\n",
              "    .dataframe tbody tr th {\n",
              "        vertical-align: top;\n",
              "    }\n",
              "\n",
              "    .dataframe thead th {\n",
              "        text-align: right;\n",
              "    }\n",
              "</style>\n",
              "<table border=\"1\" class=\"dataframe\">\n",
              "  <thead>\n",
              "    <tr style=\"text-align: right;\">\n",
              "      <th></th>\n",
              "      <th>FTE</th>\n",
              "      <th>Total</th>\n",
              "    </tr>\n",
              "    <tr>\n",
              "      <th>Unnamed: 0</th>\n",
              "      <th></th>\n",
              "      <th></th>\n",
              "    </tr>\n",
              "  </thead>\n",
              "  <tbody>\n",
              "    <tr>\n",
              "      <th>134338</th>\n",
              "      <td>1.0</td>\n",
              "      <td>50471.810</td>\n",
              "    </tr>\n",
              "    <tr>\n",
              "      <th>206341</th>\n",
              "      <td>NaN</td>\n",
              "      <td>3477.860</td>\n",
              "    </tr>\n",
              "    <tr>\n",
              "      <th>326408</th>\n",
              "      <td>1.0</td>\n",
              "      <td>62237.130</td>\n",
              "    </tr>\n",
              "    <tr>\n",
              "      <th>364634</th>\n",
              "      <td>NaN</td>\n",
              "      <td>22.300</td>\n",
              "    </tr>\n",
              "    <tr>\n",
              "      <th>47683</th>\n",
              "      <td>NaN</td>\n",
              "      <td>54.166</td>\n",
              "    </tr>\n",
              "  </tbody>\n",
              "</table>\n",
              "</div>"
            ],
            "text/plain": [
              "            FTE      Total\n",
              "Unnamed: 0                \n",
              "134338      1.0  50471.810\n",
              "206341      NaN   3477.860\n",
              "326408      1.0  62237.130\n",
              "364634      NaN     22.300\n",
              "47683       NaN     54.166"
            ]
          },
          "metadata": {
            "tags": []
          },
          "execution_count": 40
        }
      ]
    },
    {
      "cell_type": "code",
      "metadata": {
        "id": "QuMGBSiZDKVU",
        "colab_type": "code",
        "colab": {}
      },
      "source": [
        "train_x_index = train_float.index"
      ],
      "execution_count": 0,
      "outputs": []
    },
    {
      "cell_type": "code",
      "metadata": {
        "id": "otog6m3t3aFc",
        "colab_type": "code",
        "outputId": "fe6d1025-a6ac-4b4d-86d2-9618ba31e24e",
        "colab": {
          "base_uri": "https://localhost:8080/",
          "height": 34
        }
      },
      "source": [
        "train_float.FTE.mean()"
      ],
      "execution_count": 0,
      "outputs": [
        {
          "output_type": "execute_result",
          "data": {
            "text/plain": [
              "0.4267939847030696"
            ]
          },
          "metadata": {
            "tags": []
          },
          "execution_count": 42
        }
      ]
    },
    {
      "cell_type": "code",
      "metadata": {
        "id": "lzMekq963fiq",
        "colab_type": "code",
        "outputId": "a15b9762-9ad2-4ab8-8cf4-e869ef2e9b35",
        "colab": {
          "base_uri": "https://localhost:8080/",
          "height": 34
        }
      },
      "source": [
        "train_float.Total.mean()"
      ],
      "execution_count": 0,
      "outputs": [
        {
          "output_type": "execute_result",
          "data": {
            "text/plain": [
              "13105.85682779094"
            ]
          },
          "metadata": {
            "tags": []
          },
          "execution_count": 43
        }
      ]
    },
    {
      "cell_type": "code",
      "metadata": {
        "id": "w4LsRCBnoErM",
        "colab_type": "code",
        "outputId": "debd1182-8ca1-4bc6-8e69-d52bc8a37841",
        "colab": {
          "base_uri": "https://localhost:8080/",
          "height": 102
        }
      },
      "source": [
        "train_float.FTE.fillna(train_float.FTE.mean(), inplace=True)\n",
        "train_float.Total.fillna(train_float.Total.mean(), inplace=True)"
      ],
      "execution_count": 0,
      "outputs": [
        {
          "output_type": "stream",
          "text": [
            "/usr/local/lib/python3.6/dist-packages/pandas/core/generic.py:6130: SettingWithCopyWarning: \n",
            "A value is trying to be set on a copy of a slice from a DataFrame\n",
            "\n",
            "See the caveats in the documentation: http://pandas.pydata.org/pandas-docs/stable/indexing.html#indexing-view-versus-copy\n",
            "  self._update_inplace(new_data)\n"
          ],
          "name": "stderr"
        }
      ]
    },
    {
      "cell_type": "code",
      "metadata": {
        "id": "Z51ADJzp3nWC",
        "colab_type": "code",
        "outputId": "fa37961b-20d1-49ca-bab9-7304484dc2c8",
        "colab": {
          "base_uri": "https://localhost:8080/",
          "height": 68
        }
      },
      "source": [
        "train_float.isna().sum()"
      ],
      "execution_count": 0,
      "outputs": [
        {
          "output_type": "execute_result",
          "data": {
            "text/plain": [
              "FTE      0\n",
              "Total    0\n",
              "dtype: int64"
            ]
          },
          "metadata": {
            "tags": []
          },
          "execution_count": 45
        }
      ]
    },
    {
      "cell_type": "code",
      "metadata": {
        "id": "0jtWj073NXQ3",
        "colab_type": "code",
        "outputId": "a14ab954-cf08-4509-ac47-0e1cb881b7fd",
        "colab": {
          "base_uri": "https://localhost:8080/",
          "height": 136
        }
      },
      "source": [
        "train_float.values"
      ],
      "execution_count": 0,
      "outputs": [
        {
          "output_type": "execute_result",
          "data": {
            "text/plain": [
              "array([[1.00000000e+00, 5.04718100e+04],\n",
              "       [4.26793985e-01, 3.47786000e+03],\n",
              "       [1.00000000e+00, 6.22371300e+04],\n",
              "       ...,\n",
              "       [1.00000000e+00, 4.90229000e+03],\n",
              "       [4.26793985e-01, 4.02029000e+03],\n",
              "       [4.26793985e-01, 4.65300000e+01]])"
            ]
          },
          "metadata": {
            "tags": []
          },
          "execution_count": 46
        }
      ]
    },
    {
      "cell_type": "code",
      "metadata": {
        "id": "6ZXaxK2-30g6",
        "colab_type": "code",
        "colab": {}
      },
      "source": [
        "scaler = StandardScaler()"
      ],
      "execution_count": 0,
      "outputs": []
    },
    {
      "cell_type": "code",
      "metadata": {
        "id": "W-NsZG_h4C2C",
        "colab_type": "code",
        "colab": {}
      },
      "source": [
        "train_float_scaled = scaler.fit_transform(train_float.values)"
      ],
      "execution_count": 0,
      "outputs": []
    },
    {
      "cell_type": "code",
      "metadata": {
        "id": "d-cAzlSz30ei",
        "colab_type": "code",
        "colab": {}
      },
      "source": [
        "train_float_scaled_df = pd.DataFrame(train_float_scaled)"
      ],
      "execution_count": 0,
      "outputs": []
    },
    {
      "cell_type": "code",
      "metadata": {
        "id": "LEgO3c9V4UAh",
        "colab_type": "code",
        "colab": {}
      },
      "source": [
        "train_float_scaled_df.columns = ['FTE', 'Total']"
      ],
      "execution_count": 0,
      "outputs": []
    },
    {
      "cell_type": "code",
      "metadata": {
        "id": "Ub7secey4YDi",
        "colab_type": "code",
        "outputId": "3067545b-e437-440e-82b7-00a042928811",
        "colab": {
          "base_uri": "https://localhost:8080/",
          "height": 204
        }
      },
      "source": [
        "train_float_scaled_df.head()"
      ],
      "execution_count": 0,
      "outputs": [
        {
          "output_type": "execute_result",
          "data": {
            "text/html": [
              "<div>\n",
              "<style scoped>\n",
              "    .dataframe tbody tr th:only-of-type {\n",
              "        vertical-align: middle;\n",
              "    }\n",
              "\n",
              "    .dataframe tbody tr th {\n",
              "        vertical-align: top;\n",
              "    }\n",
              "\n",
              "    .dataframe thead th {\n",
              "        text-align: right;\n",
              "    }\n",
              "</style>\n",
              "<table border=\"1\" class=\"dataframe\">\n",
              "  <thead>\n",
              "    <tr style=\"text-align: right;\">\n",
              "      <th></th>\n",
              "      <th>FTE</th>\n",
              "      <th>Total</th>\n",
              "    </tr>\n",
              "  </thead>\n",
              "  <tbody>\n",
              "    <tr>\n",
              "      <th>0</th>\n",
              "      <td>1.780716e+00</td>\n",
              "      <td>0.102058</td>\n",
              "    </tr>\n",
              "    <tr>\n",
              "      <th>1</th>\n",
              "      <td>-6.760054e-14</td>\n",
              "      <td>-0.026297</td>\n",
              "    </tr>\n",
              "    <tr>\n",
              "      <th>2</th>\n",
              "      <td>1.780716e+00</td>\n",
              "      <td>0.134193</td>\n",
              "    </tr>\n",
              "    <tr>\n",
              "      <th>3</th>\n",
              "      <td>-6.760054e-14</td>\n",
              "      <td>-0.035735</td>\n",
              "    </tr>\n",
              "    <tr>\n",
              "      <th>4</th>\n",
              "      <td>-6.760054e-14</td>\n",
              "      <td>-0.035648</td>\n",
              "    </tr>\n",
              "  </tbody>\n",
              "</table>\n",
              "</div>"
            ],
            "text/plain": [
              "            FTE     Total\n",
              "0  1.780716e+00  0.102058\n",
              "1 -6.760054e-14 -0.026297\n",
              "2  1.780716e+00  0.134193\n",
              "3 -6.760054e-14 -0.035735\n",
              "4 -6.760054e-14 -0.035648"
            ]
          },
          "metadata": {
            "tags": []
          },
          "execution_count": 51
        }
      ]
    },
    {
      "cell_type": "code",
      "metadata": {
        "id": "Nwzg_9_hDFTI",
        "colab_type": "code",
        "colab": {}
      },
      "source": [
        "train_float_scaled_df.index = train_x_index"
      ],
      "execution_count": 0,
      "outputs": []
    },
    {
      "cell_type": "code",
      "metadata": {
        "id": "EJtHzGOFDTJA",
        "colab_type": "code",
        "outputId": "b6d20f1d-6d67-41c9-8756-5936d8bfb6b4",
        "colab": {
          "base_uri": "https://localhost:8080/",
          "height": 119
        }
      },
      "source": [
        "train_float_scaled_df.index"
      ],
      "execution_count": 0,
      "outputs": [
        {
          "output_type": "execute_result",
          "data": {
            "text/plain": [
              "Int64Index([134338, 206341, 326408, 364634,  47683, 229958, 417668, 126378,\n",
              "            275539,  85262,\n",
              "            ...\n",
              "            397424, 375092, 220181, 307423,  46691, 109283, 102430, 413949,\n",
              "            433672, 415831],\n",
              "           dtype='int64', name='Unnamed: 0', length=400277)"
            ]
          },
          "metadata": {
            "tags": []
          },
          "execution_count": 53
        }
      ]
    },
    {
      "cell_type": "code",
      "metadata": {
        "id": "s9kv4PYrAUB1",
        "colab_type": "code",
        "outputId": "b0e5cba7-f464-4698-f36c-f9f37f502fbc",
        "colab": {
          "base_uri": "https://localhost:8080/",
          "height": 34
        }
      },
      "source": [
        "train_float_scaled_df.shape"
      ],
      "execution_count": 0,
      "outputs": [
        {
          "output_type": "execute_result",
          "data": {
            "text/plain": [
              "(400277, 2)"
            ]
          },
          "metadata": {
            "tags": []
          },
          "execution_count": 56
        }
      ]
    },
    {
      "cell_type": "code",
      "metadata": {
        "id": "At-pQWcNP1F3",
        "colab_type": "code",
        "colab": {}
      },
      "source": [
        "train_float_scaled_array = train_float_scaled_df.values"
      ],
      "execution_count": 0,
      "outputs": []
    },
    {
      "cell_type": "code",
      "metadata": {
        "id": "RqMixWVqAW3p",
        "colab_type": "code",
        "outputId": "52e06ff3-d4b4-4b45-dddb-2a7d27d3111b",
        "colab": {
          "base_uri": "https://localhost:8080/",
          "height": 34
        }
      },
      "source": [
        "train_char_one_hot_sparse.shape"
      ],
      "execution_count": 0,
      "outputs": [
        {
          "output_type": "execute_result",
          "data": {
            "text/plain": [
              "(400277, 8938)"
            ]
          },
          "metadata": {
            "tags": []
          },
          "execution_count": 62
        }
      ]
    },
    {
      "cell_type": "code",
      "metadata": {
        "id": "WsHlKRs7QKK6",
        "colab_type": "code",
        "outputId": "af716123-45cb-4d32-a0aa-3bf58529bba6",
        "colab": {
          "base_uri": "https://localhost:8080/",
          "height": 102
        }
      },
      "source": [
        "train_char_one_hot_sparse.info()"
      ],
      "execution_count": 0,
      "outputs": [
        {
          "output_type": "stream",
          "text": [
            "<class 'pandas.core.sparse.frame.SparseDataFrame'>\n",
            "Int64Index: 400277 entries, 134338 to 415831\n",
            "Columns: 8938 entries, Object_Description_\"Building Purchase, Construction Or Improvements\" to Text_1_ZOO-NE OH ENVIRON\n",
            "dtypes: Sparse[uint8, 0](8938)\n",
            "memory usage: 27.1 MB\n"
          ],
          "name": "stdout"
        }
      ]
    },
    {
      "cell_type": "markdown",
      "metadata": {
        "id": "bbx7dmw-QPx7",
        "colab_type": "text"
      },
      "source": [
        "Feature Union"
      ]
    },
    {
      "cell_type": "code",
      "metadata": {
        "id": "sIjlidkdQPen",
        "colab_type": "code",
        "colab": {}
      },
      "source": [
        ""
      ],
      "execution_count": 0,
      "outputs": []
    },
    {
      "cell_type": "code",
      "metadata": {
        "id": "_i_0f2FRRLE3",
        "colab_type": "code",
        "outputId": "c338e86c-ae29-48a0-87de-8db85e461860",
        "colab": {
          "base_uri": "https://localhost:8080/",
          "height": 377
        }
      },
      "source": [
        "train_df.head()"
      ],
      "execution_count": 0,
      "outputs": [
        {
          "output_type": "execute_result",
          "data": {
            "text/html": [
              "<div>\n",
              "<style scoped>\n",
              "    .dataframe tbody tr th:only-of-type {\n",
              "        vertical-align: middle;\n",
              "    }\n",
              "\n",
              "    .dataframe tbody tr th {\n",
              "        vertical-align: top;\n",
              "    }\n",
              "\n",
              "    .dataframe thead th {\n",
              "        text-align: right;\n",
              "    }\n",
              "</style>\n",
              "<table border=\"1\" class=\"dataframe\">\n",
              "  <thead>\n",
              "    <tr style=\"text-align: right;\">\n",
              "      <th></th>\n",
              "      <th>Unnamed: 0</th>\n",
              "      <th>Function</th>\n",
              "      <th>Use</th>\n",
              "      <th>Sharing</th>\n",
              "      <th>Reporting</th>\n",
              "      <th>Student_Type</th>\n",
              "      <th>Position_Type</th>\n",
              "      <th>Object_Type</th>\n",
              "      <th>Pre_K</th>\n",
              "      <th>Operating_Status</th>\n",
              "      <th>Object_Description</th>\n",
              "      <th>Text_2</th>\n",
              "      <th>SubFund_Description</th>\n",
              "      <th>Job_Title_Description</th>\n",
              "      <th>Text_3</th>\n",
              "      <th>Text_4</th>\n",
              "      <th>Sub_Object_Description</th>\n",
              "      <th>Location_Description</th>\n",
              "      <th>FTE</th>\n",
              "      <th>Function_Description</th>\n",
              "      <th>Facility_or_Department</th>\n",
              "      <th>Position_Extra</th>\n",
              "      <th>Total</th>\n",
              "      <th>Program_Description</th>\n",
              "      <th>Fund_Description</th>\n",
              "      <th>Text_1</th>\n",
              "    </tr>\n",
              "  </thead>\n",
              "  <tbody>\n",
              "    <tr>\n",
              "      <th>0</th>\n",
              "      <td>134338</td>\n",
              "      <td>Teacher Compensation</td>\n",
              "      <td>Instruction</td>\n",
              "      <td>School Reported</td>\n",
              "      <td>School</td>\n",
              "      <td>NO_LABEL</td>\n",
              "      <td>Teacher</td>\n",
              "      <td>NO_LABEL</td>\n",
              "      <td>NO_LABEL</td>\n",
              "      <td>PreK-12 Operating</td>\n",
              "      <td>NaN</td>\n",
              "      <td>NaN</td>\n",
              "      <td>NaN</td>\n",
              "      <td>Teacher-Elementary</td>\n",
              "      <td>NaN</td>\n",
              "      <td>NaN</td>\n",
              "      <td>NaN</td>\n",
              "      <td>NaN</td>\n",
              "      <td>1.0</td>\n",
              "      <td>NaN</td>\n",
              "      <td>NaN</td>\n",
              "      <td>KINDERGARTEN</td>\n",
              "      <td>50471.810</td>\n",
              "      <td>KINDERGARTEN</td>\n",
              "      <td>General Fund</td>\n",
              "      <td>NaN</td>\n",
              "    </tr>\n",
              "    <tr>\n",
              "      <th>1</th>\n",
              "      <td>206341</td>\n",
              "      <td>NO_LABEL</td>\n",
              "      <td>NO_LABEL</td>\n",
              "      <td>NO_LABEL</td>\n",
              "      <td>NO_LABEL</td>\n",
              "      <td>NO_LABEL</td>\n",
              "      <td>NO_LABEL</td>\n",
              "      <td>NO_LABEL</td>\n",
              "      <td>NO_LABEL</td>\n",
              "      <td>Non-Operating</td>\n",
              "      <td>CONTRACTOR SERVICES</td>\n",
              "      <td>BOND EXPENDITURES</td>\n",
              "      <td>BUILDING FUND</td>\n",
              "      <td>(blank)</td>\n",
              "      <td>Regular</td>\n",
              "      <td>NaN</td>\n",
              "      <td>NaN</td>\n",
              "      <td>NaN</td>\n",
              "      <td>NaN</td>\n",
              "      <td>RGN  GOB</td>\n",
              "      <td>NaN</td>\n",
              "      <td>UNDESIGNATED</td>\n",
              "      <td>3477.860</td>\n",
              "      <td>BUILDING IMPROVEMENT SERVICES</td>\n",
              "      <td>NaN</td>\n",
              "      <td>BUILDING IMPROVEMENT SERVICES</td>\n",
              "    </tr>\n",
              "    <tr>\n",
              "      <th>2</th>\n",
              "      <td>326408</td>\n",
              "      <td>Teacher Compensation</td>\n",
              "      <td>Instruction</td>\n",
              "      <td>School Reported</td>\n",
              "      <td>School</td>\n",
              "      <td>Unspecified</td>\n",
              "      <td>Teacher</td>\n",
              "      <td>Base Salary/Compensation</td>\n",
              "      <td>Non PreK</td>\n",
              "      <td>PreK-12 Operating</td>\n",
              "      <td>Personal Services - Teachers</td>\n",
              "      <td>NaN</td>\n",
              "      <td>NaN</td>\n",
              "      <td>TCHER 2ND GRADE</td>\n",
              "      <td>NaN</td>\n",
              "      <td>Regular Instruction</td>\n",
              "      <td>NaN</td>\n",
              "      <td>NaN</td>\n",
              "      <td>1.0</td>\n",
              "      <td>NaN</td>\n",
              "      <td>NaN</td>\n",
              "      <td>TEACHER</td>\n",
              "      <td>62237.130</td>\n",
              "      <td>Instruction - Regular</td>\n",
              "      <td>General Purpose School</td>\n",
              "      <td>NaN</td>\n",
              "    </tr>\n",
              "    <tr>\n",
              "      <th>3</th>\n",
              "      <td>364634</td>\n",
              "      <td>Substitute Compensation</td>\n",
              "      <td>Instruction</td>\n",
              "      <td>School Reported</td>\n",
              "      <td>School</td>\n",
              "      <td>Unspecified</td>\n",
              "      <td>Substitute</td>\n",
              "      <td>Benefits</td>\n",
              "      <td>NO_LABEL</td>\n",
              "      <td>PreK-12 Operating</td>\n",
              "      <td>EMPLOYEE BENEFITS</td>\n",
              "      <td>TEACHER SUBS</td>\n",
              "      <td>GENERAL FUND</td>\n",
              "      <td>Teacher, Short Term Sub</td>\n",
              "      <td>Regular</td>\n",
              "      <td>NaN</td>\n",
              "      <td>NaN</td>\n",
              "      <td>NaN</td>\n",
              "      <td>NaN</td>\n",
              "      <td>UNALLOC BUDGETS/SCHOOLS</td>\n",
              "      <td>NaN</td>\n",
              "      <td>PROFESSIONAL-INSTRUCTIONAL</td>\n",
              "      <td>22.300</td>\n",
              "      <td>GENERAL MIDDLE/JUNIOR HIGH SCH</td>\n",
              "      <td>NaN</td>\n",
              "      <td>REGULAR INSTRUCTION</td>\n",
              "    </tr>\n",
              "    <tr>\n",
              "      <th>4</th>\n",
              "      <td>47683</td>\n",
              "      <td>Substitute Compensation</td>\n",
              "      <td>Instruction</td>\n",
              "      <td>School Reported</td>\n",
              "      <td>School</td>\n",
              "      <td>Unspecified</td>\n",
              "      <td>Teacher</td>\n",
              "      <td>Substitute Compensation</td>\n",
              "      <td>NO_LABEL</td>\n",
              "      <td>PreK-12 Operating</td>\n",
              "      <td>TEACHER COVERAGE FOR TEACHER</td>\n",
              "      <td>TEACHER SUBS</td>\n",
              "      <td>GENERAL FUND</td>\n",
              "      <td>Teacher, Secondary (High)</td>\n",
              "      <td>Alternative</td>\n",
              "      <td>NaN</td>\n",
              "      <td>NaN</td>\n",
              "      <td>NaN</td>\n",
              "      <td>NaN</td>\n",
              "      <td>NON-PROJECT</td>\n",
              "      <td>NaN</td>\n",
              "      <td>PROFESSIONAL-INSTRUCTIONAL</td>\n",
              "      <td>54.166</td>\n",
              "      <td>GENERAL HIGH SCHOOL EDUCATION</td>\n",
              "      <td>NaN</td>\n",
              "      <td>REGULAR INSTRUCTION</td>\n",
              "    </tr>\n",
              "  </tbody>\n",
              "</table>\n",
              "</div>"
            ],
            "text/plain": [
              "   Unnamed: 0  ...                         Text_1\n",
              "0      134338  ...                            NaN\n",
              "1      206341  ...  BUILDING IMPROVEMENT SERVICES\n",
              "2      326408  ...                            NaN\n",
              "3      364634  ...            REGULAR INSTRUCTION\n",
              "4       47683  ...            REGULAR INSTRUCTION\n",
              "\n",
              "[5 rows x 26 columns]"
            ]
          },
          "metadata": {
            "tags": []
          },
          "execution_count": 67
        }
      ]
    },
    {
      "cell_type": "code",
      "metadata": {
        "id": "oEXjuv-NRWu2",
        "colab_type": "code",
        "colab": {}
      },
      "source": [
        ""
      ],
      "execution_count": 0,
      "outputs": []
    },
    {
      "cell_type": "code",
      "metadata": {
        "id": "KklHML6R_pOD",
        "colab_type": "code",
        "colab": {}
      },
      "source": [
        "full_merge = pd.merge(train_float_scaled_df, train_char_one_hot_sparse, left_index=True, right_index=True)"
      ],
      "execution_count": 0,
      "outputs": []
    },
    {
      "cell_type": "code",
      "metadata": {
        "id": "ENnsQh7BC-7x",
        "colab_type": "code",
        "outputId": "3c95769b-4853-4849-d834-7f30f0975c9f",
        "colab": {
          "base_uri": "https://localhost:8080/",
          "height": 34
        }
      },
      "source": [
        "full_merge.shape"
      ],
      "execution_count": 0,
      "outputs": [
        {
          "output_type": "execute_result",
          "data": {
            "text/plain": [
              "(400277, 8940)"
            ]
          },
          "metadata": {
            "tags": []
          },
          "execution_count": 69
        }
      ]
    },
    {
      "cell_type": "code",
      "metadata": {
        "id": "sclITRCtGmpZ",
        "colab_type": "code",
        "outputId": "e844159d-c8a6-4ef7-feff-01337ec6baed",
        "colab": {
          "base_uri": "https://localhost:8080/",
          "height": 102
        }
      },
      "source": [
        "full_merge.info()"
      ],
      "execution_count": 0,
      "outputs": [
        {
          "output_type": "stream",
          "text": [
            "<class 'pandas.core.frame.DataFrame'>\n",
            "Int64Index: 400277 entries, 134338 to 415831\n",
            "Columns: 8940 entries, FTE to Text_1_ZOO-NE OH ENVIRON\n",
            "dtypes: Sparse[uint8, 0](8938), float64(2)\n",
            "memory usage: 33.2 MB\n"
          ],
          "name": "stdout"
        }
      ]
    },
    {
      "cell_type": "code",
      "metadata": {
        "id": "r1Yv-3-ffgJe",
        "colab_type": "code",
        "outputId": "ecc806cf-a084-409f-8f09-eae5e88c33b2",
        "colab": {
          "base_uri": "https://localhost:8080/",
          "height": 102
        }
      },
      "source": [
        "full_merge.info()"
      ],
      "execution_count": 0,
      "outputs": [
        {
          "output_type": "stream",
          "text": [
            "<class 'pandas.core.frame.DataFrame'>\n",
            "Int64Index: 400277 entries, 134338 to 415831\n",
            "Columns: 8940 entries, FTE to Text_1_ZOO-NE OH ENVIRON\n",
            "dtypes: Sparse[uint8, 0](8938), float64(2)\n",
            "memory usage: 33.2 MB\n"
          ],
          "name": "stdout"
        }
      ]
    },
    {
      "cell_type": "markdown",
      "metadata": {
        "id": "mwaueLkjDcft",
        "colab_type": "text"
      },
      "source": [
        "### Full_merge <- one_hot encoded with standard scaled,  : Train_X  [option 1]"
      ]
    },
    {
      "cell_type": "code",
      "metadata": {
        "id": "NdxqFQF0DYwh",
        "colab_type": "code",
        "outputId": "63e5637f-151f-427e-e04c-9044dc0c421f",
        "colab": {
          "base_uri": "https://localhost:8080/",
          "height": 51
        }
      },
      "source": [
        "print('X : ', full_merge.shape)\n",
        "print('Y : ', train_y_dummy.shape)"
      ],
      "execution_count": 0,
      "outputs": [
        {
          "output_type": "stream",
          "text": [
            "X :  (400277, 8940)\n",
            "Y :  (400277, 104)\n"
          ],
          "name": "stdout"
        }
      ]
    },
    {
      "cell_type": "code",
      "metadata": {
        "id": "JU1RkU1IMxZY",
        "colab_type": "code",
        "outputId": "d3785803-8282-4c07-80e6-2f2813c7c258",
        "colab": {
          "base_uri": "https://localhost:8080/",
          "height": 403
        }
      },
      "source": [
        "full_merge.head()"
      ],
      "execution_count": 0,
      "outputs": [
        {
          "output_type": "execute_result",
          "data": {
            "text/html": [
              "<div>\n",
              "<style scoped>\n",
              "    .dataframe tbody tr th:only-of-type {\n",
              "        vertical-align: middle;\n",
              "    }\n",
              "\n",
              "    .dataframe tbody tr th {\n",
              "        vertical-align: top;\n",
              "    }\n",
              "\n",
              "    .dataframe thead th {\n",
              "        text-align: right;\n",
              "    }\n",
              "</style>\n",
              "<table border=\"1\" class=\"dataframe\">\n",
              "  <thead>\n",
              "    <tr style=\"text-align: right;\">\n",
              "      <th></th>\n",
              "      <th>FTE</th>\n",
              "      <th>Total</th>\n",
              "      <th>Object_Description_\"Building Purchase, Construction Or Improvements\"</th>\n",
              "      <th>Object_Description_*******SUSPENSE*******</th>\n",
              "      <th>Object_Description_ADDITIONAL INCOME ALLOWANCE</th>\n",
              "      <th>Object_Description_ADDITIONAL/EXTRA DUTY PAY/STIP</th>\n",
              "      <th>Object_Description_ADMINISTRATIVE FEES</th>\n",
              "      <th>Object_Description_ADMINISTRATIVE PREMIUM</th>\n",
              "      <th>Object_Description_ADMINISTRATOR</th>\n",
              "      <th>Object_Description_ADULT PART TIME</th>\n",
              "      <th>Object_Description_ADVERTISING</th>\n",
              "      <th>Object_Description_AIDES AND PARAPROFESSIONALS</th>\n",
              "      <th>Object_Description_ALL OTHER SUPPLEMENTS</th>\n",
              "      <th>Object_Description_ARCHITECTURAL&amp;ENGINEERING FEES</th>\n",
              "      <th>Object_Description_ATHLETIC SUPPLEMENTS</th>\n",
              "      <th>Object_Description_ATHLETICS PERSONNEL</th>\n",
              "      <th>Object_Description_ATTORNEY FEES</th>\n",
              "      <th>Object_Description_AUDIO VISUAL MATERIALS</th>\n",
              "      <th>Object_Description_AUDIT FEES</th>\n",
              "      <th>Object_Description_AUDIT SERVICES</th>\n",
              "      <th>Object_Description_AUTO ALLOWANCE</th>\n",
              "      <th>Object_Description_Accident Insurance - Student Activity Participants</th>\n",
              "      <th>Object_Description_Advertising</th>\n",
              "      <th>Object_Description_Awards/Prizes for Competition</th>\n",
              "      <th>Object_Description_BANKING SERVICE FEES</th>\n",
              "      <th>Object_Description_BOARD MEMBERS AND ATTORNEYS</th>\n",
              "      <th>Object_Description_BONUS PAY</th>\n",
              "      <th>Object_Description_BONUSES</th>\n",
              "      <th>Object_Description_BOOKS (OTHER THAN TEXTBOOKS) AND PERIODICALS</th>\n",
              "      <th>Object_Description_BOOKS AND PERIODICALS</th>\n",
              "      <th>Object_Description_BOTTLED GAS</th>\n",
              "      <th>Object_Description_BOTTLED GAS</th>\n",
              "      <th>Object_Description_BUILDING ACQUISITION, CONSTRUCTION AND IMPROVEMENT</th>\n",
              "      <th>Object_Description_BUILDINGS</th>\n",
              "      <th>Object_Description_BUILDINGS *</th>\n",
              "      <th>Object_Description_BUILDINGS AND FIXED EQUIPMENT</th>\n",
              "      <th>Object_Description_BUS DRIVERS</th>\n",
              "      <th>Object_Description_BUSES</th>\n",
              "      <th>Object_Description_Bakery Products</th>\n",
              "      <th>Object_Description_Bank Charges</th>\n",
              "      <th>...</th>\n",
              "      <th>Text_1_UNIV</th>\n",
              "      <th>Text_1_UNIV  STE</th>\n",
              "      <th>Text_1_UNIV HEALTH -</th>\n",
              "      <th>Text_1_UNIV HOSPITALS HEALTH SYS</th>\n",
              "      <th>Text_1_UNIV NEXT STEP</th>\n",
              "      <th>Text_1_UNIV PRE-K, PARENT NEEDS</th>\n",
              "      <th>Text_1_UNIVERSITY</th>\n",
              "      <th>Text_1_UNIVERSITY - P.D.</th>\n",
              "      <th>Text_1_UPK - ITEMAD FY</th>\n",
              "      <th>Text_1_UPK ITEMAD</th>\n",
              "      <th>Text_1_UPK MARION STERLING</th>\n",
              "      <th>Text_1_USING PHONICS/MCGINTY</th>\n",
              "      <th>Text_1_VARIOUS-ARTS ED-DRUMLINE</th>\n",
              "      <th>Text_1_VARIOUS-JOHN HAY SCHOLAR</th>\n",
              "      <th>Text_1_VARIOUS-UNIFORMS CAMPAIGN</th>\n",
              "      <th>Text_1_VIRTUAL INSTRUCTION PGM</th>\n",
              "      <th>Text_1_VOC &amp; CAREER TRANSITION</th>\n",
              "      <th>Text_1_VOC ED TECH MATCH</th>\n",
              "      <th>Text_1_VOCATIONAL EDUCATION</th>\n",
              "      <th>Text_1_VOCATIONAL EDUCATION</th>\n",
              "      <th>Text_1_VOCATIONAL EQUIPMENT</th>\n",
              "      <th>Text_1_VOLUNTARY PRE-K ASSESSMENT</th>\n",
              "      <th>Text_1_VOLUNTEER/FINGERPRINTING PROG</th>\n",
              "      <th>Text_1_VPK</th>\n",
              "      <th>Text_1_VPK SUMMER</th>\n",
              "      <th>Text_1_Vision &amp; Hearing Services</th>\n",
              "      <th>Text_1_WAITING TIME</th>\n",
              "      <th>Text_1_WAL-MART/SAM'S CLUB FOUND</th>\n",
              "      <th>Text_1_WARM HANDS READING BOOKS</th>\n",
              "      <th>Text_1_WELLNESS BLOCK</th>\n",
              "      <th>Text_1_WELLNESS BLOCK GRANT</th>\n",
              "      <th>Text_1_WELLNESS BLOCK GRANT</th>\n",
              "      <th>Text_1_WORKERS' COMP OFFICE</th>\n",
              "      <th>Text_1_WORKFORCE INVESTMENT ACT</th>\n",
              "      <th>Text_1_WORKSHOP</th>\n",
              "      <th>Text_1_WirelessContvty-Host</th>\n",
              "      <th>Text_1_YEAR ROUND YOUTH TRAINING</th>\n",
              "      <th>Text_1_YOUTH SERVICES</th>\n",
              "      <th>Text_1_Youth Endowment of East ITEMFF</th>\n",
              "      <th>Text_1_ZOO-NE OH ENVIRON</th>\n",
              "    </tr>\n",
              "    <tr>\n",
              "      <th>Unnamed: 0</th>\n",
              "      <th></th>\n",
              "      <th></th>\n",
              "      <th></th>\n",
              "      <th></th>\n",
              "      <th></th>\n",
              "      <th></th>\n",
              "      <th></th>\n",
              "      <th></th>\n",
              "      <th></th>\n",
              "      <th></th>\n",
              "      <th></th>\n",
              "      <th></th>\n",
              "      <th></th>\n",
              "      <th></th>\n",
              "      <th></th>\n",
              "      <th></th>\n",
              "      <th></th>\n",
              "      <th></th>\n",
              "      <th></th>\n",
              "      <th></th>\n",
              "      <th></th>\n",
              "      <th></th>\n",
              "      <th></th>\n",
              "      <th></th>\n",
              "      <th></th>\n",
              "      <th></th>\n",
              "      <th></th>\n",
              "      <th></th>\n",
              "      <th></th>\n",
              "      <th></th>\n",
              "      <th></th>\n",
              "      <th></th>\n",
              "      <th></th>\n",
              "      <th></th>\n",
              "      <th></th>\n",
              "      <th></th>\n",
              "      <th></th>\n",
              "      <th></th>\n",
              "      <th></th>\n",
              "      <th></th>\n",
              "      <th></th>\n",
              "      <th></th>\n",
              "      <th></th>\n",
              "      <th></th>\n",
              "      <th></th>\n",
              "      <th></th>\n",
              "      <th></th>\n",
              "      <th></th>\n",
              "      <th></th>\n",
              "      <th></th>\n",
              "      <th></th>\n",
              "      <th></th>\n",
              "      <th></th>\n",
              "      <th></th>\n",
              "      <th></th>\n",
              "      <th></th>\n",
              "      <th></th>\n",
              "      <th></th>\n",
              "      <th></th>\n",
              "      <th></th>\n",
              "      <th></th>\n",
              "      <th></th>\n",
              "      <th></th>\n",
              "      <th></th>\n",
              "      <th></th>\n",
              "      <th></th>\n",
              "      <th></th>\n",
              "      <th></th>\n",
              "      <th></th>\n",
              "      <th></th>\n",
              "      <th></th>\n",
              "      <th></th>\n",
              "      <th></th>\n",
              "      <th></th>\n",
              "      <th></th>\n",
              "      <th></th>\n",
              "      <th></th>\n",
              "      <th></th>\n",
              "      <th></th>\n",
              "      <th></th>\n",
              "      <th></th>\n",
              "    </tr>\n",
              "  </thead>\n",
              "  <tbody>\n",
              "    <tr>\n",
              "      <th>134338</th>\n",
              "      <td>1.780716e+00</td>\n",
              "      <td>0.102058</td>\n",
              "      <td>0</td>\n",
              "      <td>0</td>\n",
              "      <td>0</td>\n",
              "      <td>0</td>\n",
              "      <td>0</td>\n",
              "      <td>0</td>\n",
              "      <td>0</td>\n",
              "      <td>0</td>\n",
              "      <td>0</td>\n",
              "      <td>0</td>\n",
              "      <td>0</td>\n",
              "      <td>0</td>\n",
              "      <td>0</td>\n",
              "      <td>0</td>\n",
              "      <td>0</td>\n",
              "      <td>0</td>\n",
              "      <td>0</td>\n",
              "      <td>0</td>\n",
              "      <td>0</td>\n",
              "      <td>0</td>\n",
              "      <td>0</td>\n",
              "      <td>0</td>\n",
              "      <td>0</td>\n",
              "      <td>0</td>\n",
              "      <td>0</td>\n",
              "      <td>0</td>\n",
              "      <td>0</td>\n",
              "      <td>0</td>\n",
              "      <td>0</td>\n",
              "      <td>0</td>\n",
              "      <td>0</td>\n",
              "      <td>0</td>\n",
              "      <td>0</td>\n",
              "      <td>0</td>\n",
              "      <td>0</td>\n",
              "      <td>0</td>\n",
              "      <td>0</td>\n",
              "      <td>0</td>\n",
              "      <td>...</td>\n",
              "      <td>0</td>\n",
              "      <td>0</td>\n",
              "      <td>0</td>\n",
              "      <td>0</td>\n",
              "      <td>0</td>\n",
              "      <td>0</td>\n",
              "      <td>0</td>\n",
              "      <td>0</td>\n",
              "      <td>0</td>\n",
              "      <td>0</td>\n",
              "      <td>0</td>\n",
              "      <td>0</td>\n",
              "      <td>0</td>\n",
              "      <td>0</td>\n",
              "      <td>0</td>\n",
              "      <td>0</td>\n",
              "      <td>0</td>\n",
              "      <td>0</td>\n",
              "      <td>0</td>\n",
              "      <td>0</td>\n",
              "      <td>0</td>\n",
              "      <td>0</td>\n",
              "      <td>0</td>\n",
              "      <td>0</td>\n",
              "      <td>0</td>\n",
              "      <td>0</td>\n",
              "      <td>0</td>\n",
              "      <td>0</td>\n",
              "      <td>0</td>\n",
              "      <td>0</td>\n",
              "      <td>0</td>\n",
              "      <td>0</td>\n",
              "      <td>0</td>\n",
              "      <td>0</td>\n",
              "      <td>0</td>\n",
              "      <td>0</td>\n",
              "      <td>0</td>\n",
              "      <td>0</td>\n",
              "      <td>0</td>\n",
              "      <td>0</td>\n",
              "    </tr>\n",
              "    <tr>\n",
              "      <th>206341</th>\n",
              "      <td>-6.760054e-14</td>\n",
              "      <td>-0.026297</td>\n",
              "      <td>0</td>\n",
              "      <td>0</td>\n",
              "      <td>0</td>\n",
              "      <td>0</td>\n",
              "      <td>0</td>\n",
              "      <td>0</td>\n",
              "      <td>0</td>\n",
              "      <td>0</td>\n",
              "      <td>0</td>\n",
              "      <td>0</td>\n",
              "      <td>0</td>\n",
              "      <td>0</td>\n",
              "      <td>0</td>\n",
              "      <td>0</td>\n",
              "      <td>0</td>\n",
              "      <td>0</td>\n",
              "      <td>0</td>\n",
              "      <td>0</td>\n",
              "      <td>0</td>\n",
              "      <td>0</td>\n",
              "      <td>0</td>\n",
              "      <td>0</td>\n",
              "      <td>0</td>\n",
              "      <td>0</td>\n",
              "      <td>0</td>\n",
              "      <td>0</td>\n",
              "      <td>0</td>\n",
              "      <td>0</td>\n",
              "      <td>0</td>\n",
              "      <td>0</td>\n",
              "      <td>0</td>\n",
              "      <td>0</td>\n",
              "      <td>0</td>\n",
              "      <td>0</td>\n",
              "      <td>0</td>\n",
              "      <td>0</td>\n",
              "      <td>0</td>\n",
              "      <td>0</td>\n",
              "      <td>...</td>\n",
              "      <td>0</td>\n",
              "      <td>0</td>\n",
              "      <td>0</td>\n",
              "      <td>0</td>\n",
              "      <td>0</td>\n",
              "      <td>0</td>\n",
              "      <td>0</td>\n",
              "      <td>0</td>\n",
              "      <td>0</td>\n",
              "      <td>0</td>\n",
              "      <td>0</td>\n",
              "      <td>0</td>\n",
              "      <td>0</td>\n",
              "      <td>0</td>\n",
              "      <td>0</td>\n",
              "      <td>0</td>\n",
              "      <td>0</td>\n",
              "      <td>0</td>\n",
              "      <td>0</td>\n",
              "      <td>0</td>\n",
              "      <td>0</td>\n",
              "      <td>0</td>\n",
              "      <td>0</td>\n",
              "      <td>0</td>\n",
              "      <td>0</td>\n",
              "      <td>0</td>\n",
              "      <td>0</td>\n",
              "      <td>0</td>\n",
              "      <td>0</td>\n",
              "      <td>0</td>\n",
              "      <td>0</td>\n",
              "      <td>0</td>\n",
              "      <td>0</td>\n",
              "      <td>0</td>\n",
              "      <td>0</td>\n",
              "      <td>0</td>\n",
              "      <td>0</td>\n",
              "      <td>0</td>\n",
              "      <td>0</td>\n",
              "      <td>0</td>\n",
              "    </tr>\n",
              "    <tr>\n",
              "      <th>326408</th>\n",
              "      <td>1.780716e+00</td>\n",
              "      <td>0.134193</td>\n",
              "      <td>0</td>\n",
              "      <td>0</td>\n",
              "      <td>0</td>\n",
              "      <td>0</td>\n",
              "      <td>0</td>\n",
              "      <td>0</td>\n",
              "      <td>0</td>\n",
              "      <td>0</td>\n",
              "      <td>0</td>\n",
              "      <td>0</td>\n",
              "      <td>0</td>\n",
              "      <td>0</td>\n",
              "      <td>0</td>\n",
              "      <td>0</td>\n",
              "      <td>0</td>\n",
              "      <td>0</td>\n",
              "      <td>0</td>\n",
              "      <td>0</td>\n",
              "      <td>0</td>\n",
              "      <td>0</td>\n",
              "      <td>0</td>\n",
              "      <td>0</td>\n",
              "      <td>0</td>\n",
              "      <td>0</td>\n",
              "      <td>0</td>\n",
              "      <td>0</td>\n",
              "      <td>0</td>\n",
              "      <td>0</td>\n",
              "      <td>0</td>\n",
              "      <td>0</td>\n",
              "      <td>0</td>\n",
              "      <td>0</td>\n",
              "      <td>0</td>\n",
              "      <td>0</td>\n",
              "      <td>0</td>\n",
              "      <td>0</td>\n",
              "      <td>0</td>\n",
              "      <td>0</td>\n",
              "      <td>...</td>\n",
              "      <td>0</td>\n",
              "      <td>0</td>\n",
              "      <td>0</td>\n",
              "      <td>0</td>\n",
              "      <td>0</td>\n",
              "      <td>0</td>\n",
              "      <td>0</td>\n",
              "      <td>0</td>\n",
              "      <td>0</td>\n",
              "      <td>0</td>\n",
              "      <td>0</td>\n",
              "      <td>0</td>\n",
              "      <td>0</td>\n",
              "      <td>0</td>\n",
              "      <td>0</td>\n",
              "      <td>0</td>\n",
              "      <td>0</td>\n",
              "      <td>0</td>\n",
              "      <td>0</td>\n",
              "      <td>0</td>\n",
              "      <td>0</td>\n",
              "      <td>0</td>\n",
              "      <td>0</td>\n",
              "      <td>0</td>\n",
              "      <td>0</td>\n",
              "      <td>0</td>\n",
              "      <td>0</td>\n",
              "      <td>0</td>\n",
              "      <td>0</td>\n",
              "      <td>0</td>\n",
              "      <td>0</td>\n",
              "      <td>0</td>\n",
              "      <td>0</td>\n",
              "      <td>0</td>\n",
              "      <td>0</td>\n",
              "      <td>0</td>\n",
              "      <td>0</td>\n",
              "      <td>0</td>\n",
              "      <td>0</td>\n",
              "      <td>0</td>\n",
              "    </tr>\n",
              "    <tr>\n",
              "      <th>364634</th>\n",
              "      <td>-6.760054e-14</td>\n",
              "      <td>-0.035735</td>\n",
              "      <td>0</td>\n",
              "      <td>0</td>\n",
              "      <td>0</td>\n",
              "      <td>0</td>\n",
              "      <td>0</td>\n",
              "      <td>0</td>\n",
              "      <td>0</td>\n",
              "      <td>0</td>\n",
              "      <td>0</td>\n",
              "      <td>0</td>\n",
              "      <td>0</td>\n",
              "      <td>0</td>\n",
              "      <td>0</td>\n",
              "      <td>0</td>\n",
              "      <td>0</td>\n",
              "      <td>0</td>\n",
              "      <td>0</td>\n",
              "      <td>0</td>\n",
              "      <td>0</td>\n",
              "      <td>0</td>\n",
              "      <td>0</td>\n",
              "      <td>0</td>\n",
              "      <td>0</td>\n",
              "      <td>0</td>\n",
              "      <td>0</td>\n",
              "      <td>0</td>\n",
              "      <td>0</td>\n",
              "      <td>0</td>\n",
              "      <td>0</td>\n",
              "      <td>0</td>\n",
              "      <td>0</td>\n",
              "      <td>0</td>\n",
              "      <td>0</td>\n",
              "      <td>0</td>\n",
              "      <td>0</td>\n",
              "      <td>0</td>\n",
              "      <td>0</td>\n",
              "      <td>0</td>\n",
              "      <td>...</td>\n",
              "      <td>0</td>\n",
              "      <td>0</td>\n",
              "      <td>0</td>\n",
              "      <td>0</td>\n",
              "      <td>0</td>\n",
              "      <td>0</td>\n",
              "      <td>0</td>\n",
              "      <td>0</td>\n",
              "      <td>0</td>\n",
              "      <td>0</td>\n",
              "      <td>0</td>\n",
              "      <td>0</td>\n",
              "      <td>0</td>\n",
              "      <td>0</td>\n",
              "      <td>0</td>\n",
              "      <td>0</td>\n",
              "      <td>0</td>\n",
              "      <td>0</td>\n",
              "      <td>0</td>\n",
              "      <td>0</td>\n",
              "      <td>0</td>\n",
              "      <td>0</td>\n",
              "      <td>0</td>\n",
              "      <td>0</td>\n",
              "      <td>0</td>\n",
              "      <td>0</td>\n",
              "      <td>0</td>\n",
              "      <td>0</td>\n",
              "      <td>0</td>\n",
              "      <td>0</td>\n",
              "      <td>0</td>\n",
              "      <td>0</td>\n",
              "      <td>0</td>\n",
              "      <td>0</td>\n",
              "      <td>0</td>\n",
              "      <td>0</td>\n",
              "      <td>0</td>\n",
              "      <td>0</td>\n",
              "      <td>0</td>\n",
              "      <td>0</td>\n",
              "    </tr>\n",
              "    <tr>\n",
              "      <th>47683</th>\n",
              "      <td>-6.760054e-14</td>\n",
              "      <td>-0.035648</td>\n",
              "      <td>0</td>\n",
              "      <td>0</td>\n",
              "      <td>0</td>\n",
              "      <td>0</td>\n",
              "      <td>0</td>\n",
              "      <td>0</td>\n",
              "      <td>0</td>\n",
              "      <td>0</td>\n",
              "      <td>0</td>\n",
              "      <td>0</td>\n",
              "      <td>0</td>\n",
              "      <td>0</td>\n",
              "      <td>0</td>\n",
              "      <td>0</td>\n",
              "      <td>0</td>\n",
              "      <td>0</td>\n",
              "      <td>0</td>\n",
              "      <td>0</td>\n",
              "      <td>0</td>\n",
              "      <td>0</td>\n",
              "      <td>0</td>\n",
              "      <td>0</td>\n",
              "      <td>0</td>\n",
              "      <td>0</td>\n",
              "      <td>0</td>\n",
              "      <td>0</td>\n",
              "      <td>0</td>\n",
              "      <td>0</td>\n",
              "      <td>0</td>\n",
              "      <td>0</td>\n",
              "      <td>0</td>\n",
              "      <td>0</td>\n",
              "      <td>0</td>\n",
              "      <td>0</td>\n",
              "      <td>0</td>\n",
              "      <td>0</td>\n",
              "      <td>0</td>\n",
              "      <td>0</td>\n",
              "      <td>...</td>\n",
              "      <td>0</td>\n",
              "      <td>0</td>\n",
              "      <td>0</td>\n",
              "      <td>0</td>\n",
              "      <td>0</td>\n",
              "      <td>0</td>\n",
              "      <td>0</td>\n",
              "      <td>0</td>\n",
              "      <td>0</td>\n",
              "      <td>0</td>\n",
              "      <td>0</td>\n",
              "      <td>0</td>\n",
              "      <td>0</td>\n",
              "      <td>0</td>\n",
              "      <td>0</td>\n",
              "      <td>0</td>\n",
              "      <td>0</td>\n",
              "      <td>0</td>\n",
              "      <td>0</td>\n",
              "      <td>0</td>\n",
              "      <td>0</td>\n",
              "      <td>0</td>\n",
              "      <td>0</td>\n",
              "      <td>0</td>\n",
              "      <td>0</td>\n",
              "      <td>0</td>\n",
              "      <td>0</td>\n",
              "      <td>0</td>\n",
              "      <td>0</td>\n",
              "      <td>0</td>\n",
              "      <td>0</td>\n",
              "      <td>0</td>\n",
              "      <td>0</td>\n",
              "      <td>0</td>\n",
              "      <td>0</td>\n",
              "      <td>0</td>\n",
              "      <td>0</td>\n",
              "      <td>0</td>\n",
              "      <td>0</td>\n",
              "      <td>0</td>\n",
              "    </tr>\n",
              "  </tbody>\n",
              "</table>\n",
              "<p>5 rows × 8940 columns</p>\n",
              "</div>"
            ],
            "text/plain": [
              "                     FTE  ...  Text_1_ZOO-NE OH ENVIRON\n",
              "Unnamed: 0                ...                          \n",
              "134338      1.780716e+00  ...                         0\n",
              "206341     -6.760054e-14  ...                         0\n",
              "326408      1.780716e+00  ...                         0\n",
              "364634     -6.760054e-14  ...                         0\n",
              "47683      -6.760054e-14  ...                         0\n",
              "\n",
              "[5 rows x 8940 columns]"
            ]
          },
          "metadata": {
            "tags": []
          },
          "execution_count": 77
        }
      ]
    },
    {
      "cell_type": "code",
      "metadata": {
        "id": "Qz_t3cUKgMtr",
        "colab_type": "code",
        "colab": {}
      },
      "source": [
        "full_merge_float = full_merge.iloc[:, 0:2]\n",
        "full_merge_sparse = full_merge.iloc[:, 3:]"
      ],
      "execution_count": 0,
      "outputs": []
    },
    {
      "cell_type": "code",
      "metadata": {
        "id": "s5Sf_77ngWZy",
        "colab_type": "code",
        "outputId": "8c767d76-f868-4031-93fb-d606546edfeb",
        "colab": {
          "base_uri": "https://localhost:8080/",
          "height": 34
        }
      },
      "source": [
        "full_merge_float.shape"
      ],
      "execution_count": 0,
      "outputs": [
        {
          "output_type": "execute_result",
          "data": {
            "text/plain": [
              "(400277, 2)"
            ]
          },
          "metadata": {
            "tags": []
          },
          "execution_count": 80
        }
      ]
    },
    {
      "cell_type": "code",
      "metadata": {
        "id": "8ogT--BMgan1",
        "colab_type": "code",
        "outputId": "9c6d7316-7208-4fa2-ad16-297aba4f87d9",
        "colab": {
          "base_uri": "https://localhost:8080/",
          "height": 34
        }
      },
      "source": [
        "full_merge_sparse.shape"
      ],
      "execution_count": 0,
      "outputs": [
        {
          "output_type": "execute_result",
          "data": {
            "text/plain": [
              "(400277, 8937)"
            ]
          },
          "metadata": {
            "tags": []
          },
          "execution_count": 81
        }
      ]
    },
    {
      "cell_type": "code",
      "metadata": {
        "id": "YEBLiADHgv3d",
        "colab_type": "code",
        "colab": {}
      },
      "source": [
        "spar_matrix = csr_matrix(full_merge_sparse)"
      ],
      "execution_count": 0,
      "outputs": []
    },
    {
      "cell_type": "code",
      "metadata": {
        "id": "XkF4Trf5g1YF",
        "colab_type": "code",
        "outputId": "6251e161-b230-4770-a86b-760d1c4815f8",
        "colab": {
          "base_uri": "https://localhost:8080/",
          "height": 51
        }
      },
      "source": [
        "spar_matrix"
      ],
      "execution_count": 0,
      "outputs": [
        {
          "output_type": "execute_result",
          "data": {
            "text/plain": [
              "<400277x8937 sparse matrix of type '<class 'numpy.uint8'>'\n",
              "\twith 2940470 stored elements in Compressed Sparse Row format>"
            ]
          },
          "metadata": {
            "tags": []
          },
          "execution_count": 84
        }
      ]
    },
    {
      "cell_type": "code",
      "metadata": {
        "id": "ibPaYPsViz6U",
        "colab_type": "code",
        "colab": {}
      },
      "source": [
        "spar_stack = hstack([spar_matrix, full_merge_float])"
      ],
      "execution_count": 0,
      "outputs": []
    },
    {
      "cell_type": "code",
      "metadata": {
        "id": "MGj4fvc-jwrU",
        "colab_type": "code",
        "outputId": "8a3d0a8d-9694-4bba-a91b-b8d7c32a8b3d",
        "colab": {
          "base_uri": "https://localhost:8080/",
          "height": 51
        }
      },
      "source": [
        "spar_stack"
      ],
      "execution_count": 0,
      "outputs": [
        {
          "output_type": "execute_result",
          "data": {
            "text/plain": [
              "<400277x8939 sparse matrix of type '<class 'numpy.float64'>'\n",
              "\twith 3741024 stored elements in COOrdinate format>"
            ]
          },
          "metadata": {
            "tags": []
          },
          "execution_count": 88
        }
      ]
    },
    {
      "cell_type": "markdown",
      "metadata": {
        "id": "UVsNdQ5SIbtI",
        "colab_type": "text"
      },
      "source": [
        "### Train test split"
      ]
    },
    {
      "cell_type": "code",
      "metadata": {
        "id": "HIGaIqQLI-I3",
        "colab_type": "code",
        "colab": {}
      },
      "source": [
        "X_train, X_test, y_train, y_test = train_test_split(spar_stack, train_y_dummy, test_size = 0.2, random_state = 42)"
      ],
      "execution_count": 0,
      "outputs": []
    },
    {
      "cell_type": "code",
      "metadata": {
        "id": "m6BqZyO8JPEE",
        "colab_type": "code",
        "outputId": "bc37850a-e8a4-438b-d0db-f7d786275e98",
        "colab": {
          "base_uri": "https://localhost:8080/",
          "height": 102
        }
      },
      "source": [
        "print('X_train : ', X_train.shape)\n",
        "print('y_train : ', y_train.shape)\n",
        "print('--------')\n",
        "print('X_test : ', X_test.shape)\n",
        "print('y_test : ', y_test.shape)"
      ],
      "execution_count": 0,
      "outputs": [
        {
          "output_type": "stream",
          "text": [
            "X_train :  (320221, 8939)\n",
            "y_train :  (320221, 104)\n",
            "--------\n",
            "X_test :  (80056, 8939)\n",
            "y_test :  (80056, 104)\n"
          ],
          "name": "stdout"
        }
      ]
    },
    {
      "cell_type": "code",
      "metadata": {
        "id": "yrOj44Y3LABv",
        "colab_type": "code",
        "colab": {}
      },
      "source": [
        ""
      ],
      "execution_count": 0,
      "outputs": []
    },
    {
      "cell_type": "code",
      "metadata": {
        "id": "tqUh6RQGLDVH",
        "colab_type": "code",
        "colab": {}
      },
      "source": [
        "logit = OneVsRestClassifier(LogisticRegression(random_state=42, solver='lbfgs'), n_jobs=-1)"
      ],
      "execution_count": 0,
      "outputs": []
    },
    {
      "cell_type": "code",
      "metadata": {
        "id": "5UtJoA8DLNqf",
        "colab_type": "code",
        "outputId": "16800611-4f0b-460c-c7eb-72fcc5b99f9f",
        "colab": {
          "base_uri": "https://localhost:8080/",
          "height": 187
        }
      },
      "source": [
        "logit.fit(X_train, y_train)"
      ],
      "execution_count": 0,
      "outputs": [
        {
          "output_type": "execute_result",
          "data": {
            "text/plain": [
              "OneVsRestClassifier(estimator=LogisticRegression(C=1.0, class_weight=None,\n",
              "                                                 dual=False, fit_intercept=True,\n",
              "                                                 intercept_scaling=1,\n",
              "                                                 l1_ratio=None, max_iter=100,\n",
              "                                                 multi_class='warn',\n",
              "                                                 n_jobs=None, penalty='l2',\n",
              "                                                 random_state=42,\n",
              "                                                 solver='lbfgs', tol=0.0001,\n",
              "                                                 verbose=0, warm_start=False),\n",
              "                    n_jobs=-1)"
            ]
          },
          "metadata": {
            "tags": []
          },
          "execution_count": 101
        }
      ]
    },
    {
      "cell_type": "code",
      "metadata": {
        "id": "NhcLokEyLPdH",
        "colab_type": "code",
        "outputId": "bdea9fc6-a361-4fe9-81a3-44a79e623485",
        "colab": {
          "base_uri": "https://localhost:8080/",
          "height": 34
        }
      },
      "source": [
        "logit.score(X_train, y_train)"
      ],
      "execution_count": 0,
      "outputs": [
        {
          "output_type": "execute_result",
          "data": {
            "text/plain": [
              "0.9110364404583084"
            ]
          },
          "metadata": {
            "tags": []
          },
          "execution_count": 102
        }
      ]
    },
    {
      "cell_type": "code",
      "metadata": {
        "id": "BrIO_cDfm7ll",
        "colab_type": "code",
        "outputId": "1e9da6ec-3ede-449c-9a9e-a636c2353718",
        "colab": {
          "base_uri": "https://localhost:8080/",
          "height": 34
        }
      },
      "source": [
        "logit.score(X_test, y_test)"
      ],
      "execution_count": 0,
      "outputs": [
        {
          "output_type": "execute_result",
          "data": {
            "text/plain": [
              "0.9024058159288498"
            ]
          },
          "metadata": {
            "tags": []
          },
          "execution_count": 103
        }
      ]
    },
    {
      "cell_type": "code",
      "metadata": {
        "id": "gJbIXXRDnCOq",
        "colab_type": "code",
        "colab": {}
      },
      "source": [
        "rfc_clf = OneVsRestClassifier(RandomForestClassifier(random_state=42), n_jobs=-1)"
      ],
      "execution_count": 0,
      "outputs": []
    },
    {
      "cell_type": "code",
      "metadata": {
        "id": "JMuY6LgnnMEL",
        "colab_type": "code",
        "outputId": "2d0a7ac6-e1c0-473a-b842-b216d7df031e",
        "colab": {
          "base_uri": "https://localhost:8080/",
          "height": 306
        }
      },
      "source": [
        "rfc_clf.fit(X_train, y_train)"
      ],
      "execution_count": 0,
      "outputs": [
        {
          "output_type": "execute_result",
          "data": {
            "text/plain": [
              "OneVsRestClassifier(estimator=RandomForestClassifier(bootstrap=True,\n",
              "                                                     class_weight=None,\n",
              "                                                     criterion='gini',\n",
              "                                                     max_depth=None,\n",
              "                                                     max_features='auto',\n",
              "                                                     max_leaf_nodes=None,\n",
              "                                                     min_impurity_decrease=0.0,\n",
              "                                                     min_impurity_split=None,\n",
              "                                                     min_samples_leaf=1,\n",
              "                                                     min_samples_split=2,\n",
              "                                                     min_weight_fraction_leaf=0.0,\n",
              "                                                     n_estimators='warn',\n",
              "                                                     n_jobs=None,\n",
              "                                                     oob_score=False,\n",
              "                                                     random_state=42, verbose=0,\n",
              "                                                     warm_start=False),\n",
              "                    n_jobs=-1)"
            ]
          },
          "metadata": {
            "tags": []
          },
          "execution_count": 107
        }
      ]
    },
    {
      "cell_type": "code",
      "metadata": {
        "id": "lnYCf2n7nN78",
        "colab_type": "code",
        "outputId": "a96a2d15-dbb1-4b16-e4a1-06018180c424",
        "colab": {
          "base_uri": "https://localhost:8080/",
          "height": 34
        }
      },
      "source": [
        "rfc_clf.score(X_train, y_train)"
      ],
      "execution_count": 0,
      "outputs": [
        {
          "output_type": "execute_result",
          "data": {
            "text/plain": [
              "0.9845544171056864"
            ]
          },
          "metadata": {
            "tags": []
          },
          "execution_count": 108
        }
      ]
    },
    {
      "cell_type": "code",
      "metadata": {
        "id": "jbsfnljezlLY",
        "colab_type": "code",
        "outputId": "864d38f2-8c0e-4913-fe28-44d32b64d57a",
        "colab": {
          "base_uri": "https://localhost:8080/",
          "height": 34
        }
      },
      "source": [
        "rfc_clf.score(X_test, y_test)"
      ],
      "execution_count": 0,
      "outputs": [
        {
          "output_type": "execute_result",
          "data": {
            "text/plain": [
              "0.901868691915659"
            ]
          },
          "metadata": {
            "tags": []
          },
          "execution_count": 109
        }
      ]
    },
    {
      "cell_type": "markdown",
      "metadata": {
        "id": "xnjmJs8bgzyU",
        "colab_type": "text"
      },
      "source": [
        "## Option 2\n",
        "\n",
        "option 2 : concat the char feature, and perform TF-IDF, hashing, countvectorize"
      ]
    },
    {
      "cell_type": "code",
      "metadata": {
        "id": "ii5UDlHog3_2",
        "colab_type": "code",
        "outputId": "74d8b6b1-ae1c-40e5-e670-d781bb10e840",
        "colab": {
          "base_uri": "https://localhost:8080/",
          "height": 321
        }
      },
      "source": [
        "train_y_dummy.head()"
      ],
      "execution_count": 77,
      "outputs": [
        {
          "output_type": "execute_result",
          "data": {
            "text/html": [
              "<div>\n",
              "<style scoped>\n",
              "    .dataframe tbody tr th:only-of-type {\n",
              "        vertical-align: middle;\n",
              "    }\n",
              "\n",
              "    .dataframe tbody tr th {\n",
              "        vertical-align: top;\n",
              "    }\n",
              "\n",
              "    .dataframe thead th {\n",
              "        text-align: right;\n",
              "    }\n",
              "</style>\n",
              "<table border=\"1\" class=\"dataframe\">\n",
              "  <thead>\n",
              "    <tr style=\"text-align: right;\">\n",
              "      <th></th>\n",
              "      <th>Function_Aides Compensation</th>\n",
              "      <th>Function_Career &amp; Academic Counseling</th>\n",
              "      <th>Function_Communications</th>\n",
              "      <th>Function_Curriculum Development</th>\n",
              "      <th>Function_Data Processing &amp; Information Services</th>\n",
              "      <th>Function_Development &amp; Fundraising</th>\n",
              "      <th>Function_Enrichment</th>\n",
              "      <th>Function_Extended Time &amp; Tutoring</th>\n",
              "      <th>Function_Facilities &amp; Maintenance</th>\n",
              "      <th>Function_Facilities Planning</th>\n",
              "      <th>Function_Finance, Budget, Purchasing &amp; Distribution</th>\n",
              "      <th>Function_Food Services</th>\n",
              "      <th>Function_Governance</th>\n",
              "      <th>Function_Human Resources</th>\n",
              "      <th>Function_Instructional Materials &amp; Supplies</th>\n",
              "      <th>Function_Insurance</th>\n",
              "      <th>Function_Legal</th>\n",
              "      <th>Function_Library &amp; Media</th>\n",
              "      <th>Function_NO_LABEL</th>\n",
              "      <th>Function_Other Compensation</th>\n",
              "      <th>Function_Other Non-Compensation</th>\n",
              "      <th>Function_Parent &amp; Community Relations</th>\n",
              "      <th>Function_Physical Health &amp; Services</th>\n",
              "      <th>Function_Professional Development</th>\n",
              "      <th>Function_Recruitment</th>\n",
              "      <th>Function_Research &amp; Accountability</th>\n",
              "      <th>Function_School Administration</th>\n",
              "      <th>Function_School Supervision</th>\n",
              "      <th>Function_Security &amp; Safety</th>\n",
              "      <th>Function_Social &amp; Emotional</th>\n",
              "      <th>Function_Special Population Program Management &amp; Support</th>\n",
              "      <th>Function_Student Assignment</th>\n",
              "      <th>Function_Student Transportation</th>\n",
              "      <th>Function_Substitute Compensation</th>\n",
              "      <th>Function_Teacher Compensation</th>\n",
              "      <th>Function_Untracked Budget Set-Aside</th>\n",
              "      <th>Function_Utilities</th>\n",
              "      <th>Object_Type_Base Salary/Compensation</th>\n",
              "      <th>Object_Type_Benefits</th>\n",
              "      <th>Object_Type_Contracted Services</th>\n",
              "      <th>...</th>\n",
              "      <th>Position_Type_Other</th>\n",
              "      <th>Position_Type_Physical Therapist</th>\n",
              "      <th>Position_Type_Principal</th>\n",
              "      <th>Position_Type_Psychologist</th>\n",
              "      <th>Position_Type_School Monitor/Security</th>\n",
              "      <th>Position_Type_Sec/Clerk/Other Admin</th>\n",
              "      <th>Position_Type_Social Worker</th>\n",
              "      <th>Position_Type_Speech Therapist</th>\n",
              "      <th>Position_Type_Substitute</th>\n",
              "      <th>Position_Type_TA</th>\n",
              "      <th>Position_Type_Teacher</th>\n",
              "      <th>Position_Type_Vice Principal</th>\n",
              "      <th>Pre_K_NO_LABEL</th>\n",
              "      <th>Pre_K_Non PreK</th>\n",
              "      <th>Pre_K_PreK</th>\n",
              "      <th>Reporting_NO_LABEL</th>\n",
              "      <th>Reporting_Non-School</th>\n",
              "      <th>Reporting_School</th>\n",
              "      <th>Sharing_Leadership &amp; Management</th>\n",
              "      <th>Sharing_NO_LABEL</th>\n",
              "      <th>Sharing_School Reported</th>\n",
              "      <th>Sharing_School on Central Budgets</th>\n",
              "      <th>Sharing_Shared Services</th>\n",
              "      <th>Student_Type_Alternative</th>\n",
              "      <th>Student_Type_At Risk</th>\n",
              "      <th>Student_Type_ELL</th>\n",
              "      <th>Student_Type_Gifted</th>\n",
              "      <th>Student_Type_NO_LABEL</th>\n",
              "      <th>Student_Type_Poverty</th>\n",
              "      <th>Student_Type_PreK</th>\n",
              "      <th>Student_Type_Special Education</th>\n",
              "      <th>Student_Type_Unspecified</th>\n",
              "      <th>Use_Business Services</th>\n",
              "      <th>Use_ISPD</th>\n",
              "      <th>Use_Instruction</th>\n",
              "      <th>Use_Leadership</th>\n",
              "      <th>Use_NO_LABEL</th>\n",
              "      <th>Use_O&amp;M</th>\n",
              "      <th>Use_Pupil Services &amp; Enrichment</th>\n",
              "      <th>Use_Untracked Budget Set-Aside</th>\n",
              "    </tr>\n",
              "  </thead>\n",
              "  <tbody>\n",
              "    <tr>\n",
              "      <th>0</th>\n",
              "      <td>0</td>\n",
              "      <td>0</td>\n",
              "      <td>0</td>\n",
              "      <td>0</td>\n",
              "      <td>0</td>\n",
              "      <td>0</td>\n",
              "      <td>0</td>\n",
              "      <td>0</td>\n",
              "      <td>0</td>\n",
              "      <td>0</td>\n",
              "      <td>0</td>\n",
              "      <td>0</td>\n",
              "      <td>0</td>\n",
              "      <td>0</td>\n",
              "      <td>0</td>\n",
              "      <td>0</td>\n",
              "      <td>0</td>\n",
              "      <td>0</td>\n",
              "      <td>0</td>\n",
              "      <td>0</td>\n",
              "      <td>0</td>\n",
              "      <td>0</td>\n",
              "      <td>0</td>\n",
              "      <td>0</td>\n",
              "      <td>0</td>\n",
              "      <td>0</td>\n",
              "      <td>0</td>\n",
              "      <td>0</td>\n",
              "      <td>0</td>\n",
              "      <td>0</td>\n",
              "      <td>0</td>\n",
              "      <td>0</td>\n",
              "      <td>0</td>\n",
              "      <td>0</td>\n",
              "      <td>1</td>\n",
              "      <td>0</td>\n",
              "      <td>0</td>\n",
              "      <td>0</td>\n",
              "      <td>0</td>\n",
              "      <td>0</td>\n",
              "      <td>...</td>\n",
              "      <td>0</td>\n",
              "      <td>0</td>\n",
              "      <td>0</td>\n",
              "      <td>0</td>\n",
              "      <td>0</td>\n",
              "      <td>0</td>\n",
              "      <td>0</td>\n",
              "      <td>0</td>\n",
              "      <td>0</td>\n",
              "      <td>0</td>\n",
              "      <td>1</td>\n",
              "      <td>0</td>\n",
              "      <td>1</td>\n",
              "      <td>0</td>\n",
              "      <td>0</td>\n",
              "      <td>0</td>\n",
              "      <td>0</td>\n",
              "      <td>1</td>\n",
              "      <td>0</td>\n",
              "      <td>0</td>\n",
              "      <td>1</td>\n",
              "      <td>0</td>\n",
              "      <td>0</td>\n",
              "      <td>0</td>\n",
              "      <td>0</td>\n",
              "      <td>0</td>\n",
              "      <td>0</td>\n",
              "      <td>1</td>\n",
              "      <td>0</td>\n",
              "      <td>0</td>\n",
              "      <td>0</td>\n",
              "      <td>0</td>\n",
              "      <td>0</td>\n",
              "      <td>0</td>\n",
              "      <td>1</td>\n",
              "      <td>0</td>\n",
              "      <td>0</td>\n",
              "      <td>0</td>\n",
              "      <td>0</td>\n",
              "      <td>0</td>\n",
              "    </tr>\n",
              "    <tr>\n",
              "      <th>1</th>\n",
              "      <td>0</td>\n",
              "      <td>0</td>\n",
              "      <td>0</td>\n",
              "      <td>0</td>\n",
              "      <td>0</td>\n",
              "      <td>0</td>\n",
              "      <td>0</td>\n",
              "      <td>0</td>\n",
              "      <td>0</td>\n",
              "      <td>0</td>\n",
              "      <td>0</td>\n",
              "      <td>0</td>\n",
              "      <td>0</td>\n",
              "      <td>0</td>\n",
              "      <td>0</td>\n",
              "      <td>0</td>\n",
              "      <td>0</td>\n",
              "      <td>0</td>\n",
              "      <td>1</td>\n",
              "      <td>0</td>\n",
              "      <td>0</td>\n",
              "      <td>0</td>\n",
              "      <td>0</td>\n",
              "      <td>0</td>\n",
              "      <td>0</td>\n",
              "      <td>0</td>\n",
              "      <td>0</td>\n",
              "      <td>0</td>\n",
              "      <td>0</td>\n",
              "      <td>0</td>\n",
              "      <td>0</td>\n",
              "      <td>0</td>\n",
              "      <td>0</td>\n",
              "      <td>0</td>\n",
              "      <td>0</td>\n",
              "      <td>0</td>\n",
              "      <td>0</td>\n",
              "      <td>0</td>\n",
              "      <td>0</td>\n",
              "      <td>0</td>\n",
              "      <td>...</td>\n",
              "      <td>0</td>\n",
              "      <td>0</td>\n",
              "      <td>0</td>\n",
              "      <td>0</td>\n",
              "      <td>0</td>\n",
              "      <td>0</td>\n",
              "      <td>0</td>\n",
              "      <td>0</td>\n",
              "      <td>0</td>\n",
              "      <td>0</td>\n",
              "      <td>0</td>\n",
              "      <td>0</td>\n",
              "      <td>1</td>\n",
              "      <td>0</td>\n",
              "      <td>0</td>\n",
              "      <td>1</td>\n",
              "      <td>0</td>\n",
              "      <td>0</td>\n",
              "      <td>0</td>\n",
              "      <td>1</td>\n",
              "      <td>0</td>\n",
              "      <td>0</td>\n",
              "      <td>0</td>\n",
              "      <td>0</td>\n",
              "      <td>0</td>\n",
              "      <td>0</td>\n",
              "      <td>0</td>\n",
              "      <td>1</td>\n",
              "      <td>0</td>\n",
              "      <td>0</td>\n",
              "      <td>0</td>\n",
              "      <td>0</td>\n",
              "      <td>0</td>\n",
              "      <td>0</td>\n",
              "      <td>0</td>\n",
              "      <td>0</td>\n",
              "      <td>1</td>\n",
              "      <td>0</td>\n",
              "      <td>0</td>\n",
              "      <td>0</td>\n",
              "    </tr>\n",
              "    <tr>\n",
              "      <th>2</th>\n",
              "      <td>0</td>\n",
              "      <td>0</td>\n",
              "      <td>0</td>\n",
              "      <td>0</td>\n",
              "      <td>0</td>\n",
              "      <td>0</td>\n",
              "      <td>0</td>\n",
              "      <td>0</td>\n",
              "      <td>0</td>\n",
              "      <td>0</td>\n",
              "      <td>0</td>\n",
              "      <td>0</td>\n",
              "      <td>0</td>\n",
              "      <td>0</td>\n",
              "      <td>0</td>\n",
              "      <td>0</td>\n",
              "      <td>0</td>\n",
              "      <td>0</td>\n",
              "      <td>0</td>\n",
              "      <td>0</td>\n",
              "      <td>0</td>\n",
              "      <td>0</td>\n",
              "      <td>0</td>\n",
              "      <td>0</td>\n",
              "      <td>0</td>\n",
              "      <td>0</td>\n",
              "      <td>0</td>\n",
              "      <td>0</td>\n",
              "      <td>0</td>\n",
              "      <td>0</td>\n",
              "      <td>0</td>\n",
              "      <td>0</td>\n",
              "      <td>0</td>\n",
              "      <td>0</td>\n",
              "      <td>1</td>\n",
              "      <td>0</td>\n",
              "      <td>0</td>\n",
              "      <td>1</td>\n",
              "      <td>0</td>\n",
              "      <td>0</td>\n",
              "      <td>...</td>\n",
              "      <td>0</td>\n",
              "      <td>0</td>\n",
              "      <td>0</td>\n",
              "      <td>0</td>\n",
              "      <td>0</td>\n",
              "      <td>0</td>\n",
              "      <td>0</td>\n",
              "      <td>0</td>\n",
              "      <td>0</td>\n",
              "      <td>0</td>\n",
              "      <td>1</td>\n",
              "      <td>0</td>\n",
              "      <td>0</td>\n",
              "      <td>1</td>\n",
              "      <td>0</td>\n",
              "      <td>0</td>\n",
              "      <td>0</td>\n",
              "      <td>1</td>\n",
              "      <td>0</td>\n",
              "      <td>0</td>\n",
              "      <td>1</td>\n",
              "      <td>0</td>\n",
              "      <td>0</td>\n",
              "      <td>0</td>\n",
              "      <td>0</td>\n",
              "      <td>0</td>\n",
              "      <td>0</td>\n",
              "      <td>0</td>\n",
              "      <td>0</td>\n",
              "      <td>0</td>\n",
              "      <td>0</td>\n",
              "      <td>1</td>\n",
              "      <td>0</td>\n",
              "      <td>0</td>\n",
              "      <td>1</td>\n",
              "      <td>0</td>\n",
              "      <td>0</td>\n",
              "      <td>0</td>\n",
              "      <td>0</td>\n",
              "      <td>0</td>\n",
              "    </tr>\n",
              "    <tr>\n",
              "      <th>3</th>\n",
              "      <td>0</td>\n",
              "      <td>0</td>\n",
              "      <td>0</td>\n",
              "      <td>0</td>\n",
              "      <td>0</td>\n",
              "      <td>0</td>\n",
              "      <td>0</td>\n",
              "      <td>0</td>\n",
              "      <td>0</td>\n",
              "      <td>0</td>\n",
              "      <td>0</td>\n",
              "      <td>0</td>\n",
              "      <td>0</td>\n",
              "      <td>0</td>\n",
              "      <td>0</td>\n",
              "      <td>0</td>\n",
              "      <td>0</td>\n",
              "      <td>0</td>\n",
              "      <td>0</td>\n",
              "      <td>0</td>\n",
              "      <td>0</td>\n",
              "      <td>0</td>\n",
              "      <td>0</td>\n",
              "      <td>0</td>\n",
              "      <td>0</td>\n",
              "      <td>0</td>\n",
              "      <td>0</td>\n",
              "      <td>0</td>\n",
              "      <td>0</td>\n",
              "      <td>0</td>\n",
              "      <td>0</td>\n",
              "      <td>0</td>\n",
              "      <td>0</td>\n",
              "      <td>1</td>\n",
              "      <td>0</td>\n",
              "      <td>0</td>\n",
              "      <td>0</td>\n",
              "      <td>0</td>\n",
              "      <td>1</td>\n",
              "      <td>0</td>\n",
              "      <td>...</td>\n",
              "      <td>0</td>\n",
              "      <td>0</td>\n",
              "      <td>0</td>\n",
              "      <td>0</td>\n",
              "      <td>0</td>\n",
              "      <td>0</td>\n",
              "      <td>0</td>\n",
              "      <td>0</td>\n",
              "      <td>1</td>\n",
              "      <td>0</td>\n",
              "      <td>0</td>\n",
              "      <td>0</td>\n",
              "      <td>1</td>\n",
              "      <td>0</td>\n",
              "      <td>0</td>\n",
              "      <td>0</td>\n",
              "      <td>0</td>\n",
              "      <td>1</td>\n",
              "      <td>0</td>\n",
              "      <td>0</td>\n",
              "      <td>1</td>\n",
              "      <td>0</td>\n",
              "      <td>0</td>\n",
              "      <td>0</td>\n",
              "      <td>0</td>\n",
              "      <td>0</td>\n",
              "      <td>0</td>\n",
              "      <td>0</td>\n",
              "      <td>0</td>\n",
              "      <td>0</td>\n",
              "      <td>0</td>\n",
              "      <td>1</td>\n",
              "      <td>0</td>\n",
              "      <td>0</td>\n",
              "      <td>1</td>\n",
              "      <td>0</td>\n",
              "      <td>0</td>\n",
              "      <td>0</td>\n",
              "      <td>0</td>\n",
              "      <td>0</td>\n",
              "    </tr>\n",
              "    <tr>\n",
              "      <th>4</th>\n",
              "      <td>0</td>\n",
              "      <td>0</td>\n",
              "      <td>0</td>\n",
              "      <td>0</td>\n",
              "      <td>0</td>\n",
              "      <td>0</td>\n",
              "      <td>0</td>\n",
              "      <td>0</td>\n",
              "      <td>0</td>\n",
              "      <td>0</td>\n",
              "      <td>0</td>\n",
              "      <td>0</td>\n",
              "      <td>0</td>\n",
              "      <td>0</td>\n",
              "      <td>0</td>\n",
              "      <td>0</td>\n",
              "      <td>0</td>\n",
              "      <td>0</td>\n",
              "      <td>0</td>\n",
              "      <td>0</td>\n",
              "      <td>0</td>\n",
              "      <td>0</td>\n",
              "      <td>0</td>\n",
              "      <td>0</td>\n",
              "      <td>0</td>\n",
              "      <td>0</td>\n",
              "      <td>0</td>\n",
              "      <td>0</td>\n",
              "      <td>0</td>\n",
              "      <td>0</td>\n",
              "      <td>0</td>\n",
              "      <td>0</td>\n",
              "      <td>0</td>\n",
              "      <td>1</td>\n",
              "      <td>0</td>\n",
              "      <td>0</td>\n",
              "      <td>0</td>\n",
              "      <td>0</td>\n",
              "      <td>0</td>\n",
              "      <td>0</td>\n",
              "      <td>...</td>\n",
              "      <td>0</td>\n",
              "      <td>0</td>\n",
              "      <td>0</td>\n",
              "      <td>0</td>\n",
              "      <td>0</td>\n",
              "      <td>0</td>\n",
              "      <td>0</td>\n",
              "      <td>0</td>\n",
              "      <td>0</td>\n",
              "      <td>0</td>\n",
              "      <td>1</td>\n",
              "      <td>0</td>\n",
              "      <td>1</td>\n",
              "      <td>0</td>\n",
              "      <td>0</td>\n",
              "      <td>0</td>\n",
              "      <td>0</td>\n",
              "      <td>1</td>\n",
              "      <td>0</td>\n",
              "      <td>0</td>\n",
              "      <td>1</td>\n",
              "      <td>0</td>\n",
              "      <td>0</td>\n",
              "      <td>0</td>\n",
              "      <td>0</td>\n",
              "      <td>0</td>\n",
              "      <td>0</td>\n",
              "      <td>0</td>\n",
              "      <td>0</td>\n",
              "      <td>0</td>\n",
              "      <td>0</td>\n",
              "      <td>1</td>\n",
              "      <td>0</td>\n",
              "      <td>0</td>\n",
              "      <td>1</td>\n",
              "      <td>0</td>\n",
              "      <td>0</td>\n",
              "      <td>0</td>\n",
              "      <td>0</td>\n",
              "      <td>0</td>\n",
              "    </tr>\n",
              "  </tbody>\n",
              "</table>\n",
              "<p>5 rows × 104 columns</p>\n",
              "</div>"
            ],
            "text/plain": [
              "   Function_Aides Compensation  ...  Use_Untracked Budget Set-Aside\n",
              "0                            0  ...                               0\n",
              "1                            0  ...                               0\n",
              "2                            0  ...                               0\n",
              "3                            0  ...                               0\n",
              "4                            0  ...                               0\n",
              "\n",
              "[5 rows x 104 columns]"
            ]
          },
          "metadata": {
            "tags": []
          },
          "execution_count": 77
        }
      ]
    },
    {
      "cell_type": "code",
      "metadata": {
        "id": "nukqkmSLg1M_",
        "colab_type": "code",
        "outputId": "3f78079d-0089-44b6-986b-58d151b6d10f",
        "colab": {
          "base_uri": "https://localhost:8080/",
          "height": 360
        }
      },
      "source": [
        "train_X.head()"
      ],
      "execution_count": 78,
      "outputs": [
        {
          "output_type": "execute_result",
          "data": {
            "text/html": [
              "<div>\n",
              "<style scoped>\n",
              "    .dataframe tbody tr th:only-of-type {\n",
              "        vertical-align: middle;\n",
              "    }\n",
              "\n",
              "    .dataframe tbody tr th {\n",
              "        vertical-align: top;\n",
              "    }\n",
              "\n",
              "    .dataframe thead th {\n",
              "        text-align: right;\n",
              "    }\n",
              "</style>\n",
              "<table border=\"1\" class=\"dataframe\">\n",
              "  <thead>\n",
              "    <tr style=\"text-align: right;\">\n",
              "      <th></th>\n",
              "      <th>Unnamed: 0</th>\n",
              "      <th>Object_Description</th>\n",
              "      <th>Text_2</th>\n",
              "      <th>SubFund_Description</th>\n",
              "      <th>Job_Title_Description</th>\n",
              "      <th>Text_3</th>\n",
              "      <th>Text_4</th>\n",
              "      <th>Sub_Object_Description</th>\n",
              "      <th>Location_Description</th>\n",
              "      <th>FTE</th>\n",
              "      <th>Function_Description</th>\n",
              "      <th>Facility_or_Department</th>\n",
              "      <th>Position_Extra</th>\n",
              "      <th>Total</th>\n",
              "      <th>Program_Description</th>\n",
              "      <th>Fund_Description</th>\n",
              "      <th>Text_1</th>\n",
              "    </tr>\n",
              "  </thead>\n",
              "  <tbody>\n",
              "    <tr>\n",
              "      <th>0</th>\n",
              "      <td>134338</td>\n",
              "      <td>NaN</td>\n",
              "      <td>NaN</td>\n",
              "      <td>NaN</td>\n",
              "      <td>Teacher-Elementary</td>\n",
              "      <td>NaN</td>\n",
              "      <td>NaN</td>\n",
              "      <td>NaN</td>\n",
              "      <td>NaN</td>\n",
              "      <td>1.0</td>\n",
              "      <td>NaN</td>\n",
              "      <td>NaN</td>\n",
              "      <td>KINDERGARTEN</td>\n",
              "      <td>50471.810</td>\n",
              "      <td>KINDERGARTEN</td>\n",
              "      <td>General Fund</td>\n",
              "      <td>NaN</td>\n",
              "    </tr>\n",
              "    <tr>\n",
              "      <th>1</th>\n",
              "      <td>206341</td>\n",
              "      <td>CONTRACTOR SERVICES</td>\n",
              "      <td>BOND EXPENDITURES</td>\n",
              "      <td>BUILDING FUND</td>\n",
              "      <td>(blank)</td>\n",
              "      <td>Regular</td>\n",
              "      <td>NaN</td>\n",
              "      <td>NaN</td>\n",
              "      <td>NaN</td>\n",
              "      <td>NaN</td>\n",
              "      <td>RGN  GOB</td>\n",
              "      <td>NaN</td>\n",
              "      <td>UNDESIGNATED</td>\n",
              "      <td>3477.860</td>\n",
              "      <td>BUILDING IMPROVEMENT SERVICES</td>\n",
              "      <td>NaN</td>\n",
              "      <td>BUILDING IMPROVEMENT SERVICES</td>\n",
              "    </tr>\n",
              "    <tr>\n",
              "      <th>2</th>\n",
              "      <td>326408</td>\n",
              "      <td>Personal Services - Teachers</td>\n",
              "      <td>NaN</td>\n",
              "      <td>NaN</td>\n",
              "      <td>TCHER 2ND GRADE</td>\n",
              "      <td>NaN</td>\n",
              "      <td>Regular Instruction</td>\n",
              "      <td>NaN</td>\n",
              "      <td>NaN</td>\n",
              "      <td>1.0</td>\n",
              "      <td>NaN</td>\n",
              "      <td>NaN</td>\n",
              "      <td>TEACHER</td>\n",
              "      <td>62237.130</td>\n",
              "      <td>Instruction - Regular</td>\n",
              "      <td>General Purpose School</td>\n",
              "      <td>NaN</td>\n",
              "    </tr>\n",
              "    <tr>\n",
              "      <th>3</th>\n",
              "      <td>364634</td>\n",
              "      <td>EMPLOYEE BENEFITS</td>\n",
              "      <td>TEACHER SUBS</td>\n",
              "      <td>GENERAL FUND</td>\n",
              "      <td>Teacher, Short Term Sub</td>\n",
              "      <td>Regular</td>\n",
              "      <td>NaN</td>\n",
              "      <td>NaN</td>\n",
              "      <td>NaN</td>\n",
              "      <td>NaN</td>\n",
              "      <td>UNALLOC BUDGETS/SCHOOLS</td>\n",
              "      <td>NaN</td>\n",
              "      <td>PROFESSIONAL-INSTRUCTIONAL</td>\n",
              "      <td>22.300</td>\n",
              "      <td>GENERAL MIDDLE/JUNIOR HIGH SCH</td>\n",
              "      <td>NaN</td>\n",
              "      <td>REGULAR INSTRUCTION</td>\n",
              "    </tr>\n",
              "    <tr>\n",
              "      <th>4</th>\n",
              "      <td>47683</td>\n",
              "      <td>TEACHER COVERAGE FOR TEACHER</td>\n",
              "      <td>TEACHER SUBS</td>\n",
              "      <td>GENERAL FUND</td>\n",
              "      <td>Teacher, Secondary (High)</td>\n",
              "      <td>Alternative</td>\n",
              "      <td>NaN</td>\n",
              "      <td>NaN</td>\n",
              "      <td>NaN</td>\n",
              "      <td>NaN</td>\n",
              "      <td>NON-PROJECT</td>\n",
              "      <td>NaN</td>\n",
              "      <td>PROFESSIONAL-INSTRUCTIONAL</td>\n",
              "      <td>54.166</td>\n",
              "      <td>GENERAL HIGH SCHOOL EDUCATION</td>\n",
              "      <td>NaN</td>\n",
              "      <td>REGULAR INSTRUCTION</td>\n",
              "    </tr>\n",
              "  </tbody>\n",
              "</table>\n",
              "</div>"
            ],
            "text/plain": [
              "   Unnamed: 0  ...                         Text_1\n",
              "0      134338  ...                            NaN\n",
              "1      206341  ...  BUILDING IMPROVEMENT SERVICES\n",
              "2      326408  ...                            NaN\n",
              "3      364634  ...            REGULAR INSTRUCTION\n",
              "4       47683  ...            REGULAR INSTRUCTION\n",
              "\n",
              "[5 rows x 17 columns]"
            ]
          },
          "metadata": {
            "tags": []
          },
          "execution_count": 78
        }
      ]
    },
    {
      "cell_type": "code",
      "metadata": {
        "id": "Zk-L1mYtisbZ",
        "colab_type": "code",
        "colab": {}
      },
      "source": [
        "numeric_feature = train_X[['FTE', 'Total']]\n",
        "char_feature = train_X.drop(['FTE', 'Total'], axis=1)"
      ],
      "execution_count": 0,
      "outputs": []
    },
    {
      "cell_type": "code",
      "metadata": {
        "id": "HWRbKwWQiqpE",
        "colab_type": "code",
        "colab": {}
      },
      "source": [
        "char_feature.fillna('', inplace=True)"
      ],
      "execution_count": 0,
      "outputs": []
    },
    {
      "cell_type": "code",
      "metadata": {
        "id": "sAn2Ir8-eQgK",
        "colab_type": "code",
        "outputId": "129f2107-b74b-4003-c32b-9ac883f0a30c",
        "colab": {
          "base_uri": "https://localhost:8080/",
          "height": 360
        }
      },
      "source": [
        "char_feature.head()"
      ],
      "execution_count": 81,
      "outputs": [
        {
          "output_type": "execute_result",
          "data": {
            "text/html": [
              "<div>\n",
              "<style scoped>\n",
              "    .dataframe tbody tr th:only-of-type {\n",
              "        vertical-align: middle;\n",
              "    }\n",
              "\n",
              "    .dataframe tbody tr th {\n",
              "        vertical-align: top;\n",
              "    }\n",
              "\n",
              "    .dataframe thead th {\n",
              "        text-align: right;\n",
              "    }\n",
              "</style>\n",
              "<table border=\"1\" class=\"dataframe\">\n",
              "  <thead>\n",
              "    <tr style=\"text-align: right;\">\n",
              "      <th></th>\n",
              "      <th>Unnamed: 0</th>\n",
              "      <th>Object_Description</th>\n",
              "      <th>Text_2</th>\n",
              "      <th>SubFund_Description</th>\n",
              "      <th>Job_Title_Description</th>\n",
              "      <th>Text_3</th>\n",
              "      <th>Text_4</th>\n",
              "      <th>Sub_Object_Description</th>\n",
              "      <th>Location_Description</th>\n",
              "      <th>Function_Description</th>\n",
              "      <th>Facility_or_Department</th>\n",
              "      <th>Position_Extra</th>\n",
              "      <th>Program_Description</th>\n",
              "      <th>Fund_Description</th>\n",
              "      <th>Text_1</th>\n",
              "    </tr>\n",
              "  </thead>\n",
              "  <tbody>\n",
              "    <tr>\n",
              "      <th>0</th>\n",
              "      <td>134338</td>\n",
              "      <td></td>\n",
              "      <td></td>\n",
              "      <td></td>\n",
              "      <td>Teacher-Elementary</td>\n",
              "      <td></td>\n",
              "      <td></td>\n",
              "      <td></td>\n",
              "      <td></td>\n",
              "      <td></td>\n",
              "      <td></td>\n",
              "      <td>KINDERGARTEN</td>\n",
              "      <td>KINDERGARTEN</td>\n",
              "      <td>General Fund</td>\n",
              "      <td></td>\n",
              "    </tr>\n",
              "    <tr>\n",
              "      <th>1</th>\n",
              "      <td>206341</td>\n",
              "      <td>CONTRACTOR SERVICES</td>\n",
              "      <td>BOND EXPENDITURES</td>\n",
              "      <td>BUILDING FUND</td>\n",
              "      <td>(blank)</td>\n",
              "      <td>Regular</td>\n",
              "      <td></td>\n",
              "      <td></td>\n",
              "      <td></td>\n",
              "      <td>RGN  GOB</td>\n",
              "      <td></td>\n",
              "      <td>UNDESIGNATED</td>\n",
              "      <td>BUILDING IMPROVEMENT SERVICES</td>\n",
              "      <td></td>\n",
              "      <td>BUILDING IMPROVEMENT SERVICES</td>\n",
              "    </tr>\n",
              "    <tr>\n",
              "      <th>2</th>\n",
              "      <td>326408</td>\n",
              "      <td>Personal Services - Teachers</td>\n",
              "      <td></td>\n",
              "      <td></td>\n",
              "      <td>TCHER 2ND GRADE</td>\n",
              "      <td></td>\n",
              "      <td>Regular Instruction</td>\n",
              "      <td></td>\n",
              "      <td></td>\n",
              "      <td></td>\n",
              "      <td></td>\n",
              "      <td>TEACHER</td>\n",
              "      <td>Instruction - Regular</td>\n",
              "      <td>General Purpose School</td>\n",
              "      <td></td>\n",
              "    </tr>\n",
              "    <tr>\n",
              "      <th>3</th>\n",
              "      <td>364634</td>\n",
              "      <td>EMPLOYEE BENEFITS</td>\n",
              "      <td>TEACHER SUBS</td>\n",
              "      <td>GENERAL FUND</td>\n",
              "      <td>Teacher, Short Term Sub</td>\n",
              "      <td>Regular</td>\n",
              "      <td></td>\n",
              "      <td></td>\n",
              "      <td></td>\n",
              "      <td>UNALLOC BUDGETS/SCHOOLS</td>\n",
              "      <td></td>\n",
              "      <td>PROFESSIONAL-INSTRUCTIONAL</td>\n",
              "      <td>GENERAL MIDDLE/JUNIOR HIGH SCH</td>\n",
              "      <td></td>\n",
              "      <td>REGULAR INSTRUCTION</td>\n",
              "    </tr>\n",
              "    <tr>\n",
              "      <th>4</th>\n",
              "      <td>47683</td>\n",
              "      <td>TEACHER COVERAGE FOR TEACHER</td>\n",
              "      <td>TEACHER SUBS</td>\n",
              "      <td>GENERAL FUND</td>\n",
              "      <td>Teacher, Secondary (High)</td>\n",
              "      <td>Alternative</td>\n",
              "      <td></td>\n",
              "      <td></td>\n",
              "      <td></td>\n",
              "      <td>NON-PROJECT</td>\n",
              "      <td></td>\n",
              "      <td>PROFESSIONAL-INSTRUCTIONAL</td>\n",
              "      <td>GENERAL HIGH SCHOOL EDUCATION</td>\n",
              "      <td></td>\n",
              "      <td>REGULAR INSTRUCTION</td>\n",
              "    </tr>\n",
              "  </tbody>\n",
              "</table>\n",
              "</div>"
            ],
            "text/plain": [
              "   Unnamed: 0  ...                         Text_1\n",
              "0      134338  ...                               \n",
              "1      206341  ...  BUILDING IMPROVEMENT SERVICES\n",
              "2      326408  ...                               \n",
              "3      364634  ...            REGULAR INSTRUCTION\n",
              "4       47683  ...            REGULAR INSTRUCTION\n",
              "\n",
              "[5 rows x 15 columns]"
            ]
          },
          "metadata": {
            "tags": []
          },
          "execution_count": 81
        }
      ]
    },
    {
      "cell_type": "code",
      "metadata": {
        "id": "MKccX0Ejiv4l",
        "colab_type": "code",
        "colab": {}
      },
      "source": [
        "char_feature.index = train_X['Unnamed: 0']\n",
        "char_feature.drop('Unnamed: 0', axis=1, inplace=True)"
      ],
      "execution_count": 0,
      "outputs": []
    },
    {
      "cell_type": "code",
      "metadata": {
        "id": "0Vr7KEZPfXG-",
        "colab_type": "code",
        "outputId": "84c55859-ad77-475f-d9a0-866f89e6cedd",
        "colab": {
          "base_uri": "https://localhost:8080/",
          "height": 391
        }
      },
      "source": [
        "char_feature.head()"
      ],
      "execution_count": 83,
      "outputs": [
        {
          "output_type": "execute_result",
          "data": {
            "text/html": [
              "<div>\n",
              "<style scoped>\n",
              "    .dataframe tbody tr th:only-of-type {\n",
              "        vertical-align: middle;\n",
              "    }\n",
              "\n",
              "    .dataframe tbody tr th {\n",
              "        vertical-align: top;\n",
              "    }\n",
              "\n",
              "    .dataframe thead th {\n",
              "        text-align: right;\n",
              "    }\n",
              "</style>\n",
              "<table border=\"1\" class=\"dataframe\">\n",
              "  <thead>\n",
              "    <tr style=\"text-align: right;\">\n",
              "      <th></th>\n",
              "      <th>Object_Description</th>\n",
              "      <th>Text_2</th>\n",
              "      <th>SubFund_Description</th>\n",
              "      <th>Job_Title_Description</th>\n",
              "      <th>Text_3</th>\n",
              "      <th>Text_4</th>\n",
              "      <th>Sub_Object_Description</th>\n",
              "      <th>Location_Description</th>\n",
              "      <th>Function_Description</th>\n",
              "      <th>Facility_or_Department</th>\n",
              "      <th>Position_Extra</th>\n",
              "      <th>Program_Description</th>\n",
              "      <th>Fund_Description</th>\n",
              "      <th>Text_1</th>\n",
              "    </tr>\n",
              "    <tr>\n",
              "      <th>Unnamed: 0</th>\n",
              "      <th></th>\n",
              "      <th></th>\n",
              "      <th></th>\n",
              "      <th></th>\n",
              "      <th></th>\n",
              "      <th></th>\n",
              "      <th></th>\n",
              "      <th></th>\n",
              "      <th></th>\n",
              "      <th></th>\n",
              "      <th></th>\n",
              "      <th></th>\n",
              "      <th></th>\n",
              "      <th></th>\n",
              "    </tr>\n",
              "  </thead>\n",
              "  <tbody>\n",
              "    <tr>\n",
              "      <th>134338</th>\n",
              "      <td></td>\n",
              "      <td></td>\n",
              "      <td></td>\n",
              "      <td>Teacher-Elementary</td>\n",
              "      <td></td>\n",
              "      <td></td>\n",
              "      <td></td>\n",
              "      <td></td>\n",
              "      <td></td>\n",
              "      <td></td>\n",
              "      <td>KINDERGARTEN</td>\n",
              "      <td>KINDERGARTEN</td>\n",
              "      <td>General Fund</td>\n",
              "      <td></td>\n",
              "    </tr>\n",
              "    <tr>\n",
              "      <th>206341</th>\n",
              "      <td>CONTRACTOR SERVICES</td>\n",
              "      <td>BOND EXPENDITURES</td>\n",
              "      <td>BUILDING FUND</td>\n",
              "      <td>(blank)</td>\n",
              "      <td>Regular</td>\n",
              "      <td></td>\n",
              "      <td></td>\n",
              "      <td></td>\n",
              "      <td>RGN  GOB</td>\n",
              "      <td></td>\n",
              "      <td>UNDESIGNATED</td>\n",
              "      <td>BUILDING IMPROVEMENT SERVICES</td>\n",
              "      <td></td>\n",
              "      <td>BUILDING IMPROVEMENT SERVICES</td>\n",
              "    </tr>\n",
              "    <tr>\n",
              "      <th>326408</th>\n",
              "      <td>Personal Services - Teachers</td>\n",
              "      <td></td>\n",
              "      <td></td>\n",
              "      <td>TCHER 2ND GRADE</td>\n",
              "      <td></td>\n",
              "      <td>Regular Instruction</td>\n",
              "      <td></td>\n",
              "      <td></td>\n",
              "      <td></td>\n",
              "      <td></td>\n",
              "      <td>TEACHER</td>\n",
              "      <td>Instruction - Regular</td>\n",
              "      <td>General Purpose School</td>\n",
              "      <td></td>\n",
              "    </tr>\n",
              "    <tr>\n",
              "      <th>364634</th>\n",
              "      <td>EMPLOYEE BENEFITS</td>\n",
              "      <td>TEACHER SUBS</td>\n",
              "      <td>GENERAL FUND</td>\n",
              "      <td>Teacher, Short Term Sub</td>\n",
              "      <td>Regular</td>\n",
              "      <td></td>\n",
              "      <td></td>\n",
              "      <td></td>\n",
              "      <td>UNALLOC BUDGETS/SCHOOLS</td>\n",
              "      <td></td>\n",
              "      <td>PROFESSIONAL-INSTRUCTIONAL</td>\n",
              "      <td>GENERAL MIDDLE/JUNIOR HIGH SCH</td>\n",
              "      <td></td>\n",
              "      <td>REGULAR INSTRUCTION</td>\n",
              "    </tr>\n",
              "    <tr>\n",
              "      <th>47683</th>\n",
              "      <td>TEACHER COVERAGE FOR TEACHER</td>\n",
              "      <td>TEACHER SUBS</td>\n",
              "      <td>GENERAL FUND</td>\n",
              "      <td>Teacher, Secondary (High)</td>\n",
              "      <td>Alternative</td>\n",
              "      <td></td>\n",
              "      <td></td>\n",
              "      <td></td>\n",
              "      <td>NON-PROJECT</td>\n",
              "      <td></td>\n",
              "      <td>PROFESSIONAL-INSTRUCTIONAL</td>\n",
              "      <td>GENERAL HIGH SCHOOL EDUCATION</td>\n",
              "      <td></td>\n",
              "      <td>REGULAR INSTRUCTION</td>\n",
              "    </tr>\n",
              "  </tbody>\n",
              "</table>\n",
              "</div>"
            ],
            "text/plain": [
              "                      Object_Description  ...                         Text_1\n",
              "Unnamed: 0                                ...                               \n",
              "134338                                    ...                               \n",
              "206341               CONTRACTOR SERVICES  ...  BUILDING IMPROVEMENT SERVICES\n",
              "326408      Personal Services - Teachers  ...                               \n",
              "364634                 EMPLOYEE BENEFITS  ...            REGULAR INSTRUCTION\n",
              "47683       TEACHER COVERAGE FOR TEACHER  ...            REGULAR INSTRUCTION\n",
              "\n",
              "[5 rows x 14 columns]"
            ]
          },
          "metadata": {
            "tags": []
          },
          "execution_count": 83
        }
      ]
    },
    {
      "cell_type": "code",
      "metadata": {
        "id": "EpOoK_LcfYvM",
        "colab_type": "code",
        "outputId": "1be09ff7-c0ee-4817-e726-6eecefcfb19d",
        "colab": {
          "base_uri": "https://localhost:8080/",
          "height": 204
        }
      },
      "source": [
        "numeric_feature.head()"
      ],
      "execution_count": 84,
      "outputs": [
        {
          "output_type": "execute_result",
          "data": {
            "text/html": [
              "<div>\n",
              "<style scoped>\n",
              "    .dataframe tbody tr th:only-of-type {\n",
              "        vertical-align: middle;\n",
              "    }\n",
              "\n",
              "    .dataframe tbody tr th {\n",
              "        vertical-align: top;\n",
              "    }\n",
              "\n",
              "    .dataframe thead th {\n",
              "        text-align: right;\n",
              "    }\n",
              "</style>\n",
              "<table border=\"1\" class=\"dataframe\">\n",
              "  <thead>\n",
              "    <tr style=\"text-align: right;\">\n",
              "      <th></th>\n",
              "      <th>FTE</th>\n",
              "      <th>Total</th>\n",
              "    </tr>\n",
              "  </thead>\n",
              "  <tbody>\n",
              "    <tr>\n",
              "      <th>0</th>\n",
              "      <td>1.0</td>\n",
              "      <td>50471.810</td>\n",
              "    </tr>\n",
              "    <tr>\n",
              "      <th>1</th>\n",
              "      <td>NaN</td>\n",
              "      <td>3477.860</td>\n",
              "    </tr>\n",
              "    <tr>\n",
              "      <th>2</th>\n",
              "      <td>1.0</td>\n",
              "      <td>62237.130</td>\n",
              "    </tr>\n",
              "    <tr>\n",
              "      <th>3</th>\n",
              "      <td>NaN</td>\n",
              "      <td>22.300</td>\n",
              "    </tr>\n",
              "    <tr>\n",
              "      <th>4</th>\n",
              "      <td>NaN</td>\n",
              "      <td>54.166</td>\n",
              "    </tr>\n",
              "  </tbody>\n",
              "</table>\n",
              "</div>"
            ],
            "text/plain": [
              "   FTE      Total\n",
              "0  1.0  50471.810\n",
              "1  NaN   3477.860\n",
              "2  1.0  62237.130\n",
              "3  NaN     22.300\n",
              "4  NaN     54.166"
            ]
          },
          "metadata": {
            "tags": []
          },
          "execution_count": 84
        }
      ]
    },
    {
      "cell_type": "code",
      "metadata": {
        "id": "HX22yY4h00zR",
        "colab_type": "code",
        "colab": {}
      },
      "source": [
        "numeric_feature.index = train_X['Unnamed: 0']"
      ],
      "execution_count": 0,
      "outputs": []
    },
    {
      "cell_type": "code",
      "metadata": {
        "id": "TqP5_kMh08h_",
        "colab_type": "code",
        "outputId": "4d83f827-12b9-479b-eea6-42222aefc213",
        "colab": {
          "base_uri": "https://localhost:8080/",
          "height": 235
        }
      },
      "source": [
        "numeric_feature.head()"
      ],
      "execution_count": 86,
      "outputs": [
        {
          "output_type": "execute_result",
          "data": {
            "text/html": [
              "<div>\n",
              "<style scoped>\n",
              "    .dataframe tbody tr th:only-of-type {\n",
              "        vertical-align: middle;\n",
              "    }\n",
              "\n",
              "    .dataframe tbody tr th {\n",
              "        vertical-align: top;\n",
              "    }\n",
              "\n",
              "    .dataframe thead th {\n",
              "        text-align: right;\n",
              "    }\n",
              "</style>\n",
              "<table border=\"1\" class=\"dataframe\">\n",
              "  <thead>\n",
              "    <tr style=\"text-align: right;\">\n",
              "      <th></th>\n",
              "      <th>FTE</th>\n",
              "      <th>Total</th>\n",
              "    </tr>\n",
              "    <tr>\n",
              "      <th>Unnamed: 0</th>\n",
              "      <th></th>\n",
              "      <th></th>\n",
              "    </tr>\n",
              "  </thead>\n",
              "  <tbody>\n",
              "    <tr>\n",
              "      <th>134338</th>\n",
              "      <td>1.0</td>\n",
              "      <td>50471.810</td>\n",
              "    </tr>\n",
              "    <tr>\n",
              "      <th>206341</th>\n",
              "      <td>NaN</td>\n",
              "      <td>3477.860</td>\n",
              "    </tr>\n",
              "    <tr>\n",
              "      <th>326408</th>\n",
              "      <td>1.0</td>\n",
              "      <td>62237.130</td>\n",
              "    </tr>\n",
              "    <tr>\n",
              "      <th>364634</th>\n",
              "      <td>NaN</td>\n",
              "      <td>22.300</td>\n",
              "    </tr>\n",
              "    <tr>\n",
              "      <th>47683</th>\n",
              "      <td>NaN</td>\n",
              "      <td>54.166</td>\n",
              "    </tr>\n",
              "  </tbody>\n",
              "</table>\n",
              "</div>"
            ],
            "text/plain": [
              "            FTE      Total\n",
              "Unnamed: 0                \n",
              "134338      1.0  50471.810\n",
              "206341      NaN   3477.860\n",
              "326408      1.0  62237.130\n",
              "364634      NaN     22.300\n",
              "47683       NaN     54.166"
            ]
          },
          "metadata": {
            "tags": []
          },
          "execution_count": 86
        }
      ]
    },
    {
      "cell_type": "code",
      "metadata": {
        "id": "PAJt5ld-hnH-",
        "colab_type": "code",
        "colab": {}
      },
      "source": [
        "numeric_feature['FTE'] = numeric_feature['FTE'].fillna(numeric_feature['FTE'].mean())\n",
        "numeric_feature['Total'] = numeric_feature['Total'].fillna(numeric_feature['Total'].mean())"
      ],
      "execution_count": 0,
      "outputs": []
    },
    {
      "cell_type": "code",
      "metadata": {
        "id": "wSdmNpi5h10G",
        "colab_type": "code",
        "outputId": "735aea28-6a70-43a0-b0e3-6b3628815f67",
        "colab": {
          "base_uri": "https://localhost:8080/",
          "height": 235
        }
      },
      "source": [
        "numeric_feature.head()"
      ],
      "execution_count": 88,
      "outputs": [
        {
          "output_type": "execute_result",
          "data": {
            "text/html": [
              "<div>\n",
              "<style scoped>\n",
              "    .dataframe tbody tr th:only-of-type {\n",
              "        vertical-align: middle;\n",
              "    }\n",
              "\n",
              "    .dataframe tbody tr th {\n",
              "        vertical-align: top;\n",
              "    }\n",
              "\n",
              "    .dataframe thead th {\n",
              "        text-align: right;\n",
              "    }\n",
              "</style>\n",
              "<table border=\"1\" class=\"dataframe\">\n",
              "  <thead>\n",
              "    <tr style=\"text-align: right;\">\n",
              "      <th></th>\n",
              "      <th>FTE</th>\n",
              "      <th>Total</th>\n",
              "    </tr>\n",
              "    <tr>\n",
              "      <th>Unnamed: 0</th>\n",
              "      <th></th>\n",
              "      <th></th>\n",
              "    </tr>\n",
              "  </thead>\n",
              "  <tbody>\n",
              "    <tr>\n",
              "      <th>134338</th>\n",
              "      <td>1.000000</td>\n",
              "      <td>50471.810</td>\n",
              "    </tr>\n",
              "    <tr>\n",
              "      <th>206341</th>\n",
              "      <td>0.426794</td>\n",
              "      <td>3477.860</td>\n",
              "    </tr>\n",
              "    <tr>\n",
              "      <th>326408</th>\n",
              "      <td>1.000000</td>\n",
              "      <td>62237.130</td>\n",
              "    </tr>\n",
              "    <tr>\n",
              "      <th>364634</th>\n",
              "      <td>0.426794</td>\n",
              "      <td>22.300</td>\n",
              "    </tr>\n",
              "    <tr>\n",
              "      <th>47683</th>\n",
              "      <td>0.426794</td>\n",
              "      <td>54.166</td>\n",
              "    </tr>\n",
              "  </tbody>\n",
              "</table>\n",
              "</div>"
            ],
            "text/plain": [
              "                 FTE      Total\n",
              "Unnamed: 0                     \n",
              "134338      1.000000  50471.810\n",
              "206341      0.426794   3477.860\n",
              "326408      1.000000  62237.130\n",
              "364634      0.426794     22.300\n",
              "47683       0.426794     54.166"
            ]
          },
          "metadata": {
            "tags": []
          },
          "execution_count": 88
        }
      ]
    },
    {
      "cell_type": "code",
      "metadata": {
        "id": "_UFxro3qh5lN",
        "colab_type": "code",
        "colab": {}
      },
      "source": [
        "numeric_scaler = StandardScaler()"
      ],
      "execution_count": 0,
      "outputs": []
    },
    {
      "cell_type": "code",
      "metadata": {
        "id": "oiQlakgriDDF",
        "colab_type": "code",
        "colab": {}
      },
      "source": [
        "numeric_scaled = numeric_scaler.fit_transform(numeric_feature)"
      ],
      "execution_count": 0,
      "outputs": []
    },
    {
      "cell_type": "code",
      "metadata": {
        "id": "pSG2OVqyiKvF",
        "colab_type": "code",
        "colab": {}
      },
      "source": [
        "numeric_feature = pd.DataFrame(numeric_scaled, index = numeric_feature.index)"
      ],
      "execution_count": 0,
      "outputs": []
    },
    {
      "cell_type": "code",
      "metadata": {
        "id": "QJch5VSLiW4s",
        "colab_type": "code",
        "outputId": "6c9a4729-1729-4607-ce37-f7a308ad7022",
        "colab": {
          "base_uri": "https://localhost:8080/",
          "height": 235
        }
      },
      "source": [
        "numeric_feature.head()"
      ],
      "execution_count": 92,
      "outputs": [
        {
          "output_type": "execute_result",
          "data": {
            "text/html": [
              "<div>\n",
              "<style scoped>\n",
              "    .dataframe tbody tr th:only-of-type {\n",
              "        vertical-align: middle;\n",
              "    }\n",
              "\n",
              "    .dataframe tbody tr th {\n",
              "        vertical-align: top;\n",
              "    }\n",
              "\n",
              "    .dataframe thead th {\n",
              "        text-align: right;\n",
              "    }\n",
              "</style>\n",
              "<table border=\"1\" class=\"dataframe\">\n",
              "  <thead>\n",
              "    <tr style=\"text-align: right;\">\n",
              "      <th></th>\n",
              "      <th>0</th>\n",
              "      <th>1</th>\n",
              "    </tr>\n",
              "    <tr>\n",
              "      <th>Unnamed: 0</th>\n",
              "      <th></th>\n",
              "      <th></th>\n",
              "    </tr>\n",
              "  </thead>\n",
              "  <tbody>\n",
              "    <tr>\n",
              "      <th>134338</th>\n",
              "      <td>1.780716e+00</td>\n",
              "      <td>0.102058</td>\n",
              "    </tr>\n",
              "    <tr>\n",
              "      <th>206341</th>\n",
              "      <td>-6.760054e-14</td>\n",
              "      <td>-0.026297</td>\n",
              "    </tr>\n",
              "    <tr>\n",
              "      <th>326408</th>\n",
              "      <td>1.780716e+00</td>\n",
              "      <td>0.134193</td>\n",
              "    </tr>\n",
              "    <tr>\n",
              "      <th>364634</th>\n",
              "      <td>-6.760054e-14</td>\n",
              "      <td>-0.035735</td>\n",
              "    </tr>\n",
              "    <tr>\n",
              "      <th>47683</th>\n",
              "      <td>-6.760054e-14</td>\n",
              "      <td>-0.035648</td>\n",
              "    </tr>\n",
              "  </tbody>\n",
              "</table>\n",
              "</div>"
            ],
            "text/plain": [
              "                       0         1\n",
              "Unnamed: 0                        \n",
              "134338      1.780716e+00  0.102058\n",
              "206341     -6.760054e-14 -0.026297\n",
              "326408      1.780716e+00  0.134193\n",
              "364634     -6.760054e-14 -0.035735\n",
              "47683      -6.760054e-14 -0.035648"
            ]
          },
          "metadata": {
            "tags": []
          },
          "execution_count": 92
        }
      ]
    },
    {
      "cell_type": "code",
      "metadata": {
        "id": "ylqCLFGQwug8",
        "colab_type": "code",
        "colab": {}
      },
      "source": [
        "concat_char = lambda x: ''.join(x)"
      ],
      "execution_count": 0,
      "outputs": []
    },
    {
      "cell_type": "code",
      "metadata": {
        "id": "APoNCBPiw--Y",
        "colab_type": "code",
        "colab": {}
      },
      "source": [
        "concat_text = char_feature.apply(concat_char, axis=1)"
      ],
      "execution_count": 0,
      "outputs": []
    },
    {
      "cell_type": "code",
      "metadata": {
        "id": "NBLJCmpD5bK_",
        "colab_type": "code",
        "outputId": "741855ca-8f0c-4f3a-a130-1842929aae8b",
        "colab": {
          "base_uri": "https://localhost:8080/",
          "height": 1000
        }
      },
      "source": [
        "concat_text"
      ],
      "execution_count": 95,
      "outputs": [
        {
          "output_type": "execute_result",
          "data": {
            "text/plain": [
              "Unnamed: 0\n",
              "134338    Teacher-Elementary KINDERGARTEN KINDERGARTENGe...\n",
              "206341    CONTRACTOR SERVICESBOND EXPENDITURESBUILDING F...\n",
              "326408    Personal Services - TeachersTCHER 2ND GRADEReg...\n",
              "364634    EMPLOYEE BENEFITSTEACHER SUBSGENERAL FUNDTeach...\n",
              "47683     TEACHER COVERAGE FOR TEACHERTEACHER SUBSGENERA...\n",
              "229958    CONTRA BENEFITSGENERAL FUNDCustodian - PT -  J...\n",
              "417668    EDUCATIONALSPECIAL EDUCATION INSTRUCTIONLOCALS...\n",
              "126378    EMPLOYEE BENEFITSGENERAL FUNDSub Manager, Food...\n",
              "275539    EMPLOYEE BENEFITSGENERAL FUNDTeacher, Elementa...\n",
              "85262     EMPLOYEE BENEFITSTEACHER SUBSGENERAL FUNDTeach...\n",
              "304569    EQUIPMENT *Support Services - AdministrationEq...\n",
              "330504    SUPPLIESPRIMARY GRADES PROGRAM INSTRUCTIONPRIM...\n",
              "84272     Personal Services - TeachersTCHER P E (ELEM PO...\n",
              "64760     Regular *Special InstructionCertificated Emplo...\n",
              "21870     OTHER PERSONAL SERVICES       SUB TEACHER ALL ...\n",
              "18698     Salaries And Wages For Substitute Professional...\n",
              "169454    SUPPLIES                      TEACHER, TITLE I...\n",
              "169914    Regular *ADM/PROFOperation and Maintenance of ...\n",
              "189701    ELECTRICITYOPERATIONS - UTILITIESGENERAL FUND(...\n",
              "43727     Non-Certificated Travel ReimbursementSupport S...\n",
              "5614      Purchased ServicesSupport Services--PupilsPurc...\n",
              "291539    SALARIES OF PART TIME EMPLOYEETEACHER SUBSGENE...\n",
              "307038    Regular *TEACHERSpecial InstructionTCHR, SCNDY...\n",
              "27645     BONUSES                       ESE CLERICAL ASS...\n",
              "126388    Personal Services - Substitute Teachers Certif...\n",
              "14962     Personal Services - TeachersTCHER ENGLISH (SEC...\n",
              "84040     EQUIPMENT *Support Services - Instructional St...\n",
              "61639     EMPLOYEE BENEFITSGENERAL FUNDTeacher, Short Te...\n",
              "266302    EMPLOYEE BENEFITSGENERAL FUNDTeacher, Elementa...\n",
              "225768    Extra Duty Pay/Overtime For Support PersonnelO...\n",
              "                                ...                        \n",
              "333748    Regular *TEACHERSUPSupport Services--PupilsPSY...\n",
              "292626    Extra Duty Pay/Overtime For Support PersonnelO...\n",
              "343458    SALARIES OF PART TIME EMPLOYEETEACHER SUBSGENE...\n",
              "128261    SALARIES OF REGULAR EMPLOYEESSEVERE DISABILITI...\n",
              "186318    SALARIES OF REGULAR EMPLOYEESGENERAL FUNDTeach...\n",
              "210652    Personal Services - Substitute Teachers Non-Ce...\n",
              "340354    EMPLOYEE BENEFITSFEDERAL GDPG FUND - FY ELA Ge...\n",
              "435205    EMPLOYER PD MED CONTRIBUTIONSTATE AND LOCAL GD...\n",
              "174827    SALARIES OF PART TIME EMPLOYEEFEDERAL GDPG FUN...\n",
              "277504    CONTRA BENEFITSGENERAL FUNDTeacher, Elementary...\n",
              "248062    Travel And Subsistence - Employee OnlyTravel A...\n",
              "70455     CLASSROOM TEACHER             TEACHER, SOC STU...\n",
              "203453    IN-COUNTY TRAVEL              School STAFF SER...\n",
              "58170     Personal Services - Substitute Teachers Certif...\n",
              "72072     Personal Services - Assistant PrincipalsASSIST...\n",
              "68311     ADDITIONAL/EXTRA DUTY PAY/STIPMATH/SCIENCEFEDE...\n",
              "225892    SALARIES OF REGULAR EMPLOYEESGENERAL FUNDTeach...\n",
              "446383    Other Pupil Transportation ServicesSupport Ser...\n",
              "155111    Extra Duty Pay/Overtime For Support PersonnelO...\n",
              "278248    SUPPLIESPRIMARY GRADES PROGRAM INSTRUCTIONPRIM...\n",
              "397424    ADDITIONAL/EXTRA DUTY PAY/STIPBONDSecondary Sp...\n",
              "375092    Personal Services - Substitute Teachers Certif...\n",
              "220181    Salaries Or Wages For Support PersonnelChild N...\n",
              "307423    Other Awards and PrizesSupport Services - Inst...\n",
              "46691     ADDITIONAL/EXTRA DUTY PAY/STIPMATH/SCIENCEFEDE...\n",
              "109283    WORKSHOP PARTICIPANT          CURRICULUM RESOU...\n",
              "102430    SALARIES OF PART TIME EMPLOYEEFEDERAL GDPG FUN...\n",
              "413949    School LiaisonPARENT/TITLE IMiscSchoolwide Sch...\n",
              "433672    EMPLOYEE BENEFITSEDUCATIONAL RESOURCE SERVICES...\n",
              "415831    Salaries And Wages For Substitute Professional...\n",
              "Length: 400277, dtype: object"
            ]
          },
          "metadata": {
            "tags": []
          },
          "execution_count": 95
        }
      ]
    },
    {
      "cell_type": "code",
      "metadata": {
        "id": "NKAnpq0Nfutk",
        "colab_type": "code",
        "colab": {}
      },
      "source": [
        "text_pattern = re.compile(r'[A-Za-z0-9]+')"
      ],
      "execution_count": 0,
      "outputs": []
    },
    {
      "cell_type": "code",
      "metadata": {
        "id": "MkHgMothd_SC",
        "colab_type": "code",
        "colab": {}
      },
      "source": [
        ""
      ],
      "execution_count": 0,
      "outputs": []
    },
    {
      "cell_type": "code",
      "metadata": {
        "id": "0CAW2Ycc5bGq",
        "colab_type": "code",
        "colab": {}
      },
      "source": [
        "countvec = CountVectorizer(token_pattern=text_pattern)"
      ],
      "execution_count": 0,
      "outputs": []
    },
    {
      "cell_type": "code",
      "metadata": {
        "id": "ICDzdWNnflL1",
        "colab_type": "code",
        "colab": {}
      },
      "source": [
        "count_vec = countvec.fit_transform(concat_text)"
      ],
      "execution_count": 0,
      "outputs": []
    },
    {
      "cell_type": "code",
      "metadata": {
        "id": "uiaJq794flOl",
        "colab_type": "code",
        "colab": {}
      },
      "source": [
        "countvec.get_feature_names()"
      ],
      "execution_count": 0,
      "outputs": []
    },
    {
      "cell_type": "code",
      "metadata": {
        "id": "HOTdq_K5flRO",
        "colab_type": "code",
        "outputId": "ee6755f1-b3f4-491d-e796-569e7b04d8d0",
        "colab": {
          "base_uri": "https://localhost:8080/",
          "height": 51
        }
      },
      "source": [
        "count_vec"
      ],
      "execution_count": 0,
      "outputs": [
        {
          "output_type": "execute_result",
          "data": {
            "text/plain": [
              "<400277x17458 sparse matrix of type '<class 'numpy.int64'>'\n",
              "\twith 5425178 stored elements in Compressed Sparse Row format>"
            ]
          },
          "metadata": {
            "tags": []
          },
          "execution_count": 31
        }
      ]
    },
    {
      "cell_type": "code",
      "metadata": {
        "id": "VQfDxU1QhSJ1",
        "colab_type": "code",
        "colab": {}
      },
      "source": [
        "X = hstack([numeric_feature, count_vec])"
      ],
      "execution_count": 0,
      "outputs": []
    },
    {
      "cell_type": "code",
      "metadata": {
        "id": "aqR6xzgAiiQN",
        "colab_type": "code",
        "outputId": "5b6d0537-19ae-4828-9e3b-3726b716f625",
        "colab": {
          "base_uri": "https://localhost:8080/",
          "height": 51
        }
      },
      "source": [
        "X"
      ],
      "execution_count": 0,
      "outputs": [
        {
          "output_type": "execute_result",
          "data": {
            "text/plain": [
              "<400277x17460 sparse matrix of type '<class 'numpy.float64'>'\n",
              "\twith 6225732 stored elements in COOrdinate format>"
            ]
          },
          "metadata": {
            "tags": []
          },
          "execution_count": 50
        }
      ]
    },
    {
      "cell_type": "code",
      "metadata": {
        "id": "0B7Q4KMoikwy",
        "colab_type": "code",
        "outputId": "cde88ab3-0e46-4684-ad6b-af505433831b",
        "colab": {
          "base_uri": "https://localhost:8080/",
          "height": 321
        }
      },
      "source": [
        "train_y_dummy.head()"
      ],
      "execution_count": 0,
      "outputs": [
        {
          "output_type": "execute_result",
          "data": {
            "text/html": [
              "<div>\n",
              "<style scoped>\n",
              "    .dataframe tbody tr th:only-of-type {\n",
              "        vertical-align: middle;\n",
              "    }\n",
              "\n",
              "    .dataframe tbody tr th {\n",
              "        vertical-align: top;\n",
              "    }\n",
              "\n",
              "    .dataframe thead th {\n",
              "        text-align: right;\n",
              "    }\n",
              "</style>\n",
              "<table border=\"1\" class=\"dataframe\">\n",
              "  <thead>\n",
              "    <tr style=\"text-align: right;\">\n",
              "      <th></th>\n",
              "      <th>Function_Aides Compensation</th>\n",
              "      <th>Function_Career &amp; Academic Counseling</th>\n",
              "      <th>Function_Communications</th>\n",
              "      <th>Function_Curriculum Development</th>\n",
              "      <th>Function_Data Processing &amp; Information Services</th>\n",
              "      <th>Function_Development &amp; Fundraising</th>\n",
              "      <th>Function_Enrichment</th>\n",
              "      <th>Function_Extended Time &amp; Tutoring</th>\n",
              "      <th>Function_Facilities &amp; Maintenance</th>\n",
              "      <th>Function_Facilities Planning</th>\n",
              "      <th>Function_Finance, Budget, Purchasing &amp; Distribution</th>\n",
              "      <th>Function_Food Services</th>\n",
              "      <th>Function_Governance</th>\n",
              "      <th>Function_Human Resources</th>\n",
              "      <th>Function_Instructional Materials &amp; Supplies</th>\n",
              "      <th>Function_Insurance</th>\n",
              "      <th>Function_Legal</th>\n",
              "      <th>Function_Library &amp; Media</th>\n",
              "      <th>Function_NO_LABEL</th>\n",
              "      <th>Function_Other Compensation</th>\n",
              "      <th>Function_Other Non-Compensation</th>\n",
              "      <th>Function_Parent &amp; Community Relations</th>\n",
              "      <th>Function_Physical Health &amp; Services</th>\n",
              "      <th>Function_Professional Development</th>\n",
              "      <th>Function_Recruitment</th>\n",
              "      <th>Function_Research &amp; Accountability</th>\n",
              "      <th>Function_School Administration</th>\n",
              "      <th>Function_School Supervision</th>\n",
              "      <th>Function_Security &amp; Safety</th>\n",
              "      <th>Function_Social &amp; Emotional</th>\n",
              "      <th>Function_Special Population Program Management &amp; Support</th>\n",
              "      <th>Function_Student Assignment</th>\n",
              "      <th>Function_Student Transportation</th>\n",
              "      <th>Function_Substitute Compensation</th>\n",
              "      <th>Function_Teacher Compensation</th>\n",
              "      <th>Function_Untracked Budget Set-Aside</th>\n",
              "      <th>Function_Utilities</th>\n",
              "      <th>Object_Type_Base Salary/Compensation</th>\n",
              "      <th>Object_Type_Benefits</th>\n",
              "      <th>Object_Type_Contracted Services</th>\n",
              "      <th>...</th>\n",
              "      <th>Position_Type_Other</th>\n",
              "      <th>Position_Type_Physical Therapist</th>\n",
              "      <th>Position_Type_Principal</th>\n",
              "      <th>Position_Type_Psychologist</th>\n",
              "      <th>Position_Type_School Monitor/Security</th>\n",
              "      <th>Position_Type_Sec/Clerk/Other Admin</th>\n",
              "      <th>Position_Type_Social Worker</th>\n",
              "      <th>Position_Type_Speech Therapist</th>\n",
              "      <th>Position_Type_Substitute</th>\n",
              "      <th>Position_Type_TA</th>\n",
              "      <th>Position_Type_Teacher</th>\n",
              "      <th>Position_Type_Vice Principal</th>\n",
              "      <th>Pre_K_NO_LABEL</th>\n",
              "      <th>Pre_K_Non PreK</th>\n",
              "      <th>Pre_K_PreK</th>\n",
              "      <th>Reporting_NO_LABEL</th>\n",
              "      <th>Reporting_Non-School</th>\n",
              "      <th>Reporting_School</th>\n",
              "      <th>Sharing_Leadership &amp; Management</th>\n",
              "      <th>Sharing_NO_LABEL</th>\n",
              "      <th>Sharing_School Reported</th>\n",
              "      <th>Sharing_School on Central Budgets</th>\n",
              "      <th>Sharing_Shared Services</th>\n",
              "      <th>Student_Type_Alternative</th>\n",
              "      <th>Student_Type_At Risk</th>\n",
              "      <th>Student_Type_ELL</th>\n",
              "      <th>Student_Type_Gifted</th>\n",
              "      <th>Student_Type_NO_LABEL</th>\n",
              "      <th>Student_Type_Poverty</th>\n",
              "      <th>Student_Type_PreK</th>\n",
              "      <th>Student_Type_Special Education</th>\n",
              "      <th>Student_Type_Unspecified</th>\n",
              "      <th>Use_Business Services</th>\n",
              "      <th>Use_ISPD</th>\n",
              "      <th>Use_Instruction</th>\n",
              "      <th>Use_Leadership</th>\n",
              "      <th>Use_NO_LABEL</th>\n",
              "      <th>Use_O&amp;M</th>\n",
              "      <th>Use_Pupil Services &amp; Enrichment</th>\n",
              "      <th>Use_Untracked Budget Set-Aside</th>\n",
              "    </tr>\n",
              "  </thead>\n",
              "  <tbody>\n",
              "    <tr>\n",
              "      <th>0</th>\n",
              "      <td>0</td>\n",
              "      <td>0</td>\n",
              "      <td>0</td>\n",
              "      <td>0</td>\n",
              "      <td>0</td>\n",
              "      <td>0</td>\n",
              "      <td>0</td>\n",
              "      <td>0</td>\n",
              "      <td>0</td>\n",
              "      <td>0</td>\n",
              "      <td>0</td>\n",
              "      <td>0</td>\n",
              "      <td>0</td>\n",
              "      <td>0</td>\n",
              "      <td>0</td>\n",
              "      <td>0</td>\n",
              "      <td>0</td>\n",
              "      <td>0</td>\n",
              "      <td>0</td>\n",
              "      <td>0</td>\n",
              "      <td>0</td>\n",
              "      <td>0</td>\n",
              "      <td>0</td>\n",
              "      <td>0</td>\n",
              "      <td>0</td>\n",
              "      <td>0</td>\n",
              "      <td>0</td>\n",
              "      <td>0</td>\n",
              "      <td>0</td>\n",
              "      <td>0</td>\n",
              "      <td>0</td>\n",
              "      <td>0</td>\n",
              "      <td>0</td>\n",
              "      <td>0</td>\n",
              "      <td>1</td>\n",
              "      <td>0</td>\n",
              "      <td>0</td>\n",
              "      <td>0</td>\n",
              "      <td>0</td>\n",
              "      <td>0</td>\n",
              "      <td>...</td>\n",
              "      <td>0</td>\n",
              "      <td>0</td>\n",
              "      <td>0</td>\n",
              "      <td>0</td>\n",
              "      <td>0</td>\n",
              "      <td>0</td>\n",
              "      <td>0</td>\n",
              "      <td>0</td>\n",
              "      <td>0</td>\n",
              "      <td>0</td>\n",
              "      <td>1</td>\n",
              "      <td>0</td>\n",
              "      <td>1</td>\n",
              "      <td>0</td>\n",
              "      <td>0</td>\n",
              "      <td>0</td>\n",
              "      <td>0</td>\n",
              "      <td>1</td>\n",
              "      <td>0</td>\n",
              "      <td>0</td>\n",
              "      <td>1</td>\n",
              "      <td>0</td>\n",
              "      <td>0</td>\n",
              "      <td>0</td>\n",
              "      <td>0</td>\n",
              "      <td>0</td>\n",
              "      <td>0</td>\n",
              "      <td>1</td>\n",
              "      <td>0</td>\n",
              "      <td>0</td>\n",
              "      <td>0</td>\n",
              "      <td>0</td>\n",
              "      <td>0</td>\n",
              "      <td>0</td>\n",
              "      <td>1</td>\n",
              "      <td>0</td>\n",
              "      <td>0</td>\n",
              "      <td>0</td>\n",
              "      <td>0</td>\n",
              "      <td>0</td>\n",
              "    </tr>\n",
              "    <tr>\n",
              "      <th>1</th>\n",
              "      <td>0</td>\n",
              "      <td>0</td>\n",
              "      <td>0</td>\n",
              "      <td>0</td>\n",
              "      <td>0</td>\n",
              "      <td>0</td>\n",
              "      <td>0</td>\n",
              "      <td>0</td>\n",
              "      <td>0</td>\n",
              "      <td>0</td>\n",
              "      <td>0</td>\n",
              "      <td>0</td>\n",
              "      <td>0</td>\n",
              "      <td>0</td>\n",
              "      <td>0</td>\n",
              "      <td>0</td>\n",
              "      <td>0</td>\n",
              "      <td>0</td>\n",
              "      <td>1</td>\n",
              "      <td>0</td>\n",
              "      <td>0</td>\n",
              "      <td>0</td>\n",
              "      <td>0</td>\n",
              "      <td>0</td>\n",
              "      <td>0</td>\n",
              "      <td>0</td>\n",
              "      <td>0</td>\n",
              "      <td>0</td>\n",
              "      <td>0</td>\n",
              "      <td>0</td>\n",
              "      <td>0</td>\n",
              "      <td>0</td>\n",
              "      <td>0</td>\n",
              "      <td>0</td>\n",
              "      <td>0</td>\n",
              "      <td>0</td>\n",
              "      <td>0</td>\n",
              "      <td>0</td>\n",
              "      <td>0</td>\n",
              "      <td>0</td>\n",
              "      <td>...</td>\n",
              "      <td>0</td>\n",
              "      <td>0</td>\n",
              "      <td>0</td>\n",
              "      <td>0</td>\n",
              "      <td>0</td>\n",
              "      <td>0</td>\n",
              "      <td>0</td>\n",
              "      <td>0</td>\n",
              "      <td>0</td>\n",
              "      <td>0</td>\n",
              "      <td>0</td>\n",
              "      <td>0</td>\n",
              "      <td>1</td>\n",
              "      <td>0</td>\n",
              "      <td>0</td>\n",
              "      <td>1</td>\n",
              "      <td>0</td>\n",
              "      <td>0</td>\n",
              "      <td>0</td>\n",
              "      <td>1</td>\n",
              "      <td>0</td>\n",
              "      <td>0</td>\n",
              "      <td>0</td>\n",
              "      <td>0</td>\n",
              "      <td>0</td>\n",
              "      <td>0</td>\n",
              "      <td>0</td>\n",
              "      <td>1</td>\n",
              "      <td>0</td>\n",
              "      <td>0</td>\n",
              "      <td>0</td>\n",
              "      <td>0</td>\n",
              "      <td>0</td>\n",
              "      <td>0</td>\n",
              "      <td>0</td>\n",
              "      <td>0</td>\n",
              "      <td>1</td>\n",
              "      <td>0</td>\n",
              "      <td>0</td>\n",
              "      <td>0</td>\n",
              "    </tr>\n",
              "    <tr>\n",
              "      <th>2</th>\n",
              "      <td>0</td>\n",
              "      <td>0</td>\n",
              "      <td>0</td>\n",
              "      <td>0</td>\n",
              "      <td>0</td>\n",
              "      <td>0</td>\n",
              "      <td>0</td>\n",
              "      <td>0</td>\n",
              "      <td>0</td>\n",
              "      <td>0</td>\n",
              "      <td>0</td>\n",
              "      <td>0</td>\n",
              "      <td>0</td>\n",
              "      <td>0</td>\n",
              "      <td>0</td>\n",
              "      <td>0</td>\n",
              "      <td>0</td>\n",
              "      <td>0</td>\n",
              "      <td>0</td>\n",
              "      <td>0</td>\n",
              "      <td>0</td>\n",
              "      <td>0</td>\n",
              "      <td>0</td>\n",
              "      <td>0</td>\n",
              "      <td>0</td>\n",
              "      <td>0</td>\n",
              "      <td>0</td>\n",
              "      <td>0</td>\n",
              "      <td>0</td>\n",
              "      <td>0</td>\n",
              "      <td>0</td>\n",
              "      <td>0</td>\n",
              "      <td>0</td>\n",
              "      <td>0</td>\n",
              "      <td>1</td>\n",
              "      <td>0</td>\n",
              "      <td>0</td>\n",
              "      <td>1</td>\n",
              "      <td>0</td>\n",
              "      <td>0</td>\n",
              "      <td>...</td>\n",
              "      <td>0</td>\n",
              "      <td>0</td>\n",
              "      <td>0</td>\n",
              "      <td>0</td>\n",
              "      <td>0</td>\n",
              "      <td>0</td>\n",
              "      <td>0</td>\n",
              "      <td>0</td>\n",
              "      <td>0</td>\n",
              "      <td>0</td>\n",
              "      <td>1</td>\n",
              "      <td>0</td>\n",
              "      <td>0</td>\n",
              "      <td>1</td>\n",
              "      <td>0</td>\n",
              "      <td>0</td>\n",
              "      <td>0</td>\n",
              "      <td>1</td>\n",
              "      <td>0</td>\n",
              "      <td>0</td>\n",
              "      <td>1</td>\n",
              "      <td>0</td>\n",
              "      <td>0</td>\n",
              "      <td>0</td>\n",
              "      <td>0</td>\n",
              "      <td>0</td>\n",
              "      <td>0</td>\n",
              "      <td>0</td>\n",
              "      <td>0</td>\n",
              "      <td>0</td>\n",
              "      <td>0</td>\n",
              "      <td>1</td>\n",
              "      <td>0</td>\n",
              "      <td>0</td>\n",
              "      <td>1</td>\n",
              "      <td>0</td>\n",
              "      <td>0</td>\n",
              "      <td>0</td>\n",
              "      <td>0</td>\n",
              "      <td>0</td>\n",
              "    </tr>\n",
              "    <tr>\n",
              "      <th>3</th>\n",
              "      <td>0</td>\n",
              "      <td>0</td>\n",
              "      <td>0</td>\n",
              "      <td>0</td>\n",
              "      <td>0</td>\n",
              "      <td>0</td>\n",
              "      <td>0</td>\n",
              "      <td>0</td>\n",
              "      <td>0</td>\n",
              "      <td>0</td>\n",
              "      <td>0</td>\n",
              "      <td>0</td>\n",
              "      <td>0</td>\n",
              "      <td>0</td>\n",
              "      <td>0</td>\n",
              "      <td>0</td>\n",
              "      <td>0</td>\n",
              "      <td>0</td>\n",
              "      <td>0</td>\n",
              "      <td>0</td>\n",
              "      <td>0</td>\n",
              "      <td>0</td>\n",
              "      <td>0</td>\n",
              "      <td>0</td>\n",
              "      <td>0</td>\n",
              "      <td>0</td>\n",
              "      <td>0</td>\n",
              "      <td>0</td>\n",
              "      <td>0</td>\n",
              "      <td>0</td>\n",
              "      <td>0</td>\n",
              "      <td>0</td>\n",
              "      <td>0</td>\n",
              "      <td>1</td>\n",
              "      <td>0</td>\n",
              "      <td>0</td>\n",
              "      <td>0</td>\n",
              "      <td>0</td>\n",
              "      <td>1</td>\n",
              "      <td>0</td>\n",
              "      <td>...</td>\n",
              "      <td>0</td>\n",
              "      <td>0</td>\n",
              "      <td>0</td>\n",
              "      <td>0</td>\n",
              "      <td>0</td>\n",
              "      <td>0</td>\n",
              "      <td>0</td>\n",
              "      <td>0</td>\n",
              "      <td>1</td>\n",
              "      <td>0</td>\n",
              "      <td>0</td>\n",
              "      <td>0</td>\n",
              "      <td>1</td>\n",
              "      <td>0</td>\n",
              "      <td>0</td>\n",
              "      <td>0</td>\n",
              "      <td>0</td>\n",
              "      <td>1</td>\n",
              "      <td>0</td>\n",
              "      <td>0</td>\n",
              "      <td>1</td>\n",
              "      <td>0</td>\n",
              "      <td>0</td>\n",
              "      <td>0</td>\n",
              "      <td>0</td>\n",
              "      <td>0</td>\n",
              "      <td>0</td>\n",
              "      <td>0</td>\n",
              "      <td>0</td>\n",
              "      <td>0</td>\n",
              "      <td>0</td>\n",
              "      <td>1</td>\n",
              "      <td>0</td>\n",
              "      <td>0</td>\n",
              "      <td>1</td>\n",
              "      <td>0</td>\n",
              "      <td>0</td>\n",
              "      <td>0</td>\n",
              "      <td>0</td>\n",
              "      <td>0</td>\n",
              "    </tr>\n",
              "    <tr>\n",
              "      <th>4</th>\n",
              "      <td>0</td>\n",
              "      <td>0</td>\n",
              "      <td>0</td>\n",
              "      <td>0</td>\n",
              "      <td>0</td>\n",
              "      <td>0</td>\n",
              "      <td>0</td>\n",
              "      <td>0</td>\n",
              "      <td>0</td>\n",
              "      <td>0</td>\n",
              "      <td>0</td>\n",
              "      <td>0</td>\n",
              "      <td>0</td>\n",
              "      <td>0</td>\n",
              "      <td>0</td>\n",
              "      <td>0</td>\n",
              "      <td>0</td>\n",
              "      <td>0</td>\n",
              "      <td>0</td>\n",
              "      <td>0</td>\n",
              "      <td>0</td>\n",
              "      <td>0</td>\n",
              "      <td>0</td>\n",
              "      <td>0</td>\n",
              "      <td>0</td>\n",
              "      <td>0</td>\n",
              "      <td>0</td>\n",
              "      <td>0</td>\n",
              "      <td>0</td>\n",
              "      <td>0</td>\n",
              "      <td>0</td>\n",
              "      <td>0</td>\n",
              "      <td>0</td>\n",
              "      <td>1</td>\n",
              "      <td>0</td>\n",
              "      <td>0</td>\n",
              "      <td>0</td>\n",
              "      <td>0</td>\n",
              "      <td>0</td>\n",
              "      <td>0</td>\n",
              "      <td>...</td>\n",
              "      <td>0</td>\n",
              "      <td>0</td>\n",
              "      <td>0</td>\n",
              "      <td>0</td>\n",
              "      <td>0</td>\n",
              "      <td>0</td>\n",
              "      <td>0</td>\n",
              "      <td>0</td>\n",
              "      <td>0</td>\n",
              "      <td>0</td>\n",
              "      <td>1</td>\n",
              "      <td>0</td>\n",
              "      <td>1</td>\n",
              "      <td>0</td>\n",
              "      <td>0</td>\n",
              "      <td>0</td>\n",
              "      <td>0</td>\n",
              "      <td>1</td>\n",
              "      <td>0</td>\n",
              "      <td>0</td>\n",
              "      <td>1</td>\n",
              "      <td>0</td>\n",
              "      <td>0</td>\n",
              "      <td>0</td>\n",
              "      <td>0</td>\n",
              "      <td>0</td>\n",
              "      <td>0</td>\n",
              "      <td>0</td>\n",
              "      <td>0</td>\n",
              "      <td>0</td>\n",
              "      <td>0</td>\n",
              "      <td>1</td>\n",
              "      <td>0</td>\n",
              "      <td>0</td>\n",
              "      <td>1</td>\n",
              "      <td>0</td>\n",
              "      <td>0</td>\n",
              "      <td>0</td>\n",
              "      <td>0</td>\n",
              "      <td>0</td>\n",
              "    </tr>\n",
              "  </tbody>\n",
              "</table>\n",
              "<p>5 rows × 104 columns</p>\n",
              "</div>"
            ],
            "text/plain": [
              "   Function_Aides Compensation  ...  Use_Untracked Budget Set-Aside\n",
              "0                            0  ...                               0\n",
              "1                            0  ...                               0\n",
              "2                            0  ...                               0\n",
              "3                            0  ...                               0\n",
              "4                            0  ...                               0\n",
              "\n",
              "[5 rows x 104 columns]"
            ]
          },
          "metadata": {
            "tags": []
          },
          "execution_count": 51
        }
      ]
    },
    {
      "cell_type": "code",
      "metadata": {
        "id": "kUCZDeJpivS4",
        "colab_type": "code",
        "colab": {}
      },
      "source": [
        "X_train, X_test, y_train, y_test = train_test_split(X, train_y_dummy, test_size=0.2, random_state=42)"
      ],
      "execution_count": 0,
      "outputs": []
    },
    {
      "cell_type": "code",
      "metadata": {
        "id": "Ovr7s1Xrvi3Z",
        "colab_type": "code",
        "outputId": "9e074e9c-08a5-4182-d918-6c50fba78781",
        "colab": {
          "base_uri": "https://localhost:8080/",
          "height": 85
        }
      },
      "source": [
        "print(X.shape, train_y_dummy.shape)\n",
        "print('-----------------------')\n",
        "print(X_train.shape, y_train.shape)\n",
        "print(X_test.shape, y_test.shape)"
      ],
      "execution_count": 0,
      "outputs": [
        {
          "output_type": "stream",
          "text": [
            "(400277, 17460) (400277, 104)\n",
            "-----------------------\n",
            "(320221, 17460) (320221, 104)\n",
            "(80056, 17460) (80056, 104)\n"
          ],
          "name": "stdout"
        }
      ]
    },
    {
      "cell_type": "code",
      "metadata": {
        "id": "EfcO1T9fi1jV",
        "colab_type": "code",
        "colab": {}
      },
      "source": [
        "logit = OneVsRestClassifier(LogisticRegression(solver = 'lbfgs'))"
      ],
      "execution_count": 0,
      "outputs": []
    },
    {
      "cell_type": "code",
      "metadata": {
        "id": "X5uIZx25jZaj",
        "colab_type": "code",
        "colab": {}
      },
      "source": [
        ""
      ],
      "execution_count": 0,
      "outputs": []
    },
    {
      "cell_type": "code",
      "metadata": {
        "id": "5t7LlVDdjCI9",
        "colab_type": "code",
        "outputId": "0c17f408-ddc2-439c-d2d1-db33664573de",
        "colab": {
          "base_uri": "https://localhost:8080/",
          "height": 187
        }
      },
      "source": [
        "logit.fit(X_train, y_train)"
      ],
      "execution_count": 0,
      "outputs": [
        {
          "output_type": "execute_result",
          "data": {
            "text/plain": [
              "OneVsRestClassifier(estimator=LogisticRegression(C=1.0, class_weight=None,\n",
              "                                                 dual=False, fit_intercept=True,\n",
              "                                                 intercept_scaling=1,\n",
              "                                                 l1_ratio=None, max_iter=100,\n",
              "                                                 multi_class='warn',\n",
              "                                                 n_jobs=None, penalty='l2',\n",
              "                                                 random_state=None,\n",
              "                                                 solver='lbfgs', tol=0.0001,\n",
              "                                                 verbose=0, warm_start=False),\n",
              "                    n_jobs=None)"
            ]
          },
          "metadata": {
            "tags": []
          },
          "execution_count": 62
        }
      ]
    },
    {
      "cell_type": "code",
      "metadata": {
        "id": "eW5V6VCQivQR",
        "colab_type": "code",
        "outputId": "77b930d7-001b-44e0-a0f0-0a3cab56025e",
        "colab": {
          "base_uri": "https://localhost:8080/",
          "height": 34
        }
      },
      "source": [
        "logit.score(X_train, y_train)"
      ],
      "execution_count": 0,
      "outputs": [
        {
          "output_type": "execute_result",
          "data": {
            "text/plain": [
              "0.9128633037808264"
            ]
          },
          "metadata": {
            "tags": []
          },
          "execution_count": 63
        }
      ]
    },
    {
      "cell_type": "code",
      "metadata": {
        "id": "hX-QtfK1thFC",
        "colab_type": "code",
        "outputId": "c2357401-93df-441d-faac-88ba0e39e9a4",
        "colab": {
          "base_uri": "https://localhost:8080/",
          "height": 34
        }
      },
      "source": [
        "logit.score(X_test, y_test)"
      ],
      "execution_count": 0,
      "outputs": [
        {
          "output_type": "execute_result",
          "data": {
            "text/plain": [
              "0.900244828619966"
            ]
          },
          "metadata": {
            "tags": []
          },
          "execution_count": 64
        }
      ]
    },
    {
      "cell_type": "code",
      "metadata": {
        "id": "Es8PZ6r8tqii",
        "colab_type": "code",
        "colab": {}
      },
      "source": [
        "rnd_clf = RandomForestClassifier(random_state=42)"
      ],
      "execution_count": 0,
      "outputs": []
    },
    {
      "cell_type": "code",
      "metadata": {
        "id": "M5tdh0wHtwLv",
        "colab_type": "code",
        "outputId": "15c81f87-5543-490c-f519-08eac1894fa4",
        "colab": {
          "base_uri": "https://localhost:8080/",
          "height": 136
        }
      },
      "source": [
        "rnd_clf.fit(X_train, y_train)"
      ],
      "execution_count": 0,
      "outputs": [
        {
          "output_type": "execute_result",
          "data": {
            "text/plain": [
              "RandomForestClassifier(bootstrap=True, class_weight=None, criterion='gini',\n",
              "                       max_depth=None, max_features='auto', max_leaf_nodes=None,\n",
              "                       min_impurity_decrease=0.0, min_impurity_split=None,\n",
              "                       min_samples_leaf=1, min_samples_split=2,\n",
              "                       min_weight_fraction_leaf=0.0, n_estimators=10,\n",
              "                       n_jobs=None, oob_score=False, random_state=42, verbose=0,\n",
              "                       warm_start=False)"
            ]
          },
          "metadata": {
            "tags": []
          },
          "execution_count": 73
        }
      ]
    },
    {
      "cell_type": "code",
      "metadata": {
        "id": "y-pnkVSWtx-3",
        "colab_type": "code",
        "outputId": "a24e50db-25ee-42b0-ef6f-5eb0b12248b1",
        "colab": {
          "base_uri": "https://localhost:8080/",
          "height": 34
        }
      },
      "source": [
        "rnd_clf.score(X_train, y_train)"
      ],
      "execution_count": 0,
      "outputs": [
        {
          "output_type": "execute_result",
          "data": {
            "text/plain": [
              "0.9841047276724512"
            ]
          },
          "metadata": {
            "tags": []
          },
          "execution_count": 74
        }
      ]
    },
    {
      "cell_type": "code",
      "metadata": {
        "id": "fUPMiUDYyHtL",
        "colab_type": "code",
        "outputId": "e9679ee9-f347-4eca-8f26-171e542aaf7c",
        "colab": {
          "base_uri": "https://localhost:8080/",
          "height": 34
        }
      },
      "source": [
        "rnd_clf.score(X_test, y_test)"
      ],
      "execution_count": 0,
      "outputs": [
        {
          "output_type": "execute_result",
          "data": {
            "text/plain": [
              "0.9053037873488557"
            ]
          },
          "metadata": {
            "tags": []
          },
          "execution_count": 75
        }
      ]
    },
    {
      "cell_type": "markdown",
      "metadata": {
        "id": "Upttk6_cyqrR",
        "colab_type": "text"
      },
      "source": [
        "## Ngram"
      ]
    },
    {
      "cell_type": "code",
      "metadata": {
        "id": "_9zMg99Fyb2o",
        "colab_type": "code",
        "colab": {}
      },
      "source": [
        "countvec_ngram = CountVectorizer(token_pattern=text_pattern, ngram_range=(1, 3))"
      ],
      "execution_count": 0,
      "outputs": []
    },
    {
      "cell_type": "code",
      "metadata": {
        "id": "0RFOdjCJtqaw",
        "colab_type": "code",
        "colab": {}
      },
      "source": [
        "count_vec_ngram = countvec_ngram.fit_transform(concat_text)"
      ],
      "execution_count": 0,
      "outputs": []
    },
    {
      "cell_type": "code",
      "metadata": {
        "id": "uqpqZqdPy9Au",
        "colab_type": "code",
        "colab": {}
      },
      "source": [
        "countvec_ngram.get_feature_names()"
      ],
      "execution_count": 0,
      "outputs": []
    },
    {
      "cell_type": "code",
      "metadata": {
        "id": "lLtViqF4zCbU",
        "colab_type": "code",
        "outputId": "61b8fd20-8075-460f-a5ce-41464b08e59a",
        "colab": {
          "base_uri": "https://localhost:8080/",
          "height": 53
        }
      },
      "source": [
        "count_vec_ngram"
      ],
      "execution_count": 0,
      "outputs": [
        {
          "output_type": "execute_result",
          "data": {
            "text/plain": [
              "<400277x157023 sparse matrix of type '<class 'numpy.int64'>'\n",
              "\twith 15903807 stored elements in Compressed Sparse Row format>"
            ]
          },
          "metadata": {
            "tags": []
          },
          "execution_count": 201
        }
      ]
    },
    {
      "cell_type": "code",
      "metadata": {
        "id": "oy584xy5F0Fz",
        "colab_type": "code",
        "colab": {}
      },
      "source": [
        "X_n_gram = hstack([numeric_feature, count_vec_ngram])"
      ],
      "execution_count": 0,
      "outputs": []
    },
    {
      "cell_type": "code",
      "metadata": {
        "id": "nX9LI895F0Dr",
        "colab_type": "code",
        "outputId": "f913f431-28a9-4b55-f6eb-77e7dd2bdad0",
        "colab": {
          "base_uri": "https://localhost:8080/",
          "height": 53
        }
      },
      "source": [
        "X_n_gram"
      ],
      "execution_count": 0,
      "outputs": [
        {
          "output_type": "execute_result",
          "data": {
            "text/plain": [
              "<400277x157025 sparse matrix of type '<class 'numpy.float64'>'\n",
              "\twith 16704361 stored elements in COOrdinate format>"
            ]
          },
          "metadata": {
            "tags": []
          },
          "execution_count": 203
        }
      ]
    },
    {
      "cell_type": "code",
      "metadata": {
        "id": "IevoywrMF0BD",
        "colab_type": "code",
        "colab": {}
      },
      "source": [
        "X_train, X_test, y_train, y_test = train_test_split(X_n_gram, train_y_dummy, test_size=0.2, random_state=42)"
      ],
      "execution_count": 0,
      "outputs": []
    },
    {
      "cell_type": "code",
      "metadata": {
        "colab_type": "code",
        "id": "4blbBOucGHOm",
        "colab": {}
      },
      "source": [
        "logit = OneVsRestClassifier(LogisticRegression(solver = 'lbfgs'))"
      ],
      "execution_count": 0,
      "outputs": []
    },
    {
      "cell_type": "code",
      "metadata": {
        "colab_type": "code",
        "outputId": "e30f21b5-6f02-4566-d717-118481337a5d",
        "id": "fv3zNuNWGHOq",
        "colab": {
          "base_uri": "https://localhost:8080/",
          "height": 197
        }
      },
      "source": [
        "logit.fit(X_train, y_train)"
      ],
      "execution_count": 0,
      "outputs": [
        {
          "output_type": "execute_result",
          "data": {
            "text/plain": [
              "OneVsRestClassifier(estimator=LogisticRegression(C=1.0, class_weight=None,\n",
              "                                                 dual=False, fit_intercept=True,\n",
              "                                                 intercept_scaling=1,\n",
              "                                                 l1_ratio=None, max_iter=100,\n",
              "                                                 multi_class='warn',\n",
              "                                                 n_jobs=None, penalty='l2',\n",
              "                                                 random_state=None,\n",
              "                                                 solver='lbfgs', tol=0.0001,\n",
              "                                                 verbose=0, warm_start=False),\n",
              "                    n_jobs=None)"
            ]
          },
          "metadata": {
            "tags": []
          },
          "execution_count": 206
        }
      ]
    },
    {
      "cell_type": "code",
      "metadata": {
        "colab_type": "code",
        "outputId": "eeb92ffd-50c4-493c-b643-4dd4a2e3e092",
        "id": "_eIBiogrGHOt",
        "colab": {
          "base_uri": "https://localhost:8080/",
          "height": 35
        }
      },
      "source": [
        "logit.score(X_train, y_train)"
      ],
      "execution_count": 0,
      "outputs": [
        {
          "output_type": "execute_result",
          "data": {
            "text/plain": [
              "0.9487104218648995"
            ]
          },
          "metadata": {
            "tags": []
          },
          "execution_count": 207
        }
      ]
    },
    {
      "cell_type": "code",
      "metadata": {
        "colab_type": "code",
        "outputId": "be379a5e-8ebd-4132-d770-f2c538cfd48c",
        "id": "JsPRW-ZeGHOx",
        "colab": {
          "base_uri": "https://localhost:8080/",
          "height": 35
        }
      },
      "source": [
        "logit.score(X_test, y_test)"
      ],
      "execution_count": 0,
      "outputs": [
        {
          "output_type": "execute_result",
          "data": {
            "text/plain": [
              "0.9261267113020886"
            ]
          },
          "metadata": {
            "tags": []
          },
          "execution_count": 208
        }
      ]
    },
    {
      "cell_type": "code",
      "metadata": {
        "colab_type": "code",
        "id": "KBvGrx1QGHO0",
        "colab": {}
      },
      "source": [
        "rnd_clf = RandomForestClassifier(random_state=42)"
      ],
      "execution_count": 0,
      "outputs": []
    },
    {
      "cell_type": "code",
      "metadata": {
        "colab_type": "code",
        "id": "UB_xu8QiGHO2",
        "outputId": "8c81a1e0-59e2-467f-c6ab-a95e0ff5154d",
        "colab": {
          "base_uri": "https://localhost:8080/",
          "height": 136
        }
      },
      "source": [
        "rnd_clf.fit(X_train, y_train)"
      ],
      "execution_count": 0,
      "outputs": [
        {
          "output_type": "execute_result",
          "data": {
            "text/plain": [
              "RandomForestClassifier(bootstrap=True, class_weight=None, criterion='gini',\n",
              "                       max_depth=None, max_features='auto', max_leaf_nodes=None,\n",
              "                       min_impurity_decrease=0.0, min_impurity_split=None,\n",
              "                       min_samples_leaf=1, min_samples_split=2,\n",
              "                       min_weight_fraction_leaf=0.0, n_estimators=10,\n",
              "                       n_jobs=None, oob_score=False, random_state=42, verbose=0,\n",
              "                       warm_start=False)"
            ]
          },
          "metadata": {
            "tags": []
          },
          "execution_count": 53
        }
      ]
    },
    {
      "cell_type": "code",
      "metadata": {
        "colab_type": "code",
        "id": "8f_NeOxHGHO6",
        "outputId": "df886b2e-ab64-45dc-f873-8380446c4fe5",
        "colab": {
          "base_uri": "https://localhost:8080/",
          "height": 34
        }
      },
      "source": [
        "rnd_clf.score(X_train, y_train)"
      ],
      "execution_count": 0,
      "outputs": [
        {
          "output_type": "execute_result",
          "data": {
            "text/plain": [
              "0.9850384578150715"
            ]
          },
          "metadata": {
            "tags": []
          },
          "execution_count": 54
        }
      ]
    },
    {
      "cell_type": "code",
      "metadata": {
        "colab_type": "code",
        "id": "rc8I9uX8GHO-",
        "outputId": "d0800460-dc6a-4bd6-9314-fa69c27d1ff0",
        "colab": {
          "base_uri": "https://localhost:8080/",
          "height": 34
        }
      },
      "source": [
        "rnd_clf.score(X_test, y_test)"
      ],
      "execution_count": 0,
      "outputs": [
        {
          "output_type": "execute_result",
          "data": {
            "text/plain": [
              "0.9052163485560107"
            ]
          },
          "metadata": {
            "tags": []
          },
          "execution_count": 55
        }
      ]
    },
    {
      "cell_type": "markdown",
      "metadata": {
        "id": "vyroGOsiwrsW",
        "colab_type": "text"
      },
      "source": [
        "### Hashing Vectorize"
      ]
    },
    {
      "cell_type": "code",
      "metadata": {
        "id": "npbWlZ-yGCs1",
        "colab_type": "code",
        "outputId": "2bf74e98-cdd3-42b6-8b32-d557c0e7a22a",
        "colab": {
          "base_uri": "https://localhost:8080/",
          "height": 143
        }
      },
      "source": [
        "concat_text[:5]"
      ],
      "execution_count": 0,
      "outputs": [
        {
          "output_type": "execute_result",
          "data": {
            "text/plain": [
              "Unnamed: 0\n",
              "134338    Teacher-Elementary KINDERGARTEN KINDERGARTENGe...\n",
              "206341    CONTRACTOR SERVICESBOND EXPENDITURESBUILDING F...\n",
              "326408    Personal Services - TeachersTCHER 2ND GRADEReg...\n",
              "364634    EMPLOYEE BENEFITSTEACHER SUBSGENERAL FUNDTeach...\n",
              "47683     TEACHER COVERAGE FOR TEACHERTEACHER SUBSGENERA...\n",
              "dtype: object"
            ]
          },
          "metadata": {
            "tags": []
          },
          "execution_count": 77
        }
      ]
    },
    {
      "cell_type": "code",
      "metadata": {
        "id": "sHmHLQDrwxmv",
        "colab_type": "code",
        "outputId": "f4db1dfe-6b01-4822-c287-838f2734320a",
        "colab": {
          "base_uri": "https://localhost:8080/",
          "height": 321
        }
      },
      "source": [
        "train_y_dummy.head()"
      ],
      "execution_count": 0,
      "outputs": [
        {
          "output_type": "execute_result",
          "data": {
            "text/html": [
              "<div>\n",
              "<style scoped>\n",
              "    .dataframe tbody tr th:only-of-type {\n",
              "        vertical-align: middle;\n",
              "    }\n",
              "\n",
              "    .dataframe tbody tr th {\n",
              "        vertical-align: top;\n",
              "    }\n",
              "\n",
              "    .dataframe thead th {\n",
              "        text-align: right;\n",
              "    }\n",
              "</style>\n",
              "<table border=\"1\" class=\"dataframe\">\n",
              "  <thead>\n",
              "    <tr style=\"text-align: right;\">\n",
              "      <th></th>\n",
              "      <th>Function_Aides Compensation</th>\n",
              "      <th>Function_Career &amp; Academic Counseling</th>\n",
              "      <th>Function_Communications</th>\n",
              "      <th>Function_Curriculum Development</th>\n",
              "      <th>Function_Data Processing &amp; Information Services</th>\n",
              "      <th>Function_Development &amp; Fundraising</th>\n",
              "      <th>Function_Enrichment</th>\n",
              "      <th>Function_Extended Time &amp; Tutoring</th>\n",
              "      <th>Function_Facilities &amp; Maintenance</th>\n",
              "      <th>Function_Facilities Planning</th>\n",
              "      <th>Function_Finance, Budget, Purchasing &amp; Distribution</th>\n",
              "      <th>Function_Food Services</th>\n",
              "      <th>Function_Governance</th>\n",
              "      <th>Function_Human Resources</th>\n",
              "      <th>Function_Instructional Materials &amp; Supplies</th>\n",
              "      <th>Function_Insurance</th>\n",
              "      <th>Function_Legal</th>\n",
              "      <th>Function_Library &amp; Media</th>\n",
              "      <th>Function_NO_LABEL</th>\n",
              "      <th>Function_Other Compensation</th>\n",
              "      <th>Function_Other Non-Compensation</th>\n",
              "      <th>Function_Parent &amp; Community Relations</th>\n",
              "      <th>Function_Physical Health &amp; Services</th>\n",
              "      <th>Function_Professional Development</th>\n",
              "      <th>Function_Recruitment</th>\n",
              "      <th>Function_Research &amp; Accountability</th>\n",
              "      <th>Function_School Administration</th>\n",
              "      <th>Function_School Supervision</th>\n",
              "      <th>Function_Security &amp; Safety</th>\n",
              "      <th>Function_Social &amp; Emotional</th>\n",
              "      <th>Function_Special Population Program Management &amp; Support</th>\n",
              "      <th>Function_Student Assignment</th>\n",
              "      <th>Function_Student Transportation</th>\n",
              "      <th>Function_Substitute Compensation</th>\n",
              "      <th>Function_Teacher Compensation</th>\n",
              "      <th>Function_Untracked Budget Set-Aside</th>\n",
              "      <th>Function_Utilities</th>\n",
              "      <th>Object_Type_Base Salary/Compensation</th>\n",
              "      <th>Object_Type_Benefits</th>\n",
              "      <th>Object_Type_Contracted Services</th>\n",
              "      <th>...</th>\n",
              "      <th>Position_Type_Other</th>\n",
              "      <th>Position_Type_Physical Therapist</th>\n",
              "      <th>Position_Type_Principal</th>\n",
              "      <th>Position_Type_Psychologist</th>\n",
              "      <th>Position_Type_School Monitor/Security</th>\n",
              "      <th>Position_Type_Sec/Clerk/Other Admin</th>\n",
              "      <th>Position_Type_Social Worker</th>\n",
              "      <th>Position_Type_Speech Therapist</th>\n",
              "      <th>Position_Type_Substitute</th>\n",
              "      <th>Position_Type_TA</th>\n",
              "      <th>Position_Type_Teacher</th>\n",
              "      <th>Position_Type_Vice Principal</th>\n",
              "      <th>Pre_K_NO_LABEL</th>\n",
              "      <th>Pre_K_Non PreK</th>\n",
              "      <th>Pre_K_PreK</th>\n",
              "      <th>Reporting_NO_LABEL</th>\n",
              "      <th>Reporting_Non-School</th>\n",
              "      <th>Reporting_School</th>\n",
              "      <th>Sharing_Leadership &amp; Management</th>\n",
              "      <th>Sharing_NO_LABEL</th>\n",
              "      <th>Sharing_School Reported</th>\n",
              "      <th>Sharing_School on Central Budgets</th>\n",
              "      <th>Sharing_Shared Services</th>\n",
              "      <th>Student_Type_Alternative</th>\n",
              "      <th>Student_Type_At Risk</th>\n",
              "      <th>Student_Type_ELL</th>\n",
              "      <th>Student_Type_Gifted</th>\n",
              "      <th>Student_Type_NO_LABEL</th>\n",
              "      <th>Student_Type_Poverty</th>\n",
              "      <th>Student_Type_PreK</th>\n",
              "      <th>Student_Type_Special Education</th>\n",
              "      <th>Student_Type_Unspecified</th>\n",
              "      <th>Use_Business Services</th>\n",
              "      <th>Use_ISPD</th>\n",
              "      <th>Use_Instruction</th>\n",
              "      <th>Use_Leadership</th>\n",
              "      <th>Use_NO_LABEL</th>\n",
              "      <th>Use_O&amp;M</th>\n",
              "      <th>Use_Pupil Services &amp; Enrichment</th>\n",
              "      <th>Use_Untracked Budget Set-Aside</th>\n",
              "    </tr>\n",
              "  </thead>\n",
              "  <tbody>\n",
              "    <tr>\n",
              "      <th>0</th>\n",
              "      <td>0</td>\n",
              "      <td>0</td>\n",
              "      <td>0</td>\n",
              "      <td>0</td>\n",
              "      <td>0</td>\n",
              "      <td>0</td>\n",
              "      <td>0</td>\n",
              "      <td>0</td>\n",
              "      <td>0</td>\n",
              "      <td>0</td>\n",
              "      <td>0</td>\n",
              "      <td>0</td>\n",
              "      <td>0</td>\n",
              "      <td>0</td>\n",
              "      <td>0</td>\n",
              "      <td>0</td>\n",
              "      <td>0</td>\n",
              "      <td>0</td>\n",
              "      <td>0</td>\n",
              "      <td>0</td>\n",
              "      <td>0</td>\n",
              "      <td>0</td>\n",
              "      <td>0</td>\n",
              "      <td>0</td>\n",
              "      <td>0</td>\n",
              "      <td>0</td>\n",
              "      <td>0</td>\n",
              "      <td>0</td>\n",
              "      <td>0</td>\n",
              "      <td>0</td>\n",
              "      <td>0</td>\n",
              "      <td>0</td>\n",
              "      <td>0</td>\n",
              "      <td>0</td>\n",
              "      <td>1</td>\n",
              "      <td>0</td>\n",
              "      <td>0</td>\n",
              "      <td>0</td>\n",
              "      <td>0</td>\n",
              "      <td>0</td>\n",
              "      <td>...</td>\n",
              "      <td>0</td>\n",
              "      <td>0</td>\n",
              "      <td>0</td>\n",
              "      <td>0</td>\n",
              "      <td>0</td>\n",
              "      <td>0</td>\n",
              "      <td>0</td>\n",
              "      <td>0</td>\n",
              "      <td>0</td>\n",
              "      <td>0</td>\n",
              "      <td>1</td>\n",
              "      <td>0</td>\n",
              "      <td>1</td>\n",
              "      <td>0</td>\n",
              "      <td>0</td>\n",
              "      <td>0</td>\n",
              "      <td>0</td>\n",
              "      <td>1</td>\n",
              "      <td>0</td>\n",
              "      <td>0</td>\n",
              "      <td>1</td>\n",
              "      <td>0</td>\n",
              "      <td>0</td>\n",
              "      <td>0</td>\n",
              "      <td>0</td>\n",
              "      <td>0</td>\n",
              "      <td>0</td>\n",
              "      <td>1</td>\n",
              "      <td>0</td>\n",
              "      <td>0</td>\n",
              "      <td>0</td>\n",
              "      <td>0</td>\n",
              "      <td>0</td>\n",
              "      <td>0</td>\n",
              "      <td>1</td>\n",
              "      <td>0</td>\n",
              "      <td>0</td>\n",
              "      <td>0</td>\n",
              "      <td>0</td>\n",
              "      <td>0</td>\n",
              "    </tr>\n",
              "    <tr>\n",
              "      <th>1</th>\n",
              "      <td>0</td>\n",
              "      <td>0</td>\n",
              "      <td>0</td>\n",
              "      <td>0</td>\n",
              "      <td>0</td>\n",
              "      <td>0</td>\n",
              "      <td>0</td>\n",
              "      <td>0</td>\n",
              "      <td>0</td>\n",
              "      <td>0</td>\n",
              "      <td>0</td>\n",
              "      <td>0</td>\n",
              "      <td>0</td>\n",
              "      <td>0</td>\n",
              "      <td>0</td>\n",
              "      <td>0</td>\n",
              "      <td>0</td>\n",
              "      <td>0</td>\n",
              "      <td>1</td>\n",
              "      <td>0</td>\n",
              "      <td>0</td>\n",
              "      <td>0</td>\n",
              "      <td>0</td>\n",
              "      <td>0</td>\n",
              "      <td>0</td>\n",
              "      <td>0</td>\n",
              "      <td>0</td>\n",
              "      <td>0</td>\n",
              "      <td>0</td>\n",
              "      <td>0</td>\n",
              "      <td>0</td>\n",
              "      <td>0</td>\n",
              "      <td>0</td>\n",
              "      <td>0</td>\n",
              "      <td>0</td>\n",
              "      <td>0</td>\n",
              "      <td>0</td>\n",
              "      <td>0</td>\n",
              "      <td>0</td>\n",
              "      <td>0</td>\n",
              "      <td>...</td>\n",
              "      <td>0</td>\n",
              "      <td>0</td>\n",
              "      <td>0</td>\n",
              "      <td>0</td>\n",
              "      <td>0</td>\n",
              "      <td>0</td>\n",
              "      <td>0</td>\n",
              "      <td>0</td>\n",
              "      <td>0</td>\n",
              "      <td>0</td>\n",
              "      <td>0</td>\n",
              "      <td>0</td>\n",
              "      <td>1</td>\n",
              "      <td>0</td>\n",
              "      <td>0</td>\n",
              "      <td>1</td>\n",
              "      <td>0</td>\n",
              "      <td>0</td>\n",
              "      <td>0</td>\n",
              "      <td>1</td>\n",
              "      <td>0</td>\n",
              "      <td>0</td>\n",
              "      <td>0</td>\n",
              "      <td>0</td>\n",
              "      <td>0</td>\n",
              "      <td>0</td>\n",
              "      <td>0</td>\n",
              "      <td>1</td>\n",
              "      <td>0</td>\n",
              "      <td>0</td>\n",
              "      <td>0</td>\n",
              "      <td>0</td>\n",
              "      <td>0</td>\n",
              "      <td>0</td>\n",
              "      <td>0</td>\n",
              "      <td>0</td>\n",
              "      <td>1</td>\n",
              "      <td>0</td>\n",
              "      <td>0</td>\n",
              "      <td>0</td>\n",
              "    </tr>\n",
              "    <tr>\n",
              "      <th>2</th>\n",
              "      <td>0</td>\n",
              "      <td>0</td>\n",
              "      <td>0</td>\n",
              "      <td>0</td>\n",
              "      <td>0</td>\n",
              "      <td>0</td>\n",
              "      <td>0</td>\n",
              "      <td>0</td>\n",
              "      <td>0</td>\n",
              "      <td>0</td>\n",
              "      <td>0</td>\n",
              "      <td>0</td>\n",
              "      <td>0</td>\n",
              "      <td>0</td>\n",
              "      <td>0</td>\n",
              "      <td>0</td>\n",
              "      <td>0</td>\n",
              "      <td>0</td>\n",
              "      <td>0</td>\n",
              "      <td>0</td>\n",
              "      <td>0</td>\n",
              "      <td>0</td>\n",
              "      <td>0</td>\n",
              "      <td>0</td>\n",
              "      <td>0</td>\n",
              "      <td>0</td>\n",
              "      <td>0</td>\n",
              "      <td>0</td>\n",
              "      <td>0</td>\n",
              "      <td>0</td>\n",
              "      <td>0</td>\n",
              "      <td>0</td>\n",
              "      <td>0</td>\n",
              "      <td>0</td>\n",
              "      <td>1</td>\n",
              "      <td>0</td>\n",
              "      <td>0</td>\n",
              "      <td>1</td>\n",
              "      <td>0</td>\n",
              "      <td>0</td>\n",
              "      <td>...</td>\n",
              "      <td>0</td>\n",
              "      <td>0</td>\n",
              "      <td>0</td>\n",
              "      <td>0</td>\n",
              "      <td>0</td>\n",
              "      <td>0</td>\n",
              "      <td>0</td>\n",
              "      <td>0</td>\n",
              "      <td>0</td>\n",
              "      <td>0</td>\n",
              "      <td>1</td>\n",
              "      <td>0</td>\n",
              "      <td>0</td>\n",
              "      <td>1</td>\n",
              "      <td>0</td>\n",
              "      <td>0</td>\n",
              "      <td>0</td>\n",
              "      <td>1</td>\n",
              "      <td>0</td>\n",
              "      <td>0</td>\n",
              "      <td>1</td>\n",
              "      <td>0</td>\n",
              "      <td>0</td>\n",
              "      <td>0</td>\n",
              "      <td>0</td>\n",
              "      <td>0</td>\n",
              "      <td>0</td>\n",
              "      <td>0</td>\n",
              "      <td>0</td>\n",
              "      <td>0</td>\n",
              "      <td>0</td>\n",
              "      <td>1</td>\n",
              "      <td>0</td>\n",
              "      <td>0</td>\n",
              "      <td>1</td>\n",
              "      <td>0</td>\n",
              "      <td>0</td>\n",
              "      <td>0</td>\n",
              "      <td>0</td>\n",
              "      <td>0</td>\n",
              "    </tr>\n",
              "    <tr>\n",
              "      <th>3</th>\n",
              "      <td>0</td>\n",
              "      <td>0</td>\n",
              "      <td>0</td>\n",
              "      <td>0</td>\n",
              "      <td>0</td>\n",
              "      <td>0</td>\n",
              "      <td>0</td>\n",
              "      <td>0</td>\n",
              "      <td>0</td>\n",
              "      <td>0</td>\n",
              "      <td>0</td>\n",
              "      <td>0</td>\n",
              "      <td>0</td>\n",
              "      <td>0</td>\n",
              "      <td>0</td>\n",
              "      <td>0</td>\n",
              "      <td>0</td>\n",
              "      <td>0</td>\n",
              "      <td>0</td>\n",
              "      <td>0</td>\n",
              "      <td>0</td>\n",
              "      <td>0</td>\n",
              "      <td>0</td>\n",
              "      <td>0</td>\n",
              "      <td>0</td>\n",
              "      <td>0</td>\n",
              "      <td>0</td>\n",
              "      <td>0</td>\n",
              "      <td>0</td>\n",
              "      <td>0</td>\n",
              "      <td>0</td>\n",
              "      <td>0</td>\n",
              "      <td>0</td>\n",
              "      <td>1</td>\n",
              "      <td>0</td>\n",
              "      <td>0</td>\n",
              "      <td>0</td>\n",
              "      <td>0</td>\n",
              "      <td>1</td>\n",
              "      <td>0</td>\n",
              "      <td>...</td>\n",
              "      <td>0</td>\n",
              "      <td>0</td>\n",
              "      <td>0</td>\n",
              "      <td>0</td>\n",
              "      <td>0</td>\n",
              "      <td>0</td>\n",
              "      <td>0</td>\n",
              "      <td>0</td>\n",
              "      <td>1</td>\n",
              "      <td>0</td>\n",
              "      <td>0</td>\n",
              "      <td>0</td>\n",
              "      <td>1</td>\n",
              "      <td>0</td>\n",
              "      <td>0</td>\n",
              "      <td>0</td>\n",
              "      <td>0</td>\n",
              "      <td>1</td>\n",
              "      <td>0</td>\n",
              "      <td>0</td>\n",
              "      <td>1</td>\n",
              "      <td>0</td>\n",
              "      <td>0</td>\n",
              "      <td>0</td>\n",
              "      <td>0</td>\n",
              "      <td>0</td>\n",
              "      <td>0</td>\n",
              "      <td>0</td>\n",
              "      <td>0</td>\n",
              "      <td>0</td>\n",
              "      <td>0</td>\n",
              "      <td>1</td>\n",
              "      <td>0</td>\n",
              "      <td>0</td>\n",
              "      <td>1</td>\n",
              "      <td>0</td>\n",
              "      <td>0</td>\n",
              "      <td>0</td>\n",
              "      <td>0</td>\n",
              "      <td>0</td>\n",
              "    </tr>\n",
              "    <tr>\n",
              "      <th>4</th>\n",
              "      <td>0</td>\n",
              "      <td>0</td>\n",
              "      <td>0</td>\n",
              "      <td>0</td>\n",
              "      <td>0</td>\n",
              "      <td>0</td>\n",
              "      <td>0</td>\n",
              "      <td>0</td>\n",
              "      <td>0</td>\n",
              "      <td>0</td>\n",
              "      <td>0</td>\n",
              "      <td>0</td>\n",
              "      <td>0</td>\n",
              "      <td>0</td>\n",
              "      <td>0</td>\n",
              "      <td>0</td>\n",
              "      <td>0</td>\n",
              "      <td>0</td>\n",
              "      <td>0</td>\n",
              "      <td>0</td>\n",
              "      <td>0</td>\n",
              "      <td>0</td>\n",
              "      <td>0</td>\n",
              "      <td>0</td>\n",
              "      <td>0</td>\n",
              "      <td>0</td>\n",
              "      <td>0</td>\n",
              "      <td>0</td>\n",
              "      <td>0</td>\n",
              "      <td>0</td>\n",
              "      <td>0</td>\n",
              "      <td>0</td>\n",
              "      <td>0</td>\n",
              "      <td>1</td>\n",
              "      <td>0</td>\n",
              "      <td>0</td>\n",
              "      <td>0</td>\n",
              "      <td>0</td>\n",
              "      <td>0</td>\n",
              "      <td>0</td>\n",
              "      <td>...</td>\n",
              "      <td>0</td>\n",
              "      <td>0</td>\n",
              "      <td>0</td>\n",
              "      <td>0</td>\n",
              "      <td>0</td>\n",
              "      <td>0</td>\n",
              "      <td>0</td>\n",
              "      <td>0</td>\n",
              "      <td>0</td>\n",
              "      <td>0</td>\n",
              "      <td>1</td>\n",
              "      <td>0</td>\n",
              "      <td>1</td>\n",
              "      <td>0</td>\n",
              "      <td>0</td>\n",
              "      <td>0</td>\n",
              "      <td>0</td>\n",
              "      <td>1</td>\n",
              "      <td>0</td>\n",
              "      <td>0</td>\n",
              "      <td>1</td>\n",
              "      <td>0</td>\n",
              "      <td>0</td>\n",
              "      <td>0</td>\n",
              "      <td>0</td>\n",
              "      <td>0</td>\n",
              "      <td>0</td>\n",
              "      <td>0</td>\n",
              "      <td>0</td>\n",
              "      <td>0</td>\n",
              "      <td>0</td>\n",
              "      <td>1</td>\n",
              "      <td>0</td>\n",
              "      <td>0</td>\n",
              "      <td>1</td>\n",
              "      <td>0</td>\n",
              "      <td>0</td>\n",
              "      <td>0</td>\n",
              "      <td>0</td>\n",
              "      <td>0</td>\n",
              "    </tr>\n",
              "  </tbody>\n",
              "</table>\n",
              "<p>5 rows × 104 columns</p>\n",
              "</div>"
            ],
            "text/plain": [
              "   Function_Aides Compensation  ...  Use_Untracked Budget Set-Aside\n",
              "0                            0  ...                               0\n",
              "1                            0  ...                               0\n",
              "2                            0  ...                               0\n",
              "3                            0  ...                               0\n",
              "4                            0  ...                               0\n",
              "\n",
              "[5 rows x 104 columns]"
            ]
          },
          "metadata": {
            "tags": []
          },
          "execution_count": 78
        }
      ]
    },
    {
      "cell_type": "code",
      "metadata": {
        "id": "OAEKXgRQwxj4",
        "colab_type": "code",
        "colab": {}
      },
      "source": [
        "hash_vec = HashingVectorizer(token_pattern = text_pattern)"
      ],
      "execution_count": 0,
      "outputs": []
    },
    {
      "cell_type": "code",
      "metadata": {
        "id": "bnQM3yFWxe07",
        "colab_type": "code",
        "colab": {}
      },
      "source": [
        "hash_result = hash_vec.fit_transform(concat_text)"
      ],
      "execution_count": 0,
      "outputs": []
    },
    {
      "cell_type": "code",
      "metadata": {
        "id": "bS__aIwNyV-x",
        "colab_type": "code",
        "outputId": "96d55237-24be-45fa-dad1-a17c31505805",
        "colab": {
          "base_uri": "https://localhost:8080/",
          "height": 53
        }
      },
      "source": [
        "hash_result"
      ],
      "execution_count": 0,
      "outputs": [
        {
          "output_type": "execute_result",
          "data": {
            "text/plain": [
              "<400277x1048576 sparse matrix of type '<class 'numpy.float64'>'\n",
              "\twith 5425178 stored elements in Compressed Sparse Row format>"
            ]
          },
          "metadata": {
            "tags": []
          },
          "execution_count": 81
        }
      ]
    },
    {
      "cell_type": "code",
      "metadata": {
        "id": "UWMDEN4n13dv",
        "colab_type": "code",
        "colab": {}
      },
      "source": [
        "hash_full = hstack([hash_result, numeric_feature])"
      ],
      "execution_count": 0,
      "outputs": []
    },
    {
      "cell_type": "code",
      "metadata": {
        "id": "G9h_M5R81_BH",
        "colab_type": "code",
        "outputId": "1d4932bf-f311-46a1-d777-44ccc5a23149",
        "colab": {
          "base_uri": "https://localhost:8080/",
          "height": 53
        }
      },
      "source": [
        "hash_full"
      ],
      "execution_count": 0,
      "outputs": [
        {
          "output_type": "execute_result",
          "data": {
            "text/plain": [
              "<400277x1048578 sparse matrix of type '<class 'numpy.float64'>'\n",
              "\twith 6225732 stored elements in COOrdinate format>"
            ]
          },
          "metadata": {
            "tags": []
          },
          "execution_count": 84
        }
      ]
    },
    {
      "cell_type": "code",
      "metadata": {
        "id": "5EAJjA6byXn6",
        "colab_type": "code",
        "colab": {}
      },
      "source": [
        "X_train, X_test, y_train, y_test = train_test_split(hash_full, train_y_dummy, test_size=0.2, random_state = 1228)"
      ],
      "execution_count": 0,
      "outputs": []
    },
    {
      "cell_type": "code",
      "metadata": {
        "id": "GF27zQjIy0pq",
        "colab_type": "code",
        "outputId": "73369dbf-164e-4925-94f9-3a802a8317c5",
        "colab": {
          "base_uri": "https://localhost:8080/",
          "height": 71
        }
      },
      "source": [
        "print(X_train.shape, y_train.shape)\n",
        "print('----------')\n",
        "print(X_test.shape, y_test.shape)"
      ],
      "execution_count": 0,
      "outputs": [
        {
          "output_type": "stream",
          "text": [
            "(320221, 1048578) (320221, 104)\n",
            "----------\n",
            "(80056, 1048578) (80056, 104)\n"
          ],
          "name": "stdout"
        }
      ]
    },
    {
      "cell_type": "code",
      "metadata": {
        "id": "_FC_OE0EykVu",
        "colab_type": "code",
        "colab": {}
      },
      "source": [
        "logit = OneVsRestClassifier(LogisticRegression(solver='lbfgs',random_state=1228))"
      ],
      "execution_count": 0,
      "outputs": []
    },
    {
      "cell_type": "code",
      "metadata": {
        "id": "u1WIwh7fyyTf",
        "colab_type": "code",
        "outputId": "a1c46269-26c7-4072-dcf1-0e0fde6cd7bf",
        "colab": {
          "base_uri": "https://localhost:8080/",
          "height": 197
        }
      },
      "source": [
        "logit.fit(X_train, y_train)"
      ],
      "execution_count": 0,
      "outputs": [
        {
          "output_type": "execute_result",
          "data": {
            "text/plain": [
              "OneVsRestClassifier(estimator=LogisticRegression(C=1.0, class_weight=None,\n",
              "                                                 dual=False, fit_intercept=True,\n",
              "                                                 intercept_scaling=1,\n",
              "                                                 l1_ratio=None, max_iter=100,\n",
              "                                                 multi_class='warn',\n",
              "                                                 n_jobs=None, penalty='l2',\n",
              "                                                 random_state=1228,\n",
              "                                                 solver='lbfgs', tol=0.0001,\n",
              "                                                 verbose=0, warm_start=False),\n",
              "                    n_jobs=None)"
            ]
          },
          "metadata": {
            "tags": []
          },
          "execution_count": 94
        }
      ]
    },
    {
      "cell_type": "code",
      "metadata": {
        "id": "Xysmlkm5y-ge",
        "colab_type": "code",
        "outputId": "cb2ce1fa-9119-4eac-e5db-ca5028039bdd",
        "colab": {
          "base_uri": "https://localhost:8080/",
          "height": 35
        }
      },
      "source": [
        "logit.score(X_train, y_train)"
      ],
      "execution_count": 0,
      "outputs": [
        {
          "output_type": "execute_result",
          "data": {
            "text/plain": [
              "0.8307325253496803"
            ]
          },
          "metadata": {
            "tags": []
          },
          "execution_count": 95
        }
      ]
    },
    {
      "cell_type": "code",
      "metadata": {
        "id": "mA_s8tVDzBHO",
        "colab_type": "code",
        "outputId": "9a354259-7e01-41d0-b305-83fdd9b13e77",
        "colab": {
          "base_uri": "https://localhost:8080/",
          "height": 35
        }
      },
      "source": [
        "logit.score(X_test, y_test)"
      ],
      "execution_count": 0,
      "outputs": [
        {
          "output_type": "execute_result",
          "data": {
            "text/plain": [
              "0.8256345558109324"
            ]
          },
          "metadata": {
            "tags": []
          },
          "execution_count": 96
        }
      ]
    },
    {
      "cell_type": "code",
      "metadata": {
        "id": "SSCX9-tz3_tf",
        "colab_type": "code",
        "colab": {}
      },
      "source": [
        "rnd_clf = RandomForestClassifier(random_state=1228)"
      ],
      "execution_count": 0,
      "outputs": []
    },
    {
      "cell_type": "code",
      "metadata": {
        "id": "TeIyP5wd4G78",
        "colab_type": "code",
        "outputId": "aa953dc3-b3d0-4cdf-c463-f8e4d1be0c06",
        "colab": {
          "base_uri": "https://localhost:8080/",
          "height": 143
        }
      },
      "source": [
        "rnd_clf.fit(X_train, y_train)"
      ],
      "execution_count": 0,
      "outputs": [
        {
          "output_type": "execute_result",
          "data": {
            "text/plain": [
              "RandomForestClassifier(bootstrap=True, class_weight=None, criterion='gini',\n",
              "                       max_depth=None, max_features='auto', max_leaf_nodes=None,\n",
              "                       min_impurity_decrease=0.0, min_impurity_split=None,\n",
              "                       min_samples_leaf=1, min_samples_split=2,\n",
              "                       min_weight_fraction_leaf=0.0, n_estimators=10,\n",
              "                       n_jobs=None, oob_score=False, random_state=1228,\n",
              "                       verbose=0, warm_start=False)"
            ]
          },
          "metadata": {
            "tags": []
          },
          "execution_count": 100
        }
      ]
    },
    {
      "cell_type": "code",
      "metadata": {
        "id": "SpMcfQTP4ISH",
        "colab_type": "code",
        "outputId": "8965bb57-93b9-43c9-f69f-a2f6f9c84ef7",
        "colab": {
          "base_uri": "https://localhost:8080/",
          "height": 35
        }
      },
      "source": [
        "rnd_clf.score(X_train, y_train)"
      ],
      "execution_count": 0,
      "outputs": [
        {
          "output_type": "execute_result",
          "data": {
            "text/plain": [
              "0.9834645447987483"
            ]
          },
          "metadata": {
            "tags": []
          },
          "execution_count": 101
        }
      ]
    },
    {
      "cell_type": "code",
      "metadata": {
        "id": "pIZ_7Hb972Bb",
        "colab_type": "code",
        "outputId": "0a5f3890-00d0-4c3c-b0fc-1e56e8c0adbe",
        "colab": {
          "base_uri": "https://localhost:8080/",
          "height": 35
        }
      },
      "source": [
        "rnd_clf.score(X_test, y_test)"
      ],
      "execution_count": 0,
      "outputs": [
        {
          "output_type": "execute_result",
          "data": {
            "text/plain": [
              "0.9043419606275607"
            ]
          },
          "metadata": {
            "tags": []
          },
          "execution_count": 102
        }
      ]
    },
    {
      "cell_type": "markdown",
      "metadata": {
        "id": "NImBzDdXMwM6",
        "colab_type": "text"
      },
      "source": [
        "hasing wiht ngram"
      ]
    },
    {
      "cell_type": "code",
      "metadata": {
        "id": "ecd9sPozzmVO",
        "colab_type": "code",
        "outputId": "99c0f48e-818a-4eb0-cd11-e7f59559a453",
        "colab": {
          "base_uri": "https://localhost:8080/",
          "height": 413
        }
      },
      "source": [
        "print(numeric_feature[:5])\n",
        "print(concat_text[:5])\n",
        "print(train_y_dummy[:5])"
      ],
      "execution_count": 0,
      "outputs": [
        {
          "output_type": "stream",
          "text": [
            "                       0         1\n",
            "Unnamed: 0                        \n",
            "134338      1.780716e+00  0.102058\n",
            "206341     -6.760054e-14 -0.026297\n",
            "326408      1.780716e+00  0.134193\n",
            "364634     -6.760054e-14 -0.035735\n",
            "47683      -6.760054e-14 -0.035648\n",
            "Unnamed: 0\n",
            "134338    Teacher-Elementary KINDERGARTEN KINDERGARTENGe...\n",
            "206341    CONTRACTOR SERVICESBOND EXPENDITURESBUILDING F...\n",
            "326408    Personal Services - TeachersTCHER 2ND GRADEReg...\n",
            "364634    EMPLOYEE BENEFITSTEACHER SUBSGENERAL FUNDTeach...\n",
            "47683     TEACHER COVERAGE FOR TEACHERTEACHER SUBSGENERA...\n",
            "dtype: object\n",
            "   Function_Aides Compensation  ...  Use_Untracked Budget Set-Aside\n",
            "0                            0  ...                               0\n",
            "1                            0  ...                               0\n",
            "2                            0  ...                               0\n",
            "3                            0  ...                               0\n",
            "4                            0  ...                               0\n",
            "\n",
            "[5 rows x 104 columns]\n"
          ],
          "name": "stdout"
        }
      ]
    },
    {
      "cell_type": "code",
      "metadata": {
        "id": "VM2in7mu9PZu",
        "colab_type": "code",
        "colab": {}
      },
      "source": [
        "text_pattern = re.compile(r'[A-Za-z0-9]+')"
      ],
      "execution_count": 0,
      "outputs": []
    },
    {
      "cell_type": "code",
      "metadata": {
        "id": "5o71ALGs1dqH",
        "colab_type": "code",
        "colab": {}
      },
      "source": [
        "hashing_vec = HashingVectorizer(token_pattern=text_pattern, ngram_range=(1, 3))"
      ],
      "execution_count": 0,
      "outputs": []
    },
    {
      "cell_type": "code",
      "metadata": {
        "id": "3A29wI-I9cho",
        "colab_type": "code",
        "colab": {}
      },
      "source": [
        "hasing_vec_ngram = hashing_vec.fit_transform(concat_text)"
      ],
      "execution_count": 0,
      "outputs": []
    },
    {
      "cell_type": "code",
      "metadata": {
        "id": "QjhSOsGg9sES",
        "colab_type": "code",
        "outputId": "447f5140-0c2b-4528-a216-8c8101bf2dec",
        "colab": {
          "base_uri": "https://localhost:8080/",
          "height": 53
        }
      },
      "source": [
        "hasing_vec_ngram"
      ],
      "execution_count": 0,
      "outputs": [
        {
          "output_type": "execute_result",
          "data": {
            "text/plain": [
              "<400277x1048576 sparse matrix of type '<class 'numpy.float64'>'\n",
              "\twith 15903336 stored elements in Compressed Sparse Row format>"
            ]
          },
          "metadata": {
            "tags": []
          },
          "execution_count": 47
        }
      ]
    },
    {
      "cell_type": "code",
      "metadata": {
        "id": "Ev9HL-c_91a1",
        "colab_type": "code",
        "colab": {}
      },
      "source": [
        "hasing_vec_all = hstack([numeric_feature, hasing_vec_ngram])"
      ],
      "execution_count": 0,
      "outputs": []
    },
    {
      "cell_type": "code",
      "metadata": {
        "id": "b8zB2CUq-UvJ",
        "colab_type": "code",
        "colab": {}
      },
      "source": [
        "X_train, X_test, y_train, y_test = train_test_split(hasing_vec_all, train_y_dummy, test_size=0.2, random_state=1228)"
      ],
      "execution_count": 0,
      "outputs": []
    },
    {
      "cell_type": "code",
      "metadata": {
        "id": "dlQXxw-5-eSa",
        "colab_type": "code",
        "outputId": "42f348fc-b4f1-4b39-b8e3-92c5b9021c0e",
        "colab": {
          "base_uri": "https://localhost:8080/",
          "height": 35
        }
      },
      "source": [
        "print(X_train.shape, y_train.shape)"
      ],
      "execution_count": 0,
      "outputs": [
        {
          "output_type": "stream",
          "text": [
            "(320221, 1048578) (320221, 104)\n"
          ],
          "name": "stdout"
        }
      ]
    },
    {
      "cell_type": "code",
      "metadata": {
        "id": "k2YcZBd598bz",
        "colab_type": "code",
        "colab": {}
      },
      "source": [
        "logit = OneVsRestClassifier(LogisticRegression(solver = 'lbfgs', random_state=42))"
      ],
      "execution_count": 0,
      "outputs": []
    },
    {
      "cell_type": "code",
      "metadata": {
        "id": "OXR5YG0C-IIy",
        "colab_type": "code",
        "outputId": "7a29dbcc-bcf1-4d4c-99b4-f60bbb2b4573",
        "colab": {
          "base_uri": "https://localhost:8080/",
          "height": 187
        }
      },
      "source": [
        "logit.fit(X_train, y_train)"
      ],
      "execution_count": 0,
      "outputs": [
        {
          "output_type": "execute_result",
          "data": {
            "text/plain": [
              "OneVsRestClassifier(estimator=LogisticRegression(C=1.0, class_weight=None,\n",
              "                                                 dual=False, fit_intercept=True,\n",
              "                                                 intercept_scaling=1,\n",
              "                                                 l1_ratio=None, max_iter=100,\n",
              "                                                 multi_class='warn',\n",
              "                                                 n_jobs=None, penalty='l2',\n",
              "                                                 random_state=42,\n",
              "                                                 solver='lbfgs', tol=0.0001,\n",
              "                                                 verbose=0, warm_start=False),\n",
              "                    n_jobs=None)"
            ]
          },
          "metadata": {
            "tags": []
          },
          "execution_count": 55
        }
      ]
    },
    {
      "cell_type": "code",
      "metadata": {
        "id": "0Mo_qxLv-kja",
        "colab_type": "code",
        "outputId": "cccc5ca7-d3bc-4f96-86b6-519c320b6472",
        "colab": {
          "base_uri": "https://localhost:8080/",
          "height": 34
        }
      },
      "source": [
        "logit.score(X_train, y_train)"
      ],
      "execution_count": 0,
      "outputs": [
        {
          "output_type": "execute_result",
          "data": {
            "text/plain": [
              "0.8699710512427354"
            ]
          },
          "metadata": {
            "tags": []
          },
          "execution_count": 56
        }
      ]
    },
    {
      "cell_type": "code",
      "metadata": {
        "id": "yrKHjhg-PTtW",
        "colab_type": "code",
        "outputId": "df03a4ed-8cb0-4450-80da-1ab417e1169b",
        "colab": {
          "base_uri": "https://localhost:8080/",
          "height": 34
        }
      },
      "source": [
        "logit.score(X_test, y_test)"
      ],
      "execution_count": 0,
      "outputs": [
        {
          "output_type": "execute_result",
          "data": {
            "text/plain": [
              "0.8636954132107525"
            ]
          },
          "metadata": {
            "tags": []
          },
          "execution_count": 57
        }
      ]
    },
    {
      "cell_type": "code",
      "metadata": {
        "id": "-Zl6OgFXPXdg",
        "colab_type": "code",
        "colab": {}
      },
      "source": [
        "rnd_clf = RandomForestClassifier(random_state=42)"
      ],
      "execution_count": 0,
      "outputs": []
    },
    {
      "cell_type": "code",
      "metadata": {
        "id": "ySFd8kqHPcZT",
        "colab_type": "code",
        "outputId": "e63b5961-7fa7-4044-e4b0-624a540739b0",
        "colab": {
          "base_uri": "https://localhost:8080/",
          "height": 143
        }
      },
      "source": [
        "rnd_clf.fit(X_train, y_train)"
      ],
      "execution_count": 0,
      "outputs": [
        {
          "output_type": "execute_result",
          "data": {
            "text/plain": [
              "RandomForestClassifier(bootstrap=True, class_weight=None, criterion='gini',\n",
              "                       max_depth=None, max_features='auto', max_leaf_nodes=None,\n",
              "                       min_impurity_decrease=0.0, min_impurity_split=None,\n",
              "                       min_samples_leaf=1, min_samples_split=2,\n",
              "                       min_weight_fraction_leaf=0.0, n_estimators=10,\n",
              "                       n_jobs=None, oob_score=False, random_state=42, verbose=0,\n",
              "                       warm_start=False)"
            ]
          },
          "metadata": {
            "tags": []
          },
          "execution_count": 54
        }
      ]
    },
    {
      "cell_type": "code",
      "metadata": {
        "id": "yh2u59HbPeoT",
        "colab_type": "code",
        "outputId": "46c72315-02e2-44cf-9422-54051d6f05a7",
        "colab": {
          "base_uri": "https://localhost:8080/",
          "height": 35
        }
      },
      "source": [
        "rnd_clf.score(X_train, y_train)"
      ],
      "execution_count": 0,
      "outputs": [
        {
          "output_type": "execute_result",
          "data": {
            "text/plain": [
              "0.9833927194031622"
            ]
          },
          "metadata": {
            "tags": []
          },
          "execution_count": 55
        }
      ]
    },
    {
      "cell_type": "code",
      "metadata": {
        "id": "ibx0EGQHyoyN",
        "colab_type": "code",
        "outputId": "66659a6a-cd51-42da-8f4f-3122bb249136",
        "colab": {
          "base_uri": "https://localhost:8080/",
          "height": 35
        }
      },
      "source": [
        "rnd_clf.score(X_test, y_test)"
      ],
      "execution_count": 0,
      "outputs": [
        {
          "output_type": "execute_result",
          "data": {
            "text/plain": [
              "0.9039672229439393"
            ]
          },
          "metadata": {
            "tags": []
          },
          "execution_count": 56
        }
      ]
    },
    {
      "cell_type": "markdown",
      "metadata": {
        "id": "IGVl4z3vy0hf",
        "colab_type": "text"
      },
      "source": [
        "tfidf"
      ]
    },
    {
      "cell_type": "code",
      "metadata": {
        "id": "pbi_DzIFy2Yb",
        "colab_type": "code",
        "outputId": "cb1f7a4a-d5b1-4125-e154-f341c8963a48",
        "colab": {
          "base_uri": "https://localhost:8080/",
          "height": 413
        }
      },
      "source": [
        "print(numeric_feature[:5])\n",
        "print(concat_text[:5])\n",
        "print(train_y_dummy[:5])"
      ],
      "execution_count": 0,
      "outputs": [
        {
          "output_type": "stream",
          "text": [
            "                       0         1\n",
            "Unnamed: 0                        \n",
            "134338      1.780716e+00  0.102058\n",
            "206341     -6.760054e-14 -0.026297\n",
            "326408      1.780716e+00  0.134193\n",
            "364634     -6.760054e-14 -0.035735\n",
            "47683      -6.760054e-14 -0.035648\n",
            "Unnamed: 0\n",
            "134338    Teacher-Elementary KINDERGARTEN KINDERGARTENGe...\n",
            "206341    CONTRACTOR SERVICESBOND EXPENDITURESBUILDING F...\n",
            "326408    Personal Services - TeachersTCHER 2ND GRADEReg...\n",
            "364634    EMPLOYEE BENEFITSTEACHER SUBSGENERAL FUNDTeach...\n",
            "47683     TEACHER COVERAGE FOR TEACHERTEACHER SUBSGENERA...\n",
            "dtype: object\n",
            "   Function_Aides Compensation  ...  Use_Untracked Budget Set-Aside\n",
            "0                            0  ...                               0\n",
            "1                            0  ...                               0\n",
            "2                            0  ...                               0\n",
            "3                            0  ...                               0\n",
            "4                            0  ...                               0\n",
            "\n",
            "[5 rows x 104 columns]\n"
          ],
          "name": "stdout"
        }
      ]
    },
    {
      "cell_type": "code",
      "metadata": {
        "id": "-RHo7X1vy2V5",
        "colab_type": "code",
        "colab": {}
      },
      "source": [
        ""
      ],
      "execution_count": 0,
      "outputs": []
    },
    {
      "cell_type": "code",
      "metadata": {
        "id": "VfYCsUTGLfQB",
        "colab_type": "code",
        "colab": {}
      },
      "source": [
        "tfidf_vec = TfidfVectorizer(token_pattern=text_pattern)"
      ],
      "execution_count": 0,
      "outputs": []
    },
    {
      "cell_type": "code",
      "metadata": {
        "id": "7pPq3Bu6Lsqk",
        "colab_type": "code",
        "colab": {}
      },
      "source": [
        "tfidf_char = tfidf_vec.fit_transform(concat_text)"
      ],
      "execution_count": 0,
      "outputs": []
    },
    {
      "cell_type": "code",
      "metadata": {
        "id": "-H2rHw7XLzra",
        "colab_type": "code",
        "outputId": "a69c0b5f-9083-4bac-8b7f-18fb337624ee",
        "colab": {
          "base_uri": "https://localhost:8080/",
          "height": 53
        }
      },
      "source": [
        "tfidf_char"
      ],
      "execution_count": 0,
      "outputs": [
        {
          "output_type": "execute_result",
          "data": {
            "text/plain": [
              "<400277x17458 sparse matrix of type '<class 'numpy.float64'>'\n",
              "\twith 5425178 stored elements in Compressed Sparse Row format>"
            ]
          },
          "metadata": {
            "tags": []
          },
          "execution_count": 63
        }
      ]
    },
    {
      "cell_type": "code",
      "metadata": {
        "id": "S-3O0GlaL2zj",
        "colab_type": "code",
        "colab": {}
      },
      "source": [
        "tfidf_full = hstack([numeric_feature, tfidf_char])"
      ],
      "execution_count": 0,
      "outputs": []
    },
    {
      "cell_type": "code",
      "metadata": {
        "colab_type": "code",
        "id": "FUwkSn3iMAgD",
        "colab": {}
      },
      "source": [
        "X_train, X_test, y_train, y_test = train_test_split(tfidf_full, train_y_dummy, test_size=0.2, random_state=1228)"
      ],
      "execution_count": 0,
      "outputs": []
    },
    {
      "cell_type": "code",
      "metadata": {
        "colab_type": "code",
        "outputId": "956fd537-f4d7-4230-9005-6ba8af8730a5",
        "id": "F-f25X9gMAgF",
        "colab": {
          "base_uri": "https://localhost:8080/",
          "height": 35
        }
      },
      "source": [
        "print(X_train.shape, y_train.shape)"
      ],
      "execution_count": 0,
      "outputs": [
        {
          "output_type": "stream",
          "text": [
            "(320221, 17460) (320221, 104)\n"
          ],
          "name": "stdout"
        }
      ]
    },
    {
      "cell_type": "code",
      "metadata": {
        "colab_type": "code",
        "id": "ljIUIzmsMAgH",
        "colab": {}
      },
      "source": [
        "logit = OneVsRestClassifier(LogisticRegression(solver = 'lbfgs', random_state=42))"
      ],
      "execution_count": 0,
      "outputs": []
    },
    {
      "cell_type": "code",
      "metadata": {
        "colab_type": "code",
        "outputId": "5a85cf9c-7ff2-451c-c624-966d06c24e0e",
        "id": "zajP35TOMAgK",
        "colab": {
          "base_uri": "https://localhost:8080/",
          "height": 197
        }
      },
      "source": [
        "logit.fit(X_train, y_train)"
      ],
      "execution_count": 0,
      "outputs": [
        {
          "output_type": "execute_result",
          "data": {
            "text/plain": [
              "OneVsRestClassifier(estimator=LogisticRegression(C=1.0, class_weight=None,\n",
              "                                                 dual=False, fit_intercept=True,\n",
              "                                                 intercept_scaling=1,\n",
              "                                                 l1_ratio=None, max_iter=100,\n",
              "                                                 multi_class='warn',\n",
              "                                                 n_jobs=None, penalty='l2',\n",
              "                                                 random_state=42,\n",
              "                                                 solver='lbfgs', tol=0.0001,\n",
              "                                                 verbose=0, warm_start=False),\n",
              "                    n_jobs=None)"
            ]
          },
          "metadata": {
            "tags": []
          },
          "execution_count": 72
        }
      ]
    },
    {
      "cell_type": "code",
      "metadata": {
        "colab_type": "code",
        "outputId": "cddc3a34-7404-400c-a0ee-8da55a1c2a73",
        "id": "MTCvFxHvMAgN",
        "colab": {
          "base_uri": "https://localhost:8080/",
          "height": 35
        }
      },
      "source": [
        "logit.score(X_train, y_train)"
      ],
      "execution_count": 0,
      "outputs": [
        {
          "output_type": "execute_result",
          "data": {
            "text/plain": [
              "0.8654398056342338"
            ]
          },
          "metadata": {
            "tags": []
          },
          "execution_count": 73
        }
      ]
    },
    {
      "cell_type": "code",
      "metadata": {
        "colab_type": "code",
        "outputId": "8f04b9fe-90cb-4cac-a5f5-d76d0c345cd1",
        "id": "SoWLW2oeMAgO",
        "colab": {
          "base_uri": "https://localhost:8080/",
          "height": 35
        }
      },
      "source": [
        "logit.score(X_test, y_test)"
      ],
      "execution_count": 0,
      "outputs": [
        {
          "output_type": "execute_result",
          "data": {
            "text/plain": [
              "0.8595608074347957"
            ]
          },
          "metadata": {
            "tags": []
          },
          "execution_count": 74
        }
      ]
    },
    {
      "cell_type": "code",
      "metadata": {
        "colab_type": "code",
        "id": "nzz_URF7MAgS",
        "colab": {}
      },
      "source": [
        "rnd_clf = RandomForestClassifier(random_state=42)"
      ],
      "execution_count": 0,
      "outputs": []
    },
    {
      "cell_type": "code",
      "metadata": {
        "colab_type": "code",
        "outputId": "3f428fcb-86e8-47fd-d02f-a2c78bd756c1",
        "id": "LjmyOBLLMAgT",
        "colab": {
          "base_uri": "https://localhost:8080/",
          "height": 143
        }
      },
      "source": [
        "rnd_clf.fit(X_train, y_train)"
      ],
      "execution_count": 0,
      "outputs": [
        {
          "output_type": "execute_result",
          "data": {
            "text/plain": [
              "RandomForestClassifier(bootstrap=True, class_weight=None, criterion='gini',\n",
              "                       max_depth=None, max_features='auto', max_leaf_nodes=None,\n",
              "                       min_impurity_decrease=0.0, min_impurity_split=None,\n",
              "                       min_samples_leaf=1, min_samples_split=2,\n",
              "                       min_weight_fraction_leaf=0.0, n_estimators=10,\n",
              "                       n_jobs=None, oob_score=False, random_state=42, verbose=0,\n",
              "                       warm_start=False)"
            ]
          },
          "metadata": {
            "tags": []
          },
          "execution_count": 76
        }
      ]
    },
    {
      "cell_type": "code",
      "metadata": {
        "colab_type": "code",
        "outputId": "e216b8b9-a243-4049-90ff-ea37a6586f93",
        "id": "tqd9aHJ6MAgV",
        "colab": {
          "base_uri": "https://localhost:8080/",
          "height": 35
        }
      },
      "source": [
        "rnd_clf.score(X_train, y_train)"
      ],
      "execution_count": 0,
      "outputs": [
        {
          "output_type": "execute_result",
          "data": {
            "text/plain": [
              "0.9835238788211891"
            ]
          },
          "metadata": {
            "tags": []
          },
          "execution_count": 77
        }
      ]
    },
    {
      "cell_type": "code",
      "metadata": {
        "colab_type": "code",
        "outputId": "c88753e0-4132-40ca-b32e-5122c17df61b",
        "id": "2MJe77naMAgX",
        "colab": {
          "base_uri": "https://localhost:8080/",
          "height": 35
        }
      },
      "source": [
        "rnd_clf.score(X_test, y_test)"
      ],
      "execution_count": 0,
      "outputs": [
        {
          "output_type": "execute_result",
          "data": {
            "text/plain": [
              "0.9014439892075548"
            ]
          },
          "metadata": {
            "tags": []
          },
          "execution_count": 78
        }
      ]
    },
    {
      "cell_type": "markdown",
      "metadata": {
        "id": "JxOhErYQnVAp",
        "colab_type": "text"
      },
      "source": [
        "tfidf with ngram"
      ]
    },
    {
      "cell_type": "code",
      "metadata": {
        "colab_type": "code",
        "outputId": "f340f30a-ed58-4900-c623-d05a2e79ab31",
        "id": "qrdYyDnSnYC3",
        "colab": {
          "base_uri": "https://localhost:8080/",
          "height": 413
        }
      },
      "source": [
        "print(numeric_feature[:5])\n",
        "print(concat_text[:5])\n",
        "print(train_y_dummy[:5])"
      ],
      "execution_count": 0,
      "outputs": [
        {
          "output_type": "stream",
          "text": [
            "                       0         1\n",
            "Unnamed: 0                        \n",
            "134338      1.780716e+00  0.102058\n",
            "206341     -6.760054e-14 -0.026297\n",
            "326408      1.780716e+00  0.134193\n",
            "364634     -6.760054e-14 -0.035735\n",
            "47683      -6.760054e-14 -0.035648\n",
            "Unnamed: 0\n",
            "134338    Teacher-Elementary KINDERGARTEN KINDERGARTENGe...\n",
            "206341    CONTRACTOR SERVICESBOND EXPENDITURESBUILDING F...\n",
            "326408    Personal Services - TeachersTCHER 2ND GRADEReg...\n",
            "364634    EMPLOYEE BENEFITSTEACHER SUBSGENERAL FUNDTeach...\n",
            "47683     TEACHER COVERAGE FOR TEACHERTEACHER SUBSGENERA...\n",
            "dtype: object\n",
            "   Function_Aides Compensation  ...  Use_Untracked Budget Set-Aside\n",
            "0                            0  ...                               0\n",
            "1                            0  ...                               0\n",
            "2                            0  ...                               0\n",
            "3                            0  ...                               0\n",
            "4                            0  ...                               0\n",
            "\n",
            "[5 rows x 104 columns]\n"
          ],
          "name": "stdout"
        }
      ]
    },
    {
      "cell_type": "code",
      "metadata": {
        "colab_type": "code",
        "id": "CuMQSmANnYC7",
        "colab": {}
      },
      "source": [
        "tfidf_vec = TfidfVectorizer(token_pattern=text_pattern, ngram_range=(1,3))"
      ],
      "execution_count": 0,
      "outputs": []
    },
    {
      "cell_type": "code",
      "metadata": {
        "colab_type": "code",
        "id": "ODsqTmtfnYC8",
        "colab": {}
      },
      "source": [
        "tfidf_char = tfidf_vec.fit_transform(concat_text)"
      ],
      "execution_count": 0,
      "outputs": []
    },
    {
      "cell_type": "code",
      "metadata": {
        "colab_type": "code",
        "outputId": "7b8728fc-6686-4e86-e194-a5b2957d19cf",
        "id": "4SS0HJd_nYC-",
        "colab": {
          "base_uri": "https://localhost:8080/",
          "height": 53
        }
      },
      "source": [
        "tfidf_char"
      ],
      "execution_count": 0,
      "outputs": [
        {
          "output_type": "execute_result",
          "data": {
            "text/plain": [
              "<400277x157023 sparse matrix of type '<class 'numpy.float64'>'\n",
              "\twith 15903807 stored elements in Compressed Sparse Row format>"
            ]
          },
          "metadata": {
            "tags": []
          },
          "execution_count": 57
        }
      ]
    },
    {
      "cell_type": "code",
      "metadata": {
        "colab_type": "code",
        "id": "NU3w6-27nYDA",
        "colab": {}
      },
      "source": [
        "tfidf_full = hstack([numeric_feature, tfidf_char])"
      ],
      "execution_count": 0,
      "outputs": []
    },
    {
      "cell_type": "code",
      "metadata": {
        "colab_type": "code",
        "id": "oHvYgjRwnYDB",
        "colab": {}
      },
      "source": [
        "X_train, X_test, y_train, y_test = train_test_split(tfidf_full, train_y_dummy, test_size=0.2, random_state=1228)"
      ],
      "execution_count": 0,
      "outputs": []
    },
    {
      "cell_type": "code",
      "metadata": {
        "colab_type": "code",
        "outputId": "057a080a-dbda-46db-99ba-f9b00130cebe",
        "id": "f7aWoJ6NnYDC",
        "colab": {
          "base_uri": "https://localhost:8080/",
          "height": 35
        }
      },
      "source": [
        "print(X_train.shape, y_train.shape)"
      ],
      "execution_count": 0,
      "outputs": [
        {
          "output_type": "stream",
          "text": [
            "(320221, 157025) (320221, 104)\n"
          ],
          "name": "stdout"
        }
      ]
    },
    {
      "cell_type": "code",
      "metadata": {
        "colab_type": "code",
        "id": "ZqL0NWNknYDF",
        "colab": {}
      },
      "source": [
        "logit = OneVsRestClassifier(LogisticRegression(solver = 'lbfgs', random_state=42))"
      ],
      "execution_count": 0,
      "outputs": []
    },
    {
      "cell_type": "code",
      "metadata": {
        "colab_type": "code",
        "outputId": "b97831c2-bb82-4343-ec26-7e1108a0fab6",
        "id": "Vj67JM-HnYDG",
        "colab": {
          "base_uri": "https://localhost:8080/",
          "height": 197
        }
      },
      "source": [
        "logit.fit(X_train, y_train)"
      ],
      "execution_count": 0,
      "outputs": [
        {
          "output_type": "execute_result",
          "data": {
            "text/plain": [
              "OneVsRestClassifier(estimator=LogisticRegression(C=1.0, class_weight=None,\n",
              "                                                 dual=False, fit_intercept=True,\n",
              "                                                 intercept_scaling=1,\n",
              "                                                 l1_ratio=None, max_iter=100,\n",
              "                                                 multi_class='warn',\n",
              "                                                 n_jobs=None, penalty='l2',\n",
              "                                                 random_state=42,\n",
              "                                                 solver='lbfgs', tol=0.0001,\n",
              "                                                 verbose=0, warm_start=False),\n",
              "                    n_jobs=None)"
            ]
          },
          "metadata": {
            "tags": []
          },
          "execution_count": 62
        }
      ]
    },
    {
      "cell_type": "code",
      "metadata": {
        "colab_type": "code",
        "outputId": "feee4491-adbe-40d4-fe6a-fbc18fedb56e",
        "id": "hm342sYPnYDI",
        "colab": {
          "base_uri": "https://localhost:8080/",
          "height": 35
        }
      },
      "source": [
        "logit.score(X_train, y_train)"
      ],
      "execution_count": 0,
      "outputs": [
        {
          "output_type": "execute_result",
          "data": {
            "text/plain": [
              "0.8775845431748699"
            ]
          },
          "metadata": {
            "tags": []
          },
          "execution_count": 63
        }
      ]
    },
    {
      "cell_type": "code",
      "metadata": {
        "colab_type": "code",
        "outputId": "57b81e0d-1d81-4f49-9cac-f05387e25b65",
        "id": "15c9J-JznYDJ",
        "colab": {
          "base_uri": "https://localhost:8080/",
          "height": 35
        }
      },
      "source": [
        "logit.score(X_test, y_test)"
      ],
      "execution_count": 0,
      "outputs": [
        {
          "output_type": "execute_result",
          "data": {
            "text/plain": [
              "0.8688418107324872"
            ]
          },
          "metadata": {
            "tags": []
          },
          "execution_count": 64
        }
      ]
    },
    {
      "cell_type": "code",
      "metadata": {
        "colab_type": "code",
        "id": "nKqIP8EYnYDL",
        "colab": {}
      },
      "source": [
        "rnd_clf = RandomForestClassifier(random_state=42)"
      ],
      "execution_count": 0,
      "outputs": []
    },
    {
      "cell_type": "code",
      "metadata": {
        "colab_type": "code",
        "outputId": "bebfce32-2038-4fb4-a444-ff0455c6b976",
        "id": "qJzyXlQfnYDN",
        "colab": {
          "base_uri": "https://localhost:8080/",
          "height": 143
        }
      },
      "source": [
        "rnd_clf.fit(X_train, y_train)"
      ],
      "execution_count": 0,
      "outputs": [
        {
          "output_type": "execute_result",
          "data": {
            "text/plain": [
              "RandomForestClassifier(bootstrap=True, class_weight=None, criterion='gini',\n",
              "                       max_depth=None, max_features='auto', max_leaf_nodes=None,\n",
              "                       min_impurity_decrease=0.0, min_impurity_split=None,\n",
              "                       min_samples_leaf=1, min_samples_split=2,\n",
              "                       min_weight_fraction_leaf=0.0, n_estimators=10,\n",
              "                       n_jobs=None, oob_score=False, random_state=42, verbose=0,\n",
              "                       warm_start=False)"
            ]
          },
          "metadata": {
            "tags": []
          },
          "execution_count": 66
        }
      ]
    },
    {
      "cell_type": "code",
      "metadata": {
        "colab_type": "code",
        "outputId": "b6f70bff-eb12-4e30-f819-1c2987121d5f",
        "id": "Ky9Z7nRynYDQ",
        "colab": {
          "base_uri": "https://localhost:8080/",
          "height": 35
        }
      },
      "source": [
        "rnd_clf.score(X_train, y_train)"
      ],
      "execution_count": 0,
      "outputs": [
        {
          "output_type": "execute_result",
          "data": {
            "text/plain": [
              "0.9830335924252314"
            ]
          },
          "metadata": {
            "tags": []
          },
          "execution_count": 67
        }
      ]
    },
    {
      "cell_type": "code",
      "metadata": {
        "colab_type": "code",
        "outputId": "c5153dc5-2253-4228-d8c8-4a229ef2f25e",
        "id": "iuvDbBrPnYDT",
        "colab": {
          "base_uri": "https://localhost:8080/",
          "height": 35
        }
      },
      "source": [
        "rnd_clf.score(X_test, y_test)"
      ],
      "execution_count": 0,
      "outputs": [
        {
          "output_type": "execute_result",
          "data": {
            "text/plain": [
              "0.9017312880983311"
            ]
          },
          "metadata": {
            "tags": []
          },
          "execution_count": 68
        }
      ]
    },
    {
      "cell_type": "markdown",
      "metadata": {
        "id": "CDZEKY3b8Z9B",
        "colab_type": "text"
      },
      "source": [
        "## Most accuracy model"
      ]
    },
    {
      "cell_type": "code",
      "metadata": {
        "colab_type": "code",
        "id": "a1QAq_i18b8F",
        "colab": {}
      },
      "source": [
        "countvec_ngram = CountVectorizer(token_pattern=text_pattern, ngram_range=(1, 3))"
      ],
      "execution_count": 0,
      "outputs": []
    },
    {
      "cell_type": "code",
      "metadata": {
        "colab_type": "code",
        "id": "4je7Daqm8b8H",
        "colab": {}
      },
      "source": [
        "count_vec_ngram = countvec_ngram.fit_transform(concat_text)"
      ],
      "execution_count": 0,
      "outputs": []
    },
    {
      "cell_type": "code",
      "metadata": {
        "colab_type": "code",
        "id": "DiAt17EF8b8J",
        "colab": {}
      },
      "source": [
        "countvec_ngram.get_feature_names()"
      ],
      "execution_count": 0,
      "outputs": []
    },
    {
      "cell_type": "code",
      "metadata": {
        "colab_type": "code",
        "outputId": "1e93e6d6-dc8f-4fc7-f86c-8cdb7ad1fb60",
        "id": "nYL_UzC58b8K",
        "colab": {
          "base_uri": "https://localhost:8080/",
          "height": 53
        }
      },
      "source": [
        "count_vec_ngram"
      ],
      "execution_count": 0,
      "outputs": [
        {
          "output_type": "execute_result",
          "data": {
            "text/plain": [
              "<400277x157023 sparse matrix of type '<class 'numpy.int64'>'\n",
              "\twith 15903807 stored elements in Compressed Sparse Row format>"
            ]
          },
          "metadata": {
            "tags": []
          },
          "execution_count": 71
        }
      ]
    },
    {
      "cell_type": "code",
      "metadata": {
        "colab_type": "code",
        "id": "XQzYitsx8b8O",
        "colab": {}
      },
      "source": [
        "X_n_gram = hstack([numeric_feature, count_vec_ngram])"
      ],
      "execution_count": 0,
      "outputs": []
    },
    {
      "cell_type": "code",
      "metadata": {
        "colab_type": "code",
        "outputId": "97b647cf-981d-4443-a9ed-7cc34e42bd97",
        "id": "S-pu4CfR8b8Q",
        "colab": {
          "base_uri": "https://localhost:8080/",
          "height": 53
        }
      },
      "source": [
        "X_n_gram"
      ],
      "execution_count": 0,
      "outputs": [
        {
          "output_type": "execute_result",
          "data": {
            "text/plain": [
              "<400277x157025 sparse matrix of type '<class 'numpy.float64'>'\n",
              "\twith 16704361 stored elements in COOrdinate format>"
            ]
          },
          "metadata": {
            "tags": []
          },
          "execution_count": 73
        }
      ]
    },
    {
      "cell_type": "code",
      "metadata": {
        "colab_type": "code",
        "id": "lRFHUuZU8b8S",
        "colab": {}
      },
      "source": [
        "X_train, X_test, y_train, y_test = train_test_split(X_n_gram, train_y_dummy, test_size=0.2, random_state=42)"
      ],
      "execution_count": 0,
      "outputs": []
    },
    {
      "cell_type": "code",
      "metadata": {
        "colab_type": "code",
        "id": "Qm0dLSga8b8U",
        "colab": {}
      },
      "source": [
        "logit = OneVsRestClassifier(LogisticRegression(solver = 'lbfgs'))"
      ],
      "execution_count": 0,
      "outputs": []
    },
    {
      "cell_type": "code",
      "metadata": {
        "colab_type": "code",
        "outputId": "ba37c692-c00c-4420-fbfa-239078f6fdea",
        "id": "UDA85vkd8b8X",
        "colab": {
          "base_uri": "https://localhost:8080/",
          "height": 197
        }
      },
      "source": [
        "logit.fit(X_train, y_train)"
      ],
      "execution_count": 0,
      "outputs": [
        {
          "output_type": "execute_result",
          "data": {
            "text/plain": [
              "OneVsRestClassifier(estimator=LogisticRegression(C=1.0, class_weight=None,\n",
              "                                                 dual=False, fit_intercept=True,\n",
              "                                                 intercept_scaling=1,\n",
              "                                                 l1_ratio=None, max_iter=100,\n",
              "                                                 multi_class='warn',\n",
              "                                                 n_jobs=None, penalty='l2',\n",
              "                                                 random_state=None,\n",
              "                                                 solver='lbfgs', tol=0.0001,\n",
              "                                                 verbose=0, warm_start=False),\n",
              "                    n_jobs=None)"
            ]
          },
          "metadata": {
            "tags": []
          },
          "execution_count": 76
        }
      ]
    },
    {
      "cell_type": "code",
      "metadata": {
        "colab_type": "code",
        "outputId": "c23c8415-1f80-4957-844d-20fbfb224b25",
        "id": "KystomCs8b8Z",
        "colab": {
          "base_uri": "https://localhost:8080/",
          "height": 35
        }
      },
      "source": [
        "logit.score(X_train, y_train)"
      ],
      "execution_count": 0,
      "outputs": [
        {
          "output_type": "execute_result",
          "data": {
            "text/plain": [
              "0.9487104218648995"
            ]
          },
          "metadata": {
            "tags": []
          },
          "execution_count": 77
        }
      ]
    },
    {
      "cell_type": "code",
      "metadata": {
        "colab_type": "code",
        "outputId": "00ed270d-37cc-4e15-d4d3-6a351450d6a8",
        "id": "EePMBSUk8b8b",
        "colab": {
          "base_uri": "https://localhost:8080/",
          "height": 35
        }
      },
      "source": [
        "logit.score(X_test, y_test)"
      ],
      "execution_count": 0,
      "outputs": [
        {
          "output_type": "execute_result",
          "data": {
            "text/plain": [
              "0.9261267113020886"
            ]
          },
          "metadata": {
            "tags": []
          },
          "execution_count": 78
        }
      ]
    },
    {
      "cell_type": "code",
      "metadata": {
        "id": "9L274nu6DpPH",
        "colab_type": "code",
        "outputId": "d0d2f6c8-d558-46e2-9fd2-a8caaa2a85d7",
        "colab": {
          "base_uri": "https://localhost:8080/",
          "height": 143
        }
      },
      "source": [
        "logit.predict(X_train)"
      ],
      "execution_count": 0,
      "outputs": [
        {
          "output_type": "execute_result",
          "data": {
            "text/plain": [
              "array([[0, 0, 0, ..., 0, 0, 0],\n",
              "       [0, 0, 0, ..., 0, 0, 0],\n",
              "       [0, 0, 0, ..., 0, 0, 0],\n",
              "       ...,\n",
              "       [0, 0, 0, ..., 0, 0, 0],\n",
              "       [0, 0, 0, ..., 0, 0, 0],\n",
              "       [0, 0, 0, ..., 0, 0, 0]])"
            ]
          },
          "metadata": {
            "tags": []
          },
          "execution_count": 82
        }
      ]
    },
    {
      "cell_type": "code",
      "metadata": {
        "id": "nGstXAnSnUvG",
        "colab_type": "code",
        "outputId": "2a0b0db3-e1f4-49da-bec0-529708c9c892",
        "colab": {
          "base_uri": "https://localhost:8080/",
          "height": 251
        }
      },
      "source": [
        "logit.predict_proba(X_train)"
      ],
      "execution_count": 0,
      "outputs": [
        {
          "output_type": "execute_result",
          "data": {
            "text/plain": [
              "array([[9.17978310e-06, 3.21906645e-06, 1.73714077e-06, ...,\n",
              "        1.76479678e-07, 1.01986774e-05, 2.99704787e-06],\n",
              "       [3.22354967e-05, 7.88937704e-06, 5.82349438e-06, ...,\n",
              "        1.86700453e-05, 4.51199828e-04, 3.79374580e-07],\n",
              "       [6.65514035e-05, 2.96230531e-06, 5.13170889e-06, ...,\n",
              "        7.18649815e-05, 2.97567644e-04, 1.35033011e-04],\n",
              "       ...,\n",
              "       [5.72303179e-05, 5.30999547e-05, 2.84795541e-05, ...,\n",
              "        4.37602708e-05, 4.35638503e-05, 1.16893642e-05],\n",
              "       [7.71396290e-04, 5.39202162e-04, 1.46951909e-04, ...,\n",
              "        5.75474748e-04, 8.05153300e-04, 1.07154422e-05],\n",
              "       [8.04190217e-06, 5.07222483e-06, 1.57607079e-05, ...,\n",
              "        3.86388704e-05, 1.90669388e-04, 4.10502035e-04]])"
            ]
          },
          "metadata": {
            "tags": []
          },
          "execution_count": 81
        }
      ]
    },
    {
      "cell_type": "markdown",
      "metadata": {
        "id": "aSshqmp2DueB",
        "colab_type": "text"
      },
      "source": [
        "# Submission"
      ]
    },
    {
      "cell_type": "code",
      "metadata": {
        "id": "S9d4E2niD6ld",
        "colab_type": "code",
        "colab": {}
      },
      "source": [
        "submit_form = pd.read_csv('/content/drive/My Drive/input/Reboot_education_data/SubmissionFormat.csv')"
      ],
      "execution_count": 0,
      "outputs": []
    },
    {
      "cell_type": "code",
      "metadata": {
        "id": "8XBHf9-ED-X6",
        "colab_type": "code",
        "outputId": "05086679-6fa6-4b11-a31d-4ec601c431af",
        "colab": {
          "base_uri": "https://localhost:8080/",
          "height": 321
        }
      },
      "source": [
        "submit_form.head()"
      ],
      "execution_count": 0,
      "outputs": [
        {
          "output_type": "execute_result",
          "data": {
            "text/html": [
              "<div>\n",
              "<style scoped>\n",
              "    .dataframe tbody tr th:only-of-type {\n",
              "        vertical-align: middle;\n",
              "    }\n",
              "\n",
              "    .dataframe tbody tr th {\n",
              "        vertical-align: top;\n",
              "    }\n",
              "\n",
              "    .dataframe thead th {\n",
              "        text-align: right;\n",
              "    }\n",
              "</style>\n",
              "<table border=\"1\" class=\"dataframe\">\n",
              "  <thead>\n",
              "    <tr style=\"text-align: right;\">\n",
              "      <th></th>\n",
              "      <th>Unnamed: 0</th>\n",
              "      <th>Function__Aides Compensation</th>\n",
              "      <th>Function__Career &amp; Academic Counseling</th>\n",
              "      <th>Function__Communications</th>\n",
              "      <th>Function__Curriculum Development</th>\n",
              "      <th>Function__Data Processing &amp; Information Services</th>\n",
              "      <th>Function__Development &amp; Fundraising</th>\n",
              "      <th>Function__Enrichment</th>\n",
              "      <th>Function__Extended Time &amp; Tutoring</th>\n",
              "      <th>Function__Facilities &amp; Maintenance</th>\n",
              "      <th>Function__Facilities Planning</th>\n",
              "      <th>Function__Finance, Budget, Purchasing &amp; Distribution</th>\n",
              "      <th>Function__Food Services</th>\n",
              "      <th>Function__Governance</th>\n",
              "      <th>Function__Human Resources</th>\n",
              "      <th>Function__Instructional Materials &amp; Supplies</th>\n",
              "      <th>Function__Insurance</th>\n",
              "      <th>Function__Legal</th>\n",
              "      <th>Function__Library &amp; Media</th>\n",
              "      <th>Function__NO_LABEL</th>\n",
              "      <th>Function__Other Compensation</th>\n",
              "      <th>Function__Other Non-Compensation</th>\n",
              "      <th>Function__Parent &amp; Community Relations</th>\n",
              "      <th>Function__Physical Health &amp; Services</th>\n",
              "      <th>Function__Professional Development</th>\n",
              "      <th>Function__Recruitment</th>\n",
              "      <th>Function__Research &amp; Accountability</th>\n",
              "      <th>Function__School Administration</th>\n",
              "      <th>Function__School Supervision</th>\n",
              "      <th>Function__Security &amp; Safety</th>\n",
              "      <th>Function__Social &amp; Emotional</th>\n",
              "      <th>Function__Special Population Program Management &amp; Support</th>\n",
              "      <th>Function__Student Assignment</th>\n",
              "      <th>Function__Student Transportation</th>\n",
              "      <th>Function__Substitute Compensation</th>\n",
              "      <th>Function__Teacher Compensation</th>\n",
              "      <th>Function__Untracked Budget Set-Aside</th>\n",
              "      <th>Function__Utilities</th>\n",
              "      <th>Object_Type__Base Salary/Compensation</th>\n",
              "      <th>Object_Type__Benefits</th>\n",
              "      <th>...</th>\n",
              "      <th>Position_Type__Other</th>\n",
              "      <th>Position_Type__Physical Therapist</th>\n",
              "      <th>Position_Type__Principal</th>\n",
              "      <th>Position_Type__Psychologist</th>\n",
              "      <th>Position_Type__School Monitor/Security</th>\n",
              "      <th>Position_Type__Sec/Clerk/Other Admin</th>\n",
              "      <th>Position_Type__Social Worker</th>\n",
              "      <th>Position_Type__Speech Therapist</th>\n",
              "      <th>Position_Type__Substitute</th>\n",
              "      <th>Position_Type__TA</th>\n",
              "      <th>Position_Type__Teacher</th>\n",
              "      <th>Position_Type__Vice Principal</th>\n",
              "      <th>Pre_K__NO_LABEL</th>\n",
              "      <th>Pre_K__Non PreK</th>\n",
              "      <th>Pre_K__PreK</th>\n",
              "      <th>Reporting__NO_LABEL</th>\n",
              "      <th>Reporting__Non-School</th>\n",
              "      <th>Reporting__School</th>\n",
              "      <th>Sharing__Leadership &amp; Management</th>\n",
              "      <th>Sharing__NO_LABEL</th>\n",
              "      <th>Sharing__School Reported</th>\n",
              "      <th>Sharing__School on Central Budgets</th>\n",
              "      <th>Sharing__Shared Services</th>\n",
              "      <th>Student_Type__Alternative</th>\n",
              "      <th>Student_Type__At Risk</th>\n",
              "      <th>Student_Type__ELL</th>\n",
              "      <th>Student_Type__Gifted</th>\n",
              "      <th>Student_Type__NO_LABEL</th>\n",
              "      <th>Student_Type__Poverty</th>\n",
              "      <th>Student_Type__PreK</th>\n",
              "      <th>Student_Type__Special Education</th>\n",
              "      <th>Student_Type__Unspecified</th>\n",
              "      <th>Use__Business Services</th>\n",
              "      <th>Use__ISPD</th>\n",
              "      <th>Use__Instruction</th>\n",
              "      <th>Use__Leadership</th>\n",
              "      <th>Use__NO_LABEL</th>\n",
              "      <th>Use__O&amp;M</th>\n",
              "      <th>Use__Pupil Services &amp; Enrichment</th>\n",
              "      <th>Use__Untracked Budget Set-Aside</th>\n",
              "    </tr>\n",
              "  </thead>\n",
              "  <tbody>\n",
              "    <tr>\n",
              "      <th>0</th>\n",
              "      <td>180042</td>\n",
              "      <td>0.027027</td>\n",
              "      <td>0.027027</td>\n",
              "      <td>0.027027</td>\n",
              "      <td>0.027027</td>\n",
              "      <td>0.027027</td>\n",
              "      <td>0.027027</td>\n",
              "      <td>0.027027</td>\n",
              "      <td>0.027027</td>\n",
              "      <td>0.027027</td>\n",
              "      <td>0.027027</td>\n",
              "      <td>0.027027</td>\n",
              "      <td>0.027027</td>\n",
              "      <td>0.027027</td>\n",
              "      <td>0.027027</td>\n",
              "      <td>0.027027</td>\n",
              "      <td>0.027027</td>\n",
              "      <td>0.027027</td>\n",
              "      <td>0.027027</td>\n",
              "      <td>0.027027</td>\n",
              "      <td>0.027027</td>\n",
              "      <td>0.027027</td>\n",
              "      <td>0.027027</td>\n",
              "      <td>0.027027</td>\n",
              "      <td>0.027027</td>\n",
              "      <td>0.027027</td>\n",
              "      <td>0.027027</td>\n",
              "      <td>0.027027</td>\n",
              "      <td>0.027027</td>\n",
              "      <td>0.027027</td>\n",
              "      <td>0.027027</td>\n",
              "      <td>0.027027</td>\n",
              "      <td>0.027027</td>\n",
              "      <td>0.027027</td>\n",
              "      <td>0.027027</td>\n",
              "      <td>0.027027</td>\n",
              "      <td>0.027027</td>\n",
              "      <td>0.027027</td>\n",
              "      <td>0.090909</td>\n",
              "      <td>0.090909</td>\n",
              "      <td>...</td>\n",
              "      <td>0.04</td>\n",
              "      <td>0.04</td>\n",
              "      <td>0.04</td>\n",
              "      <td>0.04</td>\n",
              "      <td>0.04</td>\n",
              "      <td>0.04</td>\n",
              "      <td>0.04</td>\n",
              "      <td>0.04</td>\n",
              "      <td>0.04</td>\n",
              "      <td>0.04</td>\n",
              "      <td>0.04</td>\n",
              "      <td>0.04</td>\n",
              "      <td>0.333333</td>\n",
              "      <td>0.333333</td>\n",
              "      <td>0.333333</td>\n",
              "      <td>0.333333</td>\n",
              "      <td>0.333333</td>\n",
              "      <td>0.333333</td>\n",
              "      <td>0.2</td>\n",
              "      <td>0.2</td>\n",
              "      <td>0.2</td>\n",
              "      <td>0.2</td>\n",
              "      <td>0.2</td>\n",
              "      <td>0.111111</td>\n",
              "      <td>0.111111</td>\n",
              "      <td>0.111111</td>\n",
              "      <td>0.111111</td>\n",
              "      <td>0.111111</td>\n",
              "      <td>0.111111</td>\n",
              "      <td>0.111111</td>\n",
              "      <td>0.111111</td>\n",
              "      <td>0.111111</td>\n",
              "      <td>0.125</td>\n",
              "      <td>0.125</td>\n",
              "      <td>0.125</td>\n",
              "      <td>0.125</td>\n",
              "      <td>0.125</td>\n",
              "      <td>0.125</td>\n",
              "      <td>0.125</td>\n",
              "      <td>0.125</td>\n",
              "    </tr>\n",
              "    <tr>\n",
              "      <th>1</th>\n",
              "      <td>28872</td>\n",
              "      <td>0.027027</td>\n",
              "      <td>0.027027</td>\n",
              "      <td>0.027027</td>\n",
              "      <td>0.027027</td>\n",
              "      <td>0.027027</td>\n",
              "      <td>0.027027</td>\n",
              "      <td>0.027027</td>\n",
              "      <td>0.027027</td>\n",
              "      <td>0.027027</td>\n",
              "      <td>0.027027</td>\n",
              "      <td>0.027027</td>\n",
              "      <td>0.027027</td>\n",
              "      <td>0.027027</td>\n",
              "      <td>0.027027</td>\n",
              "      <td>0.027027</td>\n",
              "      <td>0.027027</td>\n",
              "      <td>0.027027</td>\n",
              "      <td>0.027027</td>\n",
              "      <td>0.027027</td>\n",
              "      <td>0.027027</td>\n",
              "      <td>0.027027</td>\n",
              "      <td>0.027027</td>\n",
              "      <td>0.027027</td>\n",
              "      <td>0.027027</td>\n",
              "      <td>0.027027</td>\n",
              "      <td>0.027027</td>\n",
              "      <td>0.027027</td>\n",
              "      <td>0.027027</td>\n",
              "      <td>0.027027</td>\n",
              "      <td>0.027027</td>\n",
              "      <td>0.027027</td>\n",
              "      <td>0.027027</td>\n",
              "      <td>0.027027</td>\n",
              "      <td>0.027027</td>\n",
              "      <td>0.027027</td>\n",
              "      <td>0.027027</td>\n",
              "      <td>0.027027</td>\n",
              "      <td>0.090909</td>\n",
              "      <td>0.090909</td>\n",
              "      <td>...</td>\n",
              "      <td>0.04</td>\n",
              "      <td>0.04</td>\n",
              "      <td>0.04</td>\n",
              "      <td>0.04</td>\n",
              "      <td>0.04</td>\n",
              "      <td>0.04</td>\n",
              "      <td>0.04</td>\n",
              "      <td>0.04</td>\n",
              "      <td>0.04</td>\n",
              "      <td>0.04</td>\n",
              "      <td>0.04</td>\n",
              "      <td>0.04</td>\n",
              "      <td>0.333333</td>\n",
              "      <td>0.333333</td>\n",
              "      <td>0.333333</td>\n",
              "      <td>0.333333</td>\n",
              "      <td>0.333333</td>\n",
              "      <td>0.333333</td>\n",
              "      <td>0.2</td>\n",
              "      <td>0.2</td>\n",
              "      <td>0.2</td>\n",
              "      <td>0.2</td>\n",
              "      <td>0.2</td>\n",
              "      <td>0.111111</td>\n",
              "      <td>0.111111</td>\n",
              "      <td>0.111111</td>\n",
              "      <td>0.111111</td>\n",
              "      <td>0.111111</td>\n",
              "      <td>0.111111</td>\n",
              "      <td>0.111111</td>\n",
              "      <td>0.111111</td>\n",
              "      <td>0.111111</td>\n",
              "      <td>0.125</td>\n",
              "      <td>0.125</td>\n",
              "      <td>0.125</td>\n",
              "      <td>0.125</td>\n",
              "      <td>0.125</td>\n",
              "      <td>0.125</td>\n",
              "      <td>0.125</td>\n",
              "      <td>0.125</td>\n",
              "    </tr>\n",
              "    <tr>\n",
              "      <th>2</th>\n",
              "      <td>186915</td>\n",
              "      <td>0.027027</td>\n",
              "      <td>0.027027</td>\n",
              "      <td>0.027027</td>\n",
              "      <td>0.027027</td>\n",
              "      <td>0.027027</td>\n",
              "      <td>0.027027</td>\n",
              "      <td>0.027027</td>\n",
              "      <td>0.027027</td>\n",
              "      <td>0.027027</td>\n",
              "      <td>0.027027</td>\n",
              "      <td>0.027027</td>\n",
              "      <td>0.027027</td>\n",
              "      <td>0.027027</td>\n",
              "      <td>0.027027</td>\n",
              "      <td>0.027027</td>\n",
              "      <td>0.027027</td>\n",
              "      <td>0.027027</td>\n",
              "      <td>0.027027</td>\n",
              "      <td>0.027027</td>\n",
              "      <td>0.027027</td>\n",
              "      <td>0.027027</td>\n",
              "      <td>0.027027</td>\n",
              "      <td>0.027027</td>\n",
              "      <td>0.027027</td>\n",
              "      <td>0.027027</td>\n",
              "      <td>0.027027</td>\n",
              "      <td>0.027027</td>\n",
              "      <td>0.027027</td>\n",
              "      <td>0.027027</td>\n",
              "      <td>0.027027</td>\n",
              "      <td>0.027027</td>\n",
              "      <td>0.027027</td>\n",
              "      <td>0.027027</td>\n",
              "      <td>0.027027</td>\n",
              "      <td>0.027027</td>\n",
              "      <td>0.027027</td>\n",
              "      <td>0.027027</td>\n",
              "      <td>0.090909</td>\n",
              "      <td>0.090909</td>\n",
              "      <td>...</td>\n",
              "      <td>0.04</td>\n",
              "      <td>0.04</td>\n",
              "      <td>0.04</td>\n",
              "      <td>0.04</td>\n",
              "      <td>0.04</td>\n",
              "      <td>0.04</td>\n",
              "      <td>0.04</td>\n",
              "      <td>0.04</td>\n",
              "      <td>0.04</td>\n",
              "      <td>0.04</td>\n",
              "      <td>0.04</td>\n",
              "      <td>0.04</td>\n",
              "      <td>0.333333</td>\n",
              "      <td>0.333333</td>\n",
              "      <td>0.333333</td>\n",
              "      <td>0.333333</td>\n",
              "      <td>0.333333</td>\n",
              "      <td>0.333333</td>\n",
              "      <td>0.2</td>\n",
              "      <td>0.2</td>\n",
              "      <td>0.2</td>\n",
              "      <td>0.2</td>\n",
              "      <td>0.2</td>\n",
              "      <td>0.111111</td>\n",
              "      <td>0.111111</td>\n",
              "      <td>0.111111</td>\n",
              "      <td>0.111111</td>\n",
              "      <td>0.111111</td>\n",
              "      <td>0.111111</td>\n",
              "      <td>0.111111</td>\n",
              "      <td>0.111111</td>\n",
              "      <td>0.111111</td>\n",
              "      <td>0.125</td>\n",
              "      <td>0.125</td>\n",
              "      <td>0.125</td>\n",
              "      <td>0.125</td>\n",
              "      <td>0.125</td>\n",
              "      <td>0.125</td>\n",
              "      <td>0.125</td>\n",
              "      <td>0.125</td>\n",
              "    </tr>\n",
              "    <tr>\n",
              "      <th>3</th>\n",
              "      <td>412396</td>\n",
              "      <td>0.027027</td>\n",
              "      <td>0.027027</td>\n",
              "      <td>0.027027</td>\n",
              "      <td>0.027027</td>\n",
              "      <td>0.027027</td>\n",
              "      <td>0.027027</td>\n",
              "      <td>0.027027</td>\n",
              "      <td>0.027027</td>\n",
              "      <td>0.027027</td>\n",
              "      <td>0.027027</td>\n",
              "      <td>0.027027</td>\n",
              "      <td>0.027027</td>\n",
              "      <td>0.027027</td>\n",
              "      <td>0.027027</td>\n",
              "      <td>0.027027</td>\n",
              "      <td>0.027027</td>\n",
              "      <td>0.027027</td>\n",
              "      <td>0.027027</td>\n",
              "      <td>0.027027</td>\n",
              "      <td>0.027027</td>\n",
              "      <td>0.027027</td>\n",
              "      <td>0.027027</td>\n",
              "      <td>0.027027</td>\n",
              "      <td>0.027027</td>\n",
              "      <td>0.027027</td>\n",
              "      <td>0.027027</td>\n",
              "      <td>0.027027</td>\n",
              "      <td>0.027027</td>\n",
              "      <td>0.027027</td>\n",
              "      <td>0.027027</td>\n",
              "      <td>0.027027</td>\n",
              "      <td>0.027027</td>\n",
              "      <td>0.027027</td>\n",
              "      <td>0.027027</td>\n",
              "      <td>0.027027</td>\n",
              "      <td>0.027027</td>\n",
              "      <td>0.027027</td>\n",
              "      <td>0.090909</td>\n",
              "      <td>0.090909</td>\n",
              "      <td>...</td>\n",
              "      <td>0.04</td>\n",
              "      <td>0.04</td>\n",
              "      <td>0.04</td>\n",
              "      <td>0.04</td>\n",
              "      <td>0.04</td>\n",
              "      <td>0.04</td>\n",
              "      <td>0.04</td>\n",
              "      <td>0.04</td>\n",
              "      <td>0.04</td>\n",
              "      <td>0.04</td>\n",
              "      <td>0.04</td>\n",
              "      <td>0.04</td>\n",
              "      <td>0.333333</td>\n",
              "      <td>0.333333</td>\n",
              "      <td>0.333333</td>\n",
              "      <td>0.333333</td>\n",
              "      <td>0.333333</td>\n",
              "      <td>0.333333</td>\n",
              "      <td>0.2</td>\n",
              "      <td>0.2</td>\n",
              "      <td>0.2</td>\n",
              "      <td>0.2</td>\n",
              "      <td>0.2</td>\n",
              "      <td>0.111111</td>\n",
              "      <td>0.111111</td>\n",
              "      <td>0.111111</td>\n",
              "      <td>0.111111</td>\n",
              "      <td>0.111111</td>\n",
              "      <td>0.111111</td>\n",
              "      <td>0.111111</td>\n",
              "      <td>0.111111</td>\n",
              "      <td>0.111111</td>\n",
              "      <td>0.125</td>\n",
              "      <td>0.125</td>\n",
              "      <td>0.125</td>\n",
              "      <td>0.125</td>\n",
              "      <td>0.125</td>\n",
              "      <td>0.125</td>\n",
              "      <td>0.125</td>\n",
              "      <td>0.125</td>\n",
              "    </tr>\n",
              "    <tr>\n",
              "      <th>4</th>\n",
              "      <td>427740</td>\n",
              "      <td>0.027027</td>\n",
              "      <td>0.027027</td>\n",
              "      <td>0.027027</td>\n",
              "      <td>0.027027</td>\n",
              "      <td>0.027027</td>\n",
              "      <td>0.027027</td>\n",
              "      <td>0.027027</td>\n",
              "      <td>0.027027</td>\n",
              "      <td>0.027027</td>\n",
              "      <td>0.027027</td>\n",
              "      <td>0.027027</td>\n",
              "      <td>0.027027</td>\n",
              "      <td>0.027027</td>\n",
              "      <td>0.027027</td>\n",
              "      <td>0.027027</td>\n",
              "      <td>0.027027</td>\n",
              "      <td>0.027027</td>\n",
              "      <td>0.027027</td>\n",
              "      <td>0.027027</td>\n",
              "      <td>0.027027</td>\n",
              "      <td>0.027027</td>\n",
              "      <td>0.027027</td>\n",
              "      <td>0.027027</td>\n",
              "      <td>0.027027</td>\n",
              "      <td>0.027027</td>\n",
              "      <td>0.027027</td>\n",
              "      <td>0.027027</td>\n",
              "      <td>0.027027</td>\n",
              "      <td>0.027027</td>\n",
              "      <td>0.027027</td>\n",
              "      <td>0.027027</td>\n",
              "      <td>0.027027</td>\n",
              "      <td>0.027027</td>\n",
              "      <td>0.027027</td>\n",
              "      <td>0.027027</td>\n",
              "      <td>0.027027</td>\n",
              "      <td>0.027027</td>\n",
              "      <td>0.090909</td>\n",
              "      <td>0.090909</td>\n",
              "      <td>...</td>\n",
              "      <td>0.04</td>\n",
              "      <td>0.04</td>\n",
              "      <td>0.04</td>\n",
              "      <td>0.04</td>\n",
              "      <td>0.04</td>\n",
              "      <td>0.04</td>\n",
              "      <td>0.04</td>\n",
              "      <td>0.04</td>\n",
              "      <td>0.04</td>\n",
              "      <td>0.04</td>\n",
              "      <td>0.04</td>\n",
              "      <td>0.04</td>\n",
              "      <td>0.333333</td>\n",
              "      <td>0.333333</td>\n",
              "      <td>0.333333</td>\n",
              "      <td>0.333333</td>\n",
              "      <td>0.333333</td>\n",
              "      <td>0.333333</td>\n",
              "      <td>0.2</td>\n",
              "      <td>0.2</td>\n",
              "      <td>0.2</td>\n",
              "      <td>0.2</td>\n",
              "      <td>0.2</td>\n",
              "      <td>0.111111</td>\n",
              "      <td>0.111111</td>\n",
              "      <td>0.111111</td>\n",
              "      <td>0.111111</td>\n",
              "      <td>0.111111</td>\n",
              "      <td>0.111111</td>\n",
              "      <td>0.111111</td>\n",
              "      <td>0.111111</td>\n",
              "      <td>0.111111</td>\n",
              "      <td>0.125</td>\n",
              "      <td>0.125</td>\n",
              "      <td>0.125</td>\n",
              "      <td>0.125</td>\n",
              "      <td>0.125</td>\n",
              "      <td>0.125</td>\n",
              "      <td>0.125</td>\n",
              "      <td>0.125</td>\n",
              "    </tr>\n",
              "  </tbody>\n",
              "</table>\n",
              "<p>5 rows × 105 columns</p>\n",
              "</div>"
            ],
            "text/plain": [
              "   Unnamed: 0  ...  Use__Untracked Budget Set-Aside\n",
              "0      180042  ...                            0.125\n",
              "1       28872  ...                            0.125\n",
              "2      186915  ...                            0.125\n",
              "3      412396  ...                            0.125\n",
              "4      427740  ...                            0.125\n",
              "\n",
              "[5 rows x 105 columns]"
            ]
          },
          "metadata": {
            "tags": []
          },
          "execution_count": 85
        }
      ]
    },
    {
      "cell_type": "code",
      "metadata": {
        "id": "JqMQpOpzQHAV",
        "colab_type": "code",
        "colab": {}
      },
      "source": [
        "submit_form.index = submit_form['Unnamed: 0']"
      ],
      "execution_count": 0,
      "outputs": []
    },
    {
      "cell_type": "code",
      "metadata": {
        "id": "WMBsQFXgQPRI",
        "colab_type": "code",
        "colab": {}
      },
      "source": [
        "submit_form.drop('Unnamed: 0', axis=1, inplace = True)"
      ],
      "execution_count": 0,
      "outputs": []
    },
    {
      "cell_type": "code",
      "metadata": {
        "id": "jWw1IV1VDuSs",
        "colab_type": "code",
        "colab": {}
      },
      "source": [
        "test_data = pd.read_csv('/content/drive/My Drive/input/Reboot_education_data/TestData.csv')"
      ],
      "execution_count": 0,
      "outputs": []
    },
    {
      "cell_type": "code",
      "metadata": {
        "id": "WkrxwQxWEA48",
        "colab_type": "code",
        "outputId": "287efc2c-98cc-4fc7-eef4-7fb72fe2b9f6",
        "colab": {
          "base_uri": "https://localhost:8080/",
          "height": 326
        }
      },
      "source": [
        "test_data.head()"
      ],
      "execution_count": 0,
      "outputs": [
        {
          "output_type": "execute_result",
          "data": {
            "text/html": [
              "<div>\n",
              "<style scoped>\n",
              "    .dataframe tbody tr th:only-of-type {\n",
              "        vertical-align: middle;\n",
              "    }\n",
              "\n",
              "    .dataframe tbody tr th {\n",
              "        vertical-align: top;\n",
              "    }\n",
              "\n",
              "    .dataframe thead th {\n",
              "        text-align: right;\n",
              "    }\n",
              "</style>\n",
              "<table border=\"1\" class=\"dataframe\">\n",
              "  <thead>\n",
              "    <tr style=\"text-align: right;\">\n",
              "      <th></th>\n",
              "      <th>Unnamed: 0</th>\n",
              "      <th>Object_Description</th>\n",
              "      <th>Program_Description</th>\n",
              "      <th>SubFund_Description</th>\n",
              "      <th>Job_Title_Description</th>\n",
              "      <th>Facility_or_Department</th>\n",
              "      <th>Sub_Object_Description</th>\n",
              "      <th>Location_Description</th>\n",
              "      <th>FTE</th>\n",
              "      <th>Function_Description</th>\n",
              "      <th>Position_Extra</th>\n",
              "      <th>Text_4</th>\n",
              "      <th>Total</th>\n",
              "      <th>Text_2</th>\n",
              "      <th>Text_3</th>\n",
              "      <th>Fund_Description</th>\n",
              "      <th>Text_1</th>\n",
              "    </tr>\n",
              "  </thead>\n",
              "  <tbody>\n",
              "    <tr>\n",
              "      <th>0</th>\n",
              "      <td>180042</td>\n",
              "      <td>Student Meals/Room/Other</td>\n",
              "      <td>Basic Educational Services</td>\n",
              "      <td>NaN</td>\n",
              "      <td>NaN</td>\n",
              "      <td>NaN</td>\n",
              "      <td>Line Item that is paid with Campus' money</td>\n",
              "      <td>School</td>\n",
              "      <td>NaN</td>\n",
              "      <td>Instruction</td>\n",
              "      <td>NaN</td>\n",
              "      <td>NaN</td>\n",
              "      <td>3999.910000</td>\n",
              "      <td>NaN</td>\n",
              "      <td>NaN</td>\n",
              "      <td>General Fund</td>\n",
              "      <td>NaN</td>\n",
              "    </tr>\n",
              "    <tr>\n",
              "      <th>1</th>\n",
              "      <td>28872</td>\n",
              "      <td>Extra Duty/Signing Bonus Pay</td>\n",
              "      <td>Undistributed</td>\n",
              "      <td>NaN</td>\n",
              "      <td>CHEERLEADER DIR</td>\n",
              "      <td>NaN</td>\n",
              "      <td>General</td>\n",
              "      <td>School</td>\n",
              "      <td>NaN</td>\n",
              "      <td>Cocurricular &amp; Extra Curricular Activities</td>\n",
              "      <td>NaN</td>\n",
              "      <td>NaN</td>\n",
              "      <td>3447.320213</td>\n",
              "      <td>NaN</td>\n",
              "      <td>NaN</td>\n",
              "      <td>General Fund</td>\n",
              "      <td>NaN</td>\n",
              "    </tr>\n",
              "    <tr>\n",
              "      <th>2</th>\n",
              "      <td>186915</td>\n",
              "      <td>Professional Salaries</td>\n",
              "      <td>Bilingual Education</td>\n",
              "      <td>NaN</td>\n",
              "      <td>T-EL 1ST BIL</td>\n",
              "      <td>NaN</td>\n",
              "      <td>General</td>\n",
              "      <td>School</td>\n",
              "      <td>1.0</td>\n",
              "      <td>Instruction</td>\n",
              "      <td>NaN</td>\n",
              "      <td>NaN</td>\n",
              "      <td>52738.780869</td>\n",
              "      <td>NaN</td>\n",
              "      <td>NaN</td>\n",
              "      <td>General Fund</td>\n",
              "      <td>NaN</td>\n",
              "    </tr>\n",
              "    <tr>\n",
              "      <th>3</th>\n",
              "      <td>412396</td>\n",
              "      <td>Professional Salaries</td>\n",
              "      <td>Bilingual Education</td>\n",
              "      <td>NaN</td>\n",
              "      <td>T-EL 2ND BIL</td>\n",
              "      <td>NaN</td>\n",
              "      <td>General</td>\n",
              "      <td>School</td>\n",
              "      <td>1.0</td>\n",
              "      <td>Instruction</td>\n",
              "      <td>NaN</td>\n",
              "      <td>NaN</td>\n",
              "      <td>69729.263191</td>\n",
              "      <td>NaN</td>\n",
              "      <td>NaN</td>\n",
              "      <td>General Fund</td>\n",
              "      <td>NaN</td>\n",
              "    </tr>\n",
              "    <tr>\n",
              "      <th>4</th>\n",
              "      <td>427740</td>\n",
              "      <td>Salaries for Support Personnel</td>\n",
              "      <td>Undistributed</td>\n",
              "      <td>NaN</td>\n",
              "      <td>CLERK III- SCH</td>\n",
              "      <td>NaN</td>\n",
              "      <td>General</td>\n",
              "      <td>School</td>\n",
              "      <td>1.0</td>\n",
              "      <td>School Leadership</td>\n",
              "      <td>NaN</td>\n",
              "      <td>NaN</td>\n",
              "      <td>29492.834215</td>\n",
              "      <td>NaN</td>\n",
              "      <td>NaN</td>\n",
              "      <td>General Fund</td>\n",
              "      <td>NaN</td>\n",
              "    </tr>\n",
              "  </tbody>\n",
              "</table>\n",
              "</div>"
            ],
            "text/plain": [
              "   Unnamed: 0              Object_Description  ... Fund_Description Text_1\n",
              "0      180042        Student Meals/Room/Other  ...     General Fund    NaN\n",
              "1       28872    Extra Duty/Signing Bonus Pay  ...     General Fund    NaN\n",
              "2      186915           Professional Salaries  ...     General Fund    NaN\n",
              "3      412396           Professional Salaries  ...     General Fund    NaN\n",
              "4      427740  Salaries for Support Personnel  ...     General Fund    NaN\n",
              "\n",
              "[5 rows x 17 columns]"
            ]
          },
          "metadata": {
            "tags": []
          },
          "execution_count": 211
        }
      ]
    },
    {
      "cell_type": "code",
      "metadata": {
        "id": "LsEjpBvDEEf-",
        "colab_type": "code",
        "colab": {}
      },
      "source": [
        "test_data.index = test_data['Unnamed: 0']"
      ],
      "execution_count": 0,
      "outputs": []
    },
    {
      "cell_type": "code",
      "metadata": {
        "id": "7LBGrbV3ELN2",
        "colab_type": "code",
        "colab": {}
      },
      "source": [
        "test_data.drop('Unnamed: 0', inplace = True, axis=1)"
      ],
      "execution_count": 0,
      "outputs": []
    },
    {
      "cell_type": "code",
      "metadata": {
        "id": "7RTiTKGrEPoG",
        "colab_type": "code",
        "outputId": "3f9fc8da-327e-4641-a056-09af3fba1e7c",
        "colab": {
          "base_uri": "https://localhost:8080/",
          "height": 357
        }
      },
      "source": [
        "test_data.head()"
      ],
      "execution_count": 0,
      "outputs": [
        {
          "output_type": "execute_result",
          "data": {
            "text/html": [
              "<div>\n",
              "<style scoped>\n",
              "    .dataframe tbody tr th:only-of-type {\n",
              "        vertical-align: middle;\n",
              "    }\n",
              "\n",
              "    .dataframe tbody tr th {\n",
              "        vertical-align: top;\n",
              "    }\n",
              "\n",
              "    .dataframe thead th {\n",
              "        text-align: right;\n",
              "    }\n",
              "</style>\n",
              "<table border=\"1\" class=\"dataframe\">\n",
              "  <thead>\n",
              "    <tr style=\"text-align: right;\">\n",
              "      <th></th>\n",
              "      <th>Object_Description</th>\n",
              "      <th>Program_Description</th>\n",
              "      <th>SubFund_Description</th>\n",
              "      <th>Job_Title_Description</th>\n",
              "      <th>Facility_or_Department</th>\n",
              "      <th>Sub_Object_Description</th>\n",
              "      <th>Location_Description</th>\n",
              "      <th>FTE</th>\n",
              "      <th>Function_Description</th>\n",
              "      <th>Position_Extra</th>\n",
              "      <th>Text_4</th>\n",
              "      <th>Total</th>\n",
              "      <th>Text_2</th>\n",
              "      <th>Text_3</th>\n",
              "      <th>Fund_Description</th>\n",
              "      <th>Text_1</th>\n",
              "    </tr>\n",
              "    <tr>\n",
              "      <th>Unnamed: 0</th>\n",
              "      <th></th>\n",
              "      <th></th>\n",
              "      <th></th>\n",
              "      <th></th>\n",
              "      <th></th>\n",
              "      <th></th>\n",
              "      <th></th>\n",
              "      <th></th>\n",
              "      <th></th>\n",
              "      <th></th>\n",
              "      <th></th>\n",
              "      <th></th>\n",
              "      <th></th>\n",
              "      <th></th>\n",
              "      <th></th>\n",
              "      <th></th>\n",
              "    </tr>\n",
              "  </thead>\n",
              "  <tbody>\n",
              "    <tr>\n",
              "      <th>180042</th>\n",
              "      <td>Student Meals/Room/Other</td>\n",
              "      <td>Basic Educational Services</td>\n",
              "      <td>NaN</td>\n",
              "      <td>NaN</td>\n",
              "      <td>NaN</td>\n",
              "      <td>Line Item that is paid with Campus' money</td>\n",
              "      <td>School</td>\n",
              "      <td>NaN</td>\n",
              "      <td>Instruction</td>\n",
              "      <td>NaN</td>\n",
              "      <td>NaN</td>\n",
              "      <td>3999.910000</td>\n",
              "      <td>NaN</td>\n",
              "      <td>NaN</td>\n",
              "      <td>General Fund</td>\n",
              "      <td>NaN</td>\n",
              "    </tr>\n",
              "    <tr>\n",
              "      <th>28872</th>\n",
              "      <td>Extra Duty/Signing Bonus Pay</td>\n",
              "      <td>Undistributed</td>\n",
              "      <td>NaN</td>\n",
              "      <td>CHEERLEADER DIR</td>\n",
              "      <td>NaN</td>\n",
              "      <td>General</td>\n",
              "      <td>School</td>\n",
              "      <td>NaN</td>\n",
              "      <td>Cocurricular &amp; Extra Curricular Activities</td>\n",
              "      <td>NaN</td>\n",
              "      <td>NaN</td>\n",
              "      <td>3447.320213</td>\n",
              "      <td>NaN</td>\n",
              "      <td>NaN</td>\n",
              "      <td>General Fund</td>\n",
              "      <td>NaN</td>\n",
              "    </tr>\n",
              "    <tr>\n",
              "      <th>186915</th>\n",
              "      <td>Professional Salaries</td>\n",
              "      <td>Bilingual Education</td>\n",
              "      <td>NaN</td>\n",
              "      <td>T-EL 1ST BIL</td>\n",
              "      <td>NaN</td>\n",
              "      <td>General</td>\n",
              "      <td>School</td>\n",
              "      <td>1.0</td>\n",
              "      <td>Instruction</td>\n",
              "      <td>NaN</td>\n",
              "      <td>NaN</td>\n",
              "      <td>52738.780869</td>\n",
              "      <td>NaN</td>\n",
              "      <td>NaN</td>\n",
              "      <td>General Fund</td>\n",
              "      <td>NaN</td>\n",
              "    </tr>\n",
              "    <tr>\n",
              "      <th>412396</th>\n",
              "      <td>Professional Salaries</td>\n",
              "      <td>Bilingual Education</td>\n",
              "      <td>NaN</td>\n",
              "      <td>T-EL 2ND BIL</td>\n",
              "      <td>NaN</td>\n",
              "      <td>General</td>\n",
              "      <td>School</td>\n",
              "      <td>1.0</td>\n",
              "      <td>Instruction</td>\n",
              "      <td>NaN</td>\n",
              "      <td>NaN</td>\n",
              "      <td>69729.263191</td>\n",
              "      <td>NaN</td>\n",
              "      <td>NaN</td>\n",
              "      <td>General Fund</td>\n",
              "      <td>NaN</td>\n",
              "    </tr>\n",
              "    <tr>\n",
              "      <th>427740</th>\n",
              "      <td>Salaries for Support Personnel</td>\n",
              "      <td>Undistributed</td>\n",
              "      <td>NaN</td>\n",
              "      <td>CLERK III- SCH</td>\n",
              "      <td>NaN</td>\n",
              "      <td>General</td>\n",
              "      <td>School</td>\n",
              "      <td>1.0</td>\n",
              "      <td>School Leadership</td>\n",
              "      <td>NaN</td>\n",
              "      <td>NaN</td>\n",
              "      <td>29492.834215</td>\n",
              "      <td>NaN</td>\n",
              "      <td>NaN</td>\n",
              "      <td>General Fund</td>\n",
              "      <td>NaN</td>\n",
              "    </tr>\n",
              "  </tbody>\n",
              "</table>\n",
              "</div>"
            ],
            "text/plain": [
              "                        Object_Description  ... Text_1\n",
              "Unnamed: 0                                  ...       \n",
              "180042            Student Meals/Room/Other  ...    NaN\n",
              "28872         Extra Duty/Signing Bonus Pay  ...    NaN\n",
              "186915               Professional Salaries  ...    NaN\n",
              "412396               Professional Salaries  ...    NaN\n",
              "427740      Salaries for Support Personnel  ...    NaN\n",
              "\n",
              "[5 rows x 16 columns]"
            ]
          },
          "metadata": {
            "tags": []
          },
          "execution_count": 214
        }
      ]
    },
    {
      "cell_type": "code",
      "metadata": {
        "id": "tTmbYiFEEexW",
        "colab_type": "code",
        "colab": {}
      },
      "source": [
        "test_data_numeric = test_data[['FTE', 'Total']]\n",
        "test_data_char = test_data.drop(['FTE', 'Total'], axis=1)"
      ],
      "execution_count": 0,
      "outputs": []
    },
    {
      "cell_type": "code",
      "metadata": {
        "id": "O841_IaCEnyO",
        "colab_type": "code",
        "outputId": "0d403a36-37b0-42f2-b59b-5866c7ca4791",
        "colab": {
          "base_uri": "https://localhost:8080/",
          "height": 235
        }
      },
      "source": [
        "test_data_numeric.head()"
      ],
      "execution_count": 0,
      "outputs": [
        {
          "output_type": "execute_result",
          "data": {
            "text/html": [
              "<div>\n",
              "<style scoped>\n",
              "    .dataframe tbody tr th:only-of-type {\n",
              "        vertical-align: middle;\n",
              "    }\n",
              "\n",
              "    .dataframe tbody tr th {\n",
              "        vertical-align: top;\n",
              "    }\n",
              "\n",
              "    .dataframe thead th {\n",
              "        text-align: right;\n",
              "    }\n",
              "</style>\n",
              "<table border=\"1\" class=\"dataframe\">\n",
              "  <thead>\n",
              "    <tr style=\"text-align: right;\">\n",
              "      <th></th>\n",
              "      <th>FTE</th>\n",
              "      <th>Total</th>\n",
              "    </tr>\n",
              "    <tr>\n",
              "      <th>Unnamed: 0</th>\n",
              "      <th></th>\n",
              "      <th></th>\n",
              "    </tr>\n",
              "  </thead>\n",
              "  <tbody>\n",
              "    <tr>\n",
              "      <th>180042</th>\n",
              "      <td>NaN</td>\n",
              "      <td>3999.910000</td>\n",
              "    </tr>\n",
              "    <tr>\n",
              "      <th>28872</th>\n",
              "      <td>NaN</td>\n",
              "      <td>3447.320213</td>\n",
              "    </tr>\n",
              "    <tr>\n",
              "      <th>186915</th>\n",
              "      <td>1.0</td>\n",
              "      <td>52738.780869</td>\n",
              "    </tr>\n",
              "    <tr>\n",
              "      <th>412396</th>\n",
              "      <td>1.0</td>\n",
              "      <td>69729.263191</td>\n",
              "    </tr>\n",
              "    <tr>\n",
              "      <th>427740</th>\n",
              "      <td>1.0</td>\n",
              "      <td>29492.834215</td>\n",
              "    </tr>\n",
              "  </tbody>\n",
              "</table>\n",
              "</div>"
            ],
            "text/plain": [
              "            FTE         Total\n",
              "Unnamed: 0                   \n",
              "180042      NaN   3999.910000\n",
              "28872       NaN   3447.320213\n",
              "186915      1.0  52738.780869\n",
              "412396      1.0  69729.263191\n",
              "427740      1.0  29492.834215"
            ]
          },
          "metadata": {
            "tags": []
          },
          "execution_count": 216
        }
      ]
    },
    {
      "cell_type": "code",
      "metadata": {
        "id": "AAuit-YgEplw",
        "colab_type": "code",
        "outputId": "13abcc11-caf2-4fe1-afcc-f5c45ba055cb",
        "colab": {
          "base_uri": "https://localhost:8080/",
          "height": 357
        }
      },
      "source": [
        "test_data_char.head()"
      ],
      "execution_count": 0,
      "outputs": [
        {
          "output_type": "execute_result",
          "data": {
            "text/html": [
              "<div>\n",
              "<style scoped>\n",
              "    .dataframe tbody tr th:only-of-type {\n",
              "        vertical-align: middle;\n",
              "    }\n",
              "\n",
              "    .dataframe tbody tr th {\n",
              "        vertical-align: top;\n",
              "    }\n",
              "\n",
              "    .dataframe thead th {\n",
              "        text-align: right;\n",
              "    }\n",
              "</style>\n",
              "<table border=\"1\" class=\"dataframe\">\n",
              "  <thead>\n",
              "    <tr style=\"text-align: right;\">\n",
              "      <th></th>\n",
              "      <th>Object_Description</th>\n",
              "      <th>Program_Description</th>\n",
              "      <th>SubFund_Description</th>\n",
              "      <th>Job_Title_Description</th>\n",
              "      <th>Facility_or_Department</th>\n",
              "      <th>Sub_Object_Description</th>\n",
              "      <th>Location_Description</th>\n",
              "      <th>Function_Description</th>\n",
              "      <th>Position_Extra</th>\n",
              "      <th>Text_4</th>\n",
              "      <th>Text_2</th>\n",
              "      <th>Text_3</th>\n",
              "      <th>Fund_Description</th>\n",
              "      <th>Text_1</th>\n",
              "    </tr>\n",
              "    <tr>\n",
              "      <th>Unnamed: 0</th>\n",
              "      <th></th>\n",
              "      <th></th>\n",
              "      <th></th>\n",
              "      <th></th>\n",
              "      <th></th>\n",
              "      <th></th>\n",
              "      <th></th>\n",
              "      <th></th>\n",
              "      <th></th>\n",
              "      <th></th>\n",
              "      <th></th>\n",
              "      <th></th>\n",
              "      <th></th>\n",
              "      <th></th>\n",
              "    </tr>\n",
              "  </thead>\n",
              "  <tbody>\n",
              "    <tr>\n",
              "      <th>180042</th>\n",
              "      <td>Student Meals/Room/Other</td>\n",
              "      <td>Basic Educational Services</td>\n",
              "      <td>NaN</td>\n",
              "      <td>NaN</td>\n",
              "      <td>NaN</td>\n",
              "      <td>Line Item that is paid with Campus' money</td>\n",
              "      <td>School</td>\n",
              "      <td>Instruction</td>\n",
              "      <td>NaN</td>\n",
              "      <td>NaN</td>\n",
              "      <td>NaN</td>\n",
              "      <td>NaN</td>\n",
              "      <td>General Fund</td>\n",
              "      <td>NaN</td>\n",
              "    </tr>\n",
              "    <tr>\n",
              "      <th>28872</th>\n",
              "      <td>Extra Duty/Signing Bonus Pay</td>\n",
              "      <td>Undistributed</td>\n",
              "      <td>NaN</td>\n",
              "      <td>CHEERLEADER DIR</td>\n",
              "      <td>NaN</td>\n",
              "      <td>General</td>\n",
              "      <td>School</td>\n",
              "      <td>Cocurricular &amp; Extra Curricular Activities</td>\n",
              "      <td>NaN</td>\n",
              "      <td>NaN</td>\n",
              "      <td>NaN</td>\n",
              "      <td>NaN</td>\n",
              "      <td>General Fund</td>\n",
              "      <td>NaN</td>\n",
              "    </tr>\n",
              "    <tr>\n",
              "      <th>186915</th>\n",
              "      <td>Professional Salaries</td>\n",
              "      <td>Bilingual Education</td>\n",
              "      <td>NaN</td>\n",
              "      <td>T-EL 1ST BIL</td>\n",
              "      <td>NaN</td>\n",
              "      <td>General</td>\n",
              "      <td>School</td>\n",
              "      <td>Instruction</td>\n",
              "      <td>NaN</td>\n",
              "      <td>NaN</td>\n",
              "      <td>NaN</td>\n",
              "      <td>NaN</td>\n",
              "      <td>General Fund</td>\n",
              "      <td>NaN</td>\n",
              "    </tr>\n",
              "    <tr>\n",
              "      <th>412396</th>\n",
              "      <td>Professional Salaries</td>\n",
              "      <td>Bilingual Education</td>\n",
              "      <td>NaN</td>\n",
              "      <td>T-EL 2ND BIL</td>\n",
              "      <td>NaN</td>\n",
              "      <td>General</td>\n",
              "      <td>School</td>\n",
              "      <td>Instruction</td>\n",
              "      <td>NaN</td>\n",
              "      <td>NaN</td>\n",
              "      <td>NaN</td>\n",
              "      <td>NaN</td>\n",
              "      <td>General Fund</td>\n",
              "      <td>NaN</td>\n",
              "    </tr>\n",
              "    <tr>\n",
              "      <th>427740</th>\n",
              "      <td>Salaries for Support Personnel</td>\n",
              "      <td>Undistributed</td>\n",
              "      <td>NaN</td>\n",
              "      <td>CLERK III- SCH</td>\n",
              "      <td>NaN</td>\n",
              "      <td>General</td>\n",
              "      <td>School</td>\n",
              "      <td>School Leadership</td>\n",
              "      <td>NaN</td>\n",
              "      <td>NaN</td>\n",
              "      <td>NaN</td>\n",
              "      <td>NaN</td>\n",
              "      <td>General Fund</td>\n",
              "      <td>NaN</td>\n",
              "    </tr>\n",
              "  </tbody>\n",
              "</table>\n",
              "</div>"
            ],
            "text/plain": [
              "                        Object_Description  ... Text_1\n",
              "Unnamed: 0                                  ...       \n",
              "180042            Student Meals/Room/Other  ...    NaN\n",
              "28872         Extra Duty/Signing Bonus Pay  ...    NaN\n",
              "186915               Professional Salaries  ...    NaN\n",
              "412396               Professional Salaries  ...    NaN\n",
              "427740      Salaries for Support Personnel  ...    NaN\n",
              "\n",
              "[5 rows x 14 columns]"
            ]
          },
          "metadata": {
            "tags": []
          },
          "execution_count": 217
        }
      ]
    },
    {
      "cell_type": "code",
      "metadata": {
        "id": "vt5jIQrTFnXB",
        "colab_type": "code",
        "outputId": "e967aee7-7aff-4575-9d71-ce9750eea8da",
        "colab": {
          "base_uri": "https://localhost:8080/",
          "height": 235
        }
      },
      "source": [
        "numeric_feature.head()"
      ],
      "execution_count": 0,
      "outputs": [
        {
          "output_type": "execute_result",
          "data": {
            "text/html": [
              "<div>\n",
              "<style scoped>\n",
              "    .dataframe tbody tr th:only-of-type {\n",
              "        vertical-align: middle;\n",
              "    }\n",
              "\n",
              "    .dataframe tbody tr th {\n",
              "        vertical-align: top;\n",
              "    }\n",
              "\n",
              "    .dataframe thead th {\n",
              "        text-align: right;\n",
              "    }\n",
              "</style>\n",
              "<table border=\"1\" class=\"dataframe\">\n",
              "  <thead>\n",
              "    <tr style=\"text-align: right;\">\n",
              "      <th></th>\n",
              "      <th>0</th>\n",
              "      <th>1</th>\n",
              "    </tr>\n",
              "    <tr>\n",
              "      <th>Unnamed: 0</th>\n",
              "      <th></th>\n",
              "      <th></th>\n",
              "    </tr>\n",
              "  </thead>\n",
              "  <tbody>\n",
              "    <tr>\n",
              "      <th>134338</th>\n",
              "      <td>1.780716e+00</td>\n",
              "      <td>0.102058</td>\n",
              "    </tr>\n",
              "    <tr>\n",
              "      <th>206341</th>\n",
              "      <td>-6.760054e-14</td>\n",
              "      <td>-0.026297</td>\n",
              "    </tr>\n",
              "    <tr>\n",
              "      <th>326408</th>\n",
              "      <td>1.780716e+00</td>\n",
              "      <td>0.134193</td>\n",
              "    </tr>\n",
              "    <tr>\n",
              "      <th>364634</th>\n",
              "      <td>-6.760054e-14</td>\n",
              "      <td>-0.035735</td>\n",
              "    </tr>\n",
              "    <tr>\n",
              "      <th>47683</th>\n",
              "      <td>-6.760054e-14</td>\n",
              "      <td>-0.035648</td>\n",
              "    </tr>\n",
              "  </tbody>\n",
              "</table>\n",
              "</div>"
            ],
            "text/plain": [
              "                       0         1\n",
              "Unnamed: 0                        \n",
              "134338      1.780716e+00  0.102058\n",
              "206341     -6.760054e-14 -0.026297\n",
              "326408      1.780716e+00  0.134193\n",
              "364634     -6.760054e-14 -0.035735\n",
              "47683      -6.760054e-14 -0.035648"
            ]
          },
          "metadata": {
            "tags": []
          },
          "execution_count": 218
        }
      ]
    },
    {
      "cell_type": "markdown",
      "metadata": {
        "id": "otiFEAfqGPgC",
        "colab_type": "text"
      },
      "source": [
        "### Numeric Part"
      ]
    },
    {
      "cell_type": "code",
      "metadata": {
        "colab_type": "code",
        "id": "hqq1G7jGEcvp",
        "colab": {}
      },
      "source": [
        "test_data_numeric['FTE'] = test_data_numeric['FTE'].fillna(numeric_feature[0].mean())\n",
        "test_data_numeric['Total'] = test_data_numeric['Total'].fillna(numeric_feature[1].mean())"
      ],
      "execution_count": 0,
      "outputs": []
    },
    {
      "cell_type": "code",
      "metadata": {
        "id": "g9NaKt3wF7yO",
        "colab_type": "code",
        "outputId": "01738088-8f5d-4ff8-e2f5-ed881e8402a3",
        "colab": {
          "base_uri": "https://localhost:8080/",
          "height": 235
        }
      },
      "source": [
        "test_data_numeric.head()"
      ],
      "execution_count": 0,
      "outputs": [
        {
          "output_type": "execute_result",
          "data": {
            "text/html": [
              "<div>\n",
              "<style scoped>\n",
              "    .dataframe tbody tr th:only-of-type {\n",
              "        vertical-align: middle;\n",
              "    }\n",
              "\n",
              "    .dataframe tbody tr th {\n",
              "        vertical-align: top;\n",
              "    }\n",
              "\n",
              "    .dataframe thead th {\n",
              "        text-align: right;\n",
              "    }\n",
              "</style>\n",
              "<table border=\"1\" class=\"dataframe\">\n",
              "  <thead>\n",
              "    <tr style=\"text-align: right;\">\n",
              "      <th></th>\n",
              "      <th>FTE</th>\n",
              "      <th>Total</th>\n",
              "    </tr>\n",
              "    <tr>\n",
              "      <th>Unnamed: 0</th>\n",
              "      <th></th>\n",
              "      <th></th>\n",
              "    </tr>\n",
              "  </thead>\n",
              "  <tbody>\n",
              "    <tr>\n",
              "      <th>180042</th>\n",
              "      <td>2.902559e-15</td>\n",
              "      <td>3999.910000</td>\n",
              "    </tr>\n",
              "    <tr>\n",
              "      <th>28872</th>\n",
              "      <td>2.902559e-15</td>\n",
              "      <td>3447.320213</td>\n",
              "    </tr>\n",
              "    <tr>\n",
              "      <th>186915</th>\n",
              "      <td>1.000000e+00</td>\n",
              "      <td>52738.780869</td>\n",
              "    </tr>\n",
              "    <tr>\n",
              "      <th>412396</th>\n",
              "      <td>1.000000e+00</td>\n",
              "      <td>69729.263191</td>\n",
              "    </tr>\n",
              "    <tr>\n",
              "      <th>427740</th>\n",
              "      <td>1.000000e+00</td>\n",
              "      <td>29492.834215</td>\n",
              "    </tr>\n",
              "  </tbody>\n",
              "</table>\n",
              "</div>"
            ],
            "text/plain": [
              "                     FTE         Total\n",
              "Unnamed: 0                            \n",
              "180042      2.902559e-15   3999.910000\n",
              "28872       2.902559e-15   3447.320213\n",
              "186915      1.000000e+00  52738.780869\n",
              "412396      1.000000e+00  69729.263191\n",
              "427740      1.000000e+00  29492.834215"
            ]
          },
          "metadata": {
            "tags": []
          },
          "execution_count": 221
        }
      ]
    },
    {
      "cell_type": "code",
      "metadata": {
        "colab_type": "code",
        "id": "o9p7YLmqEcvy",
        "colab": {}
      },
      "source": [
        "numeric_scaler = StandardScaler()"
      ],
      "execution_count": 0,
      "outputs": []
    },
    {
      "cell_type": "code",
      "metadata": {
        "colab_type": "code",
        "id": "7aBXpF62Ecvz",
        "colab": {}
      },
      "source": [
        "numeric_scaled = numeric_scaler.transform(test_data_numeric)"
      ],
      "execution_count": 0,
      "outputs": []
    },
    {
      "cell_type": "code",
      "metadata": {
        "colab_type": "code",
        "id": "9MxoGei8Ecv2",
        "colab": {}
      },
      "source": [
        "numeric_feature = pd.DataFrame(numeric_scaled, index=test_data_char.index)"
      ],
      "execution_count": 0,
      "outputs": []
    },
    {
      "cell_type": "code",
      "metadata": {
        "colab_type": "code",
        "outputId": "4ec1bdeb-129a-44da-887a-5c27e4184ebb",
        "id": "1PjkVY8PEcv4",
        "colab": {
          "base_uri": "https://localhost:8080/",
          "height": 235
        }
      },
      "source": [
        "numeric_feature.head()"
      ],
      "execution_count": 0,
      "outputs": [
        {
          "output_type": "execute_result",
          "data": {
            "text/html": [
              "<div>\n",
              "<style scoped>\n",
              "    .dataframe tbody tr th:only-of-type {\n",
              "        vertical-align: middle;\n",
              "    }\n",
              "\n",
              "    .dataframe tbody tr th {\n",
              "        vertical-align: top;\n",
              "    }\n",
              "\n",
              "    .dataframe thead th {\n",
              "        text-align: right;\n",
              "    }\n",
              "</style>\n",
              "<table border=\"1\" class=\"dataframe\">\n",
              "  <thead>\n",
              "    <tr style=\"text-align: right;\">\n",
              "      <th></th>\n",
              "      <th>0</th>\n",
              "      <th>1</th>\n",
              "    </tr>\n",
              "    <tr>\n",
              "      <th>Unnamed: 0</th>\n",
              "      <th></th>\n",
              "      <th></th>\n",
              "    </tr>\n",
              "  </thead>\n",
              "  <tbody>\n",
              "    <tr>\n",
              "      <th>180042</th>\n",
              "      <td>-1.325874</td>\n",
              "      <td>-0.024871</td>\n",
              "    </tr>\n",
              "    <tr>\n",
              "      <th>28872</th>\n",
              "      <td>-1.325874</td>\n",
              "      <td>-0.026381</td>\n",
              "    </tr>\n",
              "    <tr>\n",
              "      <th>186915</th>\n",
              "      <td>1.780716</td>\n",
              "      <td>0.108250</td>\n",
              "    </tr>\n",
              "    <tr>\n",
              "      <th>412396</th>\n",
              "      <td>1.780716</td>\n",
              "      <td>0.154656</td>\n",
              "    </tr>\n",
              "    <tr>\n",
              "      <th>427740</th>\n",
              "      <td>1.780716</td>\n",
              "      <td>0.044758</td>\n",
              "    </tr>\n",
              "  </tbody>\n",
              "</table>\n",
              "</div>"
            ],
            "text/plain": [
              "                   0         1\n",
              "Unnamed: 0                    \n",
              "180042     -1.325874 -0.024871\n",
              "28872      -1.325874 -0.026381\n",
              "186915      1.780716  0.108250\n",
              "412396      1.780716  0.154656\n",
              "427740      1.780716  0.044758"
            ]
          },
          "metadata": {
            "tags": []
          },
          "execution_count": 224
        }
      ]
    },
    {
      "cell_type": "code",
      "metadata": {
        "id": "9MgJeXu4GNpl",
        "colab_type": "code",
        "colab": {}
      },
      "source": [
        "test_data_char = test_data_char.fillna('')"
      ],
      "execution_count": 0,
      "outputs": []
    },
    {
      "cell_type": "code",
      "metadata": {
        "id": "2rBYEexEGU82",
        "colab_type": "code",
        "outputId": "8d54eed1-61f9-4dec-f6c5-751e8922da05",
        "colab": {
          "base_uri": "https://localhost:8080/",
          "height": 357
        }
      },
      "source": [
        "test_data_char.head()"
      ],
      "execution_count": 0,
      "outputs": [
        {
          "output_type": "execute_result",
          "data": {
            "text/html": [
              "<div>\n",
              "<style scoped>\n",
              "    .dataframe tbody tr th:only-of-type {\n",
              "        vertical-align: middle;\n",
              "    }\n",
              "\n",
              "    .dataframe tbody tr th {\n",
              "        vertical-align: top;\n",
              "    }\n",
              "\n",
              "    .dataframe thead th {\n",
              "        text-align: right;\n",
              "    }\n",
              "</style>\n",
              "<table border=\"1\" class=\"dataframe\">\n",
              "  <thead>\n",
              "    <tr style=\"text-align: right;\">\n",
              "      <th></th>\n",
              "      <th>Object_Description</th>\n",
              "      <th>Program_Description</th>\n",
              "      <th>SubFund_Description</th>\n",
              "      <th>Job_Title_Description</th>\n",
              "      <th>Facility_or_Department</th>\n",
              "      <th>Sub_Object_Description</th>\n",
              "      <th>Location_Description</th>\n",
              "      <th>Function_Description</th>\n",
              "      <th>Position_Extra</th>\n",
              "      <th>Text_4</th>\n",
              "      <th>Text_2</th>\n",
              "      <th>Text_3</th>\n",
              "      <th>Fund_Description</th>\n",
              "      <th>Text_1</th>\n",
              "    </tr>\n",
              "    <tr>\n",
              "      <th>Unnamed: 0</th>\n",
              "      <th></th>\n",
              "      <th></th>\n",
              "      <th></th>\n",
              "      <th></th>\n",
              "      <th></th>\n",
              "      <th></th>\n",
              "      <th></th>\n",
              "      <th></th>\n",
              "      <th></th>\n",
              "      <th></th>\n",
              "      <th></th>\n",
              "      <th></th>\n",
              "      <th></th>\n",
              "      <th></th>\n",
              "    </tr>\n",
              "  </thead>\n",
              "  <tbody>\n",
              "    <tr>\n",
              "      <th>180042</th>\n",
              "      <td>Student Meals/Room/Other</td>\n",
              "      <td>Basic Educational Services</td>\n",
              "      <td></td>\n",
              "      <td></td>\n",
              "      <td></td>\n",
              "      <td>Line Item that is paid with Campus' money</td>\n",
              "      <td>School</td>\n",
              "      <td>Instruction</td>\n",
              "      <td></td>\n",
              "      <td></td>\n",
              "      <td></td>\n",
              "      <td></td>\n",
              "      <td>General Fund</td>\n",
              "      <td></td>\n",
              "    </tr>\n",
              "    <tr>\n",
              "      <th>28872</th>\n",
              "      <td>Extra Duty/Signing Bonus Pay</td>\n",
              "      <td>Undistributed</td>\n",
              "      <td></td>\n",
              "      <td>CHEERLEADER DIR</td>\n",
              "      <td></td>\n",
              "      <td>General</td>\n",
              "      <td>School</td>\n",
              "      <td>Cocurricular &amp; Extra Curricular Activities</td>\n",
              "      <td></td>\n",
              "      <td></td>\n",
              "      <td></td>\n",
              "      <td></td>\n",
              "      <td>General Fund</td>\n",
              "      <td></td>\n",
              "    </tr>\n",
              "    <tr>\n",
              "      <th>186915</th>\n",
              "      <td>Professional Salaries</td>\n",
              "      <td>Bilingual Education</td>\n",
              "      <td></td>\n",
              "      <td>T-EL 1ST BIL</td>\n",
              "      <td></td>\n",
              "      <td>General</td>\n",
              "      <td>School</td>\n",
              "      <td>Instruction</td>\n",
              "      <td></td>\n",
              "      <td></td>\n",
              "      <td></td>\n",
              "      <td></td>\n",
              "      <td>General Fund</td>\n",
              "      <td></td>\n",
              "    </tr>\n",
              "    <tr>\n",
              "      <th>412396</th>\n",
              "      <td>Professional Salaries</td>\n",
              "      <td>Bilingual Education</td>\n",
              "      <td></td>\n",
              "      <td>T-EL 2ND BIL</td>\n",
              "      <td></td>\n",
              "      <td>General</td>\n",
              "      <td>School</td>\n",
              "      <td>Instruction</td>\n",
              "      <td></td>\n",
              "      <td></td>\n",
              "      <td></td>\n",
              "      <td></td>\n",
              "      <td>General Fund</td>\n",
              "      <td></td>\n",
              "    </tr>\n",
              "    <tr>\n",
              "      <th>427740</th>\n",
              "      <td>Salaries for Support Personnel</td>\n",
              "      <td>Undistributed</td>\n",
              "      <td></td>\n",
              "      <td>CLERK III- SCH</td>\n",
              "      <td></td>\n",
              "      <td>General</td>\n",
              "      <td>School</td>\n",
              "      <td>School Leadership</td>\n",
              "      <td></td>\n",
              "      <td></td>\n",
              "      <td></td>\n",
              "      <td></td>\n",
              "      <td>General Fund</td>\n",
              "      <td></td>\n",
              "    </tr>\n",
              "  </tbody>\n",
              "</table>\n",
              "</div>"
            ],
            "text/plain": [
              "                        Object_Description  ... Text_1\n",
              "Unnamed: 0                                  ...       \n",
              "180042            Student Meals/Room/Other  ...       \n",
              "28872         Extra Duty/Signing Bonus Pay  ...       \n",
              "186915               Professional Salaries  ...       \n",
              "412396               Professional Salaries  ...       \n",
              "427740      Salaries for Support Personnel  ...       \n",
              "\n",
              "[5 rows x 14 columns]"
            ]
          },
          "metadata": {
            "tags": []
          },
          "execution_count": 226
        }
      ]
    },
    {
      "cell_type": "code",
      "metadata": {
        "colab_type": "code",
        "id": "zTVAFDD6Ecv8",
        "colab": {}
      },
      "source": [
        "concat_char = lambda x: ''.join(x)"
      ],
      "execution_count": 0,
      "outputs": []
    },
    {
      "cell_type": "code",
      "metadata": {
        "colab_type": "code",
        "id": "fFn_vKQREcv-",
        "colab": {}
      },
      "source": [
        "concat_text = test_data_char.apply(concat_char, axis=1)"
      ],
      "execution_count": 0,
      "outputs": []
    },
    {
      "cell_type": "code",
      "metadata": {
        "colab_type": "code",
        "outputId": "09793abc-30b1-449d-9e0c-4729b10d4fcf",
        "id": "srFIkbQNEcv_",
        "colab": {
          "base_uri": "https://localhost:8080/",
          "height": 1000
        }
      },
      "source": [
        "concat_text"
      ],
      "execution_count": 0,
      "outputs": [
        {
          "output_type": "execute_result",
          "data": {
            "text/plain": [
              "Unnamed: 0\n",
              "180042    Student Meals/Room/OtherBasic Educational Serv...\n",
              "28872     Extra Duty/Signing Bonus PayUndistributedCHEER...\n",
              "186915    Professional SalariesBilingual EducationT-EL 1...\n",
              "412396    Professional SalariesBilingual EducationT-EL 2...\n",
              "427740    Salaries for Support PersonnelUndistributedCLE...\n",
              "69847     General SuppliesGifted and TalentedMagnet Scho...\n",
              "358824    Maint: VehiclesSpecial EducationGeneralTranspo...\n",
              "254148    Extra Duty/Signing Bonus PaySpecial EducationG...\n",
              "296       General SuppliesBasic Educational ServicesArtS...\n",
              "416755    Salaries for Support PersonnelUndistributedFOO...\n",
              "179714    Salaries for Support PersonnelSpecial Educatio...\n",
              "285896    Salaries for Support PersonnelSpecial Educatio...\n",
              "265808    Reading Materials including Library BooksUndis...\n",
              "197775    Professional SalariesBasic Educational Service...\n",
              "204524    Extra Duty/Signing Bonus PayBilingual Educatio...\n",
              "229744    Professional SalariesBilingual EducationT-EL 1...\n",
              "30711     Employee AllowanceBasic Educational ServicesTR...\n",
              "220894    Part-Time HourlyAccelerated EducationGeneralSc...\n",
              "7061      Salaries for Support PersonnelUndistributedACC...\n",
              "4824      Part-Time HourlyUndistributedLine Item that is...\n",
              "153530    Part-Time HourlyAthletics and RelatedGeneralSc...\n",
              "257139    Special EducationGeneralState HospitalInstruct...\n",
              "268606    Professional SalariesBilingual EducationT-EL 4...\n",
              "146084    Professional SalariesCareer and TechnologyT-HS...\n",
              "178313    Employee AllowanceUndistributedTRAVELGeneralAc...\n",
              "371096    Professional SalariesUndistributedELEM ASST PR...\n",
              "89815     General SuppliesDisciplinary AEP-Basic Service...\n",
              "395364    General SuppliesAthletics and RelatedBoys Tenn...\n",
              "367109    Professional SalariesAccelerated EducationSCIE...\n",
              "144432    Professional SalariesBasic Educational Service...\n",
              "                                ...                        \n",
              "108573    Salaries And Wages For Teachers And Other Prof...\n",
              "100467    Extra Duty Pay/Overtime For Support PersonnelU...\n",
              "116570    Salaries And Wages For Teachers And Other Prof...\n",
              "370029    Salaries Or Wages For Support PersonnelPRE-KOp...\n",
              "268829    Salaries And Wages For Substitute Professional...\n",
              "323389    Salaries And Wages For Teachers And Other Prof...\n",
              "154866    Miscellaneous Operating CostsUndistributedMisc...\n",
              "97996     Salaries And Wages For Teachers And Other Prof...\n",
              "263939    Salaries And Wages For Teachers And Other Prof...\n",
              "155078    Salaries And Wages For Teachers And Other Prof...\n",
              "86286     Salaries And Wages For Teachers And Other Prof...\n",
              "185421    Salaries And Wages For Teachers And Other Prof...\n",
              "215167    Extra Duty Pay/Overtime For Support PersonnelB...\n",
              "324001    Salaries And Wages For Teachers And Other Prof...\n",
              "309998    General SuppliesGifted And TalentedGifted And ...\n",
              "345702    Salaries And Wages For Teachers And Other Prof...\n",
              "185199    General Supplies\"Title I, Part A Schoolwide Ac...\n",
              "267450    Teacher RetirementPRE-KInstruction And Curricu...\n",
              "421320    Salaries And Wages For Teachers And Other Prof...\n",
              "11773     Extra Duty Pay/Overtime For Support PersonnelU...\n",
              "356796    Extra Duty Pay/Overtime For Support PersonnelU...\n",
              "130696    Salaries Or Wages For Support PersonnelUndistr...\n",
              "287341    Salaries Or Wages For Support PersonnelUndistr...\n",
              "345215    Contracted Maintenance And RepairUndistributed...\n",
              "113795    Miscellaneous Operating CostsUndistributedFood...\n",
              "169063    NURSESClinic AssistantCLINIC ASSISTANT General...\n",
              "433255    NURSESClinic AssistantCLINIC ASSISTANT General...\n",
              "232204    NURSESClinic AssistantCLINIC ASSISTANT General...\n",
              "171685    NURSESClinic AssistantCLINIC ASSISTANT General...\n",
              "249087    NURSESClinic AssistantCLINIC ASSISTANT General...\n",
              "Length: 50064, dtype: object"
            ]
          },
          "metadata": {
            "tags": []
          },
          "execution_count": 229
        }
      ]
    },
    {
      "cell_type": "code",
      "metadata": {
        "id": "YP0Szw0fPDNp",
        "colab_type": "code",
        "colab": {}
      },
      "source": [
        ""
      ],
      "execution_count": 0,
      "outputs": []
    },
    {
      "cell_type": "code",
      "metadata": {
        "colab_type": "code",
        "id": "PfqFqPhEPDYi",
        "colab": {}
      },
      "source": [
        "count_vec_ngram = countvec_ngram.transform(concat_text)"
      ],
      "execution_count": 0,
      "outputs": []
    },
    {
      "cell_type": "code",
      "metadata": {
        "id": "HFMnBZz6Pkmx",
        "colab_type": "code",
        "outputId": "027d6f48-dbbe-4f7f-e05b-830121f3ca01",
        "colab": {
          "base_uri": "https://localhost:8080/",
          "height": 53
        }
      },
      "source": [
        "count_vec_ngram"
      ],
      "execution_count": 0,
      "outputs": [
        {
          "output_type": "execute_result",
          "data": {
            "text/plain": [
              "<50064x157023 sparse matrix of type '<class 'numpy.int64'>'\n",
              "\twith 903884 stored elements in Compressed Sparse Row format>"
            ]
          },
          "metadata": {
            "tags": []
          },
          "execution_count": 233
        }
      ]
    },
    {
      "cell_type": "code",
      "metadata": {
        "colab_type": "code",
        "id": "MLAmVMjxPDYr",
        "colab": {}
      },
      "source": [
        "X_n_gram = hstack([numeric_feature, count_vec_ngram])"
      ],
      "execution_count": 0,
      "outputs": []
    },
    {
      "cell_type": "code",
      "metadata": {
        "colab_type": "code",
        "outputId": "817c74aa-7ca5-4a5d-babd-999aaca2faf5",
        "id": "-MQC0U_kPDYs",
        "colab": {
          "base_uri": "https://localhost:8080/",
          "height": 53
        }
      },
      "source": [
        "X_n_gram"
      ],
      "execution_count": 0,
      "outputs": [
        {
          "output_type": "execute_result",
          "data": {
            "text/plain": [
              "<50064x157025 sparse matrix of type '<class 'numpy.float64'>'\n",
              "\twith 1004012 stored elements in COOrdinate format>"
            ]
          },
          "metadata": {
            "tags": []
          },
          "execution_count": 235
        }
      ]
    },
    {
      "cell_type": "code",
      "metadata": {
        "id": "uR8Kg-dNPxg9",
        "colab_type": "code",
        "colab": {}
      },
      "source": [
        "predict_proba_result = logit.predict_proba(X_n_gram)"
      ],
      "execution_count": 0,
      "outputs": []
    },
    {
      "cell_type": "code",
      "metadata": {
        "id": "WP1itbrlP2Bg",
        "colab_type": "code",
        "outputId": "5bc362c0-568b-442e-8bd4-7833ac34cf21",
        "colab": {
          "base_uri": "https://localhost:8080/",
          "height": 251
        }
      },
      "source": [
        "predict_proba_result"
      ],
      "execution_count": 0,
      "outputs": [
        {
          "output_type": "execute_result",
          "data": {
            "text/plain": [
              "array([[1.17640966e-04, 3.28923994e-04, 3.06847463e-05, ...,\n",
              "        2.87553079e-04, 5.56868506e-04, 6.79782501e-05],\n",
              "       [5.64388089e-05, 1.22946276e-04, 7.90675610e-05, ...,\n",
              "        9.91079154e-04, 3.12623907e-03, 7.03385815e-05],\n",
              "       [3.26506069e-04, 3.11869344e-04, 9.26408878e-05, ...,\n",
              "        1.22341909e-03, 1.79347544e-03, 3.45375121e-05],\n",
              "       ...,\n",
              "       [1.03641136e-02, 7.17483241e-04, 7.69786705e-05, ...,\n",
              "        6.37547337e-03, 3.93370956e-03, 1.17000173e-04],\n",
              "       [9.94288021e-03, 6.05777537e-04, 7.40970681e-05, ...,\n",
              "        5.36381816e-03, 3.58818290e-03, 2.24948653e-04],\n",
              "       [9.94386929e-03, 6.05862397e-04, 7.40927856e-05, ...,\n",
              "        5.36543163e-03, 3.58812991e-03, 2.24987475e-04]])"
            ]
          },
          "metadata": {
            "tags": []
          },
          "execution_count": 239
        }
      ]
    },
    {
      "cell_type": "code",
      "metadata": {
        "id": "B3tovgjJQBdU",
        "colab_type": "code",
        "outputId": "06e82672-8d53-4328-afe2-dedfed7f4eaf",
        "colab": {
          "base_uri": "https://localhost:8080/",
          "height": 35
        }
      },
      "source": [
        "predict_proba_result.shape"
      ],
      "execution_count": 0,
      "outputs": [
        {
          "output_type": "execute_result",
          "data": {
            "text/plain": [
              "(50064, 104)"
            ]
          },
          "metadata": {
            "tags": []
          },
          "execution_count": 241
        }
      ]
    },
    {
      "cell_type": "code",
      "metadata": {
        "id": "L31hAQikP_-M",
        "colab_type": "code",
        "outputId": "bf80a893-d4af-443a-da5d-b0b3e6d9ac02",
        "colab": {
          "base_uri": "https://localhost:8080/",
          "height": 35
        }
      },
      "source": [
        "submit_form.shape"
      ],
      "execution_count": 0,
      "outputs": [
        {
          "output_type": "execute_result",
          "data": {
            "text/plain": [
              "(50064, 104)"
            ]
          },
          "metadata": {
            "tags": []
          },
          "execution_count": 245
        }
      ]
    },
    {
      "cell_type": "code",
      "metadata": {
        "id": "-njuWfYSQZB3",
        "colab_type": "code",
        "outputId": "cbb8f2f4-32e9-4e0e-8662-fa5b9d7f269b",
        "colab": {
          "base_uri": "https://localhost:8080/",
          "height": 125
        }
      },
      "source": [
        "submit_form.index"
      ],
      "execution_count": 0,
      "outputs": [
        {
          "output_type": "execute_result",
          "data": {
            "text/plain": [
              "Int64Index([180042,  28872, 186915, 412396, 427740,  69847, 358824, 254148,\n",
              "               296, 416755,\n",
              "            ...\n",
              "            356796, 130696, 287341, 345215, 113795, 169063, 433255, 232204,\n",
              "            171685, 249087],\n",
              "           dtype='int64', name='Unnamed: 0', length=50064)"
            ]
          },
          "metadata": {
            "tags": []
          },
          "execution_count": 246
        }
      ]
    },
    {
      "cell_type": "code",
      "metadata": {
        "id": "RkPfXzNiQik1",
        "colab_type": "code",
        "outputId": "12cbe75a-ae32-4f9d-d42d-16b806ee23ea",
        "colab": {
          "base_uri": "https://localhost:8080/",
          "height": 251
        }
      },
      "source": [
        "submit_form.columns"
      ],
      "execution_count": 0,
      "outputs": [
        {
          "output_type": "execute_result",
          "data": {
            "text/plain": [
              "Index(['Function__Aides Compensation',\n",
              "       'Function__Career & Academic Counseling', 'Function__Communications',\n",
              "       'Function__Curriculum Development',\n",
              "       'Function__Data Processing & Information Services',\n",
              "       'Function__Development & Fundraising', 'Function__Enrichment',\n",
              "       'Function__Extended Time & Tutoring',\n",
              "       'Function__Facilities & Maintenance', 'Function__Facilities Planning',\n",
              "       ...\n",
              "       'Student_Type__Special Education', 'Student_Type__Unspecified',\n",
              "       'Use__Business Services', 'Use__ISPD', 'Use__Instruction',\n",
              "       'Use__Leadership', 'Use__NO_LABEL', 'Use__O&M',\n",
              "       'Use__Pupil Services & Enrichment', 'Use__Untracked Budget Set-Aside'],\n",
              "      dtype='object', length=104)"
            ]
          },
          "metadata": {
            "tags": []
          },
          "execution_count": 247
        }
      ]
    },
    {
      "cell_type": "code",
      "metadata": {
        "id": "392MTx01Qbc5",
        "colab_type": "code",
        "colab": {}
      },
      "source": [
        "result_csv = pd.DataFrame(predict_proba_result, index = submit_form.index, columns = submit_form.columns)"
      ],
      "execution_count": 0,
      "outputs": []
    },
    {
      "cell_type": "code",
      "metadata": {
        "id": "A7MeB0h_QlHG",
        "colab_type": "code",
        "outputId": "6ccb2534-9bcf-401f-8aa2-74be4a26a4a8",
        "colab": {
          "base_uri": "https://localhost:8080/",
          "height": 369
        }
      },
      "source": [
        "result_csv.head()"
      ],
      "execution_count": 0,
      "outputs": [
        {
          "output_type": "execute_result",
          "data": {
            "text/html": [
              "<div>\n",
              "<style scoped>\n",
              "    .dataframe tbody tr th:only-of-type {\n",
              "        vertical-align: middle;\n",
              "    }\n",
              "\n",
              "    .dataframe tbody tr th {\n",
              "        vertical-align: top;\n",
              "    }\n",
              "\n",
              "    .dataframe thead th {\n",
              "        text-align: right;\n",
              "    }\n",
              "</style>\n",
              "<table border=\"1\" class=\"dataframe\">\n",
              "  <thead>\n",
              "    <tr style=\"text-align: right;\">\n",
              "      <th></th>\n",
              "      <th>Function__Aides Compensation</th>\n",
              "      <th>Function__Career &amp; Academic Counseling</th>\n",
              "      <th>Function__Communications</th>\n",
              "      <th>Function__Curriculum Development</th>\n",
              "      <th>Function__Data Processing &amp; Information Services</th>\n",
              "      <th>Function__Development &amp; Fundraising</th>\n",
              "      <th>Function__Enrichment</th>\n",
              "      <th>Function__Extended Time &amp; Tutoring</th>\n",
              "      <th>Function__Facilities &amp; Maintenance</th>\n",
              "      <th>Function__Facilities Planning</th>\n",
              "      <th>Function__Finance, Budget, Purchasing &amp; Distribution</th>\n",
              "      <th>Function__Food Services</th>\n",
              "      <th>Function__Governance</th>\n",
              "      <th>Function__Human Resources</th>\n",
              "      <th>Function__Instructional Materials &amp; Supplies</th>\n",
              "      <th>Function__Insurance</th>\n",
              "      <th>Function__Legal</th>\n",
              "      <th>Function__Library &amp; Media</th>\n",
              "      <th>Function__NO_LABEL</th>\n",
              "      <th>Function__Other Compensation</th>\n",
              "      <th>Function__Other Non-Compensation</th>\n",
              "      <th>Function__Parent &amp; Community Relations</th>\n",
              "      <th>Function__Physical Health &amp; Services</th>\n",
              "      <th>Function__Professional Development</th>\n",
              "      <th>Function__Recruitment</th>\n",
              "      <th>Function__Research &amp; Accountability</th>\n",
              "      <th>Function__School Administration</th>\n",
              "      <th>Function__School Supervision</th>\n",
              "      <th>Function__Security &amp; Safety</th>\n",
              "      <th>Function__Social &amp; Emotional</th>\n",
              "      <th>Function__Special Population Program Management &amp; Support</th>\n",
              "      <th>Function__Student Assignment</th>\n",
              "      <th>Function__Student Transportation</th>\n",
              "      <th>Function__Substitute Compensation</th>\n",
              "      <th>Function__Teacher Compensation</th>\n",
              "      <th>Function__Untracked Budget Set-Aside</th>\n",
              "      <th>Function__Utilities</th>\n",
              "      <th>Object_Type__Base Salary/Compensation</th>\n",
              "      <th>Object_Type__Benefits</th>\n",
              "      <th>Object_Type__Contracted Services</th>\n",
              "      <th>...</th>\n",
              "      <th>Position_Type__Other</th>\n",
              "      <th>Position_Type__Physical Therapist</th>\n",
              "      <th>Position_Type__Principal</th>\n",
              "      <th>Position_Type__Psychologist</th>\n",
              "      <th>Position_Type__School Monitor/Security</th>\n",
              "      <th>Position_Type__Sec/Clerk/Other Admin</th>\n",
              "      <th>Position_Type__Social Worker</th>\n",
              "      <th>Position_Type__Speech Therapist</th>\n",
              "      <th>Position_Type__Substitute</th>\n",
              "      <th>Position_Type__TA</th>\n",
              "      <th>Position_Type__Teacher</th>\n",
              "      <th>Position_Type__Vice Principal</th>\n",
              "      <th>Pre_K__NO_LABEL</th>\n",
              "      <th>Pre_K__Non PreK</th>\n",
              "      <th>Pre_K__PreK</th>\n",
              "      <th>Reporting__NO_LABEL</th>\n",
              "      <th>Reporting__Non-School</th>\n",
              "      <th>Reporting__School</th>\n",
              "      <th>Sharing__Leadership &amp; Management</th>\n",
              "      <th>Sharing__NO_LABEL</th>\n",
              "      <th>Sharing__School Reported</th>\n",
              "      <th>Sharing__School on Central Budgets</th>\n",
              "      <th>Sharing__Shared Services</th>\n",
              "      <th>Student_Type__Alternative</th>\n",
              "      <th>Student_Type__At Risk</th>\n",
              "      <th>Student_Type__ELL</th>\n",
              "      <th>Student_Type__Gifted</th>\n",
              "      <th>Student_Type__NO_LABEL</th>\n",
              "      <th>Student_Type__Poverty</th>\n",
              "      <th>Student_Type__PreK</th>\n",
              "      <th>Student_Type__Special Education</th>\n",
              "      <th>Student_Type__Unspecified</th>\n",
              "      <th>Use__Business Services</th>\n",
              "      <th>Use__ISPD</th>\n",
              "      <th>Use__Instruction</th>\n",
              "      <th>Use__Leadership</th>\n",
              "      <th>Use__NO_LABEL</th>\n",
              "      <th>Use__O&amp;M</th>\n",
              "      <th>Use__Pupil Services &amp; Enrichment</th>\n",
              "      <th>Use__Untracked Budget Set-Aside</th>\n",
              "    </tr>\n",
              "    <tr>\n",
              "      <th>Unnamed: 0</th>\n",
              "      <th></th>\n",
              "      <th></th>\n",
              "      <th></th>\n",
              "      <th></th>\n",
              "      <th></th>\n",
              "      <th></th>\n",
              "      <th></th>\n",
              "      <th></th>\n",
              "      <th></th>\n",
              "      <th></th>\n",
              "      <th></th>\n",
              "      <th></th>\n",
              "      <th></th>\n",
              "      <th></th>\n",
              "      <th></th>\n",
              "      <th></th>\n",
              "      <th></th>\n",
              "      <th></th>\n",
              "      <th></th>\n",
              "      <th></th>\n",
              "      <th></th>\n",
              "      <th></th>\n",
              "      <th></th>\n",
              "      <th></th>\n",
              "      <th></th>\n",
              "      <th></th>\n",
              "      <th></th>\n",
              "      <th></th>\n",
              "      <th></th>\n",
              "      <th></th>\n",
              "      <th></th>\n",
              "      <th></th>\n",
              "      <th></th>\n",
              "      <th></th>\n",
              "      <th></th>\n",
              "      <th></th>\n",
              "      <th></th>\n",
              "      <th></th>\n",
              "      <th></th>\n",
              "      <th></th>\n",
              "      <th></th>\n",
              "      <th></th>\n",
              "      <th></th>\n",
              "      <th></th>\n",
              "      <th></th>\n",
              "      <th></th>\n",
              "      <th></th>\n",
              "      <th></th>\n",
              "      <th></th>\n",
              "      <th></th>\n",
              "      <th></th>\n",
              "      <th></th>\n",
              "      <th></th>\n",
              "      <th></th>\n",
              "      <th></th>\n",
              "      <th></th>\n",
              "      <th></th>\n",
              "      <th></th>\n",
              "      <th></th>\n",
              "      <th></th>\n",
              "      <th></th>\n",
              "      <th></th>\n",
              "      <th></th>\n",
              "      <th></th>\n",
              "      <th></th>\n",
              "      <th></th>\n",
              "      <th></th>\n",
              "      <th></th>\n",
              "      <th></th>\n",
              "      <th></th>\n",
              "      <th></th>\n",
              "      <th></th>\n",
              "      <th></th>\n",
              "      <th></th>\n",
              "      <th></th>\n",
              "      <th></th>\n",
              "      <th></th>\n",
              "      <th></th>\n",
              "      <th></th>\n",
              "      <th></th>\n",
              "      <th></th>\n",
              "    </tr>\n",
              "  </thead>\n",
              "  <tbody>\n",
              "    <tr>\n",
              "      <th>180042</th>\n",
              "      <td>0.000118</td>\n",
              "      <td>0.000329</td>\n",
              "      <td>0.000031</td>\n",
              "      <td>0.000239</td>\n",
              "      <td>0.000671</td>\n",
              "      <td>0.000032</td>\n",
              "      <td>0.000643</td>\n",
              "      <td>0.000056</td>\n",
              "      <td>0.000808</td>\n",
              "      <td>0.000009</td>\n",
              "      <td>0.000140</td>\n",
              "      <td>0.000064</td>\n",
              "      <td>0.000071</td>\n",
              "      <td>0.000061</td>\n",
              "      <td>0.162953</td>\n",
              "      <td>0.000037</td>\n",
              "      <td>0.000018</td>\n",
              "      <td>0.000169</td>\n",
              "      <td>0.416358</td>\n",
              "      <td>0.000037</td>\n",
              "      <td>0.001098</td>\n",
              "      <td>0.000118</td>\n",
              "      <td>0.000385</td>\n",
              "      <td>0.000662</td>\n",
              "      <td>0.000022</td>\n",
              "      <td>0.000732</td>\n",
              "      <td>0.000310</td>\n",
              "      <td>0.000727</td>\n",
              "      <td>0.000074</td>\n",
              "      <td>0.000896</td>\n",
              "      <td>0.000693</td>\n",
              "      <td>0.000094</td>\n",
              "      <td>0.001096</td>\n",
              "      <td>1.921138e-01</td>\n",
              "      <td>0.000641</td>\n",
              "      <td>0.000068</td>\n",
              "      <td>0.001578</td>\n",
              "      <td>0.000009</td>\n",
              "      <td>5.641914e-04</td>\n",
              "      <td>0.003120</td>\n",
              "      <td>...</td>\n",
              "      <td>0.000570</td>\n",
              "      <td>0.000019</td>\n",
              "      <td>0.000147</td>\n",
              "      <td>0.000076</td>\n",
              "      <td>0.000019</td>\n",
              "      <td>0.000091</td>\n",
              "      <td>0.000040</td>\n",
              "      <td>0.000037</td>\n",
              "      <td>1.216999e-01</td>\n",
              "      <td>0.000109</td>\n",
              "      <td>0.000258</td>\n",
              "      <td>0.000024</td>\n",
              "      <td>0.998834</td>\n",
              "      <td>0.002410</td>\n",
              "      <td>0.000199</td>\n",
              "      <td>0.191774</td>\n",
              "      <td>0.087077</td>\n",
              "      <td>0.051471</td>\n",
              "      <td>0.001030</td>\n",
              "      <td>0.870466</td>\n",
              "      <td>0.042170</td>\n",
              "      <td>0.000628</td>\n",
              "      <td>0.008393</td>\n",
              "      <td>0.000152</td>\n",
              "      <td>0.000016</td>\n",
              "      <td>0.000024</td>\n",
              "      <td>0.000014</td>\n",
              "      <td>0.998645</td>\n",
              "      <td>0.000024</td>\n",
              "      <td>0.000037</td>\n",
              "      <td>0.000243</td>\n",
              "      <td>0.002561</td>\n",
              "      <td>0.000155</td>\n",
              "      <td>0.000703</td>\n",
              "      <td>0.188713</td>\n",
              "      <td>0.001218</td>\n",
              "      <td>0.800933</td>\n",
              "      <td>0.000288</td>\n",
              "      <td>0.000557</td>\n",
              "      <td>0.000068</td>\n",
              "    </tr>\n",
              "    <tr>\n",
              "      <th>28872</th>\n",
              "      <td>0.000056</td>\n",
              "      <td>0.000123</td>\n",
              "      <td>0.000079</td>\n",
              "      <td>0.003947</td>\n",
              "      <td>0.000370</td>\n",
              "      <td>0.000035</td>\n",
              "      <td>0.021579</td>\n",
              "      <td>0.000467</td>\n",
              "      <td>0.002422</td>\n",
              "      <td>0.000009</td>\n",
              "      <td>0.002590</td>\n",
              "      <td>0.000247</td>\n",
              "      <td>0.000111</td>\n",
              "      <td>0.000088</td>\n",
              "      <td>0.001433</td>\n",
              "      <td>0.000027</td>\n",
              "      <td>0.000018</td>\n",
              "      <td>0.000141</td>\n",
              "      <td>0.025686</td>\n",
              "      <td>0.000050</td>\n",
              "      <td>0.000205</td>\n",
              "      <td>0.000224</td>\n",
              "      <td>0.001327</td>\n",
              "      <td>0.000295</td>\n",
              "      <td>0.000033</td>\n",
              "      <td>0.000246</td>\n",
              "      <td>0.002105</td>\n",
              "      <td>0.000318</td>\n",
              "      <td>0.000161</td>\n",
              "      <td>0.001891</td>\n",
              "      <td>0.000898</td>\n",
              "      <td>0.000053</td>\n",
              "      <td>0.001075</td>\n",
              "      <td>4.950128e-03</td>\n",
              "      <td>0.002702</td>\n",
              "      <td>0.000070</td>\n",
              "      <td>0.000618</td>\n",
              "      <td>0.000009</td>\n",
              "      <td>7.516875e-06</td>\n",
              "      <td>0.001525</td>\n",
              "      <td>...</td>\n",
              "      <td>0.091590</td>\n",
              "      <td>0.000036</td>\n",
              "      <td>0.000209</td>\n",
              "      <td>0.000226</td>\n",
              "      <td>0.000046</td>\n",
              "      <td>0.002595</td>\n",
              "      <td>0.000099</td>\n",
              "      <td>0.000130</td>\n",
              "      <td>7.679221e-03</td>\n",
              "      <td>0.000336</td>\n",
              "      <td>0.048488</td>\n",
              "      <td>0.000066</td>\n",
              "      <td>0.997140</td>\n",
              "      <td>0.001686</td>\n",
              "      <td>0.000357</td>\n",
              "      <td>0.014879</td>\n",
              "      <td>0.263473</td>\n",
              "      <td>0.466381</td>\n",
              "      <td>0.013005</td>\n",
              "      <td>0.193972</td>\n",
              "      <td>0.494222</td>\n",
              "      <td>0.002067</td>\n",
              "      <td>0.012527</td>\n",
              "      <td>0.000070</td>\n",
              "      <td>0.000021</td>\n",
              "      <td>0.000189</td>\n",
              "      <td>0.000020</td>\n",
              "      <td>0.959328</td>\n",
              "      <td>0.000068</td>\n",
              "      <td>0.000051</td>\n",
              "      <td>0.003212</td>\n",
              "      <td>0.028394</td>\n",
              "      <td>0.000902</td>\n",
              "      <td>0.002506</td>\n",
              "      <td>0.048057</td>\n",
              "      <td>0.001341</td>\n",
              "      <td>0.359312</td>\n",
              "      <td>0.000991</td>\n",
              "      <td>0.003126</td>\n",
              "      <td>0.000070</td>\n",
              "    </tr>\n",
              "    <tr>\n",
              "      <th>186915</th>\n",
              "      <td>0.000327</td>\n",
              "      <td>0.000312</td>\n",
              "      <td>0.000093</td>\n",
              "      <td>0.000491</td>\n",
              "      <td>0.000285</td>\n",
              "      <td>0.000044</td>\n",
              "      <td>0.001405</td>\n",
              "      <td>0.000026</td>\n",
              "      <td>0.002350</td>\n",
              "      <td>0.000013</td>\n",
              "      <td>0.002215</td>\n",
              "      <td>0.000191</td>\n",
              "      <td>0.000381</td>\n",
              "      <td>0.000240</td>\n",
              "      <td>0.000991</td>\n",
              "      <td>0.000014</td>\n",
              "      <td>0.000025</td>\n",
              "      <td>0.000366</td>\n",
              "      <td>0.113109</td>\n",
              "      <td>0.000048</td>\n",
              "      <td>0.000747</td>\n",
              "      <td>0.000569</td>\n",
              "      <td>0.002253</td>\n",
              "      <td>0.001592</td>\n",
              "      <td>0.000056</td>\n",
              "      <td>0.000309</td>\n",
              "      <td>0.002570</td>\n",
              "      <td>0.001335</td>\n",
              "      <td>0.000454</td>\n",
              "      <td>0.000084</td>\n",
              "      <td>0.000431</td>\n",
              "      <td>0.000035</td>\n",
              "      <td>0.001069</td>\n",
              "      <td>1.637476e-04</td>\n",
              "      <td>0.001329</td>\n",
              "      <td>0.000035</td>\n",
              "      <td>0.000061</td>\n",
              "      <td>0.004504</td>\n",
              "      <td>3.981761e-05</td>\n",
              "      <td>0.004764</td>\n",
              "      <td>...</td>\n",
              "      <td>0.003723</td>\n",
              "      <td>0.000028</td>\n",
              "      <td>0.000192</td>\n",
              "      <td>0.000116</td>\n",
              "      <td>0.000054</td>\n",
              "      <td>0.001424</td>\n",
              "      <td>0.000130</td>\n",
              "      <td>0.000078</td>\n",
              "      <td>2.426452e-04</td>\n",
              "      <td>0.000218</td>\n",
              "      <td>0.002302</td>\n",
              "      <td>0.000040</td>\n",
              "      <td>0.999070</td>\n",
              "      <td>0.001296</td>\n",
              "      <td>0.000228</td>\n",
              "      <td>0.052531</td>\n",
              "      <td>0.206299</td>\n",
              "      <td>0.232458</td>\n",
              "      <td>0.006509</td>\n",
              "      <td>0.198995</td>\n",
              "      <td>0.235604</td>\n",
              "      <td>0.000590</td>\n",
              "      <td>0.026744</td>\n",
              "      <td>0.000266</td>\n",
              "      <td>0.000017</td>\n",
              "      <td>0.000112</td>\n",
              "      <td>0.000017</td>\n",
              "      <td>0.975993</td>\n",
              "      <td>0.000063</td>\n",
              "      <td>0.000009</td>\n",
              "      <td>0.000218</td>\n",
              "      <td>0.035622</td>\n",
              "      <td>0.000567</td>\n",
              "      <td>0.000968</td>\n",
              "      <td>0.152557</td>\n",
              "      <td>0.002177</td>\n",
              "      <td>0.633654</td>\n",
              "      <td>0.001223</td>\n",
              "      <td>0.001793</td>\n",
              "      <td>0.000035</td>\n",
              "    </tr>\n",
              "    <tr>\n",
              "      <th>412396</th>\n",
              "      <td>0.000325</td>\n",
              "      <td>0.000308</td>\n",
              "      <td>0.000092</td>\n",
              "      <td>0.000469</td>\n",
              "      <td>0.000283</td>\n",
              "      <td>0.000044</td>\n",
              "      <td>0.001380</td>\n",
              "      <td>0.000026</td>\n",
              "      <td>0.002273</td>\n",
              "      <td>0.000013</td>\n",
              "      <td>0.002200</td>\n",
              "      <td>0.000190</td>\n",
              "      <td>0.000377</td>\n",
              "      <td>0.000238</td>\n",
              "      <td>0.000930</td>\n",
              "      <td>0.000014</td>\n",
              "      <td>0.000025</td>\n",
              "      <td>0.000357</td>\n",
              "      <td>0.094979</td>\n",
              "      <td>0.000048</td>\n",
              "      <td>0.000743</td>\n",
              "      <td>0.000568</td>\n",
              "      <td>0.002201</td>\n",
              "      <td>0.001464</td>\n",
              "      <td>0.000055</td>\n",
              "      <td>0.000307</td>\n",
              "      <td>0.002541</td>\n",
              "      <td>0.001318</td>\n",
              "      <td>0.000450</td>\n",
              "      <td>0.000082</td>\n",
              "      <td>0.000423</td>\n",
              "      <td>0.000035</td>\n",
              "      <td>0.001093</td>\n",
              "      <td>1.632590e-04</td>\n",
              "      <td>0.002373</td>\n",
              "      <td>0.000034</td>\n",
              "      <td>0.000061</td>\n",
              "      <td>0.003849</td>\n",
              "      <td>3.962340e-05</td>\n",
              "      <td>0.004721</td>\n",
              "      <td>...</td>\n",
              "      <td>0.003607</td>\n",
              "      <td>0.000028</td>\n",
              "      <td>0.000191</td>\n",
              "      <td>0.000116</td>\n",
              "      <td>0.000054</td>\n",
              "      <td>0.001406</td>\n",
              "      <td>0.000127</td>\n",
              "      <td>0.000078</td>\n",
              "      <td>2.409716e-04</td>\n",
              "      <td>0.000213</td>\n",
              "      <td>0.003857</td>\n",
              "      <td>0.000039</td>\n",
              "      <td>0.999076</td>\n",
              "      <td>0.001314</td>\n",
              "      <td>0.000222</td>\n",
              "      <td>0.044424</td>\n",
              "      <td>0.181171</td>\n",
              "      <td>0.299812</td>\n",
              "      <td>0.006319</td>\n",
              "      <td>0.175455</td>\n",
              "      <td>0.303318</td>\n",
              "      <td>0.000566</td>\n",
              "      <td>0.025233</td>\n",
              "      <td>0.000266</td>\n",
              "      <td>0.000017</td>\n",
              "      <td>0.000082</td>\n",
              "      <td>0.000017</td>\n",
              "      <td>0.979434</td>\n",
              "      <td>0.000063</td>\n",
              "      <td>0.000009</td>\n",
              "      <td>0.000216</td>\n",
              "      <td>0.033019</td>\n",
              "      <td>0.000562</td>\n",
              "      <td>0.000836</td>\n",
              "      <td>0.197451</td>\n",
              "      <td>0.002150</td>\n",
              "      <td>0.583920</td>\n",
              "      <td>0.001223</td>\n",
              "      <td>0.001729</td>\n",
              "      <td>0.000034</td>\n",
              "    </tr>\n",
              "    <tr>\n",
              "      <th>427740</th>\n",
              "      <td>0.000149</td>\n",
              "      <td>0.000074</td>\n",
              "      <td>0.000070</td>\n",
              "      <td>0.000452</td>\n",
              "      <td>0.000501</td>\n",
              "      <td>0.000011</td>\n",
              "      <td>0.000154</td>\n",
              "      <td>0.000018</td>\n",
              "      <td>0.001761</td>\n",
              "      <td>0.000006</td>\n",
              "      <td>0.000385</td>\n",
              "      <td>0.000223</td>\n",
              "      <td>0.000080</td>\n",
              "      <td>0.000055</td>\n",
              "      <td>0.000045</td>\n",
              "      <td>0.000005</td>\n",
              "      <td>0.000031</td>\n",
              "      <td>0.000173</td>\n",
              "      <td>0.007845</td>\n",
              "      <td>0.000057</td>\n",
              "      <td>0.000026</td>\n",
              "      <td>0.000445</td>\n",
              "      <td>0.000742</td>\n",
              "      <td>0.000542</td>\n",
              "      <td>0.000014</td>\n",
              "      <td>0.000064</td>\n",
              "      <td>0.018660</td>\n",
              "      <td>0.001061</td>\n",
              "      <td>0.000428</td>\n",
              "      <td>0.000059</td>\n",
              "      <td>0.000239</td>\n",
              "      <td>0.000151</td>\n",
              "      <td>0.000271</td>\n",
              "      <td>1.980907e-07</td>\n",
              "      <td>0.000118</td>\n",
              "      <td>0.000027</td>\n",
              "      <td>0.000023</td>\n",
              "      <td>0.001068</td>\n",
              "      <td>1.622582e-07</td>\n",
              "      <td>0.000025</td>\n",
              "      <td>...</td>\n",
              "      <td>0.055032</td>\n",
              "      <td>0.000012</td>\n",
              "      <td>0.000236</td>\n",
              "      <td>0.000033</td>\n",
              "      <td>0.000092</td>\n",
              "      <td>0.009555</td>\n",
              "      <td>0.000034</td>\n",
              "      <td>0.000025</td>\n",
              "      <td>3.894124e-07</td>\n",
              "      <td>0.000393</td>\n",
              "      <td>0.000570</td>\n",
              "      <td>0.000059</td>\n",
              "      <td>0.998437</td>\n",
              "      <td>0.000734</td>\n",
              "      <td>0.000333</td>\n",
              "      <td>0.004357</td>\n",
              "      <td>0.289536</td>\n",
              "      <td>0.268223</td>\n",
              "      <td>0.012945</td>\n",
              "      <td>0.001714</td>\n",
              "      <td>0.265100</td>\n",
              "      <td>0.000634</td>\n",
              "      <td>0.006876</td>\n",
              "      <td>0.000314</td>\n",
              "      <td>0.000010</td>\n",
              "      <td>0.000266</td>\n",
              "      <td>0.000018</td>\n",
              "      <td>0.122888</td>\n",
              "      <td>0.000032</td>\n",
              "      <td>0.000004</td>\n",
              "      <td>0.000150</td>\n",
              "      <td>0.463034</td>\n",
              "      <td>0.000515</td>\n",
              "      <td>0.001090</td>\n",
              "      <td>0.002497</td>\n",
              "      <td>0.017419</td>\n",
              "      <td>0.112504</td>\n",
              "      <td>0.004387</td>\n",
              "      <td>0.000401</td>\n",
              "      <td>0.000027</td>\n",
              "    </tr>\n",
              "  </tbody>\n",
              "</table>\n",
              "<p>5 rows × 104 columns</p>\n",
              "</div>"
            ],
            "text/plain": [
              "            Function__Aides Compensation  ...  Use__Untracked Budget Set-Aside\n",
              "Unnamed: 0                                ...                                 \n",
              "180042                          0.000118  ...                         0.000068\n",
              "28872                           0.000056  ...                         0.000070\n",
              "186915                          0.000327  ...                         0.000035\n",
              "412396                          0.000325  ...                         0.000034\n",
              "427740                          0.000149  ...                         0.000027\n",
              "\n",
              "[5 rows x 104 columns]"
            ]
          },
          "metadata": {
            "tags": []
          },
          "execution_count": 250
        }
      ]
    },
    {
      "cell_type": "code",
      "metadata": {
        "id": "r8f7Xb-XQtCI",
        "colab_type": "code",
        "colab": {}
      },
      "source": [
        "result_csv.to_csv('/content/drive/My Drive/input/Reboot_education_data/sumbmit_test.csv')"
      ],
      "execution_count": 0,
      "outputs": []
    },
    {
      "cell_type": "code",
      "metadata": {
        "id": "o65kdbT7Ta1B",
        "colab_type": "code",
        "colab": {}
      },
      "source": [
        "import matplotlib.pyplot as plt"
      ],
      "execution_count": 0,
      "outputs": []
    },
    {
      "cell_type": "code",
      "metadata": {
        "id": "7Tcaub9uTc32",
        "colab_type": "code",
        "colab": {}
      },
      "source": [
        "result_data = plt.imread('/content/drive/My Drive/Colab Notebooks/0.Projects/School Budget/Submission_files/1st_submission.png')"
      ],
      "execution_count": 0,
      "outputs": []
    },
    {
      "cell_type": "code",
      "metadata": {
        "id": "abv1dZTiTviS",
        "colab_type": "code",
        "outputId": "c44d544a-cf11-4264-9f3f-4bc8d29b7a12",
        "colab": {
          "base_uri": "https://localhost:8080/",
          "height": 944
        }
      },
      "source": [
        "plt.figure(figsize=(20,20))\n",
        "plt.imshow(result_data)"
      ],
      "execution_count": 0,
      "outputs": [
        {
          "output_type": "execute_result",
          "data": {
            "text/plain": [
              "<matplotlib.image.AxesImage at 0x7faa10f12f60>"
            ]
          },
          "metadata": {
            "tags": []
          },
          "execution_count": 258
        },
        {
          "output_type": "display_data",
          "data": {
            "image/png": "[encoded data removed]",
            "text/plain": [
              "<Figure size 1440x1440 with 1 Axes>"
            ]
          },
          "metadata": {
            "tags": []
          }
        }
      ]
    },
    {
      "cell_type": "code",
      "metadata": {
        "id": "rKkLtaQIT9TS",
        "colab_type": "code",
        "outputId": "77c860ea-533b-4c6e-e6f9-1f3e472f530f",
        "colab": {
          "base_uri": "https://localhost:8080/",
          "height": 35
        }
      },
      "source": [
        "66/1328 * 100"
      ],
      "execution_count": 0,
      "outputs": [
        {
          "output_type": "execute_result",
          "data": {
            "text/plain": [
              "4.969879518072289"
            ]
          },
          "metadata": {
            "tags": []
          },
          "execution_count": 260
        }
      ]
    },
    {
      "cell_type": "markdown",
      "metadata": {
        "id": "2IY9XTWZSCzi",
        "colab_type": "text"
      },
      "source": [
        "[Submit result](https://drive.google.com/open?id=1OWgjOOZN14vgv_gYqmcwf28mstFdkGA3)"
      ]
    },
    {
      "cell_type": "markdown",
      "metadata": {
        "id": "jf7_Vtv_Y6Td",
        "colab_type": "text"
      },
      "source": [
        "## Best model with grid search "
      ]
    },
    {
      "cell_type": "code",
      "metadata": {
        "id": "A-u5i7s9Zq-9",
        "colab_type": "code",
        "outputId": "540e8635-175f-46a9-867f-c4320b0fbe97",
        "colab": {
          "base_uri": "https://localhost:8080/",
          "height": 391
        }
      },
      "source": [
        "print(numeric_feature[:5])\n",
        "print(concat_text[:5])\n",
        "print(train_y_dummy[:5])"
      ],
      "execution_count": 30,
      "outputs": [
        {
          "output_type": "stream",
          "text": [
            "                       0         1\n",
            "Unnamed: 0                        \n",
            "134338      1.780716e+00  0.102058\n",
            "206341     -6.760054e-14 -0.026297\n",
            "326408      1.780716e+00  0.134193\n",
            "364634     -6.760054e-14 -0.035735\n",
            "47683      -6.760054e-14 -0.035648\n",
            "Unnamed: 0\n",
            "134338    Teacher-Elementary KINDERGARTEN KINDERGARTENGe...\n",
            "206341    CONTRACTOR SERVICESBOND EXPENDITURESBUILDING F...\n",
            "326408    Personal Services - TeachersTCHER 2ND GRADEReg...\n",
            "364634    EMPLOYEE BENEFITSTEACHER SUBSGENERAL FUNDTeach...\n",
            "47683     TEACHER COVERAGE FOR TEACHERTEACHER SUBSGENERA...\n",
            "dtype: object\n",
            "   Function_Aides Compensation  ...  Use_Untracked Budget Set-Aside\n",
            "0                            0  ...                               0\n",
            "1                            0  ...                               0\n",
            "2                            0  ...                               0\n",
            "3                            0  ...                               0\n",
            "4                            0  ...                               0\n",
            "\n",
            "[5 rows x 104 columns]\n"
          ],
          "name": "stdout"
        }
      ]
    },
    {
      "cell_type": "code",
      "metadata": {
        "colab_type": "code",
        "id": "Ub1QoHkGZyYh",
        "colab": {}
      },
      "source": [
        "countvec_ngram = CountVectorizer(token_pattern=text_pattern, ngram_range=(1, 3))"
      ],
      "execution_count": 0,
      "outputs": []
    },
    {
      "cell_type": "code",
      "metadata": {
        "colab_type": "code",
        "id": "2TNYDXbgZyYi",
        "colab": {}
      },
      "source": [
        "count_vec_ngram = countvec_ngram.fit_transform(concat_text)"
      ],
      "execution_count": 0,
      "outputs": []
    },
    {
      "cell_type": "code",
      "metadata": {
        "colab_type": "code",
        "outputId": "d9870cc9-726a-45cc-c2c2-b827a5d99e9d",
        "id": "cgivSCMtZyYl",
        "colab": {
          "base_uri": "https://localhost:8080/",
          "height": 51
        }
      },
      "source": [
        "count_vec_ngram"
      ],
      "execution_count": 33,
      "outputs": [
        {
          "output_type": "execute_result",
          "data": {
            "text/plain": [
              "<400277x157023 sparse matrix of type '<class 'numpy.int64'>'\n",
              "\twith 15903807 stored elements in Compressed Sparse Row format>"
            ]
          },
          "metadata": {
            "tags": []
          },
          "execution_count": 33
        }
      ]
    },
    {
      "cell_type": "code",
      "metadata": {
        "colab_type": "code",
        "id": "rKg1YDk4ZyYn",
        "colab": {}
      },
      "source": [
        "X_n_gram = hstack([numeric_feature, count_vec_ngram])"
      ],
      "execution_count": 0,
      "outputs": []
    },
    {
      "cell_type": "code",
      "metadata": {
        "colab_type": "code",
        "outputId": "269b3bbf-2549-4ad7-9ba9-6017565c1a77",
        "id": "lUERhfUIZyYp",
        "colab": {
          "base_uri": "https://localhost:8080/",
          "height": 51
        }
      },
      "source": [
        "X_n_gram"
      ],
      "execution_count": 35,
      "outputs": [
        {
          "output_type": "execute_result",
          "data": {
            "text/plain": [
              "<400277x157025 sparse matrix of type '<class 'numpy.float64'>'\n",
              "\twith 16704361 stored elements in COOrdinate format>"
            ]
          },
          "metadata": {
            "tags": []
          },
          "execution_count": 35
        }
      ]
    },
    {
      "cell_type": "code",
      "metadata": {
        "colab_type": "code",
        "id": "XmMlh9SBZyYr",
        "colab": {}
      },
      "source": [
        "X_train, X_test, y_train, y_test = train_test_split(X_n_gram, train_y_dummy, test_size=0.2, random_state=42)"
      ],
      "execution_count": 0,
      "outputs": []
    },
    {
      "cell_type": "markdown",
      "metadata": {
        "id": "0rZ39lGwEvw0",
        "colab_type": "text"
      },
      "source": [
        "## Grid Search example for different solvers\n",
        "\n",
        "\n",
        "\n",
        "```\n",
        "param_grid = [\n",
        "  {'penalty': ['l1'], 'solver': [ 'lbfgs', 'liblinear', 'sag', 'saga']},  \n",
        "  {'penalty': ['l2'], 'solver': ['newton-cg']},\n",
        " ]\n",
        "```\n",
        "\n"
      ]
    },
    {
      "cell_type": "code",
      "metadata": {
        "colab_type": "code",
        "id": "OBYNu4LTZyYs",
        "colab": {}
      },
      "source": [
        "logit_1 = OneVsRestClassifier(LogisticRegression(solver ='lbfgs', random_state=42))\n",
        "logit_2 = OneVsRestClassifier(LogisticRegression(solver ='lbfgs', C=0.1, random_state=42))\n",
        "logit_3 = OneVsRestClassifier(LogisticRegression(solver ='lbfgs', C=0.01, random_state=42))\n",
        "logit_4 = OneVsRestClassifier(LogisticRegression(solver ='lbfgs', C=10, random_state=42))\n",
        "logit_5 = OneVsRestClassifier(LogisticRegression(solver ='lbfgs', C=100, random_state=42))"
      ],
      "execution_count": 0,
      "outputs": []
    },
    {
      "cell_type": "code",
      "metadata": {
        "id": "AEBziSWReY5O",
        "colab_type": "code",
        "colab": {
          "base_uri": "https://localhost:8080/",
          "height": 51
        },
        "outputId": "5bd500ec-5eb1-44a4-d7f3-11db8bfba397"
      },
      "source": [
        "for model in [logit_1, logit_2, logit_3]:\n",
        "  \n",
        "  model.fit(X_train, y_train)\n",
        "  train_score = model.score(X_train,y_train)\n",
        "  test_score = model.score(X_test, y_test)\n",
        "  print(model.get_params()['estimator__C'], 'Train_score', train_score, 'Test_score', test_score)"
      ],
      "execution_count": 0,
      "outputs": [
        {
          "output_type": "stream",
          "text": [
            "1.0 Train_score 0.9487104218648995 Test_score 0.9261267113020886\n",
            "0.1 Train_score 0.9182502084497893 Test_score 0.9054911561906666\n"
          ],
          "name": "stdout"
        }
      ]
    },
    {
      "cell_type": "code",
      "metadata": {
        "id": "kCI6jK7deY1V",
        "colab_type": "code",
        "colab": {}
      },
      "source": [
        "logit_3.fit(X_train, y_train)"
      ],
      "execution_count": 0,
      "outputs": []
    },
    {
      "cell_type": "code",
      "metadata": {
        "id": "yL23bLWJZq5d",
        "colab_type": "code",
        "colab": {
          "base_uri": "https://localhost:8080/",
          "height": 34
        },
        "outputId": "fa3d5c34-77cf-477e-d2d6-e0b2e609e33d"
      },
      "source": [
        "\n",
        "train_score = logit_3.score(X_train,y_train)\n",
        "test_score = logit_3.score(X_test, y_test)\n",
        "print(logit_3.get_params()['estimator__C'], 'Train_score', train_score, 'Test_score', test_score)\n"
      ],
      "execution_count": 40,
      "outputs": [
        {
          "output_type": "stream",
          "text": [
            "0.01 Train_score 0.8128948444980185 Test_score 0.8058359148595983\n"
          ],
          "name": "stdout"
        }
      ]
    },
    {
      "cell_type": "code",
      "metadata": {
        "id": "hgeBoUD5Zq2f",
        "colab_type": "code",
        "colab": {
          "base_uri": "https://localhost:8080/",
          "height": 34
        },
        "outputId": "9a4018ab-72b2-4f36-f8f1-fed0af16668e"
      },
      "source": [
        "logit_4.fit(X_train, y_train)\n",
        "\n",
        "train_score = logit_4.score(X_train,y_train)\n",
        "test_score = logit_4.score(X_test, y_test)\n",
        "print(logit_4.get_params()['estimator__C'], 'Train_score', train_score, 'Test_score', test_score)\n"
      ],
      "execution_count": 42,
      "outputs": [
        {
          "output_type": "stream",
          "text": [
            "10 Train_score 0.9508214639264758 Test_score 0.9274882582192465\n"
          ],
          "name": "stdout"
        }
      ]
    },
    {
      "cell_type": "code",
      "metadata": {
        "id": "gZKemORlCziA",
        "colab_type": "code",
        "colab": {
          "base_uri": "https://localhost:8080/",
          "height": 34
        },
        "outputId": "e1f1f681-1066-4df6-b304-8e2db8a484f3"
      },
      "source": [
        "logit_5.fit(X_train, y_train)\n",
        "\n",
        "train_score = logit_5.score(X_train,y_train)\n",
        "test_score = logit_5.score(X_test, y_test)\n",
        "print(logit_5.get_params()['estimator__C'], 'Train_score', train_score, 'Test_score', test_score)"
      ],
      "execution_count": 44,
      "outputs": [
        {
          "output_type": "stream",
          "text": [
            "100 Train_score 0.9506809359785898 Test_score 0.9268886779254522\n"
          ],
          "name": "stdout"
        }
      ]
    }
  ]
}